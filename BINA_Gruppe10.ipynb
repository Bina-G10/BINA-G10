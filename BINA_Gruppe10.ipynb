{
  "nbformat": 4,
  "nbformat_minor": 0,
  "metadata": {
    "colab": {
      "provenance": [],
      "authorship_tag": "ABX9TyNpC/MOK6HwkY50aQcDVdIg",
      "include_colab_link": true
    },
    "kernelspec": {
      "name": "python3",
      "display_name": "Python 3"
    },
    "language_info": {
      "name": "python"
    }
  },
  "cells": [
    {
      "cell_type": "markdown",
      "metadata": {
        "id": "view-in-github",
        "colab_type": "text"
      },
      "source": [
        "<a href=\"https://colab.research.google.com/github/pchris23/BINA-G10/blob/main/BINA_Gruppe10.ipynb\" target=\"_parent\"><img src=\"https://colab.research.google.com/assets/colab-badge.svg\" alt=\"Open In Colab\"/></a>"
      ]
    },
    {
      "cell_type": "markdown",
      "source": [
        "Das ist die Case Study der Gruppe 10\n",
        "Benjamin Hasler, Katja Luzi, Mario Luzi, Christian Parricella, Thomas Ulrich"
      ],
      "metadata": {
        "id": "Pcq9MHoAHpAp"
      }
    },
    {
      "cell_type": "code",
      "execution_count": null,
      "metadata": {
        "id": "nXEX7WhRFS-j"
      },
      "outputs": [],
      "source": []
    }
  ]
}