{
  "nbformat": 4,
  "nbformat_minor": 0,
  "metadata": {
    "colab": {
      "provenance": [],
      "include_colab_link": true
    },
    "kernelspec": {
      "name": "python3",
      "display_name": "Python 3"
    },
    "language_info": {
      "name": "python"
    }
  },
  "cells": [
    {
      "cell_type": "markdown",
      "metadata": {
        "id": "view-in-github",
        "colab_type": "text"
      },
      "source": [
        "<a href=\"https://colab.research.google.com/github/Bina-G10/BINA-G10/blob/main/bina_gruppe10.ipynb\" target=\"_parent\"><img src=\"https://colab.research.google.com/assets/colab-badge.svg\" alt=\"Open In Colab\"/></a>"
      ]
    },
    {
      "cell_type": "markdown",
      "source": [
        "**Titel**"
      ],
      "metadata": {
        "id": "Oq37nsPy4qU1"
      }
    },
    {
      "cell_type": "markdown",
      "source": [
        "**Modularbeit BINA**\n",
        "\n",
        "Autoren:\n",
        "\n",
        "Benjamin Hasler, Katja Luzi, Mario Luzi, Christian Parricella, Thomas Ulrich, Raquel Kehl\n",
        "\n",
        "21.06.2025"
      ],
      "metadata": {
        "id": "Pcq9MHoAHpAp"
      }
    },
    {
      "cell_type": "markdown",
      "source": [
        "#1 Einleitung\n",
        "Im Zuge der zunehmenden Digitalisierung und Datenverfügbarkeit stehen Unternehmen vor der Herausforderung, aus einer Vielzahl von Datenquellen relevante Erkenntnisse für strategische Entscheidungen zu gewinnen. Im Immobiliensektor ist die Identifikation von attraktiven Investitionsstandorten besonders datengetrieben: Faktoren wie Grundstückpreise, Bevölkerungsentwicklung, Kriminalitätsrate, Arbeitslosenquote, Erreichbarkeit und Steuerbelastung beeinflussen massgeblich die Wertentwicklung von Immobilien. Ziel dieses Projekts ist es, mithilfe von Business Intelligence und Analytics datengestützte Empfehlungen für Immobilieninvestitionen im Kanton Zürich zu erarbeiten, indem Gemeinden mit hoher Lebensqualität und stabilen Verhältnissen identifiziert werden, in denen ein zukünftiger Wertzuwachs wahrscheinlich ist."
      ],
      "metadata": {
        "id": "Qnlc6VmSIW69"
      }
    },
    {
      "cell_type": "markdown",
      "source": [
        "# 1.1 Ziele"
      ],
      "metadata": {
        "id": "7UKpg7xD5PIN"
      }
    },
    {
      "cell_type": "markdown",
      "source": [
        "Diese Case Study hat zum Ziel herauszufinden, welche Gemeinden im Kanton Zürich - basierend auf objektiven Daten - das grösste Potenzial für Immobilieninvestitionen mit Wertsteigerungsperspektive bieten.\n",
        "\n",
        "Das Hauptziel lässt sich in die nachfolgenden drei Teilziele unterteilen:\n",
        "\n",
        "1. Identifikation von attraktiven Investitionsstandorten: Gemeinden im Kanton Zürich sollen hinsichtlich ihrer Eignung für Immobilieninvestitionen bewertet werden.\n",
        "\n",
        "2. Analyse relevanter Indikatoren: Es werden verschiedene Indikatoren wie Grundstückpreise und deren Entwicklung, Bevölkerungswachstum, Kriminalitätsrate, Arbeitslosenquote, Fahrtzeit nach Zürich und Steuerfüsse analysiert.\n",
        "\n",
        "3. Ableitung von Handlungsempfehlungen: Auf Basis der Datenanalyse sollen konkrete Empfehlungen für Investitionsentscheidungen abgeleitet werden, um Gemeinden mit hoher Lebensqualität und stabilem Umfeld zu identifizieren, in denen ein Wertzuwachs der Immobilien zu erwarten ist.\n",
        "\n"
      ],
      "metadata": {
        "id": "DSGIvCljVtYD"
      }
    },
    {
      "cell_type": "markdown",
      "source": [
        "# 1.2 Vorgehen"
      ],
      "metadata": {
        "id": "DbGhSqDu5dLE"
      }
    },
    {
      "cell_type": "markdown",
      "source": [
        "Das Vorgehen orientiert sich am „From Data to Decisions“-Framework, das einen strukturierten, fünfstufigen Ansatz für datengetriebene Entscheidungsfindung bietet:\n",
        "\n",
        "1. Definition der Ziele und Informationsbedarfe: Klärung, welche strategischen Fragen beantwortet werden sollen und welche Informationen dafür benötigt werden.\n",
        "\n",
        "2. Datensammlung: Identifikation und Beschaffung relevanter interner und externer Datenquellen.\n",
        "\n",
        "3. Datenanalyse: Anwendung geeigneter Analysemethoden, um Zusammenhänge und Muster zu erkennen.\n",
        "\n",
        "4. Informationsaufbereitung und Präsentation: Aufbereitung der Analyseergebnisse für die Zielgruppen.\n",
        "\n",
        "5. Ableitung datenbasierter Entscheidungen: Formulierung von Empfehlungen und Entscheidungsgrundlagen.\n"
      ],
      "metadata": {
        "id": "zQfBHwrKWu0-"
      }
    },
    {
      "cell_type": "markdown",
      "source": [
        "#2 Definition der Ziele und Festlegung der Daten"
      ],
      "metadata": {
        "id": "1hMGttlt5enO"
      }
    },
    {
      "cell_type": "markdown",
      "source": [
        "Das Hauptziel und die drei Teilziele dieser Arbeit wurde in Kapitel 1.1 definiert. Dieses Kapitel gibt Aufschluss darüber, welche Daten mögliche Indikatoren für die Preissetzung einer Immobilie oder eines Grundstücks sind. Diese möglichen Indikatoren werden im Laufe der Case Study analysiert.\n",
        "\n",
        "\n",
        "* Bevölkerungswachstum: Entwicklung der Einwohnerzahlen als Indikator für Nachfrage.\n",
        "\n",
        "* Kriminalitätsrate: Sicherheit als Faktor für Lebensqualität.\n",
        "\n",
        "* Arbeitslosenquote: Wirtschaftliche Stabilität der Gemeinde.\n",
        "\n",
        "* Fahrtzeit nach Zürich: Erreichbarkeit des Wirtschafts- und Arbeitszentrums Zürich.\n",
        "\n",
        "* Steuerfuss: Steuerliche Attraktivität für Privatpersonen und Unternehmen.\n",
        "\n"
      ],
      "metadata": {
        "id": "NpUdY3yCW4bF"
      }
    },
    {
      "cell_type": "markdown",
      "source": [
        "# 3 Daten sammeln"
      ],
      "metadata": {
        "id": "49eCg6zQ5qWU"
      }
    },
    {
      "cell_type": "markdown",
      "source": [
        "1. Datenquellen und Granularität\n",
        "**Gemeindeebene:**\n",
        "\n",
        "Grundstückpreise und deren Entwicklung\n",
        "\n",
        "Arbeitslosenquote\n",
        "\n",
        "Bevölkerungswachstum\n",
        "\n",
        "Fahrtzeit nach Zürich\n",
        "\n",
        "Steuerfüsse\n",
        "\n",
        "**Bezirksebene:**\n",
        "\n",
        "Kriminalitätsrate\n",
        "\n",
        "(ggf. weitere Indikatoren, falls verfügbar)\n",
        "\n",
        "Hinweis: Ein Bezirk umfasst ca.10-25 Gemeinden.\n",
        "\n",
        "2. Zentrale Entitäten und Beziehungen\n",
        "Das ideale Datenmodell basiert auf einem Sternschema (Star Schema) oder einem Snowflake Schema, wie sie in der Business Intelligence üblich sind. Dies ermöglicht flexible Analysen und eine klare Trennung zwischen Fakten (Messgrößen) und Dimensionen (Kontextinformationen).\n",
        "\n",
        "**Haupttabellen (Fakten):**\n",
        "Tabelle\tBeschreibung\tGranularität\n",
        "Gemeinde_Indikatoren\tMesswerte pro Gemeinde und Jahr\tGemeinde, Jahr\n",
        "Bezirk_Indikatoren\tMesswerte pro Bezirk und Jahr\tBezirk, Jahr\n",
        "\n",
        "**Dimensionstabellen:**\n",
        "Gemeinde: Name, BFS-Nummer, Zugehörigkeit zu Bezirk, Geokoordinaten etc.\n",
        "\n",
        "Bezirk: Name, Bezirksschlüssel, Liste der zugehörigen Gemeinden\n",
        "\n",
        "Zeit: Jahr, Quartal, Monat (je nach Datenverfügbarkeit)\n",
        "\n",
        "Regionstyp: Stadt, See, Regio, Land (z. B. nach ZWEX-Index)\n",
        "\n",
        "Weitere: Infrastruktur, Nahverkehrsanbindung, ggf. weitere demografische Merkmale\n",
        "\n",
        "3. Modellierung der unterschiedlichen Ebenen\n",
        "Verknüpfung Gemeinde- und Bezirksebene:\n",
        "Da einige Indikatoren nur auf Bezirksebene vorliegen (z. B. Kriminalitätsrate), wird in der Gemeinde-Faktentabelle ein Fremdschlüssel zum Bezirk hinterlegt. Bei Analysen auf Gemeindeebene wird der Bezirkswert als Konstante für alle Gemeinden des Bezirks übernommen (sog. Downscaling). Alternativ kann im Analyse-Frontend eine Aggregation auf Bezirksebene erfolgen.\n",
        "\n",
        "4. Datenmodell – Beispielstruktur\n",
        "text\n",
        "Gemeinde_Indikatoren\n",
        "---------------------\n",
        "- Gemeinde_ID (FK)\n",
        "- Jahr\n",
        "- Grundstückpreis\n",
        "- Grundstückpreis_Entwicklung\n",
        "- Arbeitslosenquote\n",
        "- Bevölkerungswachstum\n",
        "- Fahrtzeit_Zürich\n",
        "- Steuerfuss\n",
        "\n",
        "Bezirk_Indikatoren\n",
        "-------------------\n",
        "- Bezirk_ID (FK)\n",
        "- Jahr\n",
        "- Kriminalitätsrate\n",
        "\n",
        "Gemeinde\n",
        "----------\n",
        "- Gemeinde_ID (PK)\n",
        "- Name\n",
        "- Bezirk_ID (FK)\n",
        "- Regionstyp\n",
        "- Geokoordinaten\n",
        "\n",
        "Bezirk\n",
        "--------\n",
        "- Bezirk_ID (PK)\n",
        "- Name\n",
        "\n",
        "Zeit\n",
        "-----\n",
        "- Jahr\n",
        "- Quartal\n",
        "- Monat\n",
        "\n",
        "5. Analyse- und Bewertungsmöglichkeiten\n",
        "Score-Bildung: Entwicklung eines Scoring-Modells, das die wichtigsten Indikatoren gewichtet und pro Gemeinde einen Investitions-Score berechnet (z. B. hohe Grundstückpreissteigerung, niedriges Risiko, gute Erreichbarkeit, attraktive Steuerfüsse).\n",
        "\n",
        "Visualisierung: Nutzung von Tools wie Power BI, Tableau oder dem Zürcher Gemeindeporträt, um die Indikatoren als Karten oder Rankings darzustellen.\n",
        "\n",
        "Zeitliche Entwicklung: Analyse der Veränderungen über die Jahre, um Trends zu erkennen (z. B. starkes Bevölkerungswachstum als Frühindikator für Wertsteigerung).\n",
        "\n",
        "Vergleichbarkeit: Durch das einheitliche Datenmodell können Gemeinden und Bezirke direkt verglichen werden.\n",
        "\n",
        "6. Best Practices und Hinweise\n",
        "Datenqualität: Sicherstellen, dass alle Indikatoren auf den gleichen Zeitraum und möglichst aktuelle Datenstandards normiert sind.\n",
        "\n",
        "Hedonische Anpassung: Für Grundstückpreise empfiehlt sich die Nutzung hedonisch bereinigter Indizes (wie ZWEX), um Verzerrungen durch unterschiedliche Objektqualitäten zu vermeiden.\n",
        "\n",
        "Erweiterbarkeit: Das Modell ist offen für weitere Indikatoren, wie Leerstandsquote, Infrastruktur, geplante Bauprojekte oder Nachhaltigkeitsmetriken.\n",
        "\n",
        "Automatisierung: Für regelmäßige Aktualisierungen empfiehlt sich eine automatisierte Datenintegration, z. B. über APIs von Marktdatenanbietern"
      ],
      "metadata": {
        "id": "LdLSUdGlh2Lt"
      }
    },
    {
      "cell_type": "markdown",
      "source": [
        "# 3.1 Quellen"
      ],
      "metadata": {
        "id": "rDcs0nJX5znx"
      }
    },
    {
      "cell_type": "markdown",
      "source": [
        "opendata.swiss diverse\n",
        "Steuerfüsse\n",
        "https://opendata.swiss/de/dataset/steuerfusse-der-zurcher-gemeinden-fur-naturliche-und-juristische-personen/resource/19f66d9c-52a3-4568-8830-8d51e51a3937\n",
        "Preise unbebaute Grundstück (inkl. Abbruchliegenschaften)\n",
        "\n",
        "Median Preise Grundstücke allgemein\n",
        "\n",
        "Arbeitslosenquote\n",
        "\n",
        "Bevölkerungsdichte\n",
        "\n",
        "Fahrzeit\n",
        "\n",
        "Anzahl Straftaten"
      ],
      "metadata": {
        "id": "9B2FEC1MiG0D"
      }
    },
    {
      "cell_type": "markdown",
      "source": [
        "# 3.2 Import, Bereinigung und Transformation"
      ],
      "metadata": {
        "id": "rHXmWkzh53qn"
      }
    },
    {
      "cell_type": "code",
      "source": [
        "import pandas as pd\n",
        "# Import der Tabelle von allen Bezirken und den Gemeinden im Kanton Zürich\n",
        "url = 'https://raw.githubusercontent.com/Bina-G10/BINA-G10/main/Daten/Gemeinden%20nach%20Bezirk%20Kt%20Z%C3%BCrich.xlsx'\n",
        "bezirk = pd.read_excel(url)\n",
        "\n",
        "# Zeichen bereinigen\n",
        "bezirk['Anzahl Einwohner (Dez 2018)_clean'] = (\n",
        "    bezirk['Anzahl Einwohner (Dez 2018)']\n",
        "    .astype(str)\n",
        "    .str.replace(' ', '', regex=False)    # Entferne Leerzeichen\n",
        "    .str.replace(',', '', regex=False)    # Entferne Kommas\n",
        ")\n",
        "\n",
        "# In float umwandeln\n",
        "bezirk['Anzahl Einwohner (Dez 2018)_clean'] = pd.to_numeric(bezirk['Anzahl Einwohner (Dez 2018)_clean'], errors='coerce')\n",
        "\n",
        "#Spaltentitel Gebiet_Name zu Gemeinde\n",
        "bezirk.rename(columns={'Gebiet_Name': 'Gemeinde'}, inplace=True)\n",
        "\n",
        "print(bezirk.head())"
      ],
      "metadata": {
        "id": "9T3Qy3NcrRfb",
        "outputId": "96acf35f-c05d-4ebd-9dbd-2e9356500e6a",
        "colab": {
          "base_uri": "https://localhost:8080/"
        }
      },
      "execution_count": null,
      "outputs": [
        {
          "output_type": "stream",
          "name": "stdout",
          "text": [
            "   Bezirk_BFS_Nr     Bezirk  BFS_NR            Gemeinde  \\\n",
            "0              1  Affoltern       1     Aeugst am Albis   \n",
            "1              1  Affoltern       2  Affoltern am Albis   \n",
            "2              1  Affoltern       3          Bonstetten   \n",
            "3              1  Affoltern       4     Hausen am Albis   \n",
            "4              1  Affoltern       5            Hedingen   \n",
            "\n",
            "  Anzahl Einwohner (Dez 2018)  Anzahl Einwohner (Dez 2018)_clean  \n",
            "0                       1 982                           1982.000  \n",
            "1                      12 229                          12229.000  \n",
            "2                       5 548                           5548.000  \n",
            "3                       3.701                              3.701  \n",
            "4                       3,734                           3734.000  \n"
          ]
        }
      ]
    },
    {
      "cell_type": "code",
      "source": [
        "import pandas as pd\n",
        "\n",
        "# Import Preise unbebautes Wohnland (inkl. Abbruch) Kt. Zürich 3 Jahre gepoolt - Median Jahr wird angezeigt\n",
        "url = 'https://raw.githubusercontent.com/Bina-G10/BINA-G10/main/Daten/Preise_unbebautes_Wohnland_Z%C3%BCrich_gepoolt3Jahre.xlsx'\n",
        "unbebaut = pd.read_excel(url)\n",
        "\n",
        "# Leerzeichen im Spaltentitel anpassen\n",
        "unbebaut.columns = unbebaut.columns.str.strip()\n",
        "\n",
        "# Zu wenig Fälle und fehlende Durchschnittswerte, jeweiliger Record soll gelöscht werden\n",
        "\n",
        "unbebaut.dropna(subset=['Durchschnitt'], inplace=True)\n",
        "\n",
        "\n",
        "\n",
        "print(unbebaut.head())"
      ],
      "metadata": {
        "id": "FDErdpjrteGK",
        "outputId": "a05e6090-f40a-4b6a-93db-a290d3ca516f",
        "colab": {
          "base_uri": "https://localhost:8080/"
        }
      },
      "execution_count": 5,
      "outputs": [
        {
          "output_type": "stream",
          "name": "stdout",
          "text": [
            "   Jahr_mittel   Zeitraum  BFS_NR     Gemeinde  Faelle  Durchschnitt     Q25  \\\n",
            "2         2021  2020-2022       1  Aeugst a.A.       4        1471.0     NaN   \n",
            "3         2020  2019-2021       1  Aeugst a.A.       9        1389.0  1324.0   \n",
            "4         2019  2018-2020       1  Aeugst a.A.       9        1150.0   711.0   \n",
            "5         2018  2017-2019       1  Aeugst a.A.       9        1035.0   440.0   \n",
            "6         2017  2016-2018       1  Aeugst a.A.       7        1043.0   420.0   \n",
            "\n",
            "   Median     Q75  \n",
            "2  1410.0     NaN  \n",
            "3  1465.0  1521.0  \n",
            "4  1354.0  1521.0  \n",
            "5  1116.0  1521.0  \n",
            "6   810.0  1681.0  \n"
          ]
        }
      ]
    },
    {
      "cell_type": "code",
      "source": [
        "# Fehlende Quartilwerte durch den Median ersetzen\n",
        "unbebaut['Q25'] = unbebaut['Q25'].fillna(unbebaut['Median'])\n",
        "unbebaut['Q75'] = unbebaut['Q75'].fillna(unbebaut['Median'])\n",
        "\n",
        "print(unbebaut.head())"
      ],
      "metadata": {
        "id": "pp-7OlJo2SxP",
        "outputId": "47c8ddea-b0c5-435c-cc09-58c2a61f723d",
        "colab": {
          "base_uri": "https://localhost:8080/"
        }
      },
      "execution_count": 6,
      "outputs": [
        {
          "output_type": "stream",
          "name": "stdout",
          "text": [
            "   Jahr_mittel   Zeitraum  BFS_NR     Gemeinde  Faelle  Durchschnitt     Q25  \\\n",
            "2         2021  2020-2022       1  Aeugst a.A.       4        1471.0  1410.0   \n",
            "3         2020  2019-2021       1  Aeugst a.A.       9        1389.0  1324.0   \n",
            "4         2019  2018-2020       1  Aeugst a.A.       9        1150.0   711.0   \n",
            "5         2018  2017-2019       1  Aeugst a.A.       9        1035.0   440.0   \n",
            "6         2017  2016-2018       1  Aeugst a.A.       7        1043.0   420.0   \n",
            "\n",
            "   Median     Q75  \n",
            "2  1410.0  1410.0  \n",
            "3  1465.0  1521.0  \n",
            "4  1354.0  1521.0  \n",
            "5  1116.0  1521.0  \n",
            "6   810.0  1681.0  \n"
          ]
        }
      ]
    },
    {
      "cell_type": "code",
      "source": [
        "import pandas as pd\n",
        "\n",
        "url = 'https://raw.githubusercontent.com/Bina-G10/BINA-G10/main/Daten/2017_PM_Bodenpreismodell_gerundet.csv'\n",
        "fahrzeit = pd.read_csv(url)\n",
        "\n",
        "#Bereinigung Tabelle Fahrzeit\n",
        "#Spalten löschen\n",
        "fahrzeit = fahrzeit.drop(['wohngebiet', 'totbev', 'steuerfuss', 'X25.', 'X50.', 'X75.'], axis=1)\n",
        "\n",
        "#Spaltentitel bfs zu BFS_NR wechseln und fahrzeit zu Fahrzeit nach Zürich\n",
        "fahrzeit.rename(columns={'bfs': 'BFS_NR', 'fahrzeit': 'Fahrzeit nach Zürich'}, inplace=True)\n",
        "print(fahrzeit.head())"
      ],
      "metadata": {
        "id": "VzMIzEaUwD19",
        "outputId": "152abd23-ba1c-4dae-87da-c7bdec812258",
        "colab": {
          "base_uri": "https://localhost:8080/"
        }
      },
      "execution_count": 4,
      "outputs": [
        {
          "output_type": "stream",
          "name": "stdout",
          "text": [
            "   BFS_NR  Fahrzeit nach Zürich\n",
            "0       1                  26.5\n",
            "1       2                  21.0\n",
            "2       3                  17.0\n",
            "3       4                  25.5\n",
            "4       5                  18.0\n"
          ]
        }
      ]
    },
    {
      "cell_type": "code",
      "source": [
        "url = 'https://raw.githubusercontent.com/Bina-G10/BINA-G10/main/Daten/Arbeitslosenanteil%20an%20Bev%C3%B6lkerung%2015-64%20Jahre%20%5B%25%5D%20nach%20Gemeinde.csv'\n",
        "arbeitslosenanteil = pd.read_csv(url)\n",
        "\n",
        "#Spalten löschen\n",
        "arbeitslosenanteil = arbeitslosenanteil.drop(['THEMA_NAME', 'SET_NAME', 'SUBSET_NAME', 'INDIKATOR_ID', 'Unnamed: 11'], axis=1)\n",
        "\n",
        "#Spaltentitel Gebiet_Name zu Gemeinde\n",
        "arbeitslosenanteil.rename(columns={'GEBIET_NAME': 'Gemeinde','INDIKATOR_JAHR': 'Jahr'}, inplace=True)\n",
        "\n",
        "print(arbeitslosenanteil.head())"
      ],
      "metadata": {
        "id": "ahVz4qT_xmeu",
        "outputId": "e20752e8-ca35-4ee4-d05b-154e2ba7991c",
        "colab": {
          "base_uri": "https://localhost:8080/"
        }
      },
      "execution_count": null,
      "outputs": [
        {
          "output_type": "stream",
          "name": "stdout",
          "text": [
            "   BFS_NR     Gemeinde                                     INDIKATOR_NAME  \\\n",
            "0       1  Aeugst a.A.  Arbeitslosenanteil an Bevölkerung 15-64 Jahre [%]   \n",
            "1       1  Aeugst a.A.  Arbeitslosenanteil an Bevölkerung 15-64 Jahre [%]   \n",
            "2       1  Aeugst a.A.  Arbeitslosenanteil an Bevölkerung 15-64 Jahre [%]   \n",
            "3       1  Aeugst a.A.  Arbeitslosenanteil an Bevölkerung 15-64 Jahre [%]   \n",
            "4       1  Aeugst a.A.  Arbeitslosenanteil an Bevölkerung 15-64 Jahre [%]   \n",
            "\n",
            "   Jahr  INDIKATOR_VALUE EINHEIT_KURZ EINHEIT_LANG  \n",
            "0  2011              1.4            %      Prozent  \n",
            "1  2012              1.3            %      Prozent  \n",
            "2  2013              1.8            %      Prozent  \n",
            "3  2014              1.3            %      Prozent  \n",
            "4  2015              1.8            %      Prozent  \n"
          ]
        }
      ]
    },
    {
      "cell_type": "code",
      "source": [
        "import pandas as pd\n",
        "\n",
        "url = 'https://raw.githubusercontent.com/Bina-G10/BINA-G10/refs/heads/main/Daten/kanton_zuerich_stf_timeseries.csv'\n",
        "steuerfuss = pd.read_csv(url)\n",
        "\n",
        "\n",
        "#Spalten 5-15 löschen\n",
        "steuerfuss = steuerfuss.drop(steuerfuss.columns[4:15], axis=1)\n",
        "# Spaltentitel anpassen\n",
        "steuerfuss.rename(columns={'BFSNR': 'BFS_NR', 'GDE_NAME': 'Gemeinde', 'STF_O_KIRCHE1': 'Steuerfuss ohne Kirche', 'JUR_PERS': 'Juristische Personen','YEAR': 'Jahr'}, inplace=True)\n",
        "\n",
        "# Die ersten Zeilen anzeigen\n",
        "print(steuerfuss.head())"
      ],
      "metadata": {
        "colab": {
          "base_uri": "https://localhost:8080/"
        },
        "id": "fFWM7a7Oowm1",
        "outputId": "169f2078-7f57-4807-8f3a-16c4590de67a"
      },
      "execution_count": null,
      "outputs": [
        {
          "output_type": "stream",
          "name": "stdout",
          "text": [
            "   Jahr  BFS_NR        Gemeinde  Steuerfuss ohne Kirche  Juristische Personen\n",
            "0  2025       1     Aeugst a.A.                      92                104.33\n",
            "1  2025       2  Affoltern a.A.                     122                134.51\n",
            "2  2025       3      Bonstetten                     109                120.56\n",
            "3  2025       4     Hausen a.A.                     112                124.90\n",
            "4  2025       5        Hedingen                     100                112.40\n"
          ]
        }
      ]
    },
    {
      "cell_type": "code",
      "source": [
        "import pandas as pd\n",
        "\n",
        "url = 'https://raw.githubusercontent.com/Bina-G10/BINA-G10/refs/heads/main/Daten/Baulandpreis%20Median%20nach%20Gemeinde.csv'\n",
        "bauland = pd.read_csv(url)\n",
        "\n",
        "#Spalten löschen\n",
        "bauland = bauland.drop(['THEMA_NAME', 'SET_NAME', 'SUBSET_NAME', 'INDIKATOR_ID', 'Unnamed: 11'], axis=1)\n",
        "\n",
        "#Spaltentitel Gebiet_Name zu Gemeinde\n",
        "bauland.rename(columns={'GEBIET_NAME': 'Gemeinde', 'INDIKATOR_VALUE': 'Preis', 'INDIKATOR_JAHR': 'Jahr'}, inplace=True)\n",
        "\n",
        "# Optional: Die ersten Zeilen anzeigen\n",
        "print(bauland.head())"
      ],
      "metadata": {
        "colab": {
          "base_uri": "https://localhost:8080/"
        },
        "id": "2Gd3zqsBpuTA",
        "outputId": "5bca5b5d-6d20-4648-c7ba-fe258d758e51"
      },
      "execution_count": null,
      "outputs": [
        {
          "output_type": "stream",
          "name": "stdout",
          "text": [
            "   BFS_NR     Gemeinde                         INDIKATOR_NAME  Jahr  Preis  \\\n",
            "0       1  Aeugst a.A.  Baulandpreis Modell (Median) [Fr./m2]  1974    146   \n",
            "1       1  Aeugst a.A.  Baulandpreis Modell (Median) [Fr./m2]  1975    146   \n",
            "2       1  Aeugst a.A.  Baulandpreis Modell (Median) [Fr./m2]  1976    148   \n",
            "3       1  Aeugst a.A.  Baulandpreis Modell (Median) [Fr./m2]  1977    152   \n",
            "4       1  Aeugst a.A.  Baulandpreis Modell (Median) [Fr./m2]  1978    158   \n",
            "\n",
            "  EINHEIT_KURZ              EINHEIT_LANG  \n",
            "0       Fr./m2  Franken pro Quadratmeter  \n",
            "1       Fr./m2  Franken pro Quadratmeter  \n",
            "2       Fr./m2  Franken pro Quadratmeter  \n",
            "3       Fr./m2  Franken pro Quadratmeter  \n",
            "4       Fr./m2  Franken pro Quadratmeter  \n"
          ]
        }
      ]
    },
    {
      "cell_type": "code",
      "source": [
        "url = 'https://raw.githubusercontent.com/Bina-G10/BINA-G10/refs/heads/main/Daten/Anzahl%20Straftaten%20nach%20Tatbestand%20und%20Bezirken.csv'\n",
        "straftaten = pd.read_csv(url)\n",
        "\n",
        "# Optional: Die ersten Zeilen anzeigen\n",
        "print(straftaten.head())"
      ],
      "metadata": {
        "colab": {
          "base_uri": "https://localhost:8080/"
        },
        "id": "kDq5l4U5qY5s",
        "outputId": "166d6952-11d9-46eb-920e-4b34b1c4ae5b"
      },
      "execution_count": null,
      "outputs": [
        {
          "output_type": "stream",
          "name": "stdout",
          "text": [
            "   Ausgangsjahr  Bezirk_BFS_Nr Bezirksname  Gesetz_Nummer Gesetz_Abk  \\\n",
            "0          2009            101   Affoltern          311.0       StGB   \n",
            "1          2009            101   Affoltern          311.0       StGB   \n",
            "2          2009            101   Affoltern          311.0       StGB   \n",
            "3          2009            101   Affoltern          311.0       StGB   \n",
            "4          2009            101   Affoltern          311.0       StGB   \n",
            "\n",
            "   Reihenfolge_Titel                       Titel  Reihenfolge_Haupttitel  \\\n",
            "0                1.0  Total gegen Leib und Leben                       1   \n",
            "1                1.0  Total gegen Leib und Leben                       1   \n",
            "2                1.0  Total gegen Leib und Leben                       1   \n",
            "3                1.0  Total gegen Leib und Leben                       1   \n",
            "4                1.0  Total gegen Leib und Leben                       1   \n",
            "\n",
            "                   Haupttitel      Artikel  \\\n",
            "0  Total gegen Leib und Leben  111-113/116   \n",
            "1  Total gegen Leib und Leben          114   \n",
            "2  Total gegen Leib und Leben          115   \n",
            "3  Total gegen Leib und Leben          117   \n",
            "4  Total gegen Leib und Leben          118   \n",
            "\n",
            "                               Tatbestand  Straftaten_total  \\\n",
            "0                          Tötungsdelikte                 1   \n",
            "1                    Tötung auf Verlangen                 0   \n",
            "2  Verleitung und Beihilfe zum Selbstmord                 0   \n",
            "3                      Fahrlässige Tötung                 0   \n",
            "4      Strafbarer Schwangerschaftsabbruch                 0   \n",
            "\n",
            "   Straftaten_vollendet  Straftaten_versucht  Einwohner  Häufigkeitszahl  \n",
            "0                   1.0                  0.0    46117.0              0.0  \n",
            "1                   0.0                  0.0    46117.0              0.0  \n",
            "2                   0.0                  0.0    46117.0              0.0  \n",
            "3                   0.0                  0.0    46117.0              0.0  \n",
            "4                   0.0                  0.0    46117.0              0.0  \n"
          ]
        }
      ]
    },
    {
      "cell_type": "code",
      "source": [
        "url = 'https://raw.githubusercontent.com/Bina-G10/BINA-G10/refs/heads/main/Daten/Bev%C3%B6lkerungsdichte%20Einwohner%20pro%202%20km%20nach%20Gemeinde.csv'\n",
        "bevölkerungsdichte = pd.read_csv(url)\n",
        "\n",
        "# Optional: Die ersten Zeilen anzeigen\n",
        "print(bevölkerungsdichte.head())"
      ],
      "metadata": {
        "colab": {
          "base_uri": "https://localhost:8080/"
        },
        "id": "U5GMp6nLsyUt",
        "outputId": "4ee7b1eb-4092-4caa-c6ed-081c552c88da"
      },
      "execution_count": null,
      "outputs": [
        {
          "output_type": "stream",
          "name": "stdout",
          "text": [
            "   BFS_NR  GEBIET_NAME                THEMA_NAME  \\\n",
            "0       1  Aeugst a.A.  Bevölkerung und Soziales   \n",
            "1       1  Aeugst a.A.  Bevölkerung und Soziales   \n",
            "2       1  Aeugst a.A.  Bevölkerung und Soziales   \n",
            "3       1  Aeugst a.A.  Bevölkerung und Soziales   \n",
            "4       1  Aeugst a.A.  Bevölkerung und Soziales   \n",
            "\n",
            "                            SET_NAME          SUBSET_NAME  INDIKATOR_ID  \\\n",
            "0  Bevölkerungsbestand und Haushalte  Bevölkerungsbestand           460   \n",
            "1  Bevölkerungsbestand und Haushalte  Bevölkerungsbestand           460   \n",
            "2  Bevölkerungsbestand und Haushalte  Bevölkerungsbestand           460   \n",
            "3  Bevölkerungsbestand und Haushalte  Bevölkerungsbestand           460   \n",
            "4  Bevölkerungsbestand und Haushalte  Bevölkerungsbestand           460   \n",
            "\n",
            "                   INDIKATOR_NAME  INDIKATOR_JAHR  INDIKATOR_VALUE  \\\n",
            "0  Bevölkerungsdichte [Einw./km2]            1962             90.2   \n",
            "1  Bevölkerungsdichte [Einw./km2]            1963             91.5   \n",
            "2  Bevölkerungsdichte [Einw./km2]            1964             89.6   \n",
            "3  Bevölkerungsdichte [Einw./km2]            1965             88.3   \n",
            "4  Bevölkerungsdichte [Einw./km2]            1966             94.7   \n",
            "\n",
            "  EINHEIT_KURZ                    EINHEIT_LANG  Unnamed: 11  \n",
            "0    Einw./km2  Einwohner pro Quadratkilometer          NaN  \n",
            "1    Einw./km2  Einwohner pro Quadratkilometer          NaN  \n",
            "2    Einw./km2  Einwohner pro Quadratkilometer          NaN  \n",
            "3    Einw./km2  Einwohner pro Quadratkilometer          NaN  \n",
            "4    Einw./km2  Einwohner pro Quadratkilometer          NaN  \n"
          ]
        }
      ]
    },
    {
      "cell_type": "code",
      "source": [
        "#Test Beni\n",
        "print(unbebaut.columns.tolist())\n",
        "print(fahrzeit.columns.tolist())"
      ],
      "metadata": {
        "colab": {
          "base_uri": "https://localhost:8080/"
        },
        "id": "IE9nalqPXHLy",
        "outputId": "fb616226-819e-4327-de4b-ba66ffba994c"
      },
      "execution_count": 7,
      "outputs": [
        {
          "output_type": "stream",
          "name": "stdout",
          "text": [
            "['Jahr_mittel', 'Zeitraum', 'BFS_NR', 'Gemeinde', 'Faelle', 'Durchschnitt', 'Q25', 'Median', 'Q75']\n",
            "['BFS_NR', 'Fahrzeit nach Zürich']\n"
          ]
        }
      ]
    },
    {
      "cell_type": "code",
      "source": [
        "#Test Beni\n",
        "unbebaut_2021 = unbebaut[unbebaut['Jahr_mittel'] == 2021]\n",
        "merged_unbebaut2021_fahrzeit = pd.merge(unbebaut_2021, fahrzeit, on='BFS_NR')"
      ],
      "metadata": {
        "id": "_TjRpsqCYl6u"
      },
      "execution_count": 25,
      "outputs": []
    },
    {
      "cell_type": "code",
      "source": [
        "#Test Beni\n",
        "%matplotlib notebook\n",
        "import matplotlib.pyplot as plt\n",
        "!pip install mplcursors==0.5.2\n",
        "import  mplcursors\n",
        "\n",
        "scatter = plt.scatter(\n",
        "    merged_unbebaut2021_fahrzeit['Durchschnitt'],\n",
        "    merged_unbebaut2021_fahrzeit['Fahrzeit nach Zürich'],\n",
        "    alpha=0.7\n",
        ")\n",
        "plt.xlabel('Durchschnitt (unbebaut)')\n",
        "plt.ylabel('Fahrzeit nach Zürich (fahrzeit)')\n",
        "plt.title('Zusammenhang zwischen Grundstückspreis und Fahrzeit nach Zürich')\n",
        "\n",
        "cursor = mplcursors.cursor(scatter, hover=True)\n",
        "@cursor.connect(\"add\")\n",
        "def on_add(sel):\n",
        "    idx = sel.index\n",
        "    sel.annotation.set_text(merged_unbebaut2021_fahrzeit.iloc[idx]['Gemeinde'])\n",
        "\n",
        "plt.show()"
      ],
      "metadata": {
        "colab": {
          "base_uri": "https://localhost:8080/",
          "height": 245
        },
        "id": "IjxG8VmIYxfY",
        "outputId": "ba57b6da-7955-46ee-cc4e-0f8754cd81d5"
      },
      "execution_count": 34,
      "outputs": [
        {
          "output_type": "stream",
          "name": "stdout",
          "text": [
            "Requirement already satisfied: mplcursors==0.5.2 in /usr/local/lib/python3.11/dist-packages (0.5.2)\n",
            "Requirement already satisfied: matplotlib>=3.1 in /usr/local/lib/python3.11/dist-packages (from mplcursors==0.5.2) (3.10.0)\n",
            "Requirement already satisfied: contourpy>=1.0.1 in /usr/local/lib/python3.11/dist-packages (from matplotlib>=3.1->mplcursors==0.5.2) (1.3.2)\n",
            "Requirement already satisfied: cycler>=0.10 in /usr/local/lib/python3.11/dist-packages (from matplotlib>=3.1->mplcursors==0.5.2) (0.12.1)\n",
            "Requirement already satisfied: fonttools>=4.22.0 in /usr/local/lib/python3.11/dist-packages (from matplotlib>=3.1->mplcursors==0.5.2) (4.57.0)\n",
            "Requirement already satisfied: kiwisolver>=1.3.1 in /usr/local/lib/python3.11/dist-packages (from matplotlib>=3.1->mplcursors==0.5.2) (1.4.8)\n",
            "Requirement already satisfied: numpy>=1.23 in /usr/local/lib/python3.11/dist-packages (from matplotlib>=3.1->mplcursors==0.5.2) (2.0.2)\n",
            "Requirement already satisfied: packaging>=20.0 in /usr/local/lib/python3.11/dist-packages (from matplotlib>=3.1->mplcursors==0.5.2) (24.2)\n",
            "Requirement already satisfied: pillow>=8 in /usr/local/lib/python3.11/dist-packages (from matplotlib>=3.1->mplcursors==0.5.2) (11.2.1)\n",
            "Requirement already satisfied: pyparsing>=2.3.1 in /usr/local/lib/python3.11/dist-packages (from matplotlib>=3.1->mplcursors==0.5.2) (3.2.3)\n",
            "Requirement already satisfied: python-dateutil>=2.7 in /usr/local/lib/python3.11/dist-packages (from matplotlib>=3.1->mplcursors==0.5.2) (2.9.0.post0)\n",
            "Requirement already satisfied: six>=1.5 in /usr/local/lib/python3.11/dist-packages (from python-dateutil>=2.7->matplotlib>=3.1->mplcursors==0.5.2) (1.17.0)\n"
          ]
        }
      ]
    },
    {
      "cell_type": "code",
      "source": [],
      "metadata": {
        "id": "ZZzVycs3eqLp"
      },
      "execution_count": 30,
      "outputs": []
    }
  ]
}