{
  "nbformat": 4,
  "nbformat_minor": 0,
  "metadata": {
    "colab": {
      "provenance": [],
      "include_colab_link": true
    },
    "kernelspec": {
      "name": "python3",
      "display_name": "Python 3"
    },
    "language_info": {
      "name": "python"
    }
  },
  "cells": [
    {
      "cell_type": "markdown",
      "metadata": {
        "id": "view-in-github",
        "colab_type": "text"
      },
      "source": [
        "<a href=\"https://colab.research.google.com/github/Bina-G10/BINA-G10/blob/main/bina_gruppe10.ipynb\" target=\"_parent\"><img src=\"https://colab.research.google.com/assets/colab-badge.svg\" alt=\"Open In Colab\"/></a>"
      ]
    },
    {
      "cell_type": "markdown",
      "source": [
        "**Titel**"
      ],
      "metadata": {
        "id": "Oq37nsPy4qU1"
      }
    },
    {
      "cell_type": "markdown",
      "source": [
        "**Modularbeit BINA**\n",
        "\n",
        "Autoren:\n",
        "\n",
        "Benjamin Hasler, Katja Luzi, Mario Luzi, Christian Parricella, Thomas Ulrich, Raquel Kehl\n",
        "\n",
        "21.06.2025"
      ],
      "metadata": {
        "id": "Pcq9MHoAHpAp"
      }
    },
    {
      "cell_type": "markdown",
      "source": [
        "#1 Einleitung\n",
        "test Christian nach Berechtigung"
      ],
      "metadata": {
        "id": "Qnlc6VmSIW69"
      }
    },
    {
      "cell_type": "markdown",
      "source": [
        "test beni"
      ],
      "metadata": {
        "id": "woMJDvuvFNnY"
      }
    },
    {
      "cell_type": "code",
      "source": [],
      "metadata": {
        "id": "5YsDE8CoFMFk"
      },
      "execution_count": null,
      "outputs": []
    },
    {
      "cell_type": "markdown",
      "source": [
        "# 1.1 Ziele"
      ],
      "metadata": {
        "id": "7UKpg7xD5PIN"
      }
    },
    {
      "cell_type": "markdown",
      "source": [
        "# 1.2 Vorgehen"
      ],
      "metadata": {
        "id": "DbGhSqDu5dLE"
      }
    },
    {
      "cell_type": "markdown",
      "source": [
        "#2 Definition der Ziele und Festlegung der Daten"
      ],
      "metadata": {
        "id": "1hMGttlt5enO"
      }
    },
    {
      "cell_type": "markdown",
      "source": [
        "# 3 Daten sammeln"
      ],
      "metadata": {
        "id": "49eCg6zQ5qWU"
      }
    },
    {
      "cell_type": "markdown",
      "source": [
        "# 3.1 Quellen"
      ],
      "metadata": {
        "id": "rDcs0nJX5znx"
      }
    },
    {
      "cell_type": "markdown",
      "source": [
        "# 3.2 Import, Bereinigung und Transformation"
      ],
      "metadata": {
        "id": "rHXmWkzh53qn"
      }
    }
  ]
}