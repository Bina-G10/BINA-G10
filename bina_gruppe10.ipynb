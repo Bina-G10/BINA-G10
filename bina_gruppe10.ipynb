{
  "nbformat": 4,
  "nbformat_minor": 0,
  "metadata": {
    "colab": {
      "provenance": [],
      "include_colab_link": true
    },
    "kernelspec": {
      "name": "python3",
      "display_name": "Python 3"
    },
    "language_info": {
      "name": "python"
    }
  },
  "cells": [
    {
      "cell_type": "markdown",
      "metadata": {
        "id": "view-in-github",
        "colab_type": "text"
      },
      "source": [
        "<a href=\"https://colab.research.google.com/github/Bina-G10/BINA-G10/blob/main/bina_gruppe10.ipynb\" target=\"_parent\"><img src=\"https://colab.research.google.com/assets/colab-badge.svg\" alt=\"Open In Colab\"/></a>"
      ]
    },
    {
      "cell_type": "markdown",
      "source": [
        "**Titel**"
      ],
      "metadata": {
        "id": "Oq37nsPy4qU1"
      }
    },
    {
      "cell_type": "markdown",
      "source": [
        "**Modularbeit BINA**\n",
        "\n",
        "Autoren:\n",
        "\n",
        "Benjamin Hasler, Katja Luzi, Mario Luzi, Christian Parricella, Thomas Ulrich, Raquel Kehl\n",
        "\n",
        "21.06.2025"
      ],
      "metadata": {
        "id": "Pcq9MHoAHpAp"
      }
    },
    {
      "cell_type": "markdown",
      "source": [
        "#1 Einleitung\n",
        "Im Zuge der zunehmenden Digitalisierung und Datenverfügbarkeit stehen Unternehmen vor der Herausforderung, aus einer Vielzahl von Datenquellen relevante Erkenntnisse für strategische Entscheidungen zu gewinnen. Im Immobiliensektor ist die Identifikation von attraktiven Investitionsstandorten besonders datengetrieben: Faktoren wie Grundstückpreise, Bevölkerungsentwicklung, Kriminalitätsrate, Arbeitslosenquote, Erreichbarkeit und Steuerbelastung beeinflussen massgeblich die Wertentwicklung von Immobilien. Ziel dieses Projekts ist es, mithilfe von Business Intelligence und Analytics datengestützte Empfehlungen für Immobilieninvestitionen im Kanton Zürich zu erarbeiten, indem Gemeinden mit hoher Lebensqualität und stabilen Verhältnissen identifiziert werden, in denen ein zukünftiger Wertzuwachs wahrscheinlich ist."
      ],
      "metadata": {
        "id": "Qnlc6VmSIW69"
      }
    },
    {
      "cell_type": "markdown",
      "source": [
        "# 1.1 Ziele"
      ],
      "metadata": {
        "id": "7UKpg7xD5PIN"
      }
    },
    {
      "cell_type": "markdown",
      "source": [
        "Diese Case Study hat zum Ziel herauszufinden, welche Gemeinden im Kanton Zürich - basierend auf objektiven Daten - das grösste Potenzial für Immobilieninvestitionen mit Wertsteigerungsperspektive bieten.\n",
        "\n",
        "Das Hauptziel lässt sich in die nachfolgenden drei Teilziele unterteilen:\n",
        "\n",
        "1. Identifikation von attraktiven Investitionsstandorten: Gemeinden im Kanton Zürich sollen hinsichtlich ihrer Eignung für Immobilieninvestitionen bewertet werden.\n",
        "\n",
        "2. Analyse relevanter Indikatoren: Es werden verschiedene Indikatoren wie Grundstückpreise und deren Entwicklung, Bevölkerungswachstum, Kriminalitätsrate, Arbeitslosenquote, Fahrtzeit nach Zürich und Steuerfüsse analysiert.\n",
        "\n",
        "3. Ableitung von Handlungsempfehlungen: Auf Basis der Datenanalyse sollen konkrete Empfehlungen für Investitionsentscheidungen abgeleitet werden, um Gemeinden mit hoher Lebensqualität und stabilem Umfeld zu identifizieren, in denen ein Wertzuwachs der Immobilien zu erwarten ist.\n",
        "\n"
      ],
      "metadata": {
        "id": "DSGIvCljVtYD"
      }
    },
    {
      "cell_type": "markdown",
      "source": [
        "# 1.2 Vorgehen"
      ],
      "metadata": {
        "id": "DbGhSqDu5dLE"
      }
    },
    {
      "cell_type": "markdown",
      "source": [
        "Das Vorgehen orientiert sich am „From Data to Decisions“-Framework, das einen strukturierten, fünfstufigen Ansatz für datengetriebene Entscheidungsfindung bietet:\n",
        "\n",
        "1. Definition der Ziele und Informationsbedarfe: Klärung, welche strategischen Fragen beantwortet werden sollen und welche Informationen dafür benötigt werden.\n",
        "\n",
        "2. Datensammlung: Identifikation und Beschaffung relevanter interner und externer Datenquellen.\n",
        "\n",
        "3. Datenanalyse: Anwendung geeigneter Analysemethoden, um Zusammenhänge und Muster zu erkennen.\n",
        "\n",
        "4. Informationsaufbereitung und Präsentation: Aufbereitung der Analyseergebnisse für die Zielgruppen.\n",
        "\n",
        "5. Ableitung datenbasierter Entscheidungen: Formulierung von Empfehlungen und Entscheidungsgrundlagen.\n"
      ],
      "metadata": {
        "id": "zQfBHwrKWu0-"
      }
    },
    {
      "cell_type": "markdown",
      "source": [
        "#2 Definition der Ziele und Festlegung der Daten"
      ],
      "metadata": {
        "id": "1hMGttlt5enO"
      }
    },
    {
      "cell_type": "markdown",
      "source": [
        "Das Hauptziel und die drei Teilziele dieser Arbeit wurde in Kapitel 1.1 definiert. Dieses Kapitel gibt Aufschluss darüber, welche Daten mögliche Indikatoren für die Preissetzung einer Immobilie oder eines Grundstücks sind. Diese möglichen Indikatoren werden im Laufe der Case Study analysiert.\n",
        "\n",
        "\n",
        "* Bevölkerungswachstum: Entwicklung der Einwohnerzahlen als Indikator für Nachfrage.\n",
        "\n",
        "* Kriminalitätsrate: Sicherheit als Faktor für Lebensqualität.\n",
        "\n",
        "* Arbeitslosenquote: Wirtschaftliche Stabilität der Gemeinde.\n",
        "\n",
        "* Fahrtzeit nach Zürich: Erreichbarkeit des Wirtschafts- und Arbeitszentrums Zürich.\n",
        "\n",
        "* Steuerfuss: Steuerliche Attraktivität für Privatpersonen und Unternehmen.\n",
        "\n"
      ],
      "metadata": {
        "id": "NpUdY3yCW4bF"
      }
    },
    {
      "cell_type": "markdown",
      "source": [
        "# 3 Daten sammeln"
      ],
      "metadata": {
        "id": "49eCg6zQ5qWU"
      }
    },
    {
      "cell_type": "markdown",
      "source": [
        "1. Datenquellen und Granularität\n",
        "**Gemeindeebene:**\n",
        "\n",
        "Grundstückpreise und deren Entwicklung\n",
        "\n",
        "Arbeitslosenquote\n",
        "\n",
        "Bevölkerungswachstum\n",
        "\n",
        "Fahrtzeit nach Zürich\n",
        "\n",
        "Steuerfüsse\n",
        "\n",
        "**Bezirksebene:**\n",
        "\n",
        "Kriminalitätsrate\n",
        "\n",
        "(ggf. weitere Indikatoren, falls verfügbar)\n",
        "\n",
        "Hinweis: Ein Bezirk umfasst ca.10-25 Gemeinden.\n",
        "\n",
        "2. Zentrale Entitäten und Beziehungen\n",
        "Das ideale Datenmodell basiert auf einem Sternschema (Star Schema) oder einem Snowflake Schema, wie sie in der Business Intelligence üblich sind. Dies ermöglicht flexible Analysen und eine klare Trennung zwischen Fakten (Messgrößen) und Dimensionen (Kontextinformationen).\n",
        "\n",
        "**Haupttabellen (Fakten):**\n",
        "Tabelle\tBeschreibung\tGranularität\n",
        "Gemeinde_Indikatoren\tMesswerte pro Gemeinde und Jahr\tGemeinde, Jahr\n",
        "Bezirk_Indikatoren\tMesswerte pro Bezirk und Jahr\tBezirk, Jahr\n",
        "\n",
        "**Dimensionstabellen:**\n",
        "Gemeinde: Name, BFS-Nummer, Zugehörigkeit zu Bezirk, Geokoordinaten etc.\n",
        "\n",
        "Bezirk: Name, Bezirksschlüssel, Liste der zugehörigen Gemeinden\n",
        "\n",
        "Zeit: Jahr, Quartal, Monat (je nach Datenverfügbarkeit)\n",
        "\n",
        "Regionstyp: Stadt, See, Regio, Land (z. B. nach ZWEX-Index)\n",
        "\n",
        "Weitere: Infrastruktur, Nahverkehrsanbindung, ggf. weitere demografische Merkmale\n",
        "\n",
        "3. Modellierung der unterschiedlichen Ebenen\n",
        "Verknüpfung Gemeinde- und Bezirksebene:\n",
        "Da einige Indikatoren nur auf Bezirksebene vorliegen (z. B. Kriminalitätsrate), wird in der Gemeinde-Faktentabelle ein Fremdschlüssel zum Bezirk hinterlegt. Bei Analysen auf Gemeindeebene wird der Bezirkswert als Konstante für alle Gemeinden des Bezirks übernommen (sog. Downscaling). Alternativ kann im Analyse-Frontend eine Aggregation auf Bezirksebene erfolgen.\n",
        "\n",
        "4. Datenmodell – Beispielstruktur\n",
        "text\n",
        "Gemeinde_Indikatoren\n",
        "---------------------\n",
        "- Gemeinde_ID (FK)\n",
        "- Jahr\n",
        "- Grundstückpreis\n",
        "- Grundstückpreis_Entwicklung\n",
        "- Arbeitslosenquote\n",
        "- Bevölkerungswachstum\n",
        "- Fahrtzeit_Zürich\n",
        "- Steuerfuss\n",
        "\n",
        "Bezirk_Indikatoren\n",
        "-------------------\n",
        "- Bezirk_ID (FK)\n",
        "- Jahr\n",
        "- Kriminalitätsrate\n",
        "\n",
        "Gemeinde\n",
        "----------\n",
        "- Gemeinde_ID (PK)\n",
        "- Name\n",
        "- Bezirk_ID (FK)\n",
        "- Regionstyp\n",
        "- Geokoordinaten\n",
        "\n",
        "Bezirk\n",
        "--------\n",
        "- Bezirk_ID (PK)\n",
        "- Name\n",
        "\n",
        "Zeit\n",
        "-----\n",
        "- Jahr\n",
        "- Quartal\n",
        "- Monat\n",
        "\n",
        "5. Analyse- und Bewertungsmöglichkeiten\n",
        "Score-Bildung: Entwicklung eines Scoring-Modells, das die wichtigsten Indikatoren gewichtet und pro Gemeinde einen Investitions-Score berechnet (z. B. hohe Grundstückpreissteigerung, niedriges Risiko, gute Erreichbarkeit, attraktive Steuerfüsse).\n",
        "\n",
        "Visualisierung: Nutzung von Tools wie Power BI, Tableau oder dem Zürcher Gemeindeporträt, um die Indikatoren als Karten oder Rankings darzustellen.\n",
        "\n",
        "Zeitliche Entwicklung: Analyse der Veränderungen über die Jahre, um Trends zu erkennen (z. B. starkes Bevölkerungswachstum als Frühindikator für Wertsteigerung).\n",
        "\n",
        "Vergleichbarkeit: Durch das einheitliche Datenmodell können Gemeinden und Bezirke direkt verglichen werden.\n",
        "\n",
        "6. Best Practices und Hinweise\n",
        "Datenqualität: Sicherstellen, dass alle Indikatoren auf den gleichen Zeitraum und möglichst aktuelle Datenstandards normiert sind.\n",
        "\n",
        "Hedonische Anpassung: Für Grundstückpreise empfiehlt sich die Nutzung hedonisch bereinigter Indizes (wie ZWEX), um Verzerrungen durch unterschiedliche Objektqualitäten zu vermeiden.\n",
        "\n",
        "Erweiterbarkeit: Das Modell ist offen für weitere Indikatoren, wie Leerstandsquote, Infrastruktur, geplante Bauprojekte oder Nachhaltigkeitsmetriken.\n",
        "\n",
        "Automatisierung: Für regelmäßige Aktualisierungen empfiehlt sich eine automatisierte Datenintegration, z. B. über APIs von Marktdatenanbietern"
      ],
      "metadata": {
        "id": "LdLSUdGlh2Lt"
      }
    },
    {
      "cell_type": "markdown",
      "source": [
        "# 3.1 Quellen"
      ],
      "metadata": {
        "id": "rDcs0nJX5znx"
      }
    },
    {
      "cell_type": "markdown",
      "source": [
        "opendata.swiss diverse\n",
        "Steuerfüsse\n",
        "https://opendata.swiss/de/dataset/steuerfusse-der-zurcher-gemeinden-fur-naturliche-und-juristische-personen/resource/19f66d9c-52a3-4568-8830-8d51e51a3937\n",
        "Preise unbebaute Grundstück (inkl. Abbruchliegenschaften)\n",
        "\n",
        "Median Preise Grundstücke allgemein\n",
        "\n",
        "Arbeitslosenquote\n",
        "\n",
        "Bevölkerungsdichte\n",
        "\n",
        "Fahrzeit\n",
        "\n",
        "Anzahl Straftaten"
      ],
      "metadata": {
        "id": "9B2FEC1MiG0D"
      }
    },
    {
      "cell_type": "markdown",
      "source": [
        "# 3.2 Import, Bereinigung und Transformation"
      ],
      "metadata": {
        "id": "rHXmWkzh53qn"
      }
    },
    {
      "cell_type": "code",
      "source": [
        "# 📚 Wir importieren die benötigten Bibliotheken für Datenanalyse und Machine Learning\n",
        "import pandas as pd\n",
        "import numpy as np\n",
        "import matplotlib.pyplot as plt\n",
        "import plotly.express as px\n",
        "\n",
        "from sklearn.model_selection import train_test_split\n",
        "from sklearn.linear_model import LinearRegression\n",
        "from sklearn.ensemble import RandomForestRegressor\n",
        "from sklearn.preprocessing import StandardScaler, PolynomialFeatures\n",
        "from sklearn.pipeline import make_pipeline\n",
        "from sklearn.metrics import r2_score, mean_squared_error\n"
      ],
      "metadata": {
        "id": "eeXFoFUASyDU"
      },
      "execution_count": 11,
      "outputs": []
    },
    {
      "cell_type": "code",
      "source": [
        "# Import der Tabelle von allen Bezirken und den Gemeinden im Kanton Zürich\n",
        "url = 'https://raw.githubusercontent.com/Bina-G10/BINA-G10/main/Daten/Gemeinden%20nach%20Bezirk%20Kt%20Z%C3%BCrich.xlsx'\n",
        "bezirk = pd.read_excel(url)\n",
        "\n",
        "# Zeichen bereinigen\n",
        "bezirk['Anzahl Einwohner (Dez 2018)_clean'] = (\n",
        "    bezirk['Anzahl Einwohner (Dez 2018)']\n",
        "    .astype(str)\n",
        "    .str.replace(' ', '', regex=False)    # Entferne Leerzeichen\n",
        "    .str.replace(',', '', regex=False)    # Entferne Kommas\n",
        "    .str.replace('.', '', regex=False)    # Entferne Punkt\n",
        ")\n",
        "\n",
        "# In float umwandeln\n",
        "bezirk['Anzahl Einwohner (Dez 2018)_clean'] = pd.to_numeric(bezirk['Anzahl Einwohner (Dez 2018)_clean'], errors='coerce')\n",
        "\n",
        "#Spaltentitel Gebiet_Name zu Gemeinde\n",
        "bezirk.rename(columns={'Gebiet_Name': 'Gemeinde'}, inplace=True)\n",
        "\n",
        "print(bezirk.head())"
      ],
      "metadata": {
        "id": "9T3Qy3NcrRfb",
        "outputId": "b798e22b-ee2e-4b78-8c3b-37c9c2457959",
        "colab": {
          "base_uri": "https://localhost:8080/"
        }
      },
      "execution_count": 12,
      "outputs": [
        {
          "output_type": "stream",
          "name": "stdout",
          "text": [
            "   Bezirk_BFS_Nr     Bezirk  BFS_NR            Gemeinde  \\\n",
            "0            101  Affoltern       1     Aeugst am Albis   \n",
            "1            101  Affoltern       2  Affoltern am Albis   \n",
            "2            101  Affoltern       3          Bonstetten   \n",
            "3            101  Affoltern       4     Hausen am Albis   \n",
            "4            101  Affoltern       5            Hedingen   \n",
            "\n",
            "  Anzahl Einwohner (Dez 2018)  Anzahl Einwohner (Dez 2018)_clean  \n",
            "0                       1 982                               1982  \n",
            "1                      12 229                              12229  \n",
            "2                       5 548                               5548  \n",
            "3                       3.701                               3701  \n",
            "4                       3,734                               3734  \n"
          ]
        }
      ]
    },
    {
      "cell_type": "code",
      "source": [
        "# Import Preise unbebautes Wohnland (inkl. Abbruch) Kt. Zürich 3 Jahre gepoolt - Median Jahr wird angezeigt\n",
        "url = 'https://raw.githubusercontent.com/Bina-G10/BINA-G10/main/Daten/Preise_unbebautes_Wohnland_Z%C3%BCrich_gepoolt3Jahre.xlsx'\n",
        "unbebaut = pd.read_excel(url)\n",
        "\n",
        "# Leerzeichen im Spaltentitel anpassen\n",
        "unbebaut.columns = unbebaut.columns.str.strip()\n",
        "\n",
        "# Zu wenig Fälle und fehlende Durchschnittswerte, jeweiliger Record soll gelöscht werden\n",
        "\n",
        "unbebaut.dropna(subset=['Durchschnitt'], inplace=True)\n",
        "\n",
        "# Quartile löschen\n",
        "unbebaut=unbebaut.drop(['Q25', 'Q75'], axis=1)\n",
        "\n",
        "print(unbebaut.head())"
      ],
      "metadata": {
        "id": "FDErdpjrteGK",
        "outputId": "2e262452-a94d-42f6-e795-a035a727751d",
        "colab": {
          "base_uri": "https://localhost:8080/"
        }
      },
      "execution_count": 13,
      "outputs": [
        {
          "output_type": "stream",
          "name": "stdout",
          "text": [
            "   Jahr_mittel   Zeitraum  BFS_NR     Gemeinde  Faelle  Durchschnitt  Median\n",
            "2         2021  2020-2022       1  Aeugst a.A.       4        1471.0  1410.0\n",
            "3         2020  2019-2021       1  Aeugst a.A.       9        1389.0  1465.0\n",
            "4         2019  2018-2020       1  Aeugst a.A.       9        1150.0  1354.0\n",
            "5         2018  2017-2019       1  Aeugst a.A.       9        1035.0  1116.0\n",
            "6         2017  2016-2018       1  Aeugst a.A.       7        1043.0   810.0\n"
          ]
        }
      ]
    },
    {
      "cell_type": "markdown",
      "source": [
        "**Vom Projekteam wurde entschieden, dass dieser Datensatz (unbebaut) nicht weiterverwendet wird.**"
      ],
      "metadata": {
        "id": "XnMFPntGSImu"
      }
    },
    {
      "cell_type": "code",
      "source": [
        "url = 'https://raw.githubusercontent.com/Bina-G10/BINA-G10/main/Daten/2017_PM_Bodenpreismodell_gerundet.csv'\n",
        "fahrzeit = pd.read_csv(url)\n",
        "\n",
        "#Bereinigung Tabelle Fahrzeit\n",
        "#Spalten löschen\n",
        "fahrzeit = fahrzeit.drop(['wohngebiet', 'totbev', 'steuerfuss', 'X25.', 'X50.', 'X75.'], axis=1)\n",
        "\n",
        "#Spaltentitel bfs zu BFS_NR wechseln, Spalte fahrzeit definiert die Fahrzeit nach Zürich\n",
        "fahrzeit.rename(columns={'bfs': 'BFS_NR'}, inplace=True)\n",
        "print(fahrzeit.head())"
      ],
      "metadata": {
        "id": "VzMIzEaUwD19",
        "outputId": "3193d601-624f-4e53-d100-ae80dc529f5a",
        "colab": {
          "base_uri": "https://localhost:8080/"
        }
      },
      "execution_count": 14,
      "outputs": [
        {
          "output_type": "stream",
          "name": "stdout",
          "text": [
            "   BFS_NR  fahrzeit\n",
            "0       1      26.5\n",
            "1       2      21.0\n",
            "2       3      17.0\n",
            "3       4      25.5\n",
            "4       5      18.0\n"
          ]
        }
      ]
    },
    {
      "cell_type": "code",
      "source": [
        "url = 'https://raw.githubusercontent.com/Bina-G10/BINA-G10/main/Daten/Arbeitslosenanteil%20an%20Bev%C3%B6lkerung%2015-64%20Jahre%20%5B%25%5D%20nach%20Gemeinde.csv'\n",
        "arbeitslosenanteil = pd.read_csv(url)\n",
        "\n",
        "#Spalten löschen\n",
        "arbeitslosenanteil = arbeitslosenanteil.drop(['THEMA_NAME', 'SET_NAME', 'SUBSET_NAME', 'INDIKATOR_ID', 'Unnamed: 11', 'EINHEIT_LANG', 'INDIKATOR_NAME'], axis=1)\n",
        "\n",
        "#Spaltentitel Gebiet_Name zu Gemeinde\n",
        "arbeitslosenanteil.rename(columns={'GEBIET_NAME': 'Gemeinde','INDIKATOR_JAHR': 'Jahr', 'INDIKATOR_VALUE': 'Arbeitslosenanteil', 'EINHEIT_KURZ': 'Einheit'}, inplace=True)\n",
        "\n",
        "print(arbeitslosenanteil.head())"
      ],
      "metadata": {
        "id": "ahVz4qT_xmeu",
        "outputId": "690f5d30-68e1-4284-92cc-ae118b991971",
        "colab": {
          "base_uri": "https://localhost:8080/"
        }
      },
      "execution_count": 15,
      "outputs": [
        {
          "output_type": "stream",
          "name": "stdout",
          "text": [
            "   BFS_NR     Gemeinde  Jahr  Arbeitslosenanteil Einheit\n",
            "0       1  Aeugst a.A.  2011                 1.4       %\n",
            "1       1  Aeugst a.A.  2012                 1.3       %\n",
            "2       1  Aeugst a.A.  2013                 1.8       %\n",
            "3       1  Aeugst a.A.  2014                 1.3       %\n",
            "4       1  Aeugst a.A.  2015                 1.8       %\n"
          ]
        }
      ]
    },
    {
      "cell_type": "code",
      "source": [
        "url = 'https://raw.githubusercontent.com/Bina-G10/BINA-G10/refs/heads/main/Daten/kanton_zuerich_stf_timeseries.csv'\n",
        "steuerfuss = pd.read_csv(url)\n",
        "\n",
        "\n",
        "#Spalten 5-15 löschen, Fokus des Projektteams liegt auf dem Steuerfuss ohne Kirche und Juristischen Personen\n",
        "steuerfuss = steuerfuss.drop(steuerfuss.columns[4:15], axis=1)\n",
        "# Spaltentitel anpassen\n",
        "steuerfuss.rename(columns={'BFSNR': 'BFS_NR', 'GDE_NAME': 'Gemeinde', 'STF_O_KIRCHE1': 'Steuerfuss ohne Kirche', 'JUR_PERS': 'Juristische Personen','YEAR': 'Jahr'}, inplace=True)\n",
        "\n",
        "# Die ersten Zeilen anzeigen\n",
        "print(steuerfuss.head())"
      ],
      "metadata": {
        "colab": {
          "base_uri": "https://localhost:8080/"
        },
        "id": "fFWM7a7Oowm1",
        "outputId": "fcf02532-7ebb-4933-94ed-c776e6d08231"
      },
      "execution_count": 16,
      "outputs": [
        {
          "output_type": "stream",
          "name": "stdout",
          "text": [
            "   Jahr  BFS_NR        Gemeinde  Steuerfuss ohne Kirche  Juristische Personen\n",
            "0  2025       1     Aeugst a.A.                      92                104.33\n",
            "1  2025       2  Affoltern a.A.                     122                134.51\n",
            "2  2025       3      Bonstetten                     109                120.56\n",
            "3  2025       4     Hausen a.A.                     112                124.90\n",
            "4  2025       5        Hedingen                     100                112.40\n"
          ]
        }
      ]
    },
    {
      "cell_type": "code",
      "source": [
        "url = 'https://raw.githubusercontent.com/Bina-G10/BINA-G10/refs/heads/main/Daten/Baulandpreis%20Median%20nach%20Gemeinde.csv'\n",
        "bauland = pd.read_csv(url)\n",
        "\n",
        "#Spalten löschen\n",
        "bauland = bauland.drop(['THEMA_NAME', 'SET_NAME', 'SUBSET_NAME', 'INDIKATOR_ID', 'Unnamed: 11', 'EINHEIT_LANG', 'INDIKATOR_NAME'], axis=1)\n",
        "\n",
        "#Spaltentitel Gebiet_Name zu Gemeinde\n",
        "bauland.rename(columns={'GEBIET_NAME': 'Gemeinde', 'INDIKATOR_VALUE': 'Baulandpreis Median', 'INDIKATOR_JAHR': 'Jahr', 'EINHEIT_KURZ': 'Einheit'}, inplace=True)\n",
        "\n",
        "# Optional: Die ersten Zeilen anzeigen\n",
        "print(bauland.head())"
      ],
      "metadata": {
        "colab": {
          "base_uri": "https://localhost:8080/"
        },
        "id": "2Gd3zqsBpuTA",
        "outputId": "3fe88aa4-2b12-4839-e48d-3cdeda44ad76"
      },
      "execution_count": 17,
      "outputs": [
        {
          "output_type": "stream",
          "name": "stdout",
          "text": [
            "   BFS_NR     Gemeinde  Jahr  Baulandpreis Median Einheit\n",
            "0       1  Aeugst a.A.  1974                  146  Fr./m2\n",
            "1       1  Aeugst a.A.  1975                  146  Fr./m2\n",
            "2       1  Aeugst a.A.  1976                  148  Fr./m2\n",
            "3       1  Aeugst a.A.  1977                  152  Fr./m2\n",
            "4       1  Aeugst a.A.  1978                  158  Fr./m2\n"
          ]
        }
      ]
    },
    {
      "cell_type": "code",
      "source": [
        "url = 'https://raw.githubusercontent.com/Bina-G10/BINA-G10/refs/heads/main/Daten/Anzahl%20Straftaten%20nach%20Tatbestand%20und%20Bezirken.csv'\n",
        "straftaten = pd.read_csv(url)\n",
        "\n",
        "#Spalten löschen\n",
        "straftaten = straftaten.drop(['Gesetz_Nummer', 'Gesetz_Abk', 'Reihenfolge_Haupttitel', \"Haupttitel\", \"Artikel\", \"Tatbestand\"], axis=1)\n",
        "#Häufigkeitszahl ist Dunkelziffer\n",
        "\n",
        "#Gruppieren und Summieren nach Jahr und Bezirk\n",
        "agg_cols = ([\"Straftaten_total\", \"Straftaten_vollendet\", \"Straftaten_versucht\",\"Häufigkeitszahl\"])\n",
        "straftaten_summiert = straftaten.groupby([\"Ausgangsjahr\", \"Bezirk_BFS_Nr\", \"Bezirksname\"], as_index=False)[agg_cols].sum()\n",
        "\n",
        "#Dokumentieren weshalb alle Tatbestände gesammelt betrachtet werden\n",
        "\n",
        "\n",
        "# Optional: Die ersten Zeilen anzeigen\n",
        "print(straftaten_summiert.head())"
      ],
      "metadata": {
        "colab": {
          "base_uri": "https://localhost:8080/"
        },
        "id": "kDq5l4U5qY5s",
        "outputId": "f9c7b8e1-2c1f-4bb2-ca74-2c24f2da22c2"
      },
      "execution_count": 18,
      "outputs": [
        {
          "output_type": "stream",
          "name": "stdout",
          "text": [
            "   Ausgangsjahr  Bezirk_BFS_Nr  Bezirksname  Straftaten_total  \\\n",
            "0          2009            101    Affoltern              2277   \n",
            "1          2009            102  Andelfingen              1092   \n",
            "2          2009            103       Bülach             15111   \n",
            "3          2009            104    Dielsdorf              5224   \n",
            "4          2009            105       Hinwil              4612   \n",
            "\n",
            "   Straftaten_vollendet  Straftaten_versucht  Häufigkeitszahl  \n",
            "0                1957.0                119.0             48.4  \n",
            "1                 992.0                 55.0             36.7  \n",
            "2               10074.0                516.0            118.3  \n",
            "3                4511.0                303.0             67.4  \n",
            "4                3765.0                214.0             53.7  \n"
          ]
        }
      ]
    },
    {
      "cell_type": "code",
      "source": [
        "url = 'https://raw.githubusercontent.com/Bina-G10/BINA-G10/refs/heads/main/Daten/Bev%C3%B6lkerungsdichte%20Einwohner%20pro%202%20km%20nach%20Gemeinde.csv'\n",
        "bevölkerungsdichte = pd.read_csv(url)\n",
        "\n",
        "#Spalten löschen\n",
        "bevölkerungsdichte = bevölkerungsdichte.drop(['SET_NAME', 'SUBSET_NAME', 'THEMA_NAME', 'INDIKATOR_NAME', 'INDIKATOR_ID', \"EINHEIT_LANG\", \"Unnamed: 11\"], axis=1)\n",
        "\n",
        "#Spaltentitel Gebiet_Name zu Gemeinde\n",
        "bevölkerungsdichte.rename(columns={'GEBIET_NAME': 'Gemeinde', 'INDIKATOR_VALUE': 'Bevölkerungsdichte', 'INDIKATOR_JAHR': 'Jahr', 'EINHEIT_KURZ': 'Einheit'}, inplace=True)\n",
        "\n",
        "# Optional: Die ersten Zeilen anzeigen\n",
        "print(bevölkerungsdichte.head())"
      ],
      "metadata": {
        "colab": {
          "base_uri": "https://localhost:8080/"
        },
        "id": "U5GMp6nLsyUt",
        "outputId": "1e82615d-2c02-4ee4-d971-13ef0f018a3a"
      },
      "execution_count": 19,
      "outputs": [
        {
          "output_type": "stream",
          "name": "stdout",
          "text": [
            "   BFS_NR     Gemeinde  Jahr  Bevölkerungsdichte    Einheit\n",
            "0       1  Aeugst a.A.  1962                90.2  Einw./km2\n",
            "1       1  Aeugst a.A.  1963                91.5  Einw./km2\n",
            "2       1  Aeugst a.A.  1964                89.6  Einw./km2\n",
            "3       1  Aeugst a.A.  1965                88.3  Einw./km2\n",
            "4       1  Aeugst a.A.  1966                94.7  Einw./km2\n"
          ]
        }
      ]
    },
    {
      "cell_type": "code",
      "source": [
        "# 📥 Wir lesen die relevanten Datensätze direkt von GitHub ein\n",
        "\n",
        "# Baulandpreise\n",
        "bauland = pd.read_csv(\"https://raw.githubusercontent.com/Bina-G10/BINA-G10/main/Daten/Baulandpreis%20Median%20nach%20Gemeinde.csv\")\n",
        "\n",
        "# Unbebautes Wohnland (Medianpreise)\n",
        "unbebaut = pd.read_excel(\"https://raw.githubusercontent.com/Bina-G10/BINA-G10/main/Daten/Preise_unbebautes_Wohnland_Z%C3%BCrich_gepoolt3Jahre.xlsx\")\n",
        "unbebaut.dropna(subset=['Durchschnitt'], inplace=True)\n",
        "\n",
        "# Fahrzeit\n",
        "fahrzeit = pd.read_csv(\"https://raw.githubusercontent.com/Bina-G10/BINA-G10/main/Daten/2017_PM_Bodenpreismodell_gerundet.csv\")\n",
        "\n",
        "# Arbeitslosenquote\n",
        "arbeitslosenanteil = pd.read_csv(\"https://raw.githubusercontent.com/Bina-G10/BINA-G10/main/Daten/Arbeitslosenanteil%20an%20Bev%C3%B6lkerung%2015-64%20Jahre%20%5B%25%5D%20nach%20Gemeinde.csv\")\n",
        "\n",
        "# Gemeinden mit BFS für Fahrzeit-Merge\n",
        "bezirk = pd.read_excel(\"https://raw.githubusercontent.com/Bina-G10/BINA-G10/main/Daten/Gemeinden%20nach%20Bezirk%20Kt%20Z%C3%BCrich.xlsx\")\n"
      ],
      "metadata": {
        "id": "nrtyFUkqZvGC",
        "outputId": "9591dde2-884c-46df-ed09-f082ccb8a4dc",
        "colab": {
          "base_uri": "https://localhost:8080/",
          "height": 367
        }
      },
      "execution_count": 20,
      "outputs": [
        {
          "output_type": "error",
          "ename": "KeyError",
          "evalue": "['Durchschnitt']",
          "traceback": [
            "\u001b[0;31m---------------------------------------------------------------------------\u001b[0m",
            "\u001b[0;31mKeyError\u001b[0m                                  Traceback (most recent call last)",
            "\u001b[0;32m<ipython-input-20-1283b95fe444>\u001b[0m in \u001b[0;36m<cell line: 0>\u001b[0;34m()\u001b[0m\n\u001b[1;32m      6\u001b[0m \u001b[0;31m# Unbebautes Wohnland (Medianpreise)\u001b[0m\u001b[0;34m\u001b[0m\u001b[0;34m\u001b[0m\u001b[0m\n\u001b[1;32m      7\u001b[0m \u001b[0munbebaut\u001b[0m \u001b[0;34m=\u001b[0m \u001b[0mpd\u001b[0m\u001b[0;34m.\u001b[0m\u001b[0mread_excel\u001b[0m\u001b[0;34m(\u001b[0m\u001b[0;34m\"https://raw.githubusercontent.com/Bina-G10/BINA-G10/main/Daten/Preise_unbebautes_Wohnland_Z%C3%BCrich_gepoolt3Jahre.xlsx\"\u001b[0m\u001b[0;34m)\u001b[0m\u001b[0;34m\u001b[0m\u001b[0;34m\u001b[0m\u001b[0m\n\u001b[0;32m----> 8\u001b[0;31m \u001b[0munbebaut\u001b[0m\u001b[0;34m.\u001b[0m\u001b[0mdropna\u001b[0m\u001b[0;34m(\u001b[0m\u001b[0msubset\u001b[0m\u001b[0;34m=\u001b[0m\u001b[0;34m[\u001b[0m\u001b[0;34m'Durchschnitt'\u001b[0m\u001b[0;34m]\u001b[0m\u001b[0;34m,\u001b[0m \u001b[0minplace\u001b[0m\u001b[0;34m=\u001b[0m\u001b[0;32mTrue\u001b[0m\u001b[0;34m)\u001b[0m\u001b[0;34m\u001b[0m\u001b[0;34m\u001b[0m\u001b[0m\n\u001b[0m\u001b[1;32m      9\u001b[0m \u001b[0;34m\u001b[0m\u001b[0m\n\u001b[1;32m     10\u001b[0m \u001b[0;31m# Fahrzeit\u001b[0m\u001b[0;34m\u001b[0m\u001b[0;34m\u001b[0m\u001b[0m\n",
            "\u001b[0;32m/usr/local/lib/python3.11/dist-packages/pandas/core/frame.py\u001b[0m in \u001b[0;36mdropna\u001b[0;34m(self, axis, how, thresh, subset, inplace, ignore_index)\u001b[0m\n\u001b[1;32m   6668\u001b[0m             \u001b[0mcheck\u001b[0m \u001b[0;34m=\u001b[0m \u001b[0mindices\u001b[0m \u001b[0;34m==\u001b[0m \u001b[0;34m-\u001b[0m\u001b[0;36m1\u001b[0m\u001b[0;34m\u001b[0m\u001b[0;34m\u001b[0m\u001b[0m\n\u001b[1;32m   6669\u001b[0m             \u001b[0;32mif\u001b[0m \u001b[0mcheck\u001b[0m\u001b[0;34m.\u001b[0m\u001b[0many\u001b[0m\u001b[0;34m(\u001b[0m\u001b[0;34m)\u001b[0m\u001b[0;34m:\u001b[0m\u001b[0;34m\u001b[0m\u001b[0;34m\u001b[0m\u001b[0m\n\u001b[0;32m-> 6670\u001b[0;31m                 \u001b[0;32mraise\u001b[0m \u001b[0mKeyError\u001b[0m\u001b[0;34m(\u001b[0m\u001b[0mnp\u001b[0m\u001b[0;34m.\u001b[0m\u001b[0marray\u001b[0m\u001b[0;34m(\u001b[0m\u001b[0msubset\u001b[0m\u001b[0;34m)\u001b[0m\u001b[0;34m[\u001b[0m\u001b[0mcheck\u001b[0m\u001b[0;34m]\u001b[0m\u001b[0;34m.\u001b[0m\u001b[0mtolist\u001b[0m\u001b[0;34m(\u001b[0m\u001b[0;34m)\u001b[0m\u001b[0;34m)\u001b[0m\u001b[0;34m\u001b[0m\u001b[0;34m\u001b[0m\u001b[0m\n\u001b[0m\u001b[1;32m   6671\u001b[0m             \u001b[0magg_obj\u001b[0m \u001b[0;34m=\u001b[0m \u001b[0mself\u001b[0m\u001b[0;34m.\u001b[0m\u001b[0mtake\u001b[0m\u001b[0;34m(\u001b[0m\u001b[0mindices\u001b[0m\u001b[0;34m,\u001b[0m \u001b[0maxis\u001b[0m\u001b[0;34m=\u001b[0m\u001b[0magg_axis\u001b[0m\u001b[0;34m)\u001b[0m\u001b[0;34m\u001b[0m\u001b[0;34m\u001b[0m\u001b[0m\n\u001b[1;32m   6672\u001b[0m \u001b[0;34m\u001b[0m\u001b[0m\n",
            "\u001b[0;31mKeyError\u001b[0m: ['Durchschnitt']"
          ]
        }
      ]
    },
    {
      "cell_type": "code",
      "source": [
        "print(unbebaut.columns)\n"
      ],
      "metadata": {
        "id": "T7jwq2fWZ7aP"
      },
      "execution_count": null,
      "outputs": []
    },
    {
      "cell_type": "markdown",
      "source": [
        "Fehler Erkannt: Spalte heißt nicht 'Durchschnitt', sondern 'Durchschnitt '\n"
      ],
      "metadata": {
        "id": "1AajdpDRaHyh"
      }
    },
    {
      "cell_type": "code",
      "source": [
        "unbebaut.columns = unbebaut.columns.str.strip()\n"
      ],
      "metadata": {
        "id": "TFRg3ZhtaLmp"
      },
      "execution_count": null,
      "outputs": []
    },
    {
      "cell_type": "code",
      "source": [
        "# Unbebautes Wohnland (Medianpreise)\n",
        "unbebaut = pd.read_excel(\"https://raw.githubusercontent.com/Bina-G10/BINA-G10/main/Daten/Preise_unbebautes_Wohnland_Z%C3%BCrich_gepoolt3Jahre.xlsx\")\n",
        "\n",
        "# Spaltennamen bereinigen (Leerzeichen am Ende entfernen)\n",
        "unbebaut.columns = unbebaut.columns.str.strip()\n",
        "\n",
        "# Nur gültige Zeilen behalten\n",
        "unbebaut.dropna(subset=['Durchschnitt'], inplace=True)\n"
      ],
      "metadata": {
        "id": "wp7gH7UqaQ3i"
      },
      "execution_count": null,
      "outputs": []
    },
    {
      "cell_type": "code",
      "source": [
        "# 📅 Zieljahr für Analyse\n",
        "zieljahr = 2020\n",
        "\n",
        "# Baulandpreise vorbereiten\n",
        "bauland = bauland[bauland['INDIKATOR_JAHR'] == zieljahr]\n",
        "bauland = bauland[['GEBIET_NAME', 'INDIKATOR_VALUE']].rename(columns={\n",
        "    'GEBIET_NAME': 'Gemeinde',\n",
        "    'INDIKATOR_VALUE': 'Preis'\n",
        "})\n",
        "\n",
        "# Arbeitslosenanteil vorbereiten\n",
        "arbeitslosenanteil = arbeitslosenanteil[arbeitslosenanteil['INDIKATOR_JAHR'] == zieljahr]\n",
        "arbeitslosenanteil = arbeitslosenanteil.rename(columns={\n",
        "    'GEBIET_NAME': 'Gemeinde',\n",
        "    'INDIKATOR_VALUE': 'Arbeitslosenanteil'\n",
        "})\n",
        "arbeitslosenanteil = arbeitslosenanteil[['Gemeinde', 'Arbeitslosenanteil']]\n",
        "\n",
        "# Fahrzeit: Gemeinde via BFS anhängen\n",
        "fahrzeit = fahrzeit.rename(columns={'fahrzeit': 'Fahrzeit'})\n",
        "bezirk = bezirk.rename(columns={'Gebiet_Name': 'Gemeinde'})  # für Join\n",
        "fahrzeit = fahrzeit.merge(bezirk[['Gemeinde', 'BFS_NR']], on='BFS_NR', how='left')\n"
      ],
      "metadata": {
        "id": "TFLrup3GaXCG"
      },
      "execution_count": null,
      "outputs": []
    },
    {
      "cell_type": "code",
      "source": [
        "KeyError: 'INDIKATOR_JAHR'\n"
      ],
      "metadata": {
        "id": "OX0qj5Epac5F"
      },
      "execution_count": null,
      "outputs": []
    },
    {
      "cell_type": "code",
      "source": [
        "print(\"Bauland:\", bauland.columns.tolist())\n",
        "print(\"Arbeitslosenanteil:\", arbeitslosenanteil.columns.tolist())\n"
      ],
      "metadata": {
        "id": "sSNIAfYIaeg2"
      },
      "execution_count": null,
      "outputs": []
    },
    {
      "cell_type": "code",
      "source": [
        "# 📅 Zieljahr definieren\n",
        "zieljahr = 2020\n",
        "\n",
        "# Arbeitslosenanteil für 2020 filtern\n",
        "arbeitslosenanteil_2020 = arbeitslosenanteil[arbeitslosenanteil['Jahr'] == zieljahr]\n",
        "arbeitslosenanteil_2020 = arbeitslosenanteil_2020[['Gemeinde', 'Arbeitslosenanteil']]\n",
        "\n",
        "# Fahrzeit umbenennen und mit Gemeinde ergänzen\n",
        "fahrzeit = fahrzeit.rename(columns={'fahrzeit': 'Fahrzeit'})\n",
        "bezirk = bezirk.rename(columns={'Gebiet_Name': 'Gemeinde'})  # für den Join\n",
        "fahrzeit = fahrzeit.merge(bezirk[['Gemeinde', 'BFS_NR']], on='BFS_NR', how='left')\n"
      ],
      "metadata": {
        "id": "hOqrU4nOalJz"
      },
      "execution_count": null,
      "outputs": []
    },
    {
      "cell_type": "code",
      "source": [
        "# 🔗 Wir mergen die vier vorbereiteten Tabellen zu einem gemeinsamen DataFrame\n",
        "\n",
        "df = bauland.merge(unbebaut[['Gemeinde', 'Durchschnitt']], on='Gemeinde', how='inner')\n",
        "df = df.merge(fahrzeit[['Gemeinde', 'Fahrzeit']], on='Gemeinde', how='inner')\n",
        "df = df.merge(arbeitslosenanteil_2020, on='Gemeinde', how='inner')\n",
        "\n",
        "# ✅ Ausgabe prüfen\n",
        "print(\"Datensatz erfolgreich gemerged. Zeilenanzahl:\", df.shape[0])\n",
        "df.head()\n"
      ],
      "metadata": {
        "id": "6g7MNVLlaq4v"
      },
      "execution_count": null,
      "outputs": []
    },
    {
      "cell_type": "code",
      "source": [
        "print(fahrzeit.columns)\n"
      ],
      "metadata": {
        "id": "H9WZgldJaw6Q"
      },
      "execution_count": null,
      "outputs": []
    },
    {
      "cell_type": "code",
      "source": [
        "# 🚧 Spalte korrekt umbenennen\n",
        "fahrzeit.rename(columns={'Fahrzeit nach Zürich': 'Fahrzeit'}, inplace=True)\n"
      ],
      "metadata": {
        "id": "kd8ridrra2cm"
      },
      "execution_count": null,
      "outputs": []
    },
    {
      "cell_type": "code",
      "source": [
        "df = bauland.merge(unbebaut[['Gemeinde', 'Durchschnitt']], on='Gemeinde', how='inner')\n",
        "df = df.merge(fahrzeit[['Gemeinde', 'Fahrzeit']], on='Gemeinde', how='inner')\n",
        "df = df.merge(arbeitslosenanteil_2020, on='Gemeinde', how='inner')\n",
        "\n",
        "print(\"Datensatz erfolgreich gemerged. Zeilenanzahl:\", df.shape[0])\n",
        "df.head()\n"
      ],
      "metadata": {
        "id": "RMPoEA4Ea4BQ"
      },
      "execution_count": null,
      "outputs": []
    },
    {
      "cell_type": "code",
      "source": [
        "# 📊 Features und Ziel definieren\n",
        "features = ['Durchschnitt', 'Fahrzeit', 'Arbeitslosenanteil']\n",
        "target = 'Preis'\n",
        "\n",
        "X = df[features]\n",
        "y = df[target]\n",
        "\n",
        "# ✂️ Daten aufteilen (Train/Test)\n",
        "X_train, X_test, y_train, y_test = train_test_split(X, y, test_size=0.2, random_state=42)\n",
        "\n",
        "# 🔍 Lineare Regression\n",
        "model_lr = LinearRegression()\n",
        "model_lr.fit(X_train, y_train)\n",
        "y_pred_lr = model_lr.predict(X_test)\n",
        "\n",
        "r2_lr = r2_score(y_test, y_pred_lr)\n",
        "rmse_lr = np.sqrt(mean_squared_error(y_test, y_pred_lr))\n",
        "\n",
        "print(\"\\n🔍 Lineare Regression\")\n",
        "print(f\"R²: {r2_lr:.2f}\")\n",
        "print(f\"RMSE: {rmse_lr:.2f}\")\n",
        "\n",
        "# 🌲 Random Forest\n",
        "model_rf = RandomForestRegressor(random_state=42)\n",
        "model_rf.fit(X_train, y_train)\n",
        "y_pred_rf = model_rf.predict(X_test)\n",
        "\n",
        "r2_rf = r2_score(y_test, y_pred_rf)\n",
        "rmse_rf = np.sqrt(mean_squared_error(y_test, y_pred_rf))\n",
        "\n",
        "print(\"\\n🌲 Random Forest\")\n",
        "print(f\"R²: {r2_rf:.2f}\")\n",
        "print(f\"RMSE: {rmse_rf:.2f}\")\n"
      ],
      "metadata": {
        "id": "or3tW7Vna-cU"
      },
      "execution_count": null,
      "outputs": []
    },
    {
      "cell_type": "code",
      "source": [
        "# 🧹 Alle Zeilen mit fehlenden Werten in X oder y entfernen\n",
        "df_clean = df.dropna(subset=['Durchschnitt', 'Fahrzeit', 'Arbeitslosenanteil', 'Preis'])\n",
        "\n",
        "# Neu definieren\n",
        "X = df_clean[features]\n",
        "y = df_clean[target]\n"
      ],
      "metadata": {
        "id": "3mbXczhSbKrv"
      },
      "execution_count": null,
      "outputs": []
    },
    {
      "cell_type": "code",
      "source": [
        "X_train, X_test, y_train, y_test = train_test_split(X, y, test_size=0.2, random_state=42)\n"
      ],
      "metadata": {
        "id": "lS4gMiijbAOn"
      },
      "execution_count": null,
      "outputs": []
    },
    {
      "cell_type": "code",
      "source": [
        "# 🔍 Lineare Regression\n",
        "model_lr = LinearRegression()\n",
        "model_lr.fit(X_train, y_train)\n",
        "y_pred_lr = model_lr.predict(X_test)\n",
        "\n",
        "r2_lr = r2_score(y_test, y_pred_lr)\n",
        "rmse_lr = np.sqrt(mean_squared_error(y_test, y_pred_lr))\n",
        "\n",
        "print(\"\\n🔍 Lineare Regression\")\n",
        "print(f\"R²: {r2_lr:.2f}\")\n",
        "print(f\"RMSE: {rmse_lr:.2f}\")\n",
        "\n",
        "# 🌲 Random Forest\n",
        "model_rf = RandomForestRegressor(random_state=42)\n",
        "model_rf.fit(X_train, y_train)\n",
        "y_pred_rf = model_rf.predict(X_test)\n",
        "\n",
        "r2_rf = r2_score(y_test, y_pred_rf)\n",
        "rmse_rf = np.sqrt(mean_squared_error(y_test, y_pred_rf))\n",
        "\n",
        "print(\"\\n🌲 Random Forest\")\n",
        "print(f\"R²: {r2_rf:.2f}\")\n",
        "print(f\"RMSE: {rmse_rf:.2f}\")\n"
      ],
      "metadata": {
        "id": "D-aC5nUvbcMi"
      },
      "execution_count": null,
      "outputs": []
    },
    {
      "cell_type": "markdown",
      "source": [
        "Fazit:\n",
        "Die lineare Regression erklärt 62 % der Preisunterschiede – ein solider Start.\n",
        "\n",
        "Der Random Forest ist fast perfekt bei diesem Datensatz (R² = 0.99).\n",
        "\n",
        "RMSE sinkt massiv → Random Forest trifft die tatsächlichen Preise viel genauer.\n",
        "\n",
        "▶️ Nächster Schritt: Feature Importance (welche Variablen haben den grössten Einfluss?)"
      ],
      "metadata": {
        "id": "WCs_cidEbkuI"
      }
    },
    {
      "cell_type": "code",
      "source": [
        "# 📊 Wichtigste Einflussfaktoren visualisieren (Random Forest Feature Importance)\n",
        "\n",
        "importances = model_rf.feature_importances_\n",
        "importance_df = pd.DataFrame({'Feature': X.columns, 'Importance': importances})\n",
        "importance_df = importance_df.sort_values(by='Importance', ascending=True)\n",
        "\n",
        "# Balkendiagramm anzeigen\n",
        "fig = px.bar(importance_df, x='Importance', y='Feature', orientation='h',\n",
        "             title='📊 Einfluss der Merkmale auf den Preis (Random Forest)')\n",
        "fig.show()\n"
      ],
      "metadata": {
        "id": "91RRVQj1bmSN"
      },
      "execution_count": null,
      "outputs": []
    },
    {
      "cell_type": "markdown",
      "source": [
        "💡 Fazit (für Präsentation oder Bericht):\n",
        "Die Erreichbarkeit (Fahrzeit) ist der mit Abstand wichtigste Treiber für den Baulandpreis.\n",
        "\n",
        "Der Arbeitslosenanteil hat einen spürbaren, aber kleineren Einfluss.\n",
        "\n",
        "Die Preise für unbebautes Wohnland („Durchschnitt“) sind weniger entscheidend – evtl. weil sie stark streuen oder andere Faktoren dominieren."
      ],
      "metadata": {
        "id": "TtNUgY5XcBj5"
      }
    },
    {
      "cell_type": "markdown",
      "source": [
        "📐 Polynomiale Regression (Grad 2)\n",
        "→ Ziel: Prüfen, ob sich durch nichtlineare Zusammenhänge (x²) die Vorhersage verbessert.\n"
      ],
      "metadata": {
        "id": "RB0lilKacMxX"
      }
    },
    {
      "cell_type": "code",
      "source": [
        "# 📐 Polynomiale Regression (Grad 2)\n",
        "# Wir prüfen, ob quadratische Zusammenhänge zu besseren Vorhersagen führen.\n",
        "\n",
        "# Pipeline mit PolynomialFeatures und LinearRegression\n",
        "model_poly = make_pipeline(PolynomialFeatures(degree=2), LinearRegression())\n",
        "\n",
        "# Modelltraining mit Trainingsdaten\n",
        "model_poly.fit(X_train, y_train)\n",
        "\n",
        "# Vorhersage auf Testdaten\n",
        "y_pred_poly = model_poly.predict(X_test)\n",
        "\n",
        "# Bewertung\n",
        "r2_poly = r2_score(y_test, y_pred_poly)\n",
        "rmse_poly = np.sqrt(mean_squared_error(y_test, y_pred_poly))\n",
        "\n",
        "# Ergebnis anzeigen\n",
        "print(\"\\n📐 Polynomiale Regression (Grad 2)\")\n",
        "print(f\"R²: {r2_poly:.2f}\")\n",
        "print(f\"RMSE: {rmse_poly:.2f}\")\n"
      ],
      "metadata": {
        "id": "noVuW_dPcO2j"
      },
      "execution_count": null,
      "outputs": []
    },
    {
      "cell_type": "markdown",
      "source": [
        " Interpretation:\n",
        "Die polynomiale Regression bringt eine leichte Verbesserung gegenüber der linearen Variante.\n",
        "\n",
        "Allerdings kann sie mit dem Random Forest nicht mithalten – das nichtlineare Modell erkennt deutlich mehr Struktur in den Daten.\n",
        "\n",
        "Dennoch zeigt sich: Nichtlinearität lohnt sich, sobald sie zugelassen wird."
      ],
      "metadata": {
        "id": "d0jotWOGcXKa"
      }
    },
    {
      "cell_type": "markdown",
      "source": [
        "🌍 k-Means-Clustering\n",
        "→ Ziel: Gemeinden mit ähnlichem Profil (z. B. Fahrzeit, Arbeitslosigkeit, Bodenpreis) in Cluster gruppieren."
      ],
      "metadata": {
        "id": "ozYgKu1qcdwc"
      }
    },
    {
      "cell_type": "code",
      "source": [
        "# 🌍 k-Means-Clustering vorbereiten\n",
        "from sklearn.cluster import KMeans\n",
        "\n",
        "# Wir verwenden dieselben Features wie vorher (optional: skalieren)\n",
        "X_cluster = df_clean[['Durchschnitt', 'Fahrzeit', 'Arbeitslosenanteil']].dropna()\n",
        "\n",
        "# Clustering mit 3 Gruppen\n",
        "kmeans = KMeans(n_clusters=3, random_state=42, n_init=10)\n",
        "cluster_labels = kmeans.fit_predict(X_cluster)\n",
        "\n",
        "# Cluster-Label den Daten hinzufügen\n",
        "df_clean_clustered = df_clean.loc[X_cluster.index].copy()\n",
        "df_clean_clustered['Cluster'] = cluster_labels\n",
        "\n",
        "# Cluster-Grössen anzeigen\n",
        "print(\"📊 Anzahl Gemeinden pro Cluster:\")\n",
        "print(df_clean_clustered['Cluster'].value_counts())\n"
      ],
      "metadata": {
        "id": "D60urpaocfTd"
      },
      "execution_count": null,
      "outputs": []
    },
    {
      "cell_type": "code",
      "source": [
        "# 📊 Visualisierung der Cluster (z. B. Preis vs. Fahrzeit)\n",
        "\n",
        "fig = px.scatter(\n",
        "    df_clean_clustered,\n",
        "    x='Fahrzeit',\n",
        "    y='Preis',\n",
        "    color='Cluster',\n",
        "    hover_name='Gemeinde',\n",
        "    title='🌍 Cluster von Gemeinden (Fahrzeit vs. Preis)',\n",
        "    labels={'Fahrzeit': 'Fahrzeit nach Zürich', 'Preis': 'Baulandpreis (CHF/m²)'}\n",
        ")\n",
        "\n",
        "fig.show()\n"
      ],
      "metadata": {
        "id": "aXHwjALyclpt"
      },
      "execution_count": null,
      "outputs": []
    },
    {
      "cell_type": "code",
      "source": [
        "# 🧭 3D-Visualisierung der Cluster mit fixer Legende\n",
        "\n",
        "fig = px.scatter_3d(\n",
        "    df_clean_clustered,\n",
        "    x='Fahrzeit',\n",
        "    y='Arbeitslosenanteil',\n",
        "    z='Preis',\n",
        "    color='Cluster',\n",
        "    hover_name='Gemeinde',\n",
        "    title='🧭 3D-Cluster: Preis vs. Fahrzeit vs. Arbeitslosenanteil',\n",
        "    labels={\n",
        "        'Fahrzeit': 'Fahrzeit nach Zürich',\n",
        "        'Arbeitslosenanteil': 'Arbeitslosenquote (%)',\n",
        "        'Preis': 'Baulandpreis (CHF/m²)'\n",
        "    }\n",
        ")\n",
        "\n",
        "# Plot-Anpassungen: kleinere Marker, fixe Achsenbeschriftung\n",
        "fig.update_traces(marker=dict(size=4), selector=dict(mode='markers'))\n",
        "\n",
        "# Achsentitel setzen\n",
        "fig.update_layout(\n",
        "    scene=dict(\n",
        "        xaxis_title='Fahrzeit',\n",
        "        yaxis_title='Arbeitslosenanteil',\n",
        "        zaxis_title='Baulandpreis'\n",
        "    ),\n",
        "    legend=dict(\n",
        "        x=0.85,  # Rechts oben\n",
        "        y=0.95,\n",
        "        bgcolor='rgba(255,255,255,0.6)',\n",
        "        bordercolor='black',\n",
        "        borderwidth=1\n",
        "    )\n",
        ")\n",
        "\n",
        "fig.show()\n"
      ],
      "metadata": {
        "id": "XEnSWfY4dNkP"
      },
      "execution_count": null,
      "outputs": []
    },
    {
      "cell_type": "markdown",
      "source": [
        "Für jeden Cluster berechnen wir den Mittelwert aller wichtigen Merkmale, z. B.:\n",
        "\n",
        "Durchschnittlicher Baulandpreis\n",
        "\n",
        "Durchschnittliche Fahrzeit\n",
        "\n",
        "Durchschnittlicher Arbeitslosenanteil\n",
        "\n",
        "Durchschnittlicher Durchschnittspreis (aus unbebautem Wohnland)"
      ],
      "metadata": {
        "id": "yyiM23uXd5nH"
      }
    },
    {
      "cell_type": "code",
      "source": [
        "# 📊 Statistische Beschreibung je Cluster\n",
        "\n",
        "cluster_profiles = df_clean_clustered.groupby('Cluster')[['Preis', 'Fahrzeit', 'Arbeitslosenanteil', 'Durchschnitt']].mean().round(1)\n",
        "\n",
        "# Optional: Cluster umsortieren nach Preis\n",
        "cluster_profiles = cluster_profiles.sort_values(by='Preis', ascending=False)\n",
        "\n",
        "# Anzeigen\n",
        "print(\"📊 Durchschnittswerte je Cluster:\")\n",
        "display(cluster_profiles)\n"
      ],
      "metadata": {
        "id": "1OuCMTeId618"
      },
      "execution_count": null,
      "outputs": []
    },
    {
      "cell_type": "code",
      "source": [],
      "metadata": {
        "id": "3Y4vnpJveCWI"
      },
      "execution_count": null,
      "outputs": []
    },
    {
      "cell_type": "markdown",
      "source": [
        "Interpretation (in Worten)\n",
        "Cluster\tMerkmale\n",
        "\n",
        "2\tPremium-Gemeinden – höchste Preise, kurze Fahrzeit, hohe Durchschnittswerte\n",
        "\n",
        "0\tMittelklasse – gute Erreichbarkeit, mittleres Preisniveau\n",
        "\n",
        "1\tRandlagen – lange Fahrzeit, günstige Preise, niedrige Bodenpreise"
      ],
      "metadata": {
        "id": "x4SgIyQ4eGKe"
      }
    },
    {
      "cell_type": "markdown",
      "source": [
        "SHAP-Analyse\n",
        "→ Ziel: Verstehen, warum das Random Forest Modell bestimmte Preisvorhersagen trifft – für jede Gemeinde einzeln.\n",
        "\n",
        "SHAP (SHapley Additive exPlanations) zeigt:\n",
        "\n",
        "welche Merkmale den Preis positiv oder negativ beeinflusst haben\n",
        "\n",
        "wie stark jedes Feature im Modell tatsächlich mitgewirkt hat"
      ],
      "metadata": {
        "id": "wDz4nvE3eUP7"
      }
    },
    {
      "cell_type": "code",
      "source": [
        "# 🧠 SHAP vorbereiten (falls noch nicht installiert, bitte mit !pip install shap)\n",
        "import shap\n",
        "\n",
        "# SHAP-Explainer für Random Forest Modell aufbauen\n",
        "explainer = shap.Explainer(model_rf, X_train)\n",
        "\n",
        "# SHAP-Werte für Testdaten berechnen\n",
        "shap_values = explainer(X_test)\n"
      ],
      "metadata": {
        "id": "GN57fktZeKGW"
      },
      "execution_count": null,
      "outputs": []
    },
    {
      "cell_type": "code",
      "source": [
        "# 🌍 SHAP Summary Plot – globale Übersicht\n",
        "shap.plots.beeswarm(shap_values)\n"
      ],
      "metadata": {
        "id": "xjVr3Ln5edQF"
      },
      "execution_count": null,
      "outputs": []
    },
    {
      "cell_type": "markdown",
      "source": [
        "Interpretation des SHAP Summary Plots (Random Forest)\n",
        "Der SHAP Summary Plot zeigt, wie stark und in welche Richtung die einzelnen Merkmale den vorhergesagten Baulandpreis beeinflussen.\n",
        "\n",
        "Fahrzeit nach Zürich hat mit Abstand den grössten Einfluss auf den vorhergesagten Preis:\n",
        "\n",
        "Kurze Fahrzeit (pink) erhöht den Preis deutlich (positive SHAP-Werte)\n",
        "\n",
        "Lange Fahrzeit (blau) senkt den Preis klar (negative SHAP-Werte)\n",
        "\n",
        "Arbeitslosenanteil zeigt ebenfalls eine Wirkung:\n",
        "\n",
        "Hohe Arbeitslosigkeit senkt tendenziell den vorhergesagten Preis\n",
        "\n",
        "Der Einfluss ist jedoch deutlich kleiner als bei der Fahrzeit\n",
        "\n",
        "Durchschnittlicher Preis für unbebautes Wohnland hat im Modell kaum Einfluss.\n",
        "\n",
        "Die SHAP-Werte liegen eng um 0, sowohl bei hohen als auch bei tiefen Ursprungswerten\n",
        "\n",
        "Insgesamt bestätigt der Plot:\n",
        "👉 Fahrzeit ist der mit Abstand wichtigste Prädiktor für den Bodenpreis im Kanton Zürich."
      ],
      "metadata": {
        "id": "Vam9Bwkle0Ay"
      }
    },
    {
      "cell_type": "markdown",
      "source": [
        "Einzelne Gemeinde analysieren\n",
        "Mit SHAP können wir jetzt auch für eine bestimmte Gemeinde analysieren, warum genau der Preis so vorhergesagt wurde\n"
      ],
      "metadata": {
        "id": "1f8csyNMe8oe"
      }
    },
    {
      "cell_type": "code",
      "source": [
        "# 🧍 SHAP Force Plot für erste Gemeinde im Testset\n",
        "shap.plots.waterfall(shap_values[0], max_display=10)\n"
      ],
      "metadata": {
        "id": "o48Uq33_e-bf"
      },
      "execution_count": null,
      "outputs": []
    },
    {
      "cell_type": "markdown",
      "source": [
        "Interpretation: Einzelne Gemeinde (Testbeispiel)\n",
        "Dieser Plot erklärt die Preisprognose für eine bestimmte Gemeinde aus dem Testset:\n",
        "\n",
        "🔢 Grundwert (E[f(x)]): ~1'284 CHF/m²\n",
        "→ Das ist der durchschnittliche Modellwert für alle Gemeinden\n",
        "\n",
        "📈 Fahrzeit = 10 Min:\n",
        "→ Erhöht den Preis um +578 CHF/m² → sehr guter Wert!\n",
        "\n",
        "📉 Arbeitslosenanteil = 2.8 %:\n",
        "→ Wirkt preisdrückend: −534 CHF/m²\n",
        "\n",
        "⚖️ Durchschnitt = 587:\n",
        "→ Kleiner positiver Effekt: +12 CHF/m²\n",
        "\n",
        "📊 Prognose gesamt:\n",
        "→ Das Modell sagt 1'340 CHF/m² für diese Gemeinde voraus"
      ],
      "metadata": {
        "id": "TebrUE7JfML0"
      }
    },
    {
      "cell_type": "code",
      "source": [
        "# 🔍 SHAP-Analyse für Herrliberg\n",
        "\n",
        "# Index der ersten Herrliberg-Zeile im Testset suchen\n",
        "name = \"Herrliberg\"\n",
        "idx = df_clean_clustered[(df_clean_clustered['Gemeinde'] == name) & (df_clean_clustered.index.isin(X_test.index))].index\n",
        "\n",
        "if not idx.empty:\n",
        "    shap_idx = list(X_test.index).index(idx[0])\n",
        "    shap.plots.waterfall(shap_values[shap_idx], max_display=10)\n",
        "else:\n",
        "    print(\"❌ Herrliberg ist nicht im Testset.\")\n",
        "\n",
        "# 🔍 SHAP-Analyse für Stäfa\n",
        "\n",
        "name = \"Stäfa\"\n",
        "idx = df_clean_clustered[(df_clean_clustered['Gemeinde'] == name) & (df_clean_clustered.index.isin(X_test.index))].index\n",
        "\n",
        "if not idx.empty:\n",
        "    shap_idx = list(X_test.index).index(idx[0])\n",
        "    shap.plots.waterfall(shap_values[shap_idx], max_display=10)\n",
        "else:\n",
        "    print(\"❌ Stäfa ist nicht im Testset.\")\n"
      ],
      "metadata": {
        "id": "ZD724EP_gwtA"
      },
      "execution_count": null,
      "outputs": []
    },
    {
      "cell_type": "code",
      "source": [
        "# 📊 SHAP-Vergleich: Herrliberg vs. Stäfa – schön betitelt\n",
        "\n",
        "import matplotlib.pyplot as plt\n",
        "\n",
        "# Gemeindeliste\n",
        "gemeinden = ['Herrliberg', 'Stäfa']\n",
        "vergleich_df = pd.DataFrame()\n",
        "\n",
        "for name in gemeinden:\n",
        "    idx = df_clean_clustered[(df_clean_clustered['Gemeinde'] == name) & (df_clean_clustered.index.isin(X_test.index))].index\n",
        "    if not idx.empty:\n",
        "        shap_idx = list(X_test.index).index(idx[0])\n",
        "        values = pd.Series(shap_values[shap_idx].values, index=X_test.columns)\n",
        "        vergleich_df[name] = values\n",
        "    else:\n",
        "        print(f\"❌ {name} ist nicht im Testset.\")\n",
        "\n",
        "# Transponieren für horizontales Balkendiagramm\n",
        "vergleich_df = vergleich_df.T\n",
        "\n",
        "# Plot erstellen\n",
        "ax = vergleich_df.plot(\n",
        "    kind='barh',\n",
        "    figsize=(10, 5),\n",
        "    title='📊 Vergleich der Einflussfaktoren auf den Bodenpreis\\nHerrliberg vs. Stäfa (SHAP-Werte)',\n",
        "    colormap='Set2'\n",
        ")\n",
        "\n",
        "ax.set_xlabel(\"Einfluss auf vorhergesagten Preis (SHAP-Wert)\")\n",
        "ax.set_ylabel(\"Gemeinde\")\n",
        "ax.legend(title=\"Merkmal\", bbox_to_anchor=(1.05, 1), loc='upper left')\n",
        "plt.tight_layout()\n",
        "plt.show()\n"
      ],
      "metadata": {
        "id": "2JyDl_obhAt2"
      },
      "execution_count": null,
      "outputs": []
    },
    {
      "cell_type": "markdown",
      "source": [
        "Warum das Modell trotzdem hohe Preise in Stäfa prognostiziert:\n",
        "Das Modell hat offenbar nicht nur Fahrzeit, sondern auch den Arbeitslosenanteil und Durchschnittspreis stark gewichtet\n",
        "\n",
        "In deinem Fall (siehe Waterfall-Plot):\n",
        "\n",
        "Arbeitslosenanteil in Stäfa = 2.0 % → starker positiver Effekt\n",
        "\n",
        "Das Modell scheint geringe Arbeitslosigkeit als \"stabilen Standortfaktor\" zu interpretieren"
      ],
      "metadata": {
        "id": "quogbK7BhlVB"
      }
    },
    {
      "cell_type": "code",
      "source": [
        "# 🚀 Erweiterte Feature-Auswahl\n",
        "features_extended = ['Durchschnitt', 'Fahrzeit', 'Arbeitslosenanteil', 'Bevölkerungsdichte', 'Steuerfuss']\n",
        "target = 'Preis'\n",
        "\n",
        "X_extended = df[features_extended]\n",
        "y_extended = df[target]\n",
        "\n",
        "# ✂️ Daten aufteilen (Train/Test)\n",
        "X_train, X_test, y_train, y_test = train_test_split(X_extended, y_extended, test_size=0.2, random_state=42)\n",
        "\n",
        "# 📈 Random Forest Model\n",
        "model_rf = RandomForestRegressor(random_state=42)\n",
        "model_rf.fit(X_train, y_train)\n",
        "y_pred_rf = model_rf.predict(X_test)\n",
        "\n",
        "# 📊 Modellbewertung\n",
        "r2_rf = r2_score(y_test, y_pred_rf)\n",
        "rmse_rf = np.sqrt(mean_squared_error(y_test, y_pred_rf))\n",
        "\n",
        "print(f\"Random Forest - R²: {r2_rf:.2f}\")\n",
        "print(f\"Random Forest - RMSE: {rmse_rf:.2f}\")\n",
        "\n",
        "# 📈 Gradient Boosting Model\n",
        "model_gb = GradientBoostingRegressor(random_state=42)\n",
        "model_gb.fit(X_train, y_train)\n",
        "y_pred_gb = model_gb.predict(X_test)\n",
        "\n",
        "# Modellbewertung\n",
        "r2_gb = r2_score(y_test, y_pred_gb)\n",
        "rmse_gb = np.sqrt(mean_squared_error(y_test, y_pred_gb))\n",
        "\n",
        "print(f\"Gradient Boosting - R²: {r2_gb:.2f}\")\n",
        "print(f\"Gradient Boosting - RMSE: {rmse_gb:.2f}\")\n",
        "\n",
        "# 📐 Polynomiale Regression (Grad 2)\n",
        "model_poly = make_pipeline(PolynomialFeatures(degree=2), LinearRegression())\n",
        "model_poly.fit(X_train, y_train)\n",
        "\n",
        "y_pred_poly = model_poly.predict(X_test)\n",
        "r2_poly = r2_score(y_test, y_pred_poly)\n",
        "rmse_poly = np.sqrt(mean_squared_error(y_test, y_pred_poly))\n",
        "\n",
        "print(f\"Polynomiale Regression (Grad 2) - R²: {r2_poly:.2f}\")\n",
        "print(f\"Polynomiale Regression (Grad 2) - RMSE: {rmse_poly:.2f}\")\n"
      ],
      "metadata": {
        "id": "-Twkr0YY9__l"
      },
      "execution_count": null,
      "outputs": []
    },
    {
      "cell_type": "code",
      "source": [
        "# Sicherstellen, dass Bevölkerungsdichte und Steuerfuss in df sind\n",
        "df['Bevölkerungsdichte'] = bevölkerungsdichte['Bevölkerungsdichte']\n",
        "df['Steuerfuss'] = steuerfuss['Steuerfuss ohne Kirche']\n",
        "\n",
        "# Überprüfen, ob alle Spalten nun korrekt vorhanden sind\n",
        "print(df.columns)\n"
      ],
      "metadata": {
        "id": "wG319cVm-OOx"
      },
      "execution_count": null,
      "outputs": []
    },
    {
      "cell_type": "code",
      "source": [
        "# 🚀 Erweiterte Feature-Auswahl\n",
        "features_extended = ['Durchschnitt', 'Fahrzeit', 'Arbeitslosenanteil', 'Bevölkerungsdichte', 'Steuerfuss']\n",
        "target = 'Preis'\n",
        "\n",
        "X_extended = df[features_extended]\n",
        "y_extended = df[target]\n",
        "\n",
        "# ✂️ Daten aufteilen (Train/Test)\n",
        "X_train, X_test, y_train, y_test = train_test_split(X_extended, y_extended, test_size=0.2, random_state=42)\n",
        "\n",
        "# 📈 Random Forest Model\n",
        "model_rf = RandomForestRegressor(random_state=42)\n",
        "model_rf.fit(X_train, y_train)\n",
        "y_pred_rf = model_rf.predict(X_test)\n",
        "\n",
        "# 📊 Modellbewertung\n",
        "r2_rf = r2_score(y_test, y_pred_rf)\n",
        "rmse_rf = np.sqrt(mean_squared_error(y_test, y_pred_rf))\n",
        "\n",
        "print(f\"Random Forest - R²: {r2_rf:.2f}\")\n",
        "print(f\"Random Forest - RMSE: {rmse_rf:.2f}\")\n",
        "\n",
        "# 📈 Gradient Boosting Model\n",
        "model_gb = GradientBoostingRegressor(random_state=42)\n",
        "model_gb.fit(X_train, y_train)\n",
        "y_pred_gb = model_gb.predict(X_test)\n",
        "\n",
        "# Modellbewertung\n",
        "r2_gb = r2_score(y_test, y_pred_gb)\n",
        "rmse_gb = np.sqrt(mean_squared_error(y_test, y_pred_gb))\n",
        "\n",
        "print(f\"Gradient Boosting - R²: {r2_gb:.2f}\")\n",
        "print(f\"Gradient Boosting - RMSE: {rmse_gb:.2f}\")\n",
        "\n",
        "# 📐 Polynomiale Regression (Grad 2)\n",
        "model_poly = make_pipeline(PolynomialFeatures(degree=2), LinearRegression())\n",
        "model_poly.fit(X_train, y_train)\n",
        "\n",
        "y_pred_poly = model_poly.predict(X_test)\n",
        "r2_poly = r2_score(y_test, y_pred_poly)\n",
        "rmse_poly = np.sqrt(mean_squared_error(y_test, y_pred_poly))\n",
        "\n",
        "print(f\"Polynomiale Regression (Grad 2) - R²: {r2_poly:.2f}\")\n",
        "print(f\"Polynomiale Regression (Grad 2) - RMSE: {rmse_poly:.2f}\")\n"
      ],
      "metadata": {
        "id": "Scs4_oTj-XS1"
      },
      "execution_count": null,
      "outputs": []
    },
    {
      "cell_type": "code",
      "source": [
        "from sklearn.ensemble import GradientBoostingRegressor\n"
      ],
      "metadata": {
        "id": "GlxaU7lG-eMF"
      },
      "execution_count": null,
      "outputs": []
    },
    {
      "cell_type": "code",
      "source": [
        "# 🚀 Erweiterte Feature-Auswahl\n",
        "features_extended = ['Durchschnitt', 'Fahrzeit', 'Arbeitslosenanteil', 'Bevölkerungsdichte', 'Steuerfuss']\n",
        "target = 'Preis'\n",
        "\n",
        "X_extended = df[features_extended]\n",
        "y_extended = df[target]\n",
        "\n",
        "# ✂️ Daten aufteilen (Train/Test)\n",
        "X_train, X_test, y_train, y_test = train_test_split(X_extended, y_extended, test_size=0.2, random_state=42)\n",
        "\n",
        "# 📈 Random Forest Model\n",
        "model_rf = RandomForestRegressor(random_state=42)\n",
        "model_rf.fit(X_train, y_train)\n",
        "y_pred_rf = model_rf.predict(X_test)\n",
        "\n",
        "# 📊 Modellbewertung\n",
        "r2_rf = r2_score(y_test, y_pred_rf)\n",
        "rmse_rf = np.sqrt(mean_squared_error(y_test, y_pred_rf))\n",
        "\n",
        "print(f\"Random Forest - R²: {r2_rf:.2f}\")\n",
        "print(f\"Random Forest - RMSE: {rmse_rf:.2f}\")\n",
        "\n",
        "# 📈 Gradient Boosting Model\n",
        "model_gb = GradientBoostingRegressor(random_state=42)\n",
        "model_gb.fit(X_train, y_train)\n",
        "y_pred_gb = model_gb.predict(X_test)\n",
        "\n",
        "# Modellbewertung\n",
        "r2_gb = r2_score(y_test, y_pred_gb)\n",
        "rmse_gb = np.sqrt(mean_squared_error(y_test, y_pred_gb))\n",
        "\n",
        "print(f\"Gradient Boosting - R²: {r2_gb:.2f}\")\n",
        "print(f\"Gradient Boosting - RMSE: {rmse_gb:.2f}\")\n",
        "\n",
        "# 📐 Polynomiale Regression (Grad 2)\n",
        "model_poly = make_pipeline(PolynomialFeatures(degree=2), LinearRegression())\n",
        "model_poly.fit(X_train, y_train)\n",
        "\n",
        "y_pred_poly = model_poly.predict(X_test)\n",
        "r2_poly = r2_score(y_test, y_pred_poly)\n",
        "rmse_poly = np.sqrt(mean_squared_error(y_test, y_pred_poly))\n",
        "\n",
        "print(f\"Polynomiale Regression (Grad 2) - R²: {r2_poly:.2f}\")\n",
        "print(f\"Polynomiale Regression (Grad 2) - RMSE: {rmse_poly:.2f}\")\n"
      ],
      "metadata": {
        "id": "UTnAePDO-kUo"
      },
      "execution_count": null,
      "outputs": []
    },
    {
      "cell_type": "code",
      "source": [
        "# Entferne alle Zeilen mit NaN-Werten\n",
        "df_clean = df.dropna(subset=features_extended)\n",
        "\n",
        "# Neu definieren\n",
        "X_extended_clean = df_clean[features_extended]\n",
        "y_extended_clean = df_clean[target]\n",
        "\n",
        "# ✂️ Train/Test Split\n",
        "X_train, X_test, y_train, y_test = train_test_split(X_extended_clean, y_extended_clean, test_size=0.2, random_state=42)\n"
      ],
      "metadata": {
        "id": "k6t7Ex8Q-tJX"
      },
      "execution_count": null,
      "outputs": []
    },
    {
      "cell_type": "code",
      "source": [
        "# 🚀 Random Forest Model\n",
        "model_rf = RandomForestRegressor(random_state=42)\n",
        "model_rf.fit(X_train, y_train)\n",
        "y_pred_rf = model_rf.predict(X_test)\n",
        "\n",
        "# 📊 Modellbewertung für Random Forest\n",
        "r2_rf = r2_score(y_test, y_pred_rf)\n",
        "rmse_rf = np.sqrt(mean_squared_error(y_test, y_pred_rf))\n",
        "\n",
        "print(f\"Random Forest - R²: {r2_rf:.2f}\")\n",
        "print(f\"Random Forest - RMSE: {rmse_rf:.2f}\")\n",
        "\n",
        "# 📈 Gradient Boosting Model\n",
        "model_gb = GradientBoostingRegressor(random_state=42)\n",
        "model_gb.fit(X_train, y_train)\n",
        "y_pred_gb = model_gb.predict(X_test)\n",
        "\n",
        "# Modellbewertung für Gradient Boosting\n",
        "r2_gb = r2_score(y_test, y_pred_gb)\n",
        "rmse_gb = np.sqrt(mean_squared_error(y_test, y_pred_gb))\n",
        "\n",
        "print(f\"Gradient Boosting - R²: {r2_gb:.2f}\")\n",
        "print(f\"Gradient Boosting - RMSE: {rmse_gb:.2f}\")\n",
        "\n",
        "# 📐 Polynomiale Regression (Grad 2)\n",
        "model_poly = make_pipeline(PolynomialFeatures(degree=2), LinearRegression())\n",
        "model_poly.fit(X_train, y_train)\n",
        "\n",
        "y_pred_poly = model_poly.predict(X_test)\n",
        "r2_poly = r2_score(y_test, y_pred_poly)\n",
        "rmse_poly = np.sqrt(mean_squared_error(y_test, y_pred_poly))\n",
        "\n",
        "print(f\"Polynomiale Regression (Grad 2) - R²: {r2_poly:.2f}\")\n",
        "print(f\"Polynomiale Regression (Grad 2) - RMSE: {rmse_poly:.2f}\")\n"
      ],
      "metadata": {
        "id": "5Qp6iiP1-4aO"
      },
      "execution_count": null,
      "outputs": []
    },
    {
      "cell_type": "markdown",
      "source": [
        "Random Forest ist der klare Sieger mit perfektem R² = 1.00 und sehr geringem RMSE.\n",
        "\n",
        "Gradient Boosting folgt dicht auf, ebenfalls mit einer sehr guten Performance.\n",
        "\n",
        "Polynomiale Regression schneidet etwas schlechter ab, was zeigt, dass hier möglicherweise nichtlineare Beziehungen nicht ausreichen, um die Preise so gut vorherzusagen wie bei den komplexeren Modellen."
      ],
      "metadata": {
        "id": "zJe0r609_CNk"
      }
    },
    {
      "cell_type": "code",
      "source": [
        "import shap\n",
        "\n",
        "# SHAP-Explainer für Random Forest Modell aufbauen\n",
        "explainer = shap.Explainer(model_rf, X_train)\n",
        "\n",
        "# SHAP-Werte für Testdaten berechnen\n",
        "shap_values = explainer(X_test)\n",
        "\n",
        "# SHAP Summary Plot für alle Features\n",
        "shap.summary_plot(shap_values, X_test)\n"
      ],
      "metadata": {
        "id": "cUYZFAEXApYZ"
      },
      "execution_count": null,
      "outputs": []
    },
    {
      "cell_type": "markdown",
      "source": [
        "Summary:\n",
        "Fahrzeit nach Zürich: Wichtigster Faktor für die Preisvorhersage.\n",
        "\n",
        "Arbeitslosenanteil: Ein negativer Einfluss auf den Preis.\n",
        "\n",
        "Bevölkerungsdichte: Positiver Einfluss auf den Preis.\n",
        "\n",
        "Durchschnittspreis für unbebautes Land: Weniger Einfluss auf den Preis.\n",
        "\n",
        "Steuerfuss: Kein starker Einfluss, aber könnte in bestimmten Kontexten wichtig sein."
      ],
      "metadata": {
        "id": "ETd9JB8bBcs_"
      }
    }
  ]
}