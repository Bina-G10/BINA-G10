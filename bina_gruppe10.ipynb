{
  "nbformat": 4,
  "nbformat_minor": 0,
  "metadata": {
    "colab": {
      "provenance": [],
      "include_colab_link": true
    },
    "kernelspec": {
      "name": "python3",
      "display_name": "Python 3"
    },
    "language_info": {
      "name": "python"
    }
  },
  "cells": [
    {
      "cell_type": "markdown",
      "metadata": {
        "id": "view-in-github",
        "colab_type": "text"
      },
      "source": [
        "<a href=\"https://colab.research.google.com/github/Bina-G10/BINA-G10/blob/main/bina_gruppe10.ipynb\" target=\"_parent\"><img src=\"https://colab.research.google.com/assets/colab-badge.svg\" alt=\"Open In Colab\"/></a>"
      ]
    },
    {
      "cell_type": "markdown",
      "source": [
        "**Titel**"
      ],
      "metadata": {
        "id": "Oq37nsPy4qU1"
      }
    },
    {
      "cell_type": "markdown",
      "source": [
        "**Modularbeit BINA**\n",
        "\n",
        "Autoren:\n",
        "\n",
        "Benjamin Hasler, Katja Luzi, Mario Luzi, Christian Parricella, Thomas Ulrich, Raquel Kehl\n",
        "\n",
        "21.06.2025"
      ],
      "metadata": {
        "id": "Pcq9MHoAHpAp"
      }
    },
    {
      "cell_type": "markdown",
      "source": [
        "#1 Einleitung\n",
        "Im Zuge der zunehmenden Digitalisierung und Datenverfügbarkeit stehen Unternehmen vor der Herausforderung, aus einer Vielzahl von Datenquellen relevante Erkenntnisse für strategische Entscheidungen zu gewinnen. Im Immobiliensektor ist die Identifikation von attraktiven Investitionsstandorten besonders datengetrieben: Faktoren wie Grundstückpreise, Bevölkerungsentwicklung, Kriminalitätsrate, Arbeitslosenquote, Erreichbarkeit und Steuerbelastung beeinflussen massgeblich die Wertentwicklung von Immobilien. Ziel dieses Projekts ist es, mithilfe von Business Intelligence und Analytics datengestützte Empfehlungen für Immobilieninvestitionen im Kanton Zürich zu erarbeiten, indem Gemeinden mit hoher Lebensqualität und stabilen Verhältnissen identifiziert werden, in denen ein zukünftiger Wertzuwachs wahrscheinlich ist."
      ],
      "metadata": {
        "id": "Qnlc6VmSIW69"
      }
    },
    {
      "cell_type": "markdown",
      "source": [
        "# 1.1 Ziele"
      ],
      "metadata": {
        "id": "7UKpg7xD5PIN"
      }
    },
    {
      "cell_type": "markdown",
      "source": [
        "Diese Case Study hat zum Ziel herauszufinden, welche Gemeinden im Kanton Zürich - basierend auf objektiven Daten - das grösste Potenzial für Immobilieninvestitionen mit Wertsteigerungsperspektive bieten.\n",
        "\n",
        "Das Hauptziel lässt sich in die nachfolgenden drei Teilziele unterteilen:\n",
        "\n",
        "1. Identifikation von attraktiven Investitionsstandorten: Gemeinden im Kanton Zürich sollen hinsichtlich ihrer Eignung für Immobilieninvestitionen bewertet werden.\n",
        "\n",
        "2. Analyse relevanter Indikatoren: Es werden verschiedene Indikatoren wie Grundstückpreise und deren Entwicklung, Bevölkerungswachstum, Kriminalitätsrate, Arbeitslosenquote, Fahrtzeit nach Zürich und Steuerfüsse analysiert.\n",
        "\n",
        "3. Ableitung von Handlungsempfehlungen: Auf Basis der Datenanalyse sollen konkrete Empfehlungen für Investitionsentscheidungen abgeleitet werden, um Gemeinden mit hoher Lebensqualität und stabilem Umfeld zu identifizieren, in denen ein Wertzuwachs der Immobilien zu erwarten ist.\n",
        "\n"
      ],
      "metadata": {
        "id": "DSGIvCljVtYD"
      }
    },
    {
      "cell_type": "markdown",
      "source": [
        "# 1.2 Vorgehen"
      ],
      "metadata": {
        "id": "DbGhSqDu5dLE"
      }
    },
    {
      "cell_type": "markdown",
      "source": [
        "Das Vorgehen orientiert sich am „From Data to Decisions“-Framework, das einen strukturierten, fünfstufigen Ansatz für datengetriebene Entscheidungsfindung bietet:\n",
        "\n",
        "1. Definition der Ziele und Informationsbedarfe: Klärung, welche strategischen Fragen beantwortet werden sollen und welche Informationen dafür benötigt werden.\n",
        "\n",
        "2. Datensammlung: Identifikation und Beschaffung relevanter interner und externer Datenquellen.\n",
        "\n",
        "3. Datenanalyse: Anwendung geeigneter Analysemethoden, um Zusammenhänge und Muster zu erkennen.\n",
        "\n",
        "4. Informationsaufbereitung und Präsentation: Aufbereitung der Analyseergebnisse für die Zielgruppen.\n",
        "\n",
        "5. Ableitung datenbasierter Entscheidungen: Formulierung von Empfehlungen und Entscheidungsgrundlagen.\n"
      ],
      "metadata": {
        "id": "zQfBHwrKWu0-"
      }
    },
    {
      "cell_type": "markdown",
      "source": [
        "#2 Definition der Ziele und Festlegung der Daten"
      ],
      "metadata": {
        "id": "1hMGttlt5enO"
      }
    },
    {
      "cell_type": "markdown",
      "source": [
        "Das Hauptziel und die drei Teilziele dieser Arbeit wurde in Kapitel 1.1 definiert. Dieses Kapitel gibt Aufschluss darüber, welche Daten mögliche Indikatoren für die Preissetzung einer Immobilie oder eines Grundstücks sind. Diese möglichen Indikatoren werden im Laufe der Case Study analysiert.\n",
        "\n",
        "\n",
        "* Bevölkerungswachstum: Entwicklung der Einwohnerzahlen als Indikator für Nachfrage.\n",
        "\n",
        "* Kriminalitätsrate: Sicherheit als Faktor für Lebensqualität.\n",
        "\n",
        "* Arbeitslosenquote: Wirtschaftliche Stabilität der Gemeinde.\n",
        "\n",
        "* Fahrtzeit nach Zürich: Erreichbarkeit des Wirtschafts- und Arbeitszentrums Zürich.\n",
        "\n",
        "* Steuerfuss: Steuerliche Attraktivität für Privatpersonen und Unternehmen.\n",
        "\n"
      ],
      "metadata": {
        "id": "NpUdY3yCW4bF"
      }
    },
    {
      "cell_type": "markdown",
      "source": [
        "# 3 Daten sammeln"
      ],
      "metadata": {
        "id": "49eCg6zQ5qWU"
      }
    },
    {
      "cell_type": "markdown",
      "source": [
        "1. Datenquellen und Granularität\n",
        "**Gemeindeebene:**\n",
        "\n",
        "Grundstückpreise und deren Entwicklung\n",
        "\n",
        "Arbeitslosenquote\n",
        "\n",
        "Bevölkerungswachstum\n",
        "\n",
        "Fahrtzeit nach Zürich\n",
        "\n",
        "Steuerfüsse\n",
        "\n",
        "**Bezirksebene:**\n",
        "\n",
        "Kriminalitätsrate\n",
        "\n",
        "(ggf. weitere Indikatoren, falls verfügbar)\n",
        "\n",
        "Hinweis: Ein Bezirk umfasst ca.10-25 Gemeinden.\n",
        "\n",
        "2. Zentrale Entitäten und Beziehungen\n",
        "Das ideale Datenmodell basiert auf einem Sternschema (Star Schema) oder einem Snowflake Schema, wie sie in der Business Intelligence üblich sind. Dies ermöglicht flexible Analysen und eine klare Trennung zwischen Fakten (Messgrößen) und Dimensionen (Kontextinformationen).\n",
        "\n",
        "**Haupttabellen (Fakten):**\n",
        "Tabelle\tBeschreibung\tGranularität\n",
        "Gemeinde_Indikatoren\tMesswerte pro Gemeinde und Jahr\tGemeinde, Jahr\n",
        "Bezirk_Indikatoren\tMesswerte pro Bezirk und Jahr\tBezirk, Jahr\n",
        "\n",
        "**Dimensionstabellen:**\n",
        "Gemeinde: Name, BFS-Nummer, Zugehörigkeit zu Bezirk, Geokoordinaten etc.\n",
        "\n",
        "Bezirk: Name, Bezirksschlüssel, Liste der zugehörigen Gemeinden\n",
        "\n",
        "Zeit: Jahr, Quartal, Monat (je nach Datenverfügbarkeit)\n",
        "\n",
        "Regionstyp: Stadt, See, Regio, Land (z. B. nach ZWEX-Index)\n",
        "\n",
        "Weitere: Infrastruktur, Nahverkehrsanbindung, ggf. weitere demografische Merkmale\n",
        "\n",
        "3. Modellierung der unterschiedlichen Ebenen\n",
        "Verknüpfung Gemeinde- und Bezirksebene:\n",
        "Da einige Indikatoren nur auf Bezirksebene vorliegen (z. B. Kriminalitätsrate), wird in der Gemeinde-Faktentabelle ein Fremdschlüssel zum Bezirk hinterlegt. Bei Analysen auf Gemeindeebene wird der Bezirkswert als Konstante für alle Gemeinden des Bezirks übernommen (sog. Downscaling). Alternativ kann im Analyse-Frontend eine Aggregation auf Bezirksebene erfolgen.\n",
        "\n",
        "4. Datenmodell – Beispielstruktur\n",
        "text\n",
        "Gemeinde_Indikatoren\n",
        "---------------------\n",
        "- Gemeinde_ID (FK)\n",
        "- Jahr\n",
        "- Grundstückpreis\n",
        "- Grundstückpreis_Entwicklung\n",
        "- Arbeitslosenquote\n",
        "- Bevölkerungswachstum\n",
        "- Fahrtzeit_Zürich\n",
        "- Steuerfuss\n",
        "\n",
        "Bezirk_Indikatoren\n",
        "-------------------\n",
        "- Bezirk_ID (FK)\n",
        "- Jahr\n",
        "- Kriminalitätsrate\n",
        "\n",
        "Gemeinde\n",
        "----------\n",
        "- Gemeinde_ID (PK)\n",
        "- Name\n",
        "- Bezirk_ID (FK)\n",
        "- Regionstyp\n",
        "- Geokoordinaten\n",
        "\n",
        "Bezirk\n",
        "--------\n",
        "- Bezirk_ID (PK)\n",
        "- Name\n",
        "\n",
        "Zeit\n",
        "-----\n",
        "- Jahr\n",
        "- Quartal\n",
        "- Monat\n",
        "\n",
        "5. Analyse- und Bewertungsmöglichkeiten\n",
        "Score-Bildung: Entwicklung eines Scoring-Modells, das die wichtigsten Indikatoren gewichtet und pro Gemeinde einen Investitions-Score berechnet (z. B. hohe Grundstückpreissteigerung, niedriges Risiko, gute Erreichbarkeit, attraktive Steuerfüsse).\n",
        "\n",
        "Visualisierung: Nutzung von Tools wie Power BI, Tableau oder dem Zürcher Gemeindeporträt, um die Indikatoren als Karten oder Rankings darzustellen.\n",
        "\n",
        "Zeitliche Entwicklung: Analyse der Veränderungen über die Jahre, um Trends zu erkennen (z. B. starkes Bevölkerungswachstum als Frühindikator für Wertsteigerung).\n",
        "\n",
        "Vergleichbarkeit: Durch das einheitliche Datenmodell können Gemeinden und Bezirke direkt verglichen werden.\n",
        "\n",
        "6. Best Practices und Hinweise\n",
        "Datenqualität: Sicherstellen, dass alle Indikatoren auf den gleichen Zeitraum und möglichst aktuelle Datenstandards normiert sind.\n",
        "\n",
        "Hedonische Anpassung: Für Grundstückpreise empfiehlt sich die Nutzung hedonisch bereinigter Indizes (wie ZWEX), um Verzerrungen durch unterschiedliche Objektqualitäten zu vermeiden.\n",
        "\n",
        "Erweiterbarkeit: Das Modell ist offen für weitere Indikatoren, wie Leerstandsquote, Infrastruktur, geplante Bauprojekte oder Nachhaltigkeitsmetriken.\n",
        "\n",
        "Automatisierung: Für regelmäßige Aktualisierungen empfiehlt sich eine automatisierte Datenintegration, z. B. über APIs von Marktdatenanbietern"
      ],
      "metadata": {
        "id": "LdLSUdGlh2Lt"
      }
    },
    {
      "cell_type": "markdown",
      "source": [
        "# 3.1 Quellen"
      ],
      "metadata": {
        "id": "rDcs0nJX5znx"
      }
    },
    {
      "cell_type": "markdown",
      "source": [
        "opendata.swiss diverse\n",
        "Steuerfüsse\n",
        "https://opendata.swiss/de/dataset/steuerfusse-der-zurcher-gemeinden-fur-naturliche-und-juristische-personen/resource/19f66d9c-52a3-4568-8830-8d51e51a3937\n",
        "Preise unbebaute Grundstück (inkl. Abbruchliegenschaften)\n",
        "\n",
        "Median Preise Grundstücke allgemein\n",
        "\n",
        "Arbeitslosenquote\n",
        "\n",
        "Bevölkerungsdichte\n",
        "\n",
        "Fahrzeit\n",
        "\n",
        "Anzahl Straftaten"
      ],
      "metadata": {
        "id": "9B2FEC1MiG0D"
      }
    },
    {
      "cell_type": "markdown",
      "source": [
        "# 3.2 Import, Bereinigung und Transformation"
      ],
      "metadata": {
        "id": "rHXmWkzh53qn"
      }
    },
    {
      "cell_type": "code",
      "source": [
        "import pandas as pd\n",
        "# Import der Tabelle von allen Bezirken und den Gemeinden im Kanton Zürich\n",
        "url = 'https://raw.githubusercontent.com/Bina-G10/BINA-G10/main/Daten/Gemeinden%20nach%20Bezirk%20Kt%20Z%C3%BCrich.xlsx'\n",
        "bezirk = pd.read_excel(url)\n",
        "\n",
        "# Zeichen bereinigen\n",
        "bezirk['Anzahl Einwohner (Dez 2018)_clean'] = (\n",
        "    bezirk['Anzahl Einwohner (Dez 2018)']\n",
        "    .astype(str)\n",
        "    .str.replace(' ', '', regex=False)    # Entferne Leerzeichen\n",
        "    .str.replace(',', '', regex=False)    # Entferne Kommas\n",
        ")\n",
        "\n",
        "# In float umwandeln\n",
        "bezirk['Anzahl Einwohner (Dez 2018)_clean'] = pd.to_numeric(bezirk['Anzahl Einwohner (Dez 2018)_clean'], errors='coerce')\n",
        "\n",
        "#Spaltentitel Gebiet_Name zu Gemeinde\n",
        "bezirk.rename(columns={'Gebiet_Name': 'Gemeinde'}, inplace=True)\n",
        "\n",
        "print(bezirk.head())"
      ],
      "metadata": {
        "id": "9T3Qy3NcrRfb",
        "outputId": "a90e04ac-615a-453b-c9e9-9076cab81470",
        "colab": {
          "base_uri": "https://localhost:8080/"
        }
      },
      "execution_count": 2,
      "outputs": [
        {
          "output_type": "stream",
          "name": "stdout",
          "text": [
            "   Bezirk_BFS_Nr     Bezirk  BFS_NR            Gemeinde  \\\n",
            "0              1  Affoltern       1     Aeugst am Albis   \n",
            "1              1  Affoltern       2  Affoltern am Albis   \n",
            "2              1  Affoltern       3          Bonstetten   \n",
            "3              1  Affoltern       4     Hausen am Albis   \n",
            "4              1  Affoltern       5            Hedingen   \n",
            "\n",
            "  Anzahl Einwohner (Dez 2018)  Anzahl Einwohner (Dez 2018)_clean  \n",
            "0                       1 982                           1982.000  \n",
            "1                      12 229                          12229.000  \n",
            "2                       5 548                           5548.000  \n",
            "3                       3.701                              3.701  \n",
            "4                       3,734                           3734.000  \n"
          ]
        }
      ]
    },
    {
      "cell_type": "code",
      "source": [
        "import pandas as pd\n",
        "\n",
        "# Import Preise unbebautes Wohnland (inkl. Abbruch) Kt. Zürich 3 Jahre gepoolt - Median Jahr wird angezeigt\n",
        "url = 'https://raw.githubusercontent.com/Bina-G10/BINA-G10/main/Daten/Preise_unbebautes_Wohnland_Z%C3%BCrich_gepoolt3Jahre.xlsx'\n",
        "unbebaut = pd.read_excel(url)\n",
        "\n",
        "# Leerzeichen im Spaltentitel anpassen\n",
        "unbebaut.columns = unbebaut.columns.str.strip()\n",
        "\n",
        "# Zu wenig Fälle und fehlende Durchschnittswerte, jeweiliger Record soll gelöscht werden\n",
        "\n",
        "unbebaut.dropna(subset=['Durchschnitt'], inplace=True)\n",
        "\n",
        "\n",
        "\n",
        "print(unbebaut.head())"
      ],
      "metadata": {
        "id": "FDErdpjrteGK",
        "outputId": "81c0f947-87ba-4b29-b2f7-8879ae172831",
        "colab": {
          "base_uri": "https://localhost:8080/"
        }
      },
      "execution_count": 3,
      "outputs": [
        {
          "output_type": "stream",
          "name": "stdout",
          "text": [
            "   Jahr_mittel   Zeitraum  BFS_NR     Gemeinde  Faelle  Durchschnitt     Q25  \\\n",
            "2         2021  2020-2022       1  Aeugst a.A.       4        1471.0     NaN   \n",
            "3         2020  2019-2021       1  Aeugst a.A.       9        1389.0  1324.0   \n",
            "4         2019  2018-2020       1  Aeugst a.A.       9        1150.0   711.0   \n",
            "5         2018  2017-2019       1  Aeugst a.A.       9        1035.0   440.0   \n",
            "6         2017  2016-2018       1  Aeugst a.A.       7        1043.0   420.0   \n",
            "\n",
            "   Median     Q75  \n",
            "2  1410.0     NaN  \n",
            "3  1465.0  1521.0  \n",
            "4  1354.0  1521.0  \n",
            "5  1116.0  1521.0  \n",
            "6   810.0  1681.0  \n"
          ]
        }
      ]
    },
    {
      "cell_type": "code",
      "source": [
        "# Fehlende Quartilwerte durch den Median ersetzen\n",
        "unbebaut['Q25'] = unbebaut['Q25'].fillna(unbebaut['Median'])\n",
        "unbebaut['Q75'] = unbebaut['Q75'].fillna(unbebaut['Median'])\n",
        "\n",
        "print(unbebaut.head())"
      ],
      "metadata": {
        "id": "pp-7OlJo2SxP",
        "outputId": "95358e4d-537b-4a3e-c0c5-737f2e827dd8",
        "colab": {
          "base_uri": "https://localhost:8080/"
        }
      },
      "execution_count": 4,
      "outputs": [
        {
          "output_type": "stream",
          "name": "stdout",
          "text": [
            "   Jahr_mittel   Zeitraum  BFS_NR     Gemeinde  Faelle  Durchschnitt     Q25  \\\n",
            "2         2021  2020-2022       1  Aeugst a.A.       4        1471.0  1410.0   \n",
            "3         2020  2019-2021       1  Aeugst a.A.       9        1389.0  1324.0   \n",
            "4         2019  2018-2020       1  Aeugst a.A.       9        1150.0   711.0   \n",
            "5         2018  2017-2019       1  Aeugst a.A.       9        1035.0   440.0   \n",
            "6         2017  2016-2018       1  Aeugst a.A.       7        1043.0   420.0   \n",
            "\n",
            "   Median     Q75  \n",
            "2  1410.0  1410.0  \n",
            "3  1465.0  1521.0  \n",
            "4  1354.0  1521.0  \n",
            "5  1116.0  1521.0  \n",
            "6   810.0  1681.0  \n"
          ]
        }
      ]
    },
    {
      "cell_type": "code",
      "source": [
        "import pandas as pd\n",
        "\n",
        "url = 'https://raw.githubusercontent.com/Bina-G10/BINA-G10/main/Daten/2017_PM_Bodenpreismodell_gerundet.csv'\n",
        "fahrzeit = pd.read_csv(url)\n",
        "\n",
        "#Bereinigung Tabelle Fahrzeit\n",
        "#Spalten löschen\n",
        "fahrzeit = fahrzeit.drop(['wohngebiet', 'totbev', 'steuerfuss', 'X25.', 'X50.', 'X75.'], axis=1)\n",
        "\n",
        "#Spaltentitel bfs zu BFS_NR wechseln und fahrzeit zu Fahrzeit nach Zürich\n",
        "fahrzeit.rename(columns={'bfs': 'BFS_NR', 'fahrzeit': 'Fahrzeit nach Zürich'}, inplace=True)\n",
        "print(fahrzeit.head())"
      ],
      "metadata": {
        "id": "VzMIzEaUwD19",
        "outputId": "92d21068-5fe0-477b-84ac-3be8c8abfed1",
        "colab": {
          "base_uri": "https://localhost:8080/"
        }
      },
      "execution_count": 5,
      "outputs": [
        {
          "output_type": "stream",
          "name": "stdout",
          "text": [
            "   BFS_NR  Fahrzeit nach Zürich\n",
            "0       1                  26.5\n",
            "1       2                  21.0\n",
            "2       3                  17.0\n",
            "3       4                  25.5\n",
            "4       5                  18.0\n"
          ]
        }
      ]
    },
    {
      "cell_type": "code",
      "source": [
        "url = 'https://raw.githubusercontent.com/Bina-G10/BINA-G10/main/Daten/Arbeitslosenanteil%20an%20Bev%C3%B6lkerung%2015-64%20Jahre%20%5B%25%5D%20nach%20Gemeinde.csv'\n",
        "arbeitslosenanteil = pd.read_csv(url)\n",
        "\n",
        "#Spalten löschen\n",
        "arbeitslosenanteil = arbeitslosenanteil.drop(['THEMA_NAME', 'SET_NAME', 'SUBSET_NAME', 'INDIKATOR_ID', 'Unnamed: 11', 'EINHEIT_LANG', 'INDIKATOR_NAME'], axis=1)\n",
        "\n",
        "#Spaltentitel Gebiet_Name zu Gemeinde\n",
        "arbeitslosenanteil.rename(columns={'GEBIET_NAME': 'Gemeinde','INDIKATOR_JAHR': 'Jahr', 'INDIKATOR_VALUE': 'Arbeitslosenanteil', 'EINHEIT_KURZ': 'Einheit'}, inplace=True)\n",
        "\n",
        "print(arbeitslosenanteil.head())"
      ],
      "metadata": {
        "id": "ahVz4qT_xmeu",
        "outputId": "68918c1e-53fa-4889-db9e-eb5c8e055c5e",
        "colab": {
          "base_uri": "https://localhost:8080/"
        }
      },
      "execution_count": 28,
      "outputs": [
        {
          "output_type": "stream",
          "name": "stdout",
          "text": [
            "   BFS_NR     Gemeinde  Jahr  Arbeitslosenanteil Einheit\n",
            "0       1  Aeugst a.A.  2011                 1.4       %\n",
            "1       1  Aeugst a.A.  2012                 1.3       %\n",
            "2       1  Aeugst a.A.  2013                 1.8       %\n",
            "3       1  Aeugst a.A.  2014                 1.3       %\n",
            "4       1  Aeugst a.A.  2015                 1.8       %\n"
          ]
        }
      ]
    },
    {
      "cell_type": "code",
      "source": [
        "import pandas as pd\n",
        "\n",
        "url = 'https://raw.githubusercontent.com/Bina-G10/BINA-G10/refs/heads/main/Daten/kanton_zuerich_stf_timeseries.csv'\n",
        "steuerfuss = pd.read_csv(url)\n",
        "\n",
        "\n",
        "#Spalten 5-15 löschen\n",
        "steuerfuss = steuerfuss.drop(steuerfuss.columns[4:15], axis=1)\n",
        "# Spaltentitel anpassen\n",
        "steuerfuss.rename(columns={'BFSNR': 'BFS_NR', 'GDE_NAME': 'Gemeinde', 'STF_O_KIRCHE1': 'Steuerfuss ohne Kirche', 'JUR_PERS': 'Juristische Personen','YEAR': 'Jahr'}, inplace=True)\n",
        "\n",
        "# Die ersten Zeilen anzeigen\n",
        "print(steuerfuss.head())"
      ],
      "metadata": {
        "colab": {
          "base_uri": "https://localhost:8080/"
        },
        "id": "fFWM7a7Oowm1",
        "outputId": "5d62e269-3d44-4533-e250-456eb48095c9"
      },
      "execution_count": 7,
      "outputs": [
        {
          "output_type": "stream",
          "name": "stdout",
          "text": [
            "   Jahr  BFS_NR        Gemeinde  Steuerfuss ohne Kirche  Juristische Personen\n",
            "0  2025       1     Aeugst a.A.                      92                104.33\n",
            "1  2025       2  Affoltern a.A.                     122                134.51\n",
            "2  2025       3      Bonstetten                     109                120.56\n",
            "3  2025       4     Hausen a.A.                     112                124.90\n",
            "4  2025       5        Hedingen                     100                112.40\n"
          ]
        }
      ]
    },
    {
      "cell_type": "code",
      "source": [
        "import pandas as pd\n",
        "\n",
        "url = 'https://raw.githubusercontent.com/Bina-G10/BINA-G10/refs/heads/main/Daten/Baulandpreis%20Median%20nach%20Gemeinde.csv'\n",
        "bauland = pd.read_csv(url)\n",
        "\n",
        "#Spalten löschen\n",
        "bauland = bauland.drop(['THEMA_NAME', 'SET_NAME', 'SUBSET_NAME', 'INDIKATOR_ID', 'Unnamed: 11', 'EINHEIT_LANG', 'INDIKATOR_NAME'], axis=1)\n",
        "\n",
        "#Spaltentitel Gebiet_Name zu Gemeinde\n",
        "bauland.rename(columns={'GEBIET_NAME': 'Gemeinde', 'INDIKATOR_VALUE': 'Baulandpreis Median', 'INDIKATOR_JAHR': 'Jahr', 'EINHEIT_KURZ': 'Einheit'}, inplace=True)\n",
        "\n",
        "# Optional: Die ersten Zeilen anzeigen\n",
        "print(bauland.head())"
      ],
      "metadata": {
        "colab": {
          "base_uri": "https://localhost:8080/"
        },
        "id": "2Gd3zqsBpuTA",
        "outputId": "a8b75fc7-a920-4885-ac98-4cc457d78e98"
      },
      "execution_count": 29,
      "outputs": [
        {
          "output_type": "stream",
          "name": "stdout",
          "text": [
            "   BFS_NR     Gemeinde  Jahr  Baulandpreis Median Einheit\n",
            "0       1  Aeugst a.A.  1974                  146  Fr./m2\n",
            "1       1  Aeugst a.A.  1975                  146  Fr./m2\n",
            "2       1  Aeugst a.A.  1976                  148  Fr./m2\n",
            "3       1  Aeugst a.A.  1977                  152  Fr./m2\n",
            "4       1  Aeugst a.A.  1978                  158  Fr./m2\n"
          ]
        }
      ]
    },
    {
      "cell_type": "code",
      "source": [
        "url = 'https://raw.githubusercontent.com/Bina-G10/BINA-G10/refs/heads/main/Daten/Anzahl%20Straftaten%20nach%20Tatbestand%20und%20Bezirken.csv'\n",
        "straftaten = pd.read_csv(url)\n",
        "\n",
        "#Spalten löschen\n",
        "straftaten = straftaten.drop(['Gesetz_Nummer', 'Gesetz_Abk', 'Reihenfolge_Haupttitel', \"Haupttitel\", \"Artikel\", \"Tatbestand\"], axis=1)\n",
        "\n",
        "#Gruppieren und Summieren nach Jahr, Bezirk und Überschrift Tatbestand\n",
        "agg_cols = ([\"Straftaten_total\", \"Straftaten_vollendet\", \"Straftaten_versucht\",\"Häufigkeitszahl\"])\n",
        "straftaten_summiert = straftaten.groupby([\"Ausgangsjahr\", \"Bezirk_BFS_Nr\", \"Bezirksname\",\"Reihenfolge_Titel\", \"Titel\"], as_index=False)[agg_cols].sum()\n",
        "\n",
        "# Optional: Die ersten Zeilen anzeigen\n",
        "print(straftaten_summiert.head())"
      ],
      "metadata": {
        "colab": {
          "base_uri": "https://localhost:8080/"
        },
        "id": "kDq5l4U5qY5s",
        "outputId": "f486718e-8e0d-44ac-86e5-8508f6e18692"
      },
      "execution_count": 23,
      "outputs": [
        {
          "output_type": "stream",
          "name": "stdout",
          "text": [
            "   Ausgangsjahr  Bezirk_BFS_Nr Bezirksname  Reihenfolge_Titel  \\\n",
            "0          2009            101   Affoltern                1.0   \n",
            "1          2009            101   Affoltern                2.0   \n",
            "2          2009            101   Affoltern                3.0   \n",
            "3          2009            101   Affoltern                4.0   \n",
            "4          2009            101   Affoltern                5.0   \n",
            "\n",
            "                                 Titel  Straftaten_total  \\\n",
            "0           Total gegen Leib und Leben               129   \n",
            "1             Total gegen das Vermögen              1515   \n",
            "2  Total Ehre-, Geheim-, Privatbereich                17   \n",
            "3             Total gegen die Freiheit               316   \n",
            "4      Total gegen sexuelle Integrität                43   \n",
            "\n",
            "   Straftaten_vollendet  Straftaten_versucht  Häufigkeitszahl  \n",
            "0                 129.0                  0.0              2.7  \n",
            "1                1401.0                114.0             32.4  \n",
            "2                  17.0                  0.0              0.3  \n",
            "3                 312.0                  4.0              6.8  \n",
            "4                  43.0                  0.0              0.9  \n"
          ]
        }
      ]
    },
    {
      "cell_type": "code",
      "source": [
        "url = 'https://raw.githubusercontent.com/Bina-G10/BINA-G10/refs/heads/main/Daten/Bev%C3%B6lkerungsdichte%20Einwohner%20pro%202%20km%20nach%20Gemeinde.csv'\n",
        "bevölkerungsdichte = pd.read_csv(url)\n",
        "\n",
        "#Spalten löschen\n",
        "bevölkerungsdichte = bevölkerungsdichte.drop(['SET_NAME', 'SUBSET_NAME', 'THEMA_NAME', 'INDIKATOR_NAME', 'INDIKATOR_ID', \"EINHEIT_LANG\", \"Unnamed: 11\"], axis=1)\n",
        "\n",
        "#Spaltentitel Gebiet_Name zu Gemeinde\n",
        "bevölkerungsdichte.rename(columns={'GEBIET_NAME': 'Gemeinde', 'INDIKATOR_VALUE': 'Bevölkerungsdichte', 'INDIKATOR_JAHR': 'Jahr', 'EINHEIT_KURZ': 'Einheit'}, inplace=True)\n",
        "\n",
        "# Optional: Die ersten Zeilen anzeigen\n",
        "print(bevölkerungsdichte.head())"
      ],
      "metadata": {
        "colab": {
          "base_uri": "https://localhost:8080/"
        },
        "id": "U5GMp6nLsyUt",
        "outputId": "18270eee-9354-4aa1-80c3-dc82304cd717"
      },
      "execution_count": 26,
      "outputs": [
        {
          "output_type": "stream",
          "name": "stdout",
          "text": [
            "   BFS_NR     Gemeinde  Jahr  Bevölkerungsdichte    Einheit\n",
            "0       1  Aeugst a.A.  1962                90.2  Einw./km2\n",
            "1       1  Aeugst a.A.  1963                91.5  Einw./km2\n",
            "2       1  Aeugst a.A.  1964                89.6  Einw./km2\n",
            "3       1  Aeugst a.A.  1965                88.3  Einw./km2\n",
            "4       1  Aeugst a.A.  1966                94.7  Einw./km2\n"
          ]
        }
      ]
    },
    {
      "cell_type": "code",
      "source": [
        "#Test Beni\n",
        "print(unbebaut.columns.tolist())\n",
        "print(fahrzeit.columns.tolist())"
      ],
      "metadata": {
        "colab": {
          "base_uri": "https://localhost:8080/"
        },
        "id": "IE9nalqPXHLy",
        "outputId": "bc73aae6-70e2-47d3-eb0a-4870b9ec9232"
      },
      "execution_count": 11,
      "outputs": [
        {
          "output_type": "stream",
          "name": "stdout",
          "text": [
            "['Jahr_mittel', 'Zeitraum', 'BFS_NR', 'Gemeinde', 'Faelle', 'Durchschnitt', 'Q25', 'Median', 'Q75']\n",
            "['BFS_NR', 'Fahrzeit nach Zürich']\n"
          ]
        }
      ]
    },
    {
      "cell_type": "code",
      "source": [
        "#Test Beni\n",
        "unbebaut_2021 = unbebaut[unbebaut['Jahr_mittel'] == 2021]\n",
        "merged_unbebaut2021_fahrzeit = pd.merge(unbebaut_2021, fahrzeit, on='BFS_NR')"
      ],
      "metadata": {
        "id": "_TjRpsqCYl6u"
      },
      "execution_count": 12,
      "outputs": []
    },
    {
      "cell_type": "code",
      "source": [
        "#Test Beni\n",
        "!pip install mplcursors==0.5.2\n",
        "import matplotlib.pyplot as plt\n",
        "import mplcursors\n",
        "\n",
        "scatter = plt.scatter(\n",
        "    merged_unbebaut2021_fahrzeit['Durchschnitt'],\n",
        "    merged_unbebaut2021_fahrzeit['Fahrzeit nach Zürich'],\n",
        "    alpha=0.7\n",
        ")\n",
        "plt.xlabel('Durchschnitt (unbebaut)')\n",
        "plt.ylabel('Fahrzeit nach Zürich (fahrzeit)')\n",
        "plt.title('Zusammenhang zwischen Grundstückspreis und Fahrzeit nach Zürich')\n",
        "\n",
        "cursor = mplcursors.cursor(scatter, hover=True)\n",
        "@cursor.connect(\"add\")\n",
        "def on_add(sel):\n",
        "    idx = sel.index\n",
        "    sel.annotation.set_text(merged_unbebaut2021_fahrzeit.iloc[idx]['Gemeinde'])\n",
        "\n",
        "plt.show()"
      ],
      "metadata": {
        "colab": {
          "base_uri": "https://localhost:8080/",
          "height": 854
        },
        "id": "IjxG8VmIYxfY",
        "outputId": "48cae260-2bab-44fd-f2b5-a27107bfd428"
      },
      "execution_count": 13,
      "outputs": [
        {
          "output_type": "stream",
          "name": "stdout",
          "text": [
            "Collecting mplcursors==0.5.2\n",
            "  Downloading mplcursors-0.5.2.tar.gz (89 kB)\n",
            "\u001b[?25l     \u001b[90m━━━━━━━━━━━━━━━━━━━━━━━━━━━━━━━━━━━━━━━━\u001b[0m \u001b[32m0.0/89.0 kB\u001b[0m \u001b[31m?\u001b[0m eta \u001b[36m-:--:--\u001b[0m\r\u001b[2K     \u001b[90m━━━━━━━━━━━━━━━━━━━━━━━━━━━━━━━━━━━━━━━━\u001b[0m \u001b[32m89.0/89.0 kB\u001b[0m \u001b[31m3.3 MB/s\u001b[0m eta \u001b[36m0:00:00\u001b[0m\n",
            "\u001b[?25h  Preparing metadata (setup.py) ... \u001b[?25l\u001b[?25hdone\n",
            "Requirement already satisfied: matplotlib>=3.1 in /usr/local/lib/python3.11/dist-packages (from mplcursors==0.5.2) (3.10.0)\n",
            "Requirement already satisfied: contourpy>=1.0.1 in /usr/local/lib/python3.11/dist-packages (from matplotlib>=3.1->mplcursors==0.5.2) (1.3.2)\n",
            "Requirement already satisfied: cycler>=0.10 in /usr/local/lib/python3.11/dist-packages (from matplotlib>=3.1->mplcursors==0.5.2) (0.12.1)\n",
            "Requirement already satisfied: fonttools>=4.22.0 in /usr/local/lib/python3.11/dist-packages (from matplotlib>=3.1->mplcursors==0.5.2) (4.57.0)\n",
            "Requirement already satisfied: kiwisolver>=1.3.1 in /usr/local/lib/python3.11/dist-packages (from matplotlib>=3.1->mplcursors==0.5.2) (1.4.8)\n",
            "Requirement already satisfied: numpy>=1.23 in /usr/local/lib/python3.11/dist-packages (from matplotlib>=3.1->mplcursors==0.5.2) (2.0.2)\n",
            "Requirement already satisfied: packaging>=20.0 in /usr/local/lib/python3.11/dist-packages (from matplotlib>=3.1->mplcursors==0.5.2) (24.2)\n",
            "Requirement already satisfied: pillow>=8 in /usr/local/lib/python3.11/dist-packages (from matplotlib>=3.1->mplcursors==0.5.2) (11.2.1)\n",
            "Requirement already satisfied: pyparsing>=2.3.1 in /usr/local/lib/python3.11/dist-packages (from matplotlib>=3.1->mplcursors==0.5.2) (3.2.3)\n",
            "Requirement already satisfied: python-dateutil>=2.7 in /usr/local/lib/python3.11/dist-packages (from matplotlib>=3.1->mplcursors==0.5.2) (2.9.0.post0)\n",
            "Requirement already satisfied: six>=1.5 in /usr/local/lib/python3.11/dist-packages (from python-dateutil>=2.7->matplotlib>=3.1->mplcursors==0.5.2) (1.17.0)\n",
            "Building wheels for collected packages: mplcursors\n",
            "  Building wheel for mplcursors (setup.py) ... \u001b[?25l\u001b[?25hdone\n",
            "  Created wheel for mplcursors: filename=mplcursors-0.5.2-py3-none-any.whl size=21195 sha256=eea91bf78c10afb67488e356dc263d3584bf69f0dca09a4c5d509c726d68c68d\n",
            "  Stored in directory: /root/.cache/pip/wheels/5d/a1/eb/b98ee80431eb8217a22381e1725048be8cd0385675b151be45\n",
            "Successfully built mplcursors\n",
            "Installing collected packages: mplcursors\n",
            "Successfully installed mplcursors-0.5.2\n"
          ]
        },
        {
          "output_type": "display_data",
          "data": {
            "text/plain": [
              "<Figure size 640x480 with 1 Axes>"
            ],
            "image/png": "[encoded data removed]"
          },
          "metadata": {}
        }
      ]
    },
    {
      "cell_type": "code",
      "source": [
        "#Test Beni\n",
        "import plotly.express as px\n",
        "\n",
        "fig = px.scatter(\n",
        "    merged_unbebaut2021_fahrzeit,\n",
        "    x='Durchschnitt',\n",
        "    y='Fahrzeit nach Zürich',\n",
        "    hover_name='Gemeinde'\n",
        ")\n",
        "fig.show()"
      ],
      "metadata": {
        "colab": {
          "base_uri": "https://localhost:8080/",
          "height": 542
        },
        "id": "ZZzVycs3eqLp",
        "outputId": "2ca06101-dd05-4872-f24a-9ed62b99a763"
      },
      "execution_count": 14,
      "outputs": [
        {
          "output_type": "display_data",
          "data": {
            "text/html": [
              "<html>\n",
              "<head><meta charset=\"utf-8\" /></head>\n",
              "<body>\n",
              "    <div>            <script src=\"https://cdnjs.cloudflare.com/ajax/libs/mathjax/2.7.5/MathJax.js?config=TeX-AMS-MML_SVG\"></script><script type=\"text/javascript\">if (window.MathJax && window.MathJax.Hub && window.MathJax.Hub.Config) {window.MathJax.Hub.Config({SVG: {font: \"STIX-Web\"}});}</script>                <script type=\"text/javascript\">window.PlotlyConfig = {MathJaxConfig: 'local'};</script>\n",
              "        <script charset=\"utf-8\" src=\"https://cdn.plot.ly/plotly-2.35.2.min.js\"></script>                <div id=\"22dbba8c-d3c4-4fe9-8465-964b50e6d32c\" class=\"plotly-graph-div\" style=\"height:525px; width:100%;\"></div>            <script type=\"text/javascript\">                                    window.PLOTLYENV=window.PLOTLYENV || {};                                    if (document.getElementById(\"22dbba8c-d3c4-4fe9-8465-964b50e6d32c\")) {                    Plotly.newPlot(                        \"22dbba8c-d3c4-4fe9-8465-964b50e6d32c\",                        [{\"hovertemplate\":\"\\u003cb\\u003e%{hovertext}\\u003c\\u002fb\\u003e\\u003cbr\\u003e\\u003cbr\\u003eDurchschnitt=%{x}\\u003cbr\\u003eFahrzeit nach Zürich=%{y}\\u003cextra\\u003e\\u003c\\u002fextra\\u003e\",\"hovertext\":[\"Aeugst a.A.\",\"Affoltern a.A.\",\"Hausen a.A.\",\"Hedingen\",\"Kappel a.A.\",\"Mettmenstetten\",\"Obfelden\",\"Rifferswil\",\"Wettswil a.A.\",\"Berg a.I.\",\"Dachsen\",\"Dorf\",\"Feuerthalen\",\"Flaach\",\"Henggart\",\"Laufen-Uhwiesen\",\"Marthalen\",\"Bachenbülach\",\"Bassersdorf\",\"Bülach\",\"Dietlikon\",\"Eglisau\",\"Embrach\",\"Glattfelden\",\"Höri\",\"Hüntwangen\",\"Kloten\",\"Nürensdorf\",\"Opfikon\",\"Rafz\",\"Wallisellen\",\"Wil\",\"Winkel\",\"Neerach\",\"Niederhasli\",\"Regensdorf\",\"Stadel\",\"Steinmaur\",\"Weiach\",\"Bäretswil\",\"Dürnten\",\"Fischenthal\",\"Gossau\",\"Grüningen\",\"Hinwil\",\"Rüti\",\"Wald\",\"Wetzikon\",\"Adliswil\",\"Kilchberg\",\"Langnau a.A.\",\"Oberrieden\",\"Richterswil\",\"Rüschlikon\",\"Thalwil\",\"Herrliberg\",\"Hombrechtikon\",\"Küsnacht\",\"Männedorf\",\"Meilen\",\"Oetwil a.S.\",\"Stäfa\",\"Uetikon a.S.\",\"Zumikon\",\"Zollikon\",\"Fehraltorf\",\"Hittnau\",\"Lindau\",\"Pfäffikon\",\"Russikon\",\"Weisslingen\",\"Wila\",\"Dübendorf\",\"Egg\",\"Maur\",\"Mönchaltorf\",\"Schwerzenbach\",\"Uster\",\"Volketswil\",\"Wangen-Brüttisellen\",\"Elsau\",\"Hagenbuch\",\"Hettlingen\",\"Neftenbach\",\"Rickenbach\",\"Seuzach\",\"Turbenthal\",\"Winterthur\",\"Zell\",\"Aesch\",\"Birmensdorf\",\"Dietikon\",\"Geroldswil\",\"Oberengstringen\",\"Schlieren\",\"Uitikon\",\"Unterengstringen\",\"Urdorf\",\"Weiningen\",\"Zürich\",\"Illnau-Effretikon\",\"Bauma\",\"Wiesendangen\"],\"legendgroup\":\"\",\"marker\":{\"color\":\"#636efa\",\"symbol\":\"circle\"},\"mode\":\"markers\",\"name\":\"\",\"orientation\":\"v\",\"showlegend\":false,\"x\":[1471.0,1612.0,1461.0,1661.0,1105.0,1173.0,879.0,903.0,2733.0,285.0,1105.0,647.0,947.0,388.0,1189.0,763.0,712.0,1314.0,1669.0,1929.0,2099.0,1278.0,1239.0,1143.0,1074.0,716.0,2119.0,1364.0,2347.0,698.0,2497.0,715.0,2282.0,1906.0,1491.0,3242.0,1162.0,1477.0,1173.0,815.0,704.0,490.0,1507.0,1256.0,1448.0,1004.0,739.0,2201.0,2608.0,4214.0,2009.0,2304.0,1757.0,4260.0,3061.0,4246.0,814.0,4375.0,2688.0,2803.0,1392.0,2540.0,3144.0,3144.0,4228.0,887.0,1741.0,1213.0,2054.0,952.0,848.0,440.0,2904.0,1813.0,1840.0,1686.0,5026.0,2490.0,1843.0,1197.0,1386.0,559.0,1756.0,1265.0,751.0,1934.0,848.0,2391.0,789.0,1447.0,1565.0,1326.0,1885.0,1825.0,2010.0,2928.0,2559.0,1705.0,1889.0,6627.0,1871.0,592.0,1799.0],\"xaxis\":\"x\",\"y\":[26.5,21.0,25.5,18.0,33.5,25.0,26.5,30.0,17.5,41.5,40.0,35.0,47.0,41.5,26.5,42.5,34.5,22.0,13.0,18.5,10.5,23.0,23.0,29.0,25.5,34.5,10.5,21.0,8.0,28.5,7.5,32.5,25.0,24.0,14.5,10.0,29.0,19.5,34.0,34.0,31.0,42.5,28.0,29.5,26.0,26.5,35.5,21.0,9.5,7.5,14.5,14.5,22.5,9.0,12.5,16.5,33.0,10.5,22.5,17.5,28.0,26.5,20.5,11.5,8.5,21.0,33.0,21.0,24.0,30.5,29.5,41.0,8.5,19.5,14.0,24.5,12.0,14.5,17.0,9.5,31.5,43.5,27.5,29.5,29.0,27.5,40.0,19.0,35.0,15.5,10.5,11.5,20.0,13.0,7.0,8.5,15.5,10.0,18.0,4.41226131023111,18.0,42.0,28.0],\"yaxis\":\"y\",\"type\":\"scatter\"}],                        {\"template\":{\"data\":{\"histogram2dcontour\":[{\"type\":\"histogram2dcontour\",\"colorbar\":{\"outlinewidth\":0,\"ticks\":\"\"},\"colorscale\":[[0.0,\"#0d0887\"],[0.1111111111111111,\"#46039f\"],[0.2222222222222222,\"#7201a8\"],[0.3333333333333333,\"#9c179e\"],[0.4444444444444444,\"#bd3786\"],[0.5555555555555556,\"#d8576b\"],[0.6666666666666666,\"#ed7953\"],[0.7777777777777778,\"#fb9f3a\"],[0.8888888888888888,\"#fdca26\"],[1.0,\"#f0f921\"]]}],\"choropleth\":[{\"type\":\"choropleth\",\"colorbar\":{\"outlinewidth\":0,\"ticks\":\"\"}}],\"histogram2d\":[{\"type\":\"histogram2d\",\"colorbar\":{\"outlinewidth\":0,\"ticks\":\"\"},\"colorscale\":[[0.0,\"#0d0887\"],[0.1111111111111111,\"#46039f\"],[0.2222222222222222,\"#7201a8\"],[0.3333333333333333,\"#9c179e\"],[0.4444444444444444,\"#bd3786\"],[0.5555555555555556,\"#d8576b\"],[0.6666666666666666,\"#ed7953\"],[0.7777777777777778,\"#fb9f3a\"],[0.8888888888888888,\"#fdca26\"],[1.0,\"#f0f921\"]]}],\"heatmap\":[{\"type\":\"heatmap\",\"colorbar\":{\"outlinewidth\":0,\"ticks\":\"\"},\"colorscale\":[[0.0,\"#0d0887\"],[0.1111111111111111,\"#46039f\"],[0.2222222222222222,\"#7201a8\"],[0.3333333333333333,\"#9c179e\"],[0.4444444444444444,\"#bd3786\"],[0.5555555555555556,\"#d8576b\"],[0.6666666666666666,\"#ed7953\"],[0.7777777777777778,\"#fb9f3a\"],[0.8888888888888888,\"#fdca26\"],[1.0,\"#f0f921\"]]}],\"heatmapgl\":[{\"type\":\"heatmapgl\",\"colorbar\":{\"outlinewidth\":0,\"ticks\":\"\"},\"colorscale\":[[0.0,\"#0d0887\"],[0.1111111111111111,\"#46039f\"],[0.2222222222222222,\"#7201a8\"],[0.3333333333333333,\"#9c179e\"],[0.4444444444444444,\"#bd3786\"],[0.5555555555555556,\"#d8576b\"],[0.6666666666666666,\"#ed7953\"],[0.7777777777777778,\"#fb9f3a\"],[0.8888888888888888,\"#fdca26\"],[1.0,\"#f0f921\"]]}],\"contourcarpet\":[{\"type\":\"contourcarpet\",\"colorbar\":{\"outlinewidth\":0,\"ticks\":\"\"}}],\"contour\":[{\"type\":\"contour\",\"colorbar\":{\"outlinewidth\":0,\"ticks\":\"\"},\"colorscale\":[[0.0,\"#0d0887\"],[0.1111111111111111,\"#46039f\"],[0.2222222222222222,\"#7201a8\"],[0.3333333333333333,\"#9c179e\"],[0.4444444444444444,\"#bd3786\"],[0.5555555555555556,\"#d8576b\"],[0.6666666666666666,\"#ed7953\"],[0.7777777777777778,\"#fb9f3a\"],[0.8888888888888888,\"#fdca26\"],[1.0,\"#f0f921\"]]}],\"surface\":[{\"type\":\"surface\",\"colorbar\":{\"outlinewidth\":0,\"ticks\":\"\"},\"colorscale\":[[0.0,\"#0d0887\"],[0.1111111111111111,\"#46039f\"],[0.2222222222222222,\"#7201a8\"],[0.3333333333333333,\"#9c179e\"],[0.4444444444444444,\"#bd3786\"],[0.5555555555555556,\"#d8576b\"],[0.6666666666666666,\"#ed7953\"],[0.7777777777777778,\"#fb9f3a\"],[0.8888888888888888,\"#fdca26\"],[1.0,\"#f0f921\"]]}],\"mesh3d\":[{\"type\":\"mesh3d\",\"colorbar\":{\"outlinewidth\":0,\"ticks\":\"\"}}],\"scatter\":[{\"fillpattern\":{\"fillmode\":\"overlay\",\"size\":10,\"solidity\":0.2},\"type\":\"scatter\"}],\"parcoords\":[{\"type\":\"parcoords\",\"line\":{\"colorbar\":{\"outlinewidth\":0,\"ticks\":\"\"}}}],\"scatterpolargl\":[{\"type\":\"scatterpolargl\",\"marker\":{\"colorbar\":{\"outlinewidth\":0,\"ticks\":\"\"}}}],\"bar\":[{\"error_x\":{\"color\":\"#2a3f5f\"},\"error_y\":{\"color\":\"#2a3f5f\"},\"marker\":{\"line\":{\"color\":\"#E5ECF6\",\"width\":0.5},\"pattern\":{\"fillmode\":\"overlay\",\"size\":10,\"solidity\":0.2}},\"type\":\"bar\"}],\"scattergeo\":[{\"type\":\"scattergeo\",\"marker\":{\"colorbar\":{\"outlinewidth\":0,\"ticks\":\"\"}}}],\"scatterpolar\":[{\"type\":\"scatterpolar\",\"marker\":{\"colorbar\":{\"outlinewidth\":0,\"ticks\":\"\"}}}],\"histogram\":[{\"marker\":{\"pattern\":{\"fillmode\":\"overlay\",\"size\":10,\"solidity\":0.2}},\"type\":\"histogram\"}],\"scattergl\":[{\"type\":\"scattergl\",\"marker\":{\"colorbar\":{\"outlinewidth\":0,\"ticks\":\"\"}}}],\"scatter3d\":[{\"type\":\"scatter3d\",\"line\":{\"colorbar\":{\"outlinewidth\":0,\"ticks\":\"\"}},\"marker\":{\"colorbar\":{\"outlinewidth\":0,\"ticks\":\"\"}}}],\"scattermapbox\":[{\"type\":\"scattermapbox\",\"marker\":{\"colorbar\":{\"outlinewidth\":0,\"ticks\":\"\"}}}],\"scatterternary\":[{\"type\":\"scatterternary\",\"marker\":{\"colorbar\":{\"outlinewidth\":0,\"ticks\":\"\"}}}],\"scattercarpet\":[{\"type\":\"scattercarpet\",\"marker\":{\"colorbar\":{\"outlinewidth\":0,\"ticks\":\"\"}}}],\"carpet\":[{\"aaxis\":{\"endlinecolor\":\"#2a3f5f\",\"gridcolor\":\"white\",\"linecolor\":\"white\",\"minorgridcolor\":\"white\",\"startlinecolor\":\"#2a3f5f\"},\"baxis\":{\"endlinecolor\":\"#2a3f5f\",\"gridcolor\":\"white\",\"linecolor\":\"white\",\"minorgridcolor\":\"white\",\"startlinecolor\":\"#2a3f5f\"},\"type\":\"carpet\"}],\"table\":[{\"cells\":{\"fill\":{\"color\":\"#EBF0F8\"},\"line\":{\"color\":\"white\"}},\"header\":{\"fill\":{\"color\":\"#C8D4E3\"},\"line\":{\"color\":\"white\"}},\"type\":\"table\"}],\"barpolar\":[{\"marker\":{\"line\":{\"color\":\"#E5ECF6\",\"width\":0.5},\"pattern\":{\"fillmode\":\"overlay\",\"size\":10,\"solidity\":0.2}},\"type\":\"barpolar\"}],\"pie\":[{\"automargin\":true,\"type\":\"pie\"}]},\"layout\":{\"autotypenumbers\":\"strict\",\"colorway\":[\"#636efa\",\"#EF553B\",\"#00cc96\",\"#ab63fa\",\"#FFA15A\",\"#19d3f3\",\"#FF6692\",\"#B6E880\",\"#FF97FF\",\"#FECB52\"],\"font\":{\"color\":\"#2a3f5f\"},\"hovermode\":\"closest\",\"hoverlabel\":{\"align\":\"left\"},\"paper_bgcolor\":\"white\",\"plot_bgcolor\":\"#E5ECF6\",\"polar\":{\"bgcolor\":\"#E5ECF6\",\"angularaxis\":{\"gridcolor\":\"white\",\"linecolor\":\"white\",\"ticks\":\"\"},\"radialaxis\":{\"gridcolor\":\"white\",\"linecolor\":\"white\",\"ticks\":\"\"}},\"ternary\":{\"bgcolor\":\"#E5ECF6\",\"aaxis\":{\"gridcolor\":\"white\",\"linecolor\":\"white\",\"ticks\":\"\"},\"baxis\":{\"gridcolor\":\"white\",\"linecolor\":\"white\",\"ticks\":\"\"},\"caxis\":{\"gridcolor\":\"white\",\"linecolor\":\"white\",\"ticks\":\"\"}},\"coloraxis\":{\"colorbar\":{\"outlinewidth\":0,\"ticks\":\"\"}},\"colorscale\":{\"sequential\":[[0.0,\"#0d0887\"],[0.1111111111111111,\"#46039f\"],[0.2222222222222222,\"#7201a8\"],[0.3333333333333333,\"#9c179e\"],[0.4444444444444444,\"#bd3786\"],[0.5555555555555556,\"#d8576b\"],[0.6666666666666666,\"#ed7953\"],[0.7777777777777778,\"#fb9f3a\"],[0.8888888888888888,\"#fdca26\"],[1.0,\"#f0f921\"]],\"sequentialminus\":[[0.0,\"#0d0887\"],[0.1111111111111111,\"#46039f\"],[0.2222222222222222,\"#7201a8\"],[0.3333333333333333,\"#9c179e\"],[0.4444444444444444,\"#bd3786\"],[0.5555555555555556,\"#d8576b\"],[0.6666666666666666,\"#ed7953\"],[0.7777777777777778,\"#fb9f3a\"],[0.8888888888888888,\"#fdca26\"],[1.0,\"#f0f921\"]],\"diverging\":[[0,\"#8e0152\"],[0.1,\"#c51b7d\"],[0.2,\"#de77ae\"],[0.3,\"#f1b6da\"],[0.4,\"#fde0ef\"],[0.5,\"#f7f7f7\"],[0.6,\"#e6f5d0\"],[0.7,\"#b8e186\"],[0.8,\"#7fbc41\"],[0.9,\"#4d9221\"],[1,\"#276419\"]]},\"xaxis\":{\"gridcolor\":\"white\",\"linecolor\":\"white\",\"ticks\":\"\",\"title\":{\"standoff\":15},\"zerolinecolor\":\"white\",\"automargin\":true,\"zerolinewidth\":2},\"yaxis\":{\"gridcolor\":\"white\",\"linecolor\":\"white\",\"ticks\":\"\",\"title\":{\"standoff\":15},\"zerolinecolor\":\"white\",\"automargin\":true,\"zerolinewidth\":2},\"scene\":{\"xaxis\":{\"backgroundcolor\":\"#E5ECF6\",\"gridcolor\":\"white\",\"linecolor\":\"white\",\"showbackground\":true,\"ticks\":\"\",\"zerolinecolor\":\"white\",\"gridwidth\":2},\"yaxis\":{\"backgroundcolor\":\"#E5ECF6\",\"gridcolor\":\"white\",\"linecolor\":\"white\",\"showbackground\":true,\"ticks\":\"\",\"zerolinecolor\":\"white\",\"gridwidth\":2},\"zaxis\":{\"backgroundcolor\":\"#E5ECF6\",\"gridcolor\":\"white\",\"linecolor\":\"white\",\"showbackground\":true,\"ticks\":\"\",\"zerolinecolor\":\"white\",\"gridwidth\":2}},\"shapedefaults\":{\"line\":{\"color\":\"#2a3f5f\"}},\"annotationdefaults\":{\"arrowcolor\":\"#2a3f5f\",\"arrowhead\":0,\"arrowwidth\":1},\"geo\":{\"bgcolor\":\"white\",\"landcolor\":\"#E5ECF6\",\"subunitcolor\":\"white\",\"showland\":true,\"showlakes\":true,\"lakecolor\":\"white\"},\"title\":{\"x\":0.05},\"mapbox\":{\"style\":\"light\"}}},\"xaxis\":{\"anchor\":\"y\",\"domain\":[0.0,1.0],\"title\":{\"text\":\"Durchschnitt\"}},\"yaxis\":{\"anchor\":\"x\",\"domain\":[0.0,1.0],\"title\":{\"text\":\"Fahrzeit nach Zürich\"}},\"legend\":{\"tracegroupgap\":0},\"margin\":{\"t\":60}},                        {\"responsive\": true}                    ).then(function(){\n",
              "                            \n",
              "var gd = document.getElementById('22dbba8c-d3c4-4fe9-8465-964b50e6d32c');\n",
              "var x = new MutationObserver(function (mutations, observer) {{\n",
              "        var display = window.getComputedStyle(gd).display;\n",
              "        if (!display || display === 'none') {{\n",
              "            console.log([gd, 'removed!']);\n",
              "            Plotly.purge(gd);\n",
              "            observer.disconnect();\n",
              "        }}\n",
              "}});\n",
              "\n",
              "// Listen for the removal of the full notebook cells\n",
              "var notebookContainer = gd.closest('#notebook-container');\n",
              "if (notebookContainer) {{\n",
              "    x.observe(notebookContainer, {childList: true});\n",
              "}}\n",
              "\n",
              "// Listen for the clearing of the current output cell\n",
              "var outputEl = gd.closest('.output');\n",
              "if (outputEl) {{\n",
              "    x.observe(outputEl, {childList: true});\n",
              "}}\n",
              "\n",
              "                        })                };                            </script>        </div>\n",
              "</body>\n",
              "</html>"
            ]
          },
          "metadata": {}
        }
      ]
    }
  ]
}