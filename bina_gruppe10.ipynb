{
  "nbformat": 4,
  "nbformat_minor": 0,
  "metadata": {
    "colab": {
      "provenance": [],
      "include_colab_link": true
    },
    "kernelspec": {
      "name": "python3",
      "display_name": "Python 3"
    },
    "language_info": {
      "name": "python"
    }
  },
  "cells": [
    {
      "cell_type": "markdown",
      "metadata": {
        "id": "view-in-github",
        "colab_type": "text"
      },
      "source": [
        "<a href=\"https://colab.research.google.com/github/Bina-G10/BINA-G10/blob/main/bina_gruppe10.ipynb\" target=\"_parent\"><img src=\"https://colab.research.google.com/assets/colab-badge.svg\" alt=\"Open In Colab\"/></a>"
      ]
    },
    {
      "cell_type": "markdown",
      "source": [
        "**Titel**"
      ],
      "metadata": {
        "id": "Oq37nsPy4qU1"
      }
    },
    {
      "cell_type": "markdown",
      "source": [
        "**Modularbeit BINA**\n",
        "\n",
        "Autoren:\n",
        "\n",
        "Benjamin Hasler, Katja Luzi, Mario Luzi, Christian Parricella, Thomas Ulrich, Raquel Kehl\n",
        "\n",
        "21.06.2025"
      ],
      "metadata": {
        "id": "Pcq9MHoAHpAp"
      }
    },
    {
      "cell_type": "markdown",
      "source": [
        "#1 Einleitung\n",
        "Im Zuge der zunehmenden Digitalisierung und Datenverfügbarkeit stehen Unternehmen vor der Herausforderung, aus einer Vielzahl von Datenquellen relevante Erkenntnisse für strategische Entscheidungen zu gewinnen. Im Immobiliensektor ist die Identifikation von attraktiven Investitionsstandorten besonders datengetrieben: Faktoren wie Grundstückpreise, Bevölkerungsentwicklung, Kriminalitätsrate, Arbeitslosenquote, Erreichbarkeit und Steuerbelastung beeinflussen massgeblich die Wertentwicklung von Immobilien. Ziel dieses Projekts ist es, mithilfe von Business Intelligence und Analytics datengestützte Empfehlungen für Immobilieninvestitionen im Kanton Zürich zu erarbeiten, indem Gemeinden mit hoher Lebensqualität und stabilen Verhältnissen identifiziert werden, in denen ein zukünftiger Wertzuwachs wahrscheinlich ist."
      ],
      "metadata": {
        "id": "Qnlc6VmSIW69"
      }
    },
    {
      "cell_type": "markdown",
      "source": [
        "# 1.1 Ziele"
      ],
      "metadata": {
        "id": "7UKpg7xD5PIN"
      }
    },
    {
      "cell_type": "markdown",
      "source": [
        "Diese Case Study hat zum Ziel herauszufinden, welche Gemeinden im Kanton Zürich - basierend auf objektiven Daten - das grösste Potenzial für Immobilieninvestitionen mit Wertsteigerungsperspektive bieten.\n",
        "\n",
        "Das Hauptziel lässt sich in die nachfolgenden drei Teilziele unterteilen:\n",
        "\n",
        "1. Identifikation von attraktiven Investitionsstandorten: Gemeinden im Kanton Zürich sollen hinsichtlich ihrer Eignung für Immobilieninvestitionen bewertet werden.\n",
        "\n",
        "2. Analyse relevanter Indikatoren: Es werden verschiedene Indikatoren wie Grundstückpreise und deren Entwicklung, Bevölkerungswachstum, Kriminalitätsrate, Arbeitslosenquote, Fahrtzeit nach Zürich und Steuerfüsse analysiert.\n",
        "\n",
        "3. Ableitung von Handlungsempfehlungen: Auf Basis der Datenanalyse sollen konkrete Empfehlungen für Investitionsentscheidungen abgeleitet werden, um Gemeinden mit hoher Lebensqualität und stabilem Umfeld zu identifizieren, in denen ein Wertzuwachs der Immobilien zu erwarten ist.\n",
        "\n"
      ],
      "metadata": {
        "id": "DSGIvCljVtYD"
      }
    },
    {
      "cell_type": "markdown",
      "source": [
        "# 1.2 Vorgehen"
      ],
      "metadata": {
        "id": "DbGhSqDu5dLE"
      }
    },
    {
      "cell_type": "markdown",
      "source": [
        "Das Vorgehen orientiert sich am „From Data to Decisions“-Framework, das einen strukturierten, fünfstufigen Ansatz für datengetriebene Entscheidungsfindung bietet:\n",
        "\n",
        "1. Definition der Ziele und Informationsbedarfe: Klärung, welche strategischen Fragen beantwortet werden sollen und welche Informationen dafür benötigt werden.\n",
        "\n",
        "2. Datensammlung: Identifikation und Beschaffung relevanter interner und externer Datenquellen.\n",
        "\n",
        "3. Datenanalyse: Anwendung geeigneter Analysemethoden, um Zusammenhänge und Muster zu erkennen.\n",
        "\n",
        "4. Informationsaufbereitung und Präsentation: Aufbereitung der Analyseergebnisse für die Zielgruppen.\n",
        "\n",
        "5. Ableitung datenbasierter Entscheidungen: Formulierung von Empfehlungen und Entscheidungsgrundlagen.\n"
      ],
      "metadata": {
        "id": "zQfBHwrKWu0-"
      }
    },
    {
      "cell_type": "markdown",
      "source": [
        "#2 Definition der Ziele und Festlegung der Daten"
      ],
      "metadata": {
        "id": "1hMGttlt5enO"
      }
    },
    {
      "cell_type": "markdown",
      "source": [
        "Das Hauptziel und die drei Teilziele dieser Arbeit wurde in Kapitel 1.1 definiert. Dieses Kapitel gibt Aufschluss darüber, welche Daten mögliche Indikatoren für die Preissetzung einer Immobilie oder eines Grundstücks sind. Diese möglichen Indikatoren werden im Laufe der Case Study analysiert.\n",
        "\n",
        "\n",
        "* Bevölkerungswachstum: Entwicklung der Einwohnerzahlen als Indikator für Nachfrage.\n",
        "\n",
        "* Kriminalitätsrate: Sicherheit als Faktor für Lebensqualität.\n",
        "\n",
        "* Arbeitslosenquote: Wirtschaftliche Stabilität der Gemeinde.\n",
        "\n",
        "* Fahrtzeit nach Zürich: Erreichbarkeit des Wirtschafts- und Arbeitszentrums Zürich.\n",
        "\n",
        "* Steuerfuss: Steuerliche Attraktivität für Privatpersonen und Unternehmen.\n",
        "\n"
      ],
      "metadata": {
        "id": "NpUdY3yCW4bF"
      }
    },
    {
      "cell_type": "markdown",
      "source": [
        "# 3 Daten sammeln"
      ],
      "metadata": {
        "id": "49eCg6zQ5qWU"
      }
    },
    {
      "cell_type": "markdown",
      "source": [
        "1. Datenquellen und Granularität\n",
        "**Gemeindeebene:**\n",
        "\n",
        "Grundstückpreise und deren Entwicklung\n",
        "\n",
        "Arbeitslosenquote\n",
        "\n",
        "Bevölkerungswachstum\n",
        "\n",
        "Fahrtzeit nach Zürich\n",
        "\n",
        "Steuerfüsse\n",
        "\n",
        "**Bezirksebene:**\n",
        "\n",
        "Kriminalitätsrate\n",
        "\n",
        "(ggf. weitere Indikatoren, falls verfügbar)\n",
        "\n",
        "Hinweis: Ein Bezirk umfasst ca.10-25 Gemeinden.\n",
        "\n",
        "2. Zentrale Entitäten und Beziehungen\n",
        "Das ideale Datenmodell basiert auf einem Sternschema (Star Schema) oder einem Snowflake Schema, wie sie in der Business Intelligence üblich sind. Dies ermöglicht flexible Analysen und eine klare Trennung zwischen Fakten (Messgrößen) und Dimensionen (Kontextinformationen).\n",
        "\n",
        "**Haupttabellen (Fakten):**\n",
        "Tabelle\tBeschreibung\tGranularität\n",
        "Gemeinde_Indikatoren\tMesswerte pro Gemeinde und Jahr\tGemeinde, Jahr\n",
        "Bezirk_Indikatoren\tMesswerte pro Bezirk und Jahr\tBezirk, Jahr\n",
        "\n",
        "**Dimensionstabellen:**\n",
        "Gemeinde: Name, BFS-Nummer, Zugehörigkeit zu Bezirk, Geokoordinaten etc.\n",
        "\n",
        "Bezirk: Name, Bezirksschlüssel, Liste der zugehörigen Gemeinden\n",
        "\n",
        "Zeit: Jahr, Quartal, Monat (je nach Datenverfügbarkeit)\n",
        "\n",
        "Regionstyp: Stadt, See, Regio, Land (z. B. nach ZWEX-Index)\n",
        "\n",
        "Weitere: Infrastruktur, Nahverkehrsanbindung, ggf. weitere demografische Merkmale\n",
        "\n",
        "3. Modellierung der unterschiedlichen Ebenen\n",
        "Verknüpfung Gemeinde- und Bezirksebene:\n",
        "Da einige Indikatoren nur auf Bezirksebene vorliegen (z. B. Kriminalitätsrate), wird in der Gemeinde-Faktentabelle ein Fremdschlüssel zum Bezirk hinterlegt. Bei Analysen auf Gemeindeebene wird der Bezirkswert als Konstante für alle Gemeinden des Bezirks übernommen (sog. Downscaling). Alternativ kann im Analyse-Frontend eine Aggregation auf Bezirksebene erfolgen.\n",
        "\n",
        "4. Datenmodell – Beispielstruktur\n",
        "text\n",
        "Gemeinde_Indikatoren\n",
        "---------------------\n",
        "- Gemeinde_ID (FK)\n",
        "- Jahr\n",
        "- Grundstückpreis\n",
        "- Grundstückpreis_Entwicklung\n",
        "- Arbeitslosenquote\n",
        "- Bevölkerungswachstum\n",
        "- Fahrtzeit_Zürich\n",
        "- Steuerfuss\n",
        "\n",
        "Bezirk_Indikatoren\n",
        "-------------------\n",
        "- Bezirk_ID (FK)\n",
        "- Jahr\n",
        "- Kriminalitätsrate\n",
        "\n",
        "Gemeinde\n",
        "----------\n",
        "- Gemeinde_ID (PK)\n",
        "- Name\n",
        "- Bezirk_ID (FK)\n",
        "- Regionstyp\n",
        "- Geokoordinaten\n",
        "\n",
        "Bezirk\n",
        "--------\n",
        "- Bezirk_ID (PK)\n",
        "- Name\n",
        "\n",
        "Zeit\n",
        "-----\n",
        "- Jahr\n",
        "- Quartal\n",
        "- Monat\n",
        "\n",
        "5. Analyse- und Bewertungsmöglichkeiten\n",
        "Score-Bildung: Entwicklung eines Scoring-Modells, das die wichtigsten Indikatoren gewichtet und pro Gemeinde einen Investitions-Score berechnet (z. B. hohe Grundstückpreissteigerung, niedriges Risiko, gute Erreichbarkeit, attraktive Steuerfüsse).\n",
        "\n",
        "Visualisierung: Nutzung von Tools wie Power BI, Tableau oder dem Zürcher Gemeindeporträt, um die Indikatoren als Karten oder Rankings darzustellen.\n",
        "\n",
        "Zeitliche Entwicklung: Analyse der Veränderungen über die Jahre, um Trends zu erkennen (z. B. starkes Bevölkerungswachstum als Frühindikator für Wertsteigerung).\n",
        "\n",
        "Vergleichbarkeit: Durch das einheitliche Datenmodell können Gemeinden und Bezirke direkt verglichen werden.\n",
        "\n",
        "6. Best Practices und Hinweise\n",
        "Datenqualität: Sicherstellen, dass alle Indikatoren auf den gleichen Zeitraum und möglichst aktuelle Datenstandards normiert sind.\n",
        "\n",
        "Hedonische Anpassung: Für Grundstückpreise empfiehlt sich die Nutzung hedonisch bereinigter Indizes (wie ZWEX), um Verzerrungen durch unterschiedliche Objektqualitäten zu vermeiden.\n",
        "\n",
        "Erweiterbarkeit: Das Modell ist offen für weitere Indikatoren, wie Leerstandsquote, Infrastruktur, geplante Bauprojekte oder Nachhaltigkeitsmetriken.\n",
        "\n",
        "Automatisierung: Für regelmäßige Aktualisierungen empfiehlt sich eine automatisierte Datenintegration, z. B. über APIs von Marktdatenanbietern"
      ],
      "metadata": {
        "id": "LdLSUdGlh2Lt"
      }
    },
    {
      "cell_type": "markdown",
      "source": [
        "# 3.1 Quellen"
      ],
      "metadata": {
        "id": "rDcs0nJX5znx"
      }
    },
    {
      "cell_type": "markdown",
      "source": [
        "opendata.swiss diverse\n",
        "Steuerfüsse\n",
        "https://opendata.swiss/de/dataset/steuerfusse-der-zurcher-gemeinden-fur-naturliche-und-juristische-personen/resource/19f66d9c-52a3-4568-8830-8d51e51a3937\n",
        "Preise unbebaute Grundstück (inkl. Abbruchliegenschaften)\n",
        "\n",
        "Median Preise Grundstücke allgemein\n",
        "\n",
        "Arbeitslosenquote\n",
        "\n",
        "Bevölkerungsdichte\n",
        "\n",
        "Fahrzeit\n",
        "\n",
        "Anzahl Straftaten"
      ],
      "metadata": {
        "id": "9B2FEC1MiG0D"
      }
    },
    {
      "cell_type": "markdown",
      "source": [
        "# 3.2 Import, Bereinigung und Transformation"
      ],
      "metadata": {
        "id": "rHXmWkzh53qn"
      }
    },
    {
      "cell_type": "code",
      "source": [
        "import pandas as pd\n",
        "# Import der Tabelle von allen Bezirken und den Gemeinden im Kanton Zürich\n",
        "url = 'https://raw.githubusercontent.com/Bina-G10/BINA-G10/main/Daten/Gemeinden%20nach%20Bezirk%20Kt%20Z%C3%BCrich.xlsx'\n",
        "bezirk = pd.read_excel(url)\n",
        "\n",
        "print(bezirk.head())"
      ],
      "metadata": {
        "id": "9T3Qy3NcrRfb",
        "outputId": "ae4d9308-55dd-46e1-ebb1-d53360ecddf1",
        "colab": {
          "base_uri": "https://localhost:8080/"
        }
      },
      "execution_count": null,
      "outputs": [
        {
          "output_type": "stream",
          "name": "stdout",
          "text": [
            "   Bezirk_BFS_Nr     Bezirk  BFS_NR         Gebiet_Name  \\\n",
            "0              1  Affoltern       1     Aeugst am Albis   \n",
            "1              1  Affoltern       2  Affoltern am Albis   \n",
            "2              1  Affoltern       3          Bonstetten   \n",
            "3              1  Affoltern       4     Hausen am Albis   \n",
            "4              1  Affoltern       5            Hedingen   \n",
            "\n",
            "  Anzahl Einwohner (Dez 2018)  \n",
            "0                       1 982  \n",
            "1                      12 229  \n",
            "2                       5 548  \n",
            "3                       3.701  \n",
            "4                       3,734  \n"
          ]
        }
      ]
    },
    {
      "cell_type": "code",
      "source": [
        "#Import Preise unbebautes Wohnland (inkl. Abbruch) Kt. Zürich 3 Jahre gepoolt - Median Jahr wird angezeigt\n",
        "url = 'https://raw.githubusercontent.com/Bina-G10/BINA-G10/main/Daten/Preise_unbebautes_Wohnland_Z%C3%BCrich_gepoolt3Jahre.xlsx'\n",
        "unbebaut = pd.read_excel(url)\n",
        "\n",
        "print(unbebaut.head())"
      ],
      "metadata": {
        "id": "FDErdpjrteGK",
        "outputId": "37e43256-ef2f-4fd3-e909-e5aea3790061",
        "colab": {
          "base_uri": "https://localhost:8080/"
        }
      },
      "execution_count": null,
      "outputs": [
        {
          "output_type": "stream",
          "name": "stdout",
          "text": [
            "   Jahr_mittel Zeitraum    BFS_NR   Gemeinde    Faelle    Durchschnitt    \\\n",
            "0         2023  2022-2024       1  Aeugst a.A.         1             NaN   \n",
            "1         2022  2021-2023       1  Aeugst a.A.         2             NaN   \n",
            "2         2021  2020-2022       1  Aeugst a.A.         4          1471.0   \n",
            "3         2020  2019-2021       1  Aeugst a.A.         9          1389.0   \n",
            "4         2019  2018-2020       1  Aeugst a.A.         9          1150.0   \n",
            "\n",
            "    Q25    Median     Q75    \n",
            "0     NaN       NaN     NaN  \n",
            "1     NaN       NaN     NaN  \n",
            "2     NaN    1410.0     NaN  \n",
            "3  1324.0    1465.0  1521.0  \n",
            "4   711.0    1354.0  1521.0  \n"
          ]
        }
      ]
    },
    {
      "cell_type": "code",
      "source": [
        "import pandas as pd\n",
        "\n",
        "url = 'https://raw.githubusercontent.com/Bina-G10/BINA-G10/main/Daten/2017_PM_Bodenpreismodell_gerundet.csv'\n",
        "fahrzeit = pd.read_csv(url)\n",
        "\n",
        "# Optional: Die ersten Zeilen anzeigen\n",
        "print(fahrzeit.head())"
      ],
      "metadata": {
        "id": "VzMIzEaUwD19",
        "outputId": "82b091cf-cb5e-4a97-b625-0f9cc052fdde",
        "colab": {
          "base_uri": "https://localhost:8080/"
        }
      },
      "execution_count": null,
      "outputs": [
        {
          "output_type": "stream",
          "name": "stdout",
          "text": [
            "   bfs  wohngebiet  totbev  steuerfuss  fahrzeit  X25.  X50.  X75.\n",
            "0    1         879    1632        98.0      26.5   660   780   860\n",
            "1    2        2977   11583       124.0      21.0   720   780   840\n",
            "2    3        1362    5516       108.0      17.0   790   840   870\n",
            "3    4        1469    3174       112.0      25.5   710   770   820\n",
            "4    5        1261    3100        98.0      18.0   980  1060  1120\n"
          ]
        }
      ]
    },
    {
      "cell_type": "code",
      "source": [
        "url = 'https://raw.githubusercontent.com/Bina-G10/BINA-G10/main/Daten/Arbeitslosenanteil%20an%20Bev%C3%B6lkerung%2015-64%20Jahre%20%5B%25%5D%20nach%20Gemeinde.csv'\n",
        "arbeitslosenanteil = pd.read_csv(url)\n",
        "\n",
        "# Optional: Die ersten Zeilen anzeigen\n",
        "print(arbeitslosenanteil.head())"
      ],
      "metadata": {
        "id": "ahVz4qT_xmeu",
        "outputId": "cdf801ba-01dc-4e10-d16a-102538f108b5",
        "colab": {
          "base_uri": "https://localhost:8080/"
        }
      },
      "execution_count": null,
      "outputs": [
        {
          "output_type": "stream",
          "name": "stdout",
          "text": [
            "   BFS_NR  GEBIET_NAME              THEMA_NAME          SET_NAME  \\\n",
            "0       1  Aeugst a.A.  Arbeit und Unternehmen  Arbeitslosigkeit   \n",
            "1       1  Aeugst a.A.  Arbeit und Unternehmen  Arbeitslosigkeit   \n",
            "2       1  Aeugst a.A.  Arbeit und Unternehmen  Arbeitslosigkeit   \n",
            "3       1  Aeugst a.A.  Arbeit und Unternehmen  Arbeitslosigkeit   \n",
            "4       1  Aeugst a.A.  Arbeit und Unternehmen  Arbeitslosigkeit   \n",
            "\n",
            "        SUBSET_NAME  INDIKATOR_ID  \\\n",
            "0  Arbeitslosigkeit           380   \n",
            "1  Arbeitslosigkeit           380   \n",
            "2  Arbeitslosigkeit           380   \n",
            "3  Arbeitslosigkeit           380   \n",
            "4  Arbeitslosigkeit           380   \n",
            "\n",
            "                                      INDIKATOR_NAME  INDIKATOR_JAHR  \\\n",
            "0  Arbeitslosenanteil an Bevölkerung 15-64 Jahre [%]            2011   \n",
            "1  Arbeitslosenanteil an Bevölkerung 15-64 Jahre [%]            2012   \n",
            "2  Arbeitslosenanteil an Bevölkerung 15-64 Jahre [%]            2013   \n",
            "3  Arbeitslosenanteil an Bevölkerung 15-64 Jahre [%]            2014   \n",
            "4  Arbeitslosenanteil an Bevölkerung 15-64 Jahre [%]            2015   \n",
            "\n",
            "   INDIKATOR_VALUE EINHEIT_KURZ EINHEIT_LANG  Unnamed: 11  \n",
            "0              1.4            %      Prozent          NaN  \n",
            "1              1.3            %      Prozent          NaN  \n",
            "2              1.8            %      Prozent          NaN  \n",
            "3              1.3            %      Prozent          NaN  \n",
            "4              1.8            %      Prozent          NaN  \n"
          ]
        }
      ]
    },
    {
      "cell_type": "code",
      "source": [
        "import pandas as pd\n",
        "\n",
        "url = 'https://raw.githubusercontent.com/Bina-G10/BINA-G10/refs/heads/main/Daten/kanton_zuerich_stf_timeseries.csv'\n",
        "steuerfuss = pd.read_csv(url)\n",
        "\n",
        "# Optional: Die ersten Zeilen anzeigen\n",
        "print(steuerfuss.head())"
      ],
      "metadata": {
        "id": "fFWM7a7Oowm1",
        "outputId": "6aaaff01-3e42-404f-f64e-248669e03fb4",
        "colab": {
          "base_uri": "https://localhost:8080/"
        }
      },
      "execution_count": 9,
      "outputs": [
        {
          "output_type": "stream",
          "name": "stdout",
          "text": [
            "  YEAR,\"BFSNR\",\"GDE_NAME\",\"STF_O_KIRCHE1\",\"STF_O_KIRCHE2\",\"STF_O_KIRCHE3\",\"STF_REF1\",\"STF_REF2\",\"STF_REF3\",\"STF_KATH1\",\"STF_KATH2\",\"STF_KATH3\",\"STF_CKRKATH1\",\"STF_CKRKATH2\",\"STF_CKRKATH3\",\"JUR_PERS\"\n",
            "0  2025,1,\"Aeugst a.A.\",92,0,0,104,0,0,105,0,0,10...                                                                                                                                                  \n",
            "1  2025,2,\"Affoltern a.A.\",122,0,0,134,0,0,135,0,...                                                                                                                                                  \n",
            "2  2025,3,\"Bonstetten\",109,0,0,121,0,0,120,0,0,12...                                                                                                                                                  \n",
            "3  2025,4,\"Hausen a.A.\",112,0,0,124,0,0,126,0,0,1...                                                                                                                                                  \n",
            "4  2025,5,\"Hedingen\",100,0,0,112,0,0,113,0,0,114,...                                                                                                                                                  \n"
          ]
        }
      ]
    },
    {
      "cell_type": "code",
      "source": [
        "import pandas as pd\n",
        "\n",
        "url = 'https://raw.githubusercontent.com/Bina-G10/BINA-G10/refs/heads/main/Daten/Baulandpreis%20Median%20nach%20Gemeinde.csv'\n",
        "bauland = pd.read_csv(url)\n",
        "\n",
        "# Optional: Die ersten Zeilen anzeigen\n",
        "print(bauland.head())"
      ],
      "metadata": {
        "id": "2Gd3zqsBpuTA",
        "outputId": "eaf7eab4-82d2-4426-9c02-3337d73b9996",
        "colab": {
          "base_uri": "https://localhost:8080/"
        }
      },
      "execution_count": 12,
      "outputs": [
        {
          "output_type": "stream",
          "name": "stdout",
          "text": [
            "   BFS_NR  GEBIET_NAME          THEMA_NAME          SET_NAME   SUBSET_NAME  \\\n",
            "0       1  Aeugst a.A.  Bau und Immobilien  Immobilienhandel  Baulandpreis   \n",
            "1       1  Aeugst a.A.  Bau und Immobilien  Immobilienhandel  Baulandpreis   \n",
            "2       1  Aeugst a.A.  Bau und Immobilien  Immobilienhandel  Baulandpreis   \n",
            "3       1  Aeugst a.A.  Bau und Immobilien  Immobilienhandel  Baulandpreis   \n",
            "4       1  Aeugst a.A.  Bau und Immobilien  Immobilienhandel  Baulandpreis   \n",
            "\n",
            "   INDIKATOR_ID                         INDIKATOR_NAME  INDIKATOR_JAHR  \\\n",
            "0           477  Baulandpreis Modell (Median) [Fr./m2]            1974   \n",
            "1           477  Baulandpreis Modell (Median) [Fr./m2]            1975   \n",
            "2           477  Baulandpreis Modell (Median) [Fr./m2]            1976   \n",
            "3           477  Baulandpreis Modell (Median) [Fr./m2]            1977   \n",
            "4           477  Baulandpreis Modell (Median) [Fr./m2]            1978   \n",
            "\n",
            "   INDIKATOR_VALUE EINHEIT_KURZ              EINHEIT_LANG  Unnamed: 11  \n",
            "0              146       Fr./m2  Franken pro Quadratmeter          NaN  \n",
            "1              146       Fr./m2  Franken pro Quadratmeter          NaN  \n",
            "2              148       Fr./m2  Franken pro Quadratmeter          NaN  \n",
            "3              152       Fr./m2  Franken pro Quadratmeter          NaN  \n",
            "4              158       Fr./m2  Franken pro Quadratmeter          NaN  \n"
          ]
        }
      ]
    },
    {
      "cell_type": "code",
      "source": [
        "url = 'https://raw.githubusercontent.com/Bina-G10/BINA-G10/refs/heads/main/Daten/Anzahl%20Straftaten%20nach%20Tatbestand%20und%20Bezirken.csv'\n",
        "straftaten = pd.read_csv(url)\n",
        "\n",
        "# Optional: Die ersten Zeilen anzeigen\n",
        "print(straftaten.head())"
      ],
      "metadata": {
        "id": "kDq5l4U5qY5s",
        "outputId": "166d6952-11d9-46eb-920e-4b34b1c4ae5b",
        "colab": {
          "base_uri": "https://localhost:8080/"
        }
      },
      "execution_count": 13,
      "outputs": [
        {
          "output_type": "stream",
          "name": "stdout",
          "text": [
            "   Ausgangsjahr  Bezirk_BFS_Nr Bezirksname  Gesetz_Nummer Gesetz_Abk  \\\n",
            "0          2009            101   Affoltern          311.0       StGB   \n",
            "1          2009            101   Affoltern          311.0       StGB   \n",
            "2          2009            101   Affoltern          311.0       StGB   \n",
            "3          2009            101   Affoltern          311.0       StGB   \n",
            "4          2009            101   Affoltern          311.0       StGB   \n",
            "\n",
            "   Reihenfolge_Titel                       Titel  Reihenfolge_Haupttitel  \\\n",
            "0                1.0  Total gegen Leib und Leben                       1   \n",
            "1                1.0  Total gegen Leib und Leben                       1   \n",
            "2                1.0  Total gegen Leib und Leben                       1   \n",
            "3                1.0  Total gegen Leib und Leben                       1   \n",
            "4                1.0  Total gegen Leib und Leben                       1   \n",
            "\n",
            "                   Haupttitel      Artikel  \\\n",
            "0  Total gegen Leib und Leben  111-113/116   \n",
            "1  Total gegen Leib und Leben          114   \n",
            "2  Total gegen Leib und Leben          115   \n",
            "3  Total gegen Leib und Leben          117   \n",
            "4  Total gegen Leib und Leben          118   \n",
            "\n",
            "                               Tatbestand  Straftaten_total  \\\n",
            "0                          Tötungsdelikte                 1   \n",
            "1                    Tötung auf Verlangen                 0   \n",
            "2  Verleitung und Beihilfe zum Selbstmord                 0   \n",
            "3                      Fahrlässige Tötung                 0   \n",
            "4      Strafbarer Schwangerschaftsabbruch                 0   \n",
            "\n",
            "   Straftaten_vollendet  Straftaten_versucht  Einwohner  Häufigkeitszahl  \n",
            "0                   1.0                  0.0    46117.0              0.0  \n",
            "1                   0.0                  0.0    46117.0              0.0  \n",
            "2                   0.0                  0.0    46117.0              0.0  \n",
            "3                   0.0                  0.0    46117.0              0.0  \n",
            "4                   0.0                  0.0    46117.0              0.0  \n"
          ]
        }
      ]
    },
    {
      "cell_type": "code",
      "source": [
        "url = 'https://raw.githubusercontent.com/Bina-G10/BINA-G10/refs/heads/main/Daten/Bev%C3%B6lkerungsdichte%20Einwohner%20pro%202%20km%20nach%20Gemeinde.csv'\n",
        "bevölkerungsdichte = pd.read_csv(url)\n",
        "\n",
        "# Optional: Die ersten Zeilen anzeigen\n",
        "print(bevölkerungsdichte.head())"
      ],
      "metadata": {
        "id": "U5GMp6nLsyUt",
        "outputId": "4ee7b1eb-4092-4caa-c6ed-081c552c88da",
        "colab": {
          "base_uri": "https://localhost:8080/"
        }
      },
      "execution_count": 14,
      "outputs": [
        {
          "output_type": "stream",
          "name": "stdout",
          "text": [
            "   BFS_NR  GEBIET_NAME                THEMA_NAME  \\\n",
            "0       1  Aeugst a.A.  Bevölkerung und Soziales   \n",
            "1       1  Aeugst a.A.  Bevölkerung und Soziales   \n",
            "2       1  Aeugst a.A.  Bevölkerung und Soziales   \n",
            "3       1  Aeugst a.A.  Bevölkerung und Soziales   \n",
            "4       1  Aeugst a.A.  Bevölkerung und Soziales   \n",
            "\n",
            "                            SET_NAME          SUBSET_NAME  INDIKATOR_ID  \\\n",
            "0  Bevölkerungsbestand und Haushalte  Bevölkerungsbestand           460   \n",
            "1  Bevölkerungsbestand und Haushalte  Bevölkerungsbestand           460   \n",
            "2  Bevölkerungsbestand und Haushalte  Bevölkerungsbestand           460   \n",
            "3  Bevölkerungsbestand und Haushalte  Bevölkerungsbestand           460   \n",
            "4  Bevölkerungsbestand und Haushalte  Bevölkerungsbestand           460   \n",
            "\n",
            "                   INDIKATOR_NAME  INDIKATOR_JAHR  INDIKATOR_VALUE  \\\n",
            "0  Bevölkerungsdichte [Einw./km2]            1962             90.2   \n",
            "1  Bevölkerungsdichte [Einw./km2]            1963             91.5   \n",
            "2  Bevölkerungsdichte [Einw./km2]            1964             89.6   \n",
            "3  Bevölkerungsdichte [Einw./km2]            1965             88.3   \n",
            "4  Bevölkerungsdichte [Einw./km2]            1966             94.7   \n",
            "\n",
            "  EINHEIT_KURZ                    EINHEIT_LANG  Unnamed: 11  \n",
            "0    Einw./km2  Einwohner pro Quadratkilometer          NaN  \n",
            "1    Einw./km2  Einwohner pro Quadratkilometer          NaN  \n",
            "2    Einw./km2  Einwohner pro Quadratkilometer          NaN  \n",
            "3    Einw./km2  Einwohner pro Quadratkilometer          NaN  \n",
            "4    Einw./km2  Einwohner pro Quadratkilometer          NaN  \n"
          ]
        }
      ]
    }
  ]
}