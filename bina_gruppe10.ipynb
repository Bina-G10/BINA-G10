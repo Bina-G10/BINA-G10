{
  "nbformat": 4,
  "nbformat_minor": 0,
  "metadata": {
    "colab": {
      "provenance": [],
      "include_colab_link": true
    },
    "kernelspec": {
      "name": "python3",
      "display_name": "Python 3"
    },
    "language_info": {
      "name": "python"
    }
  },
  "cells": [
    {
      "cell_type": "markdown",
      "metadata": {
        "id": "view-in-github",
        "colab_type": "text"
      },
      "source": [
        "<a href=\"https://colab.research.google.com/github/Bina-G10/BINA-G10/blob/main/bina_gruppe10.ipynb\" target=\"_parent\"><img src=\"https://colab.research.google.com/assets/colab-badge.svg\" alt=\"Open In Colab\"/></a>"
      ]
    },
    {
      "cell_type": "markdown",
      "source": [
        "**Titel**"
      ],
      "metadata": {
        "id": "Oq37nsPy4qU1"
      }
    },
    {
      "cell_type": "code",
      "source": [],
      "metadata": {
        "id": "HUxNfofdrCb8"
      },
      "execution_count": null,
      "outputs": []
    },
    {
      "cell_type": "markdown",
      "source": [
        "**Modularbeit BINA**\n",
        "\n",
        "Autoren:\n",
        "\n",
        "Benjamin Hasler, Katja Luzi, Mario Luzi, Christian Parricella, Thomas Ulrich, Raquel Kehl\n",
        "\n",
        "21.06.2025"
      ],
      "metadata": {
        "id": "Pcq9MHoAHpAp"
      }
    },
    {
      "cell_type": "markdown",
      "source": [
        "#1 Einleitung\n",
        "Im Zuge der zunehmenden Digitalisierung und Datenverfügbarkeit stehen Unternehmen vor der Herausforderung, aus einer Vielzahl von Datenquellen relevante Erkenntnisse für strategische Entscheidungen zu gewinnen. Im Immobiliensektor ist die Identifikation von attraktiven Investitionsstandorten besonders datengetrieben: Faktoren wie Grundstückpreise, Bevölkerungsentwicklung, Kriminalitätsrate, Arbeitslosenquote, Erreichbarkeit und Steuerbelastung beeinflussen massgeblich die Wertentwicklung von Immobilien. Ziel dieses Projekts ist es, mithilfe von Business Intelligence und Analytics datengestützte Empfehlungen für Immobilieninvestitionen im Kanton Zürich zu erarbeiten, indem Gemeinden mit hoher Lebensqualität und stabilen Verhältnissen identifiziert werden, in denen ein zukünftiger Wertzuwachs wahrscheinlich ist."
      ],
      "metadata": {
        "id": "Qnlc6VmSIW69"
      }
    },
    {
      "cell_type": "markdown",
      "source": [
        "# 1.1 Ziele"
      ],
      "metadata": {
        "id": "7UKpg7xD5PIN"
      }
    },
    {
      "cell_type": "markdown",
      "source": [
        "Diese Case Study hat zum Ziel herauszufinden, welche Gemeinden im Kanton Zürich - basierend auf objektiven Daten - das grösste Potenzial für Immobilieninvestitionen mit Wertsteigerungsperspektive bieten.\n",
        "\n",
        "Das Hauptziel lässt sich in die nachfolgenden drei Teilziele unterteilen:\n",
        "\n",
        "1. Identifikation von attraktiven Investitionsstandorten: Gemeinden im Kanton Zürich sollen hinsichtlich ihrer Eignung für Immobilieninvestitionen bewertet werden.\n",
        "\n",
        "2. Analyse relevanter Indikatoren: Es werden verschiedene Indikatoren wie Grundstückpreise und deren Entwicklung, Bevölkerungswachstum, Kriminalitätsrate, Arbeitslosenquote, Fahrtzeit nach Zürich und Steuerfüsse analysiert.\n",
        "\n",
        "3. Ableitung von Handlungsempfehlungen: Auf Basis der Datenanalyse sollen konkrete Empfehlungen für Investitionsentscheidungen abgeleitet werden, um Gemeinden mit hoher Lebensqualität und stabilem Umfeld zu identifizieren, in denen ein Wertzuwachs der Immobilien zu erwarten ist.\n",
        "\n"
      ],
      "metadata": {
        "id": "DSGIvCljVtYD"
      }
    },
    {
      "cell_type": "markdown",
      "source": [
        "# 1.2 Vorgehen"
      ],
      "metadata": {
        "id": "DbGhSqDu5dLE"
      }
    },
    {
      "cell_type": "markdown",
      "source": [
        "Das Vorgehen orientiert sich am „From Data to Decisions“-Framework, das einen strukturierten, fünfstufigen Ansatz für datengetriebene Entscheidungsfindung bietet:\n",
        "\n",
        "1. Definition der Ziele und Informationsbedarfe: Klärung, welche strategischen Fragen beantwortet werden sollen und welche Informationen dafür benötigt werden.\n",
        "\n",
        "2. Datensammlung: Identifikation und Beschaffung relevanter interner und externer Datenquellen.\n",
        "\n",
        "3. Datenanalyse: Anwendung geeigneter Analysemethoden, um Zusammenhänge und Muster zu erkennen.\n",
        "\n",
        "4. Informationsaufbereitung und Präsentation: Aufbereitung der Analyseergebnisse für die Zielgruppen.\n",
        "\n",
        "5. Ableitung datenbasierter Entscheidungen: Formulierung von Empfehlungen und Entscheidungsgrundlagen.\n"
      ],
      "metadata": {
        "id": "zQfBHwrKWu0-"
      }
    },
    {
      "cell_type": "markdown",
      "source": [
        "#2 Definition der Ziele und Festlegung der Daten"
      ],
      "metadata": {
        "id": "1hMGttlt5enO"
      }
    },
    {
      "cell_type": "markdown",
      "source": [
        "Das Hauptziel und die drei Teilziele dieser Arbeit wurde in Kapitel 1.1 definiert. Dieses Kapitel gibt Aufschluss darüber, welche Daten mögliche Indikatoren für die Preissetzung einer Immobilie oder eines Grundstücks sind. Diese möglichen Indikatoren werden im Laufe der Case Study analysiert.\n",
        "\n",
        "\n",
        "* Bevölkerungswachstum: Entwicklung der Einwohnerzahlen als Indikator für Nachfrage.\n",
        "\n",
        "* Kriminalitätsrate: Sicherheit als Faktor für Lebensqualität.\n",
        "\n",
        "* Arbeitslosenquote: Wirtschaftliche Stabilität der Gemeinde.\n",
        "\n",
        "* Fahrtzeit nach Zürich: Erreichbarkeit des Wirtschafts- und Arbeitszentrums Zürich.\n",
        "\n",
        "* Steuerfuss: Steuerliche Attraktivität für Privatpersonen und Unternehmen.\n",
        "\n"
      ],
      "metadata": {
        "id": "NpUdY3yCW4bF"
      }
    },
    {
      "cell_type": "markdown",
      "source": [
        "# 3 Daten sammeln"
      ],
      "metadata": {
        "id": "49eCg6zQ5qWU"
      }
    },
    {
      "cell_type": "markdown",
      "source": [
        "1. Datenquellen und Granularität\n",
        "**Gemeindeebene:**\n",
        "\n",
        "Grundstückpreise und deren Entwicklung\n",
        "\n",
        "Arbeitslosenquote\n",
        "\n",
        "Bevölkerungswachstum\n",
        "\n",
        "Fahrtzeit nach Zürich\n",
        "\n",
        "Steuerfüsse\n",
        "\n",
        "**Bezirksebene:**\n",
        "\n",
        "Kriminalitätsrate\n",
        "\n",
        "(ggf. weitere Indikatoren, falls verfügbar)\n",
        "\n",
        "Hinweis: Ein Bezirk umfasst ca.10-25 Gemeinden.\n",
        "\n",
        "2. Zentrale Entitäten und Beziehungen\n",
        "Das ideale Datenmodell basiert auf einem Sternschema (Star Schema) oder einem Snowflake Schema, wie sie in der Business Intelligence üblich sind. Dies ermöglicht flexible Analysen und eine klare Trennung zwischen Fakten (Messgrößen) und Dimensionen (Kontextinformationen).\n",
        "\n",
        "**Haupttabellen (Fakten):**\n",
        "Tabelle\tBeschreibung\tGranularität\n",
        "Gemeinde_Indikatoren\tMesswerte pro Gemeinde und Jahr\tGemeinde, Jahr\n",
        "Bezirk_Indikatoren\tMesswerte pro Bezirk und Jahr\tBezirk, Jahr\n",
        "\n",
        "**Dimensionstabellen:**\n",
        "Gemeinde: Name, BFS-Nummer, Zugehörigkeit zu Bezirk, Geokoordinaten etc.\n",
        "\n",
        "Bezirk: Name, Bezirksschlüssel, Liste der zugehörigen Gemeinden\n",
        "\n",
        "Zeit: Jahr, Quartal, Monat (je nach Datenverfügbarkeit)\n",
        "\n",
        "Regionstyp: Stadt, See, Regio, Land (z. B. nach ZWEX-Index)\n",
        "\n",
        "Weitere: Infrastruktur, Nahverkehrsanbindung, ggf. weitere demografische Merkmale\n",
        "\n",
        "3. Modellierung der unterschiedlichen Ebenen\n",
        "Verknüpfung Gemeinde- und Bezirksebene:\n",
        "Da einige Indikatoren nur auf Bezirksebene vorliegen (z. B. Kriminalitätsrate), wird in der Gemeinde-Faktentabelle ein Fremdschlüssel zum Bezirk hinterlegt. Bei Analysen auf Gemeindeebene wird der Bezirkswert als Konstante für alle Gemeinden des Bezirks übernommen (sog. Downscaling). Alternativ kann im Analyse-Frontend eine Aggregation auf Bezirksebene erfolgen.\n",
        "\n",
        "4. Datenmodell – Beispielstruktur\n",
        "text\n",
        "Gemeinde_Indikatoren\n",
        "---------------------\n",
        "- Gemeinde_ID (FK)\n",
        "- Jahr\n",
        "- Grundstückpreis\n",
        "- Grundstückpreis_Entwicklung\n",
        "- Arbeitslosenquote\n",
        "- Bevölkerungswachstum\n",
        "- Fahrtzeit_Zürich\n",
        "- Steuerfuss\n",
        "\n",
        "Bezirk_Indikatoren\n",
        "-------------------\n",
        "- Bezirk_ID (FK)\n",
        "- Jahr\n",
        "- Kriminalitätsrate\n",
        "\n",
        "Gemeinde\n",
        "----------\n",
        "- Gemeinde_ID (PK)\n",
        "- Name\n",
        "- Bezirk_ID (FK)\n",
        "- Regionstyp\n",
        "- Geokoordinaten\n",
        "\n",
        "Bezirk\n",
        "--------\n",
        "- Bezirk_ID (PK)\n",
        "- Name\n",
        "\n",
        "Zeit\n",
        "-----\n",
        "- Jahr\n",
        "- Quartal\n",
        "- Monat\n",
        "\n",
        "5. Analyse- und Bewertungsmöglichkeiten\n",
        "Score-Bildung: Entwicklung eines Scoring-Modells, das die wichtigsten Indikatoren gewichtet und pro Gemeinde einen Investitions-Score berechnet (z. B. hohe Grundstückpreissteigerung, niedriges Risiko, gute Erreichbarkeit, attraktive Steuerfüsse).\n",
        "\n",
        "Visualisierung: Nutzung von Tools wie Power BI, Tableau oder dem Zürcher Gemeindeporträt, um die Indikatoren als Karten oder Rankings darzustellen.\n",
        "\n",
        "Zeitliche Entwicklung: Analyse der Veränderungen über die Jahre, um Trends zu erkennen (z. B. starkes Bevölkerungswachstum als Frühindikator für Wertsteigerung).\n",
        "\n",
        "Vergleichbarkeit: Durch das einheitliche Datenmodell können Gemeinden und Bezirke direkt verglichen werden.\n",
        "\n",
        "6. Best Practices und Hinweise\n",
        "Datenqualität: Sicherstellen, dass alle Indikatoren auf den gleichen Zeitraum und möglichst aktuelle Datenstandards normiert sind.\n",
        "\n",
        "Hedonische Anpassung: Für Grundstückpreise empfiehlt sich die Nutzung hedonisch bereinigter Indizes (wie ZWEX), um Verzerrungen durch unterschiedliche Objektqualitäten zu vermeiden.\n",
        "\n",
        "Erweiterbarkeit: Das Modell ist offen für weitere Indikatoren, wie Leerstandsquote, Infrastruktur, geplante Bauprojekte oder Nachhaltigkeitsmetriken.\n",
        "\n",
        "Automatisierung: Für regelmäßige Aktualisierungen empfiehlt sich eine automatisierte Datenintegration, z. B. über APIs von Marktdatenanbietern"
      ],
      "metadata": {
        "id": "LdLSUdGlh2Lt"
      }
    },
    {
      "cell_type": "markdown",
      "source": [
        "# 3.1 Quellen"
      ],
      "metadata": {
        "id": "rDcs0nJX5znx"
      }
    },
    {
      "cell_type": "markdown",
      "source": [
        "opendata.swiss diverse\n",
        "Steuerfüsse\n",
        "https://opendata.swiss/de/dataset/steuerfusse-der-zurcher-gemeinden-fur-naturliche-und-juristische-personen/resource/19f66d9c-52a3-4568-8830-8d51e51a3937\n",
        "Preise unbebaute Grundstück (inkl. Abbruchliegenschaften)\n",
        "\n",
        "Median Preise Grundstücke allgemein\n",
        "\n",
        "Arbeitslosenquote\n",
        "\n",
        "Bevölkerungsdichte\n",
        "\n",
        "Fahrzeit\n",
        "\n",
        "Anzahl Straftaten"
      ],
      "metadata": {
        "id": "9B2FEC1MiG0D"
      }
    },
    {
      "cell_type": "markdown",
      "source": [
        "# 3.2 Import, Bereinigung und Transformation"
      ],
      "metadata": {
        "id": "rHXmWkzh53qn"
      }
    },
    {
      "cell_type": "code",
      "source": [
        "# 📚 Wir importieren die benötigten Bibliotheken für Datenanalyse und Machine Learning\n",
        "import pandas as pd\n",
        "import numpy as np\n",
        "import matplotlib.pyplot as plt\n",
        "import plotly.express as px\n",
        "\n",
        "from sklearn.model_selection import train_test_split\n",
        "from sklearn.linear_model import LinearRegression\n",
        "from sklearn.ensemble import RandomForestRegressor\n",
        "from sklearn.preprocessing import StandardScaler, PolynomialFeatures\n",
        "from sklearn.pipeline import make_pipeline\n",
        "from sklearn.metrics import r2_score, mean_squared_error\n"
      ],
      "metadata": {
        "id": "eeXFoFUASyDU"
      },
      "execution_count": 1,
      "outputs": []
    },
    {
      "cell_type": "code",
      "source": [
        "# Import der Tabelle von allen Bezirken und den Gemeinden im Kanton Zürich\n",
        "url = 'https://raw.githubusercontent.com/Bina-G10/BINA-G10/main/Daten/Gemeinden%20nach%20Bezirk%20Kt%20Z%C3%BCrich.xlsx'\n",
        "bezirk = pd.read_excel(url)\n",
        "\n",
        "# Zeichen bereinigen\n",
        "bezirk['Anzahl Einwohner (Dez 2018)_clean'] = (\n",
        "    bezirk['Anzahl Einwohner (Dez 2018)']\n",
        "    .astype(str)\n",
        "    .str.replace(' ', '', regex=False)    # Entferne Leerzeichen\n",
        "    .str.replace(',', '', regex=False)    # Entferne Kommas\n",
        "    .str.replace('.', '', regex=False)    # Entferne Punkt\n",
        ")\n",
        "\n",
        "# In float umwandeln\n",
        "bezirk['Anzahl Einwohner (Dez 2018)_clean'] = pd.to_numeric(bezirk['Anzahl Einwohner (Dez 2018)_clean'], errors='coerce')\n",
        "\n",
        "#Spaltentitel Gebiet_Name zu Gemeinde\n",
        "bezirk.rename(columns={'Gebiet_Name': 'Gemeinde'}, inplace=True)\n",
        "\n",
        "print(bezirk.head())"
      ],
      "metadata": {
        "id": "9T3Qy3NcrRfb",
        "outputId": "add822f3-9e04-41ef-dc48-c283ae998134",
        "colab": {
          "base_uri": "https://localhost:8080/"
        }
      },
      "execution_count": 2,
      "outputs": [
        {
          "output_type": "stream",
          "name": "stdout",
          "text": [
            "   Bezirk_BFS_Nr     Bezirk  BFS_NR            Gemeinde  \\\n",
            "0            101  Affoltern       1     Aeugst am Albis   \n",
            "1            101  Affoltern       2  Affoltern am Albis   \n",
            "2            101  Affoltern       3          Bonstetten   \n",
            "3            101  Affoltern       4     Hausen am Albis   \n",
            "4            101  Affoltern       5            Hedingen   \n",
            "\n",
            "  Anzahl Einwohner (Dez 2018)  Anzahl Einwohner (Dez 2018)_clean  \n",
            "0                       1 982                               1982  \n",
            "1                      12 229                              12229  \n",
            "2                       5 548                               5548  \n",
            "3                       3.701                               3701  \n",
            "4                       3,734                               3734  \n"
          ]
        }
      ]
    },
    {
      "cell_type": "code",
      "source": [
        "# Import Preise unbebautes Wohnland (inkl. Abbruch) Kt. Zürich 3 Jahre gepoolt - Median Jahr wird angezeigt\n",
        "url = 'https://raw.githubusercontent.com/Bina-G10/BINA-G10/main/Daten/Preise_unbebautes_Wohnland_Z%C3%BCrich_gepoolt3Jahre.xlsx'\n",
        "unbebaut = pd.read_excel(url)\n",
        "\n",
        "# Leerzeichen im Spaltentitel anpassen\n",
        "unbebaut.columns = unbebaut.columns.str.strip()\n",
        "\n",
        "# Zu wenig Fälle und fehlende Durchschnittswerte, jeweiliger Record soll gelöscht werden\n",
        "\n",
        "unbebaut.dropna(subset=['Durchschnitt'], inplace=True)\n",
        "\n",
        "# Quartile löschen\n",
        "unbebaut=unbebaut.drop(['Q25', 'Q75'], axis=1)\n",
        "\n",
        "print(unbebaut.head())"
      ],
      "metadata": {
        "id": "FDErdpjrteGK",
        "outputId": "d324c05f-dc9c-406e-de14-73b013f17f82",
        "colab": {
          "base_uri": "https://localhost:8080/"
        }
      },
      "execution_count": 3,
      "outputs": [
        {
          "output_type": "stream",
          "name": "stdout",
          "text": [
            "   Jahr_mittel   Zeitraum  BFS_NR     Gemeinde  Faelle  Durchschnitt  Median\n",
            "2         2021  2020-2022       1  Aeugst a.A.       4        1471.0  1410.0\n",
            "3         2020  2019-2021       1  Aeugst a.A.       9        1389.0  1465.0\n",
            "4         2019  2018-2020       1  Aeugst a.A.       9        1150.0  1354.0\n",
            "5         2018  2017-2019       1  Aeugst a.A.       9        1035.0  1116.0\n",
            "6         2017  2016-2018       1  Aeugst a.A.       7        1043.0   810.0\n"
          ]
        }
      ]
    },
    {
      "cell_type": "markdown",
      "source": [
        "**Vom Projekteam wurde entschieden, dass dieser Datensatz (unbebaut) nicht weiterverwendet wird.**\n",
        "\n",
        "\n"
      ],
      "metadata": {
        "id": "XnMFPntGSImu"
      }
    },
    {
      "cell_type": "code",
      "source": [
        "url = 'https://raw.githubusercontent.com/Bina-G10/BINA-G10/main/Daten/2017_PM_Bodenpreismodell_gerundet.csv'\n",
        "fahrzeit = pd.read_csv(url)\n",
        "\n",
        "#Bereinigung Tabelle Fahrzeit\n",
        "#Spalten löschen\n",
        "fahrzeit = fahrzeit.drop(['wohngebiet', 'totbev', 'steuerfuss', 'X25.', 'X50.', 'X75.'], axis=1)\n",
        "\n",
        "#Spaltentitel bfs zu BFS_NR wechseln, Spalte fahrzeit definiert die Fahrzeit nach Zürich\n",
        "fahrzeit.rename(columns={'bfs': 'BFS_NR'}, inplace=True)\n",
        "print(fahrzeit.head())"
      ],
      "metadata": {
        "id": "VzMIzEaUwD19",
        "outputId": "23c6ff65-14e0-4d09-a379-8307a8894ba5",
        "colab": {
          "base_uri": "https://localhost:8080/"
        }
      },
      "execution_count": 4,
      "outputs": [
        {
          "output_type": "stream",
          "name": "stdout",
          "text": [
            "   BFS_NR  fahrzeit\n",
            "0       1      26.5\n",
            "1       2      21.0\n",
            "2       3      17.0\n",
            "3       4      25.5\n",
            "4       5      18.0\n"
          ]
        }
      ]
    },
    {
      "cell_type": "code",
      "source": [
        "url = 'https://raw.githubusercontent.com/Bina-G10/BINA-G10/main/Daten/Arbeitslosenanteil%20an%20Bev%C3%B6lkerung%2015-64%20Jahre%20%5B%25%5D%20nach%20Gemeinde.csv'\n",
        "arbeitslosenanteil = pd.read_csv(url)\n",
        "\n",
        "#Spalten löschen\n",
        "arbeitslosenanteil = arbeitslosenanteil.drop(['THEMA_NAME', 'SET_NAME', 'SUBSET_NAME', 'INDIKATOR_ID', 'Unnamed: 11', 'EINHEIT_LANG', 'INDIKATOR_NAME'], axis=1)\n",
        "\n",
        "#Spaltentitel Gebiet_Name zu Gemeinde\n",
        "arbeitslosenanteil.rename(columns={'GEBIET_NAME': 'Gemeinde','INDIKATOR_JAHR': 'Jahr', 'INDIKATOR_VALUE': 'Arbeitslosenanteil', 'EINHEIT_KURZ': 'Einheit'}, inplace=True)\n",
        "\n",
        "print(arbeitslosenanteil.head())"
      ],
      "metadata": {
        "id": "ahVz4qT_xmeu",
        "outputId": "b70ade76-2a0b-4c1a-b76c-8adf16f33dcc",
        "colab": {
          "base_uri": "https://localhost:8080/"
        }
      },
      "execution_count": 5,
      "outputs": [
        {
          "output_type": "stream",
          "name": "stdout",
          "text": [
            "   BFS_NR     Gemeinde  Jahr  Arbeitslosenanteil Einheit\n",
            "0       1  Aeugst a.A.  2011                 1.4       %\n",
            "1       1  Aeugst a.A.  2012                 1.3       %\n",
            "2       1  Aeugst a.A.  2013                 1.8       %\n",
            "3       1  Aeugst a.A.  2014                 1.3       %\n",
            "4       1  Aeugst a.A.  2015                 1.8       %\n"
          ]
        }
      ]
    },
    {
      "cell_type": "code",
      "source": [
        "url = 'https://raw.githubusercontent.com/Bina-G10/BINA-G10/refs/heads/main/Daten/kanton_zuerich_stf_timeseries.csv'\n",
        "steuerfuss = pd.read_csv(url)\n",
        "\n",
        "\n",
        "#Spalten 5-15 löschen, Fokus des Projektteams liegt auf dem Steuerfuss ohne Kirche und Juristischen Personen\n",
        "steuerfuss = steuerfuss.drop(steuerfuss.columns[4:15], axis=1)\n",
        "# Spaltentitel anpassen\n",
        "steuerfuss.rename(columns={'BFSNR': 'BFS_NR', 'GDE_NAME': 'Gemeinde', 'STF_O_KIRCHE1': 'Steuerfuss ohne Kirche', 'JUR_PERS': 'Juristische Personen','YEAR': 'Jahr'}, inplace=True)\n",
        "\n",
        "# Die ersten Zeilen anzeigen\n",
        "print(steuerfuss.head())"
      ],
      "metadata": {
        "colab": {
          "base_uri": "https://localhost:8080/"
        },
        "id": "fFWM7a7Oowm1",
        "outputId": "47b199eb-0913-44a5-ec54-0939a88b2816"
      },
      "execution_count": 6,
      "outputs": [
        {
          "output_type": "stream",
          "name": "stdout",
          "text": [
            "   Jahr  BFS_NR        Gemeinde  Steuerfuss ohne Kirche  Juristische Personen\n",
            "0  2025       1     Aeugst a.A.                      92                104.33\n",
            "1  2025       2  Affoltern a.A.                     122                134.51\n",
            "2  2025       3      Bonstetten                     109                120.56\n",
            "3  2025       4     Hausen a.A.                     112                124.90\n",
            "4  2025       5        Hedingen                     100                112.40\n"
          ]
        }
      ]
    },
    {
      "cell_type": "code",
      "source": [
        "url = 'https://raw.githubusercontent.com/Bina-G10/BINA-G10/refs/heads/main/Daten/Baulandpreis%20Median%20nach%20Gemeinde.csv'\n",
        "bauland = pd.read_csv(url)\n",
        "\n",
        "#Spalten löschen\n",
        "bauland = bauland.drop(['THEMA_NAME', 'SET_NAME', 'SUBSET_NAME', 'INDIKATOR_ID', 'Unnamed: 11', 'EINHEIT_LANG', 'INDIKATOR_NAME'], axis=1)\n",
        "\n",
        "#Spaltentitel Gebiet_Name zu Gemeinde\n",
        "bauland.rename(columns={'GEBIET_NAME': 'Gemeinde', 'INDIKATOR_VALUE': 'Baulandpreis Median', 'INDIKATOR_JAHR': 'Jahr', 'EINHEIT_KURZ': 'Einheit'}, inplace=True)\n",
        "\n",
        "# Optional: Die ersten Zeilen anzeigen\n",
        "print(bauland.head())"
      ],
      "metadata": {
        "colab": {
          "base_uri": "https://localhost:8080/"
        },
        "id": "2Gd3zqsBpuTA",
        "outputId": "17cea55b-a958-47bd-d9fe-414e1380b9f3"
      },
      "execution_count": 7,
      "outputs": [
        {
          "output_type": "stream",
          "name": "stdout",
          "text": [
            "   BFS_NR     Gemeinde  Jahr  Baulandpreis Median Einheit\n",
            "0       1  Aeugst a.A.  1974                  146  Fr./m2\n",
            "1       1  Aeugst a.A.  1975                  146  Fr./m2\n",
            "2       1  Aeugst a.A.  1976                  148  Fr./m2\n",
            "3       1  Aeugst a.A.  1977                  152  Fr./m2\n",
            "4       1  Aeugst a.A.  1978                  158  Fr./m2\n"
          ]
        }
      ]
    },
    {
      "cell_type": "code",
      "source": [
        "url = 'https://raw.githubusercontent.com/Bina-G10/BINA-G10/refs/heads/main/Daten/Anzahl%20Straftaten%20nach%20Tatbestand%20und%20Bezirken.csv'\n",
        "straftaten = pd.read_csv(url)\n",
        "\n",
        "#Spalten löschen\n",
        "straftaten = straftaten.drop(['Gesetz_Nummer', 'Gesetz_Abk', 'Reihenfolge_Haupttitel', \"Haupttitel\", \"Artikel\", \"Tatbestand\"], axis=1)\n",
        "#Häufigkeitszahl ist Dunkelziffer\n",
        "\n",
        "#Gruppieren und Summieren nach Jahr und Bezirk\n",
        "agg_cols = ([\"Straftaten_total\", \"Straftaten_vollendet\", \"Straftaten_versucht\",\"Häufigkeitszahl\"])\n",
        "straftaten_summiert = straftaten.groupby([\"Ausgangsjahr\", \"Bezirk_BFS_Nr\", \"Bezirksname\"], as_index=False)[agg_cols].sum()\n",
        "\n",
        "#Dokumentieren weshalb alle Tatbestände gesammelt betrachtet werden\n",
        "\n",
        "\n",
        "# Optional: Die ersten Zeilen anzeigen\n",
        "print(straftaten_summiert.head())"
      ],
      "metadata": {
        "colab": {
          "base_uri": "https://localhost:8080/"
        },
        "id": "kDq5l4U5qY5s",
        "outputId": "d0ee4397-cce4-49ee-d7c4-8f5d4d688a33"
      },
      "execution_count": 8,
      "outputs": [
        {
          "output_type": "stream",
          "name": "stdout",
          "text": [
            "   Ausgangsjahr  Bezirk_BFS_Nr  Bezirksname  Straftaten_total  \\\n",
            "0          2009            101    Affoltern              2277   \n",
            "1          2009            102  Andelfingen              1092   \n",
            "2          2009            103       Bülach             15111   \n",
            "3          2009            104    Dielsdorf              5224   \n",
            "4          2009            105       Hinwil              4612   \n",
            "\n",
            "   Straftaten_vollendet  Straftaten_versucht  Häufigkeitszahl  \n",
            "0                1957.0                119.0             48.4  \n",
            "1                 992.0                 55.0             36.7  \n",
            "2               10074.0                516.0            118.3  \n",
            "3                4511.0                303.0             67.4  \n",
            "4                3765.0                214.0             53.7  \n"
          ]
        }
      ]
    },
    {
      "cell_type": "code",
      "source": [
        "url = 'https://raw.githubusercontent.com/Bina-G10/BINA-G10/refs/heads/main/Daten/Bev%C3%B6lkerungsdichte%20Einwohner%20pro%202%20km%20nach%20Gemeinde.csv'\n",
        "bevölkerungsdichte = pd.read_csv(url)\n",
        "\n",
        "#Spalten löschen\n",
        "bevölkerungsdichte = bevölkerungsdichte.drop(['SET_NAME', 'SUBSET_NAME', 'THEMA_NAME', 'INDIKATOR_NAME', 'INDIKATOR_ID', \"EINHEIT_LANG\", \"Unnamed: 11\"], axis=1)\n",
        "\n",
        "#Spaltentitel Gebiet_Name zu Gemeinde\n",
        "bevölkerungsdichte.rename(columns={'GEBIET_NAME': 'Gemeinde', 'INDIKATOR_VALUE': 'Bevölkerungsdichte', 'INDIKATOR_JAHR': 'Jahr', 'EINHEIT_KURZ': 'Einheit'}, inplace=True)\n",
        "\n",
        "# Optional: Die ersten Zeilen anzeigen\n",
        "print(bevölkerungsdichte.head())"
      ],
      "metadata": {
        "colab": {
          "base_uri": "https://localhost:8080/"
        },
        "id": "U5GMp6nLsyUt",
        "outputId": "6d5265bd-78db-400d-d9ca-4144e5650204"
      },
      "execution_count": 9,
      "outputs": [
        {
          "output_type": "stream",
          "name": "stdout",
          "text": [
            "   BFS_NR     Gemeinde  Jahr  Bevölkerungsdichte    Einheit\n",
            "0       1  Aeugst a.A.  1962                90.2  Einw./km2\n",
            "1       1  Aeugst a.A.  1963                91.5  Einw./km2\n",
            "2       1  Aeugst a.A.  1964                89.6  Einw./km2\n",
            "3       1  Aeugst a.A.  1965                88.3  Einw./km2\n",
            "4       1  Aeugst a.A.  1966                94.7  Einw./km2\n"
          ]
        }
      ]
    },
    {
      "cell_type": "code",
      "source": [
        "import urllib.parse  # Hier den Import hinzufügen\n",
        "\n",
        "# URL für Bevölkerungsdichte\n",
        "url_bevölkerungsdichte = 'https://raw.githubusercontent.com/Bina-G10/BINA-G10/main/Daten/Bevölkerungsdichte%20Einwohner%20pro%202%20km%20nach%20Gemeinde.csv'\n",
        "\n",
        "# URL manuell kodieren\n",
        "encoded_url = urllib.parse.quote(url_bevölkerungsdichte, safe=\":/%\")\n",
        "\n",
        "# Bevölkerungsdichte-Daten laden\n",
        "bevölkerungsdichte = pd.read_csv(encoded_url)\n",
        "\n",
        "# Zeige die ersten Zeilen des DataFrames\n",
        "print(bevölkerungsdichte.head())\n"
      ],
      "metadata": {
        "id": "k0YyA3edvpLw",
        "outputId": "02692a40-eb3c-4093-aefa-b9decad32597",
        "colab": {
          "base_uri": "https://localhost:8080/"
        }
      },
      "execution_count": 10,
      "outputs": [
        {
          "output_type": "stream",
          "name": "stdout",
          "text": [
            "   BFS_NR  GEBIET_NAME                THEMA_NAME  \\\n",
            "0       1  Aeugst a.A.  Bevölkerung und Soziales   \n",
            "1       1  Aeugst a.A.  Bevölkerung und Soziales   \n",
            "2       1  Aeugst a.A.  Bevölkerung und Soziales   \n",
            "3       1  Aeugst a.A.  Bevölkerung und Soziales   \n",
            "4       1  Aeugst a.A.  Bevölkerung und Soziales   \n",
            "\n",
            "                            SET_NAME          SUBSET_NAME  INDIKATOR_ID  \\\n",
            "0  Bevölkerungsbestand und Haushalte  Bevölkerungsbestand           460   \n",
            "1  Bevölkerungsbestand und Haushalte  Bevölkerungsbestand           460   \n",
            "2  Bevölkerungsbestand und Haushalte  Bevölkerungsbestand           460   \n",
            "3  Bevölkerungsbestand und Haushalte  Bevölkerungsbestand           460   \n",
            "4  Bevölkerungsbestand und Haushalte  Bevölkerungsbestand           460   \n",
            "\n",
            "                   INDIKATOR_NAME  INDIKATOR_JAHR  INDIKATOR_VALUE  \\\n",
            "0  Bevölkerungsdichte [Einw./km2]            1962             90.2   \n",
            "1  Bevölkerungsdichte [Einw./km2]            1963             91.5   \n",
            "2  Bevölkerungsdichte [Einw./km2]            1964             89.6   \n",
            "3  Bevölkerungsdichte [Einw./km2]            1965             88.3   \n",
            "4  Bevölkerungsdichte [Einw./km2]            1966             94.7   \n",
            "\n",
            "  EINHEIT_KURZ                    EINHEIT_LANG  Unnamed: 11  \n",
            "0    Einw./km2  Einwohner pro Quadratkilometer          NaN  \n",
            "1    Einw./km2  Einwohner pro Quadratkilometer          NaN  \n",
            "2    Einw./km2  Einwohner pro Quadratkilometer          NaN  \n",
            "3    Einw./km2  Einwohner pro Quadratkilometer          NaN  \n",
            "4    Einw./km2  Einwohner pro Quadratkilometer          NaN  \n"
          ]
        }
      ]
    },
    {
      "cell_type": "code",
      "source": [
        "# Spalten löschen, die nicht benötigt werden\n",
        "bevölkerungsdichte = bevölkerungsdichte.drop(\n",
        "    ['SET_NAME', 'SUBSET_NAME', 'THEMA_NAME', 'INDIKATOR_ID', 'INDIKATOR_NAME',\n",
        "     'EINHEIT_LANG', 'Unnamed: 11'], axis=1)\n",
        "\n",
        "# Spalten umbenennen\n",
        "bevölkerungsdichte.rename(columns={\n",
        "    'GEBIET_NAME': 'Gemeinde',\n",
        "    'INDIKATOR_VALUE': 'Bevölkerungsdichte',\n",
        "    'INDIKATOR_JAHR': 'Jahr',\n",
        "    'EINHEIT_KURZ': 'Einheit'\n",
        "}, inplace=True)"
      ],
      "metadata": {
        "id": "Y2kSSL8_v-sc"
      },
      "execution_count": 11,
      "outputs": []
    },
    {
      "cell_type": "markdown",
      "source": [],
      "metadata": {
        "id": "fkL_DQpikXMY"
      }
    },
    {
      "cell_type": "markdown",
      "source": [
        "#3.3 Regressionsmodelle"
      ],
      "metadata": {
        "id": "y2rFusPxkn9N"
      }
    },
    {
      "cell_type": "code",
      "source": [
        "# 📥 Wir lesen die relevanten Datensätze direkt von GitHub ein\n",
        "\n",
        "# Baulandpreise\n",
        "bauland = pd.read_csv(\"https://raw.githubusercontent.com/Bina-G10/BINA-G10/main/Daten/Baulandpreis%20Median%20nach%20Gemeinde.csv\")\n",
        "\n",
        "# Fahrzeit\n",
        "fahrzeit = pd.read_csv(\"https://raw.githubusercontent.com/Bina-G10/BINA-G10/main/Daten/2017_PM_Bodenpreismodell_gerundet.csv\")\n",
        "\n",
        "# Arbeitslosenquote\n",
        "arbeitslosenanteil = pd.read_csv(\"https://raw.githubusercontent.com/Bina-G10/BINA-G10/main/Daten/Arbeitslosenanteil%20an%20Bev%C3%B6lkerung%2015-64%20Jahre%20%5B%25%5D%20nach%20Gemeinde.csv\")\n",
        "\n",
        "# Gemeinden mit BFS für Fahrzeit-Merge\n",
        "bezirk = pd.read_excel(\"https://raw.githubusercontent.com/Bina-G10/BINA-G10/main/Daten/Gemeinden%20nach%20Bezirk%20Kt%20Z%C3%BCrich.xlsx\")\n",
        "\n",
        "# Kriminalitätsrate nach Bezirk\n",
        "url_straftaten = 'https://raw.githubusercontent.com/Bina-G10/BINA-G10/refs/heads/main/Daten/Anzahl%20Straftaten%20nach%20Tatbestand%20und%20Bezirken.csv'\n",
        "straftaten = pd.read_csv(url_straftaten)\n",
        "\n",
        "# Steuerfüsse\n",
        "url_steuerfuss = 'https://raw.githubusercontent.com/Bina-G10/BINA-G10/refs/heads/main/Daten/kanton_zuerich_stf_timeseries.csv'\n",
        "steuerfuss = pd.read_csv(url_steuerfuss)\n"
      ],
      "metadata": {
        "id": "nrtyFUkqZvGC"
      },
      "execution_count": 12,
      "outputs": []
    },
    {
      "cell_type": "code",
      "source": [
        "# Bevölkerungsdichte pro 2 km² nach Gemeinde\n",
        "url_bevölkerungsdichte = 'https://raw.githubusercontent.com/Bina-G10/BINA-G10/main/Daten/Bev%C3%B6lkerungsdichte%20Einwohner%20pro%202%20km%20nach%20Gemeinde.csv'\n",
        "bevölkerungsdichte = pd.read_csv(url_bevölkerungsdichte)"
      ],
      "metadata": {
        "id": "1Su8gkhkwlCY"
      },
      "execution_count": 13,
      "outputs": []
    },
    {
      "cell_type": "code",
      "source": [
        "# Überprüfung der Spalten und Jahreszahlen für die Fahrzeit\n",
        "print(\"\\nFahrzeit - Spalten:\")\n",
        "print(fahrzeit.columns)\n",
        "\n",
        "# Überprüfung der Spalten und Jahreszahlen für den Steuerfuss\n",
        "print(\"\\nSteuerfuss - Spalten:\")\n",
        "print(steuerfuss.columns)\n",
        "\n",
        "# Überprüfung der Spalten und Jahreszahlen für Straftaten\n",
        "print(\"\\nStraftaten - Spalten:\")\n",
        "print(straftaten_summiert.columns)\n"
      ],
      "metadata": {
        "id": "wIZAsAnizSZa",
        "outputId": "73072cea-a814-431e-e282-8cfe2ad3fb52",
        "colab": {
          "base_uri": "https://localhost:8080/"
        }
      },
      "execution_count": 14,
      "outputs": [
        {
          "output_type": "stream",
          "name": "stdout",
          "text": [
            "\n",
            "Fahrzeit - Spalten:\n",
            "Index(['bfs', 'wohngebiet', 'totbev', 'steuerfuss', 'fahrzeit', 'X25.', 'X50.',\n",
            "       'X75.'],\n",
            "      dtype='object')\n",
            "\n",
            "Steuerfuss - Spalten:\n",
            "Index(['YEAR', 'BFSNR', 'GDE_NAME', 'STF_O_KIRCHE1', 'STF_O_KIRCHE2',\n",
            "       'STF_O_KIRCHE3', 'STF_REF1', 'STF_REF2', 'STF_REF3', 'STF_KATH1',\n",
            "       'STF_KATH2', 'STF_KATH3', 'STF_CKRKATH1', 'STF_CKRKATH2',\n",
            "       'STF_CKRKATH3', 'JUR_PERS'],\n",
            "      dtype='object')\n",
            "\n",
            "Straftaten - Spalten:\n",
            "Index(['Ausgangsjahr', 'Bezirk_BFS_Nr', 'Bezirksname', 'Straftaten_total',\n",
            "       'Straftaten_vollendet', 'Straftaten_versucht', 'Häufigkeitszahl'],\n",
            "      dtype='object')\n"
          ]
        }
      ]
    },
    {
      "cell_type": "code",
      "source": [
        "# Baulandpreise\n",
        "print(\"Baulandpreise - Jahreszahlen:\")\n",
        "print(bauland['INDIKATOR_JAHR'].min(), \"bis\", bauland['INDIKATOR_JAHR'].max())\n",
        "\n",
        "# Arbeitslosenanteil (Spalte anpassen auf 'INDIKATOR_JAHR')\n",
        "print(\"\\nArbeitslosenanteil - Jahreszahlen:\")\n",
        "print(arbeitslosenanteil['INDIKATOR_JAHR'].min(), \"bis\", arbeitslosenanteil['INDIKATOR_JAHR'].max())\n",
        "\n",
        "# Bevölkerungsdichte (Spalte anpassen auf 'INDIKATOR_JAHR')\n",
        "print(\"\\nBevölkerungsdichte - Jahreszahlen:\")\n",
        "print(bevölkerungsdichte['INDIKATOR_JAHR'].min(), \"bis\", bevölkerungsdichte['INDIKATOR_JAHR'].max())\n",
        "\n",
        "# Fahrzeit: Es gibt keine explizite Jahres-Spalte, daher keine Jahresangabe möglich\n",
        "print(\"\\nFahrzeit - Keine explizite Jahres-Spalte vorhanden.\")\n",
        "\n",
        "# Steuerfuss (Spalte anpassen auf 'YEAR')\n",
        "print(\"\\nSteuerfuss - Jahreszahlen:\")\n",
        "print(steuerfuss['YEAR'].min(), \"bis\", steuerfuss['YEAR'].max())\n",
        "\n",
        "# Straftaten (Spalte anpassen auf 'Ausgangsjahr')\n",
        "print(\"\\nStraftaten - Jahreszahlen:\")\n",
        "print(straftaten_summiert['Ausgangsjahr'].min(), \"bis\", straftaten_summiert['Ausgangsjahr'].max())\n"
      ],
      "metadata": {
        "id": "2BqCx076yIIV",
        "outputId": "701ce807-bd43-4d42-e32b-a79217acb890",
        "colab": {
          "base_uri": "https://localhost:8080/"
        }
      },
      "execution_count": 15,
      "outputs": [
        {
          "output_type": "stream",
          "name": "stdout",
          "text": [
            "Baulandpreise - Jahreszahlen:\n",
            "1974 bis 2024\n",
            "\n",
            "Arbeitslosenanteil - Jahreszahlen:\n",
            "2011 bis 2023\n",
            "\n",
            "Bevölkerungsdichte - Jahreszahlen:\n",
            "1962 bis 2024\n",
            "\n",
            "Fahrzeit - Keine explizite Jahres-Spalte vorhanden.\n",
            "\n",
            "Steuerfuss - Jahreszahlen:\n",
            "2012 bis 2025\n",
            "\n",
            "Straftaten - Jahreszahlen:\n",
            "2009 bis 2024\n"
          ]
        }
      ]
    },
    {
      "cell_type": "markdown",
      "source": [
        "Gemeinsamer Nenner:\n",
        "Die größte Überschneidung der Jahreszahlen gibt es zwischen 2011 und 2024. Das bedeutet, dass alle Datensätze (außer der Fahrzeit) für den Zeitraum 2011 bis 2024 gemeinsame Daten enthalten.\n",
        "\n",
        "Die Fahrzeit-Daten sind konstant, also nicht an Jahreszahlen gebunden.\n",
        "\n",
        "Die gemeinsame Zeitspanne von 2011 bis 2024 wird als Analysezeitraum verwendet, um die verschiedenen Datensätze zu kombinieren und zu vergleichen."
      ],
      "metadata": {
        "id": "70R6Vqlw0KF8"
      }
    },
    {
      "cell_type": "code",
      "source": [
        "# 1) CSV neu einlesen\n",
        "url_alo = \"https://raw.githubusercontent.com/Bina-G10/BINA-G10/main/Daten/Arbeitslosenanteil%20an%20Bev%C3%B6lkerung%2015-64%20Jahre%20%5B%25%5D%20nach%20Gemeinde.csv\"\n",
        "alo = pd.read_csv(url_alo)\n",
        "\n",
        "# 2) Nur die relevanten Spalten auswählen (u. a. IND⁠IKATOR_JAHR nicht wegwerfen)\n",
        "#    Je nach Original-Header kann das so aussehen:\n",
        "#    ['BFS_NR','GEBIET_NAME','INDIKATOR_JAHR','INDIKATOR_VALUE','EINHEIT_KURZ']\n",
        "#    passe es an, wenn Deine Datei andere Namen hat\n",
        "cols_keep = ['BFS_NR','GEBIET_NAME','INDIKATOR_JAHR','INDIKATOR_VALUE']\n",
        "alo = alo[cols_keep]\n",
        "\n",
        "# 3) Spalten umbenennen\n",
        "alo.rename(columns={\n",
        "    'BFS_NR': 'BFS_NR',\n",
        "    'GEBIET_NAME': 'Gemeinde',\n",
        "    'INDIKATOR_JAHR': 'Jahr',\n",
        "    'INDIKATOR_VALUE': 'Arbeitslosenanteil'\n",
        "}, inplace=True)\n",
        "\n",
        "# 4) Jetzt prüfen, dass 'Jahr' wirklich da ist\n",
        "print(\"Spalten alo:\", alo.columns.tolist())\n",
        "\n",
        "# 5) Erst jetzt auf den gemeinsamen Zeitraum filtern\n",
        "alo_11_24 = alo[(alo['Jahr'] >= 2011) & (alo['Jahr'] <= 2024)]\n",
        "print(\"Arbeitslosenanteil:\", alo_11_24['Jahr'].min(), \"bis\", alo_11_24['Jahr'].max())\n"
      ],
      "metadata": {
        "colab": {
          "base_uri": "https://localhost:8080/"
        },
        "id": "GCrqctQrt__s",
        "outputId": "71ae668e-7486-447a-add6-5655ed9bffd5"
      },
      "execution_count": 16,
      "outputs": [
        {
          "output_type": "stream",
          "name": "stdout",
          "text": [
            "Spalten alo: ['BFS_NR', 'Gemeinde', 'Jahr', 'Arbeitslosenanteil']\n",
            "Arbeitslosenanteil: 2011 bis 2023\n"
          ]
        }
      ]
    },
    {
      "cell_type": "code",
      "source": [
        "import pandas as pd\n",
        "\n",
        "# 1) Arbeitslosen­anteil einlesen und vorbereiten\n",
        "# Wir laden die CSV direkt aus unserem GitHub-Repo\n",
        "alo = pd.read_csv(\n",
        "    \"https://raw.githubusercontent.com/Bina-G10/BINA-G10/main/Daten/Arbeitslosenanteil%20an%20Bev%C3%B6lkerung%2015-64%20Jahre%20%5B%25%5D%20nach%20Gemeinde.csv\"\n",
        ")\n",
        "# Nur die Spalten, die wir wirklich brauchen – so behalten wir den Überblick\n",
        "alo = alo[['BFS_NR','GEBIET_NAME','INDIKATOR_JAHR','INDIKATOR_VALUE']]\n",
        "# Umbenennen in unsere Standard-Spaltennamen\n",
        "alo.rename(columns={\n",
        "    'GEBIET_NAME':'Gemeinde',\n",
        "    'INDIKATOR_JAHR':'Jahr',\n",
        "    'INDIKATOR_VALUE':'Arbeitslosenanteil'\n",
        "}, inplace=True)\n",
        "\n",
        "# 2) Baulandpreise einlesen und aufbereiten\n",
        "# Gleiches Vorgehen: direkt vom Repo, dann Spalten auswählen\n",
        "bauland = pd.read_csv(\n",
        "    \"https://raw.githubusercontent.com/Bina-G10/BINA-G10/main/Daten/Baulandpreis%20Median%20nach%20Gemeinde.csv\"\n",
        ")\n",
        "bauland = bauland[['BFS_NR','GEBIET_NAME','INDIKATOR_JAHR','INDIKATOR_VALUE']]\n",
        "bauland.rename(columns={\n",
        "    'GEBIET_NAME':'Gemeinde',\n",
        "    'INDIKATOR_JAHR':'Jahr',\n",
        "    'INDIKATOR_VALUE':'Baulandpreis_Median'\n",
        "}, inplace=True)\n",
        "\n",
        "# 3) Bevölkerungsdichte einlesen und anpassen\n",
        "bev = pd.read_csv(\n",
        "    \"https://raw.githubusercontent.com/Bina-G10/BINA-G10/main/Daten/Bev%C3%B6lkerungsdichte%20Einwohner%20pro%202%20km%20nach%20Gemeinde.csv\"\n",
        ")\n",
        "bev = bev[['BFS_NR','GEBIET_NAME','INDIKATOR_JAHR','INDIKATOR_VALUE']]\n",
        "bev.rename(columns={\n",
        "    'GEBIET_NAME':'Gemeinde',\n",
        "    'INDIKATOR_JAHR':'Jahr',\n",
        "    'INDIKATOR_VALUE':'Bevölkerungsdichte'\n",
        "}, inplace=True)\n",
        "\n",
        "# 4) Steuerfüsse einlesen und Spalten umbenennen\n",
        "stf = pd.read_csv(\n",
        "    \"https://raw.githubusercontent.com/Bina-G10/BINA-G10/refs/heads/main/Daten/kanton_zuerich_stf_timeseries.csv\"\n",
        ")\n",
        "# Wir interessieren uns nur für Steuerfuss ohne Kirche und die jur. Personen\n",
        "stf.rename(columns={\n",
        "    'YEAR':'Jahr',\n",
        "    'BFSNR':'BFS_NR',\n",
        "    'GDE_NAME':'Gemeinde',\n",
        "    'STF_O_KIRCHE1':'Steuerfuss_ohne_Kirche'\n",
        "}, inplace=True)\n",
        "stf = stf[['Jahr','BFS_NR','Gemeinde','Steuerfuss_ohne_Kirche','JUR_PERS']]\n",
        "\n",
        "# 5) Straftaten-Daten einlesen und aggregieren\n",
        "straft = pd.read_csv(\n",
        "    \"https://raw.githubusercontent.com/Bina-G10/BINA-G10/refs/heads/main/Daten/Anzahl%20Straftaten%20nach%20Tatbestand%20und%20Bezirken.csv\"\n",
        ")\n",
        "# Wir fassen alle Tatbestände pro Jahr und Bezirk zusammen\n",
        "straft_agg = (\n",
        "    straft\n",
        "    .groupby([\"Ausgangsjahr\",\"Bezirk_BFS_Nr\",\"Bezirksname\"], as_index=False)\n",
        "    .sum()[[\"Ausgangsjahr\",\"Bezirk_BFS_Nr\",\"Straftaten_total\",\"Häufigkeitszahl\"]]\n",
        ")\n",
        "straft_agg.rename(columns={\n",
        "    'Ausgangsjahr':'Jahr',\n",
        "    'Bezirk_BFS_Nr':'Bezirk_BFS_NR'\n",
        "}, inplace=True)\n",
        "\n",
        "# 6) Funktion, um unsere DataFrames auf 2011–2024 zu beschränken\n",
        "def filter_zeit(df, start=2011, end=2024):\n",
        "    return df[(df['Jahr'] >= start) & (df['Jahr'] <= end)]\n",
        "\n",
        "# 7) Auf den gemeinsamen Zeitraum filtern\n",
        "alo_11_24    = filter_zeit(alo)\n",
        "bauland_11_24= filter_zeit(bauland)\n",
        "bev_11_24    = filter_zeit(bev)\n",
        "stf_11_24    = filter_zeit(stf)\n",
        "straft_11_24 = filter_zeit(straft_agg)\n",
        "\n",
        "# 8) Kontrollausgabe: Sicherstellen, dass alle wirklich 2011–2024 abdecken\n",
        "for name, df in [\n",
        "    ('Arbeitslosenanteil', alo_11_24),\n",
        "    ('Baulandpreise',       bauland_11_24),\n",
        "    ('Bevölkerungsdichte',  bev_11_24),\n",
        "    ('Steuerfuss',          stf_11_24),\n",
        "    ('Straftaten',          straft_11_24),\n",
        "]:\n",
        "    print(f\"{name}: {df['Jahr'].min()} bis {df['Jahr'].max()}\")\n",
        "\n",
        "# Damit haben wir jetzt alle unsere zeitabhängigen Datensätze synchronisiert\n",
        "# und können sie im nächsten Schritt über BFS_NR/Gemeinde bzw. Bezirk_BFS_NR mergen.\n"
      ],
      "metadata": {
        "colab": {
          "base_uri": "https://localhost:8080/"
        },
        "id": "iYDp_y-wuRCr",
        "outputId": "5640cf90-1f27-4f70-d7dc-49104424ace9"
      },
      "execution_count": 17,
      "outputs": [
        {
          "output_type": "stream",
          "name": "stdout",
          "text": [
            "Arbeitslosenanteil: 2011 bis 2023\n",
            "Baulandpreise: 2011 bis 2024\n",
            "Bevölkerungsdichte: 2011 bis 2024\n",
            "Steuerfuss: 2012 bis 2024\n",
            "Straftaten: 2011 bis 2024\n"
          ]
        }
      ]
    },
    {
      "cell_type": "code",
      "source": [
        "import pandas as pd\n",
        "\n",
        "# 1) Arbeitslosen­anteil einlesen und vorbereiten\n",
        "alo = pd.read_csv(\n",
        "    \"https://raw.githubusercontent.com/Bina-G10/BINA-G10/main/Daten/Arbeitslosenanteil%20an%20Bev%C3%B6lkerung%2015-64%20Jahre%20%5B%25%5D%20nach%20Gemeinde.csv\"\n",
        ")\n",
        "alo = alo[['BFS_NR','GEBIET_NAME','INDIKATOR_JAHR','INDIKATOR_VALUE']]\n",
        "alo.rename(columns={\n",
        "    'GEBIET_NAME':'Gemeinde',\n",
        "    'INDIKATOR_JAHR':'Jahr',\n",
        "    'INDIKATOR_VALUE':'Arbeitslosenanteil'\n",
        "}, inplace=True)\n",
        "\n",
        "# 2) Baulandpreise\n",
        "bauland = pd.read_csv(\n",
        "    \"https://raw.githubusercontent.com/Bina-G10/BINA-G10/main/Daten/Baulandpreis%20Median%20nach%20Gemeinde.csv\"\n",
        ")\n",
        "bauland = bauland[['BFS_NR','GEBIET_NAME','INDIKATOR_JAHR','INDIKATOR_VALUE']]\n",
        "bauland.rename(columns={\n",
        "    'GEBIET_NAME':'Gemeinde',\n",
        "    'INDIKATOR_JAHR':'Jahr',\n",
        "    'INDIKATOR_VALUE':'Baulandpreis_Median'\n",
        "}, inplace=True)\n",
        "\n",
        "# 3) Bevölkerungs­dichte\n",
        "bev = pd.read_csv(\n",
        "    \"https://raw.githubusercontent.com/Bina-G10/BINA-G10/main/Daten/Bev%C3%B6lkerungsdichte%20Einwohner%20pro%202%20km%20nach%20Gemeinde.csv\"\n",
        ")\n",
        "bev = bev[['BFS_NR','GEBIET_NAME','INDIKATOR_JAHR','INDIKATOR_VALUE']]\n",
        "bev.rename(columns={\n",
        "    'GEBIET_NAME':'Gemeinde',\n",
        "    'INDIKATOR_JAHR':'Jahr',\n",
        "    'INDIKATOR_VALUE':'Bevölkerungsdichte'\n",
        "}, inplace=True)\n",
        "\n",
        "# 4) Steuerfüsse\n",
        "stf = pd.read_csv(\n",
        "    \"https://raw.githubusercontent.com/Bina-G10/BINA-G10/refs/heads/main/Daten/kanton_zuerich_stf_timeseries.csv\"\n",
        ")\n",
        "stf.rename(columns={\n",
        "    'YEAR':'Jahr',\n",
        "    'BFSNR':'BFS_NR',\n",
        "    'GDE_NAME':'Gemeinde',\n",
        "    'STF_O_KIRCHE1':'Steuerfuss_ohne_Kirche'\n",
        "}, inplace=True)\n",
        "stf = stf[['Jahr','BFS_NR','Gemeinde','Steuerfuss_ohne_Kirche','JUR_PERS']]\n",
        "\n",
        "# 5) Straftaten\n",
        "straft = pd.read_csv(\n",
        "    \"https://raw.githubusercontent.com/Bina-G10/BINA-G10/refs/heads/main/Daten/Anzahl%20Straftaten%20nach%20Tatbestand%20und%20Bezirken.csv\"\n",
        ")\n",
        "straft_agg = (\n",
        "    straft\n",
        "    .groupby([\"Ausgangsjahr\",\"Bezirk_BFS_Nr\",\"Bezirksname\"], as_index=False)\n",
        "    .sum()[[\"Ausgangsjahr\",\"Bezirk_BFS_Nr\",\"Straftaten_total\",\"Häufigkeitszahl\"]]\n",
        ")\n",
        "straft_agg.rename(columns={\n",
        "    'Ausgangsjahr':'Jahr',\n",
        "    'Bezirk_BFS_Nr':'Bezirk_BFS_NR'\n",
        "}, inplace=True)\n",
        "\n",
        "# 6) Gemeinsamen Zeitraum ermitteln:\n",
        "#    - Arbeitslosenanteil: 2011–2023\n",
        "#    - Steuerfuss:          2012–2024\n",
        "#    → Schnittmenge aller: 2012–2023\n",
        "START_YEAR = 2012\n",
        "END_YEAR   = 2023\n",
        "\n",
        "# 7) Filter-Funktion für 2012–2023\n",
        "def filter_zeit(df, start=START_YEAR, end=END_YEAR):\n",
        "    # Wir sind ein Team und synchronisieren hier alle Datensätze auf denselben Zeitraum\n",
        "    return df[(df['Jahr'] >= start) & (df['Jahr'] <= end)]\n",
        "\n",
        "alo_12_23    = filter_zeit(alo)\n",
        "bauland_12_23= filter_zeit(bauland)\n",
        "bev_12_23    = filter_zeit(bev)\n",
        "stf_12_23    = filter_zeit(stf)\n",
        "straft_12_23 = filter_zeit(straft_agg)\n",
        "\n",
        "# 8) Schnell-Check\n",
        "for name, df in [\n",
        "    ('Arbeitslosenanteil', alo_12_23),\n",
        "    ('Baulandpreise',       bauland_12_23),\n",
        "    ('Bevölkerungsdichte',  bev_12_23),\n",
        "    ('Steuerfuss',          stf_12_23),\n",
        "    ('Straftaten',          straft_12_23),\n",
        "]:\n",
        "    print(f\"{name}: {df['Jahr'].min()} bis {df['Jahr'].max()}\")\n",
        "\n",
        "# 🎉 Jetzt haben wir alle Tabellen synchron für 2012–2023 und können mergen!\n"
      ],
      "metadata": {
        "colab": {
          "base_uri": "https://localhost:8080/"
        },
        "id": "jHk6lGU5u6yQ",
        "outputId": "82a6afcf-eb02-4f9b-cfba-08a550341303"
      },
      "execution_count": 18,
      "outputs": [
        {
          "output_type": "stream",
          "name": "stdout",
          "text": [
            "Arbeitslosenanteil: 2012 bis 2023\n",
            "Baulandpreise: 2012 bis 2023\n",
            "Bevölkerungsdichte: 2012 bis 2023\n",
            "Steuerfuss: 2012 bis 2023\n",
            "Straftaten: 2012 bis 2023\n"
          ]
        }
      ]
    },
    {
      "cell_type": "code",
      "source": [
        "# 9) Jetzt mergen wir unsere synchronisierten Datensätze zu einer Master-Tabelle\n",
        "\n",
        "# Gemeindebasierte Daten zuerst:\n",
        "# Wir joinen auf ['BFS_NR', 'Gemeinde', 'Jahr']\n",
        "gemeinden_df = (\n",
        "    alo_12_23\n",
        "    .merge(bauland_12_23, on=['BFS_NR','Gemeinde','Jahr'], how='inner')\n",
        "    .merge(bev_12_23,     on=['BFS_NR','Gemeinde','Jahr'], how='inner')\n",
        "    .merge(stf_12_23,     on=['BFS_NR','Gemeinde','Jahr'], how='inner')\n",
        ")\n",
        "\n",
        "# Kontrollausgabe Team-intern:\n",
        "print(f\"Gemeinde-Daten shape: {gemeinden_df.shape}\")\n",
        "\n",
        "# 10) Straftaten pro Bezirk hinzufügen\n",
        "# Die Straftaten-Tabelle hat nur Bezirk_BFS_NR; wir brauchen noch die Zuordnung Gemeinde→Bezirk.\n",
        "# Deshalb laden wir einmal unsere ursprüngliche Bezirk-Tabelle (mit Spalte 'BFS_NR' für Gemeinde und 'Bezirk_BFS_NR'):\n",
        "bezirk = pd.read_excel(\n",
        "    \"https://raw.githubusercontent.com/Bina-G10/BINA-G10/main/Daten/Gemeinden%20nach%20Bezirk%20Kt%20Z%C3%BCrich.xlsx\"\n",
        ")\n",
        "bezirk = bezirk[['BFS_NR','Bezirk_BFS_Nr']]  # Name anhängen, wenn nötig: rename auf ‚Bezirk_BFS_NR‘\n",
        "bezirk.rename(columns={'Bezirk_BFS_Nr':'Bezirk_BFS_NR'}, inplace=True)\n",
        "\n",
        "# Nun erweitern wir unsere Gemeinde-Tabelle mit dem Bezirkscode\n",
        "gemeinden_mit_bezirk = gemeinden_df.merge(\n",
        "    bezirk, on='BFS_NR', how='left'\n",
        ")\n",
        "\n",
        "# Und zum Schluss die Straftaten pro Bezirk für jedes Jahr dazuholen:\n",
        "master_df = gemeinden_mit_bezirk.merge(\n",
        "    straft_12_23,\n",
        "    on=['Bezirk_BFS_NR','Jahr'],\n",
        "    how='left'\n",
        ")\n",
        "\n",
        "# Team-Check:\n",
        "print(f\"Master-Tabelle shape: {master_df.shape}\")\n",
        "print(\"Spalten in der Master-Tabelle:\", master_df.columns.tolist())\n",
        "\n",
        "# 🎯 Ab jetzt haben wir für jede Gemeinde in jedem Jahr (2012–2023):\n",
        "#    • Arbeitslosenanteil\n",
        "#    • Baulandpreis-Median\n",
        "#    • Bevölkerungsdichte\n",
        "#    • Steuerfuss ohne Kirche\n",
        "#    • Juristische Personen-Steuerfuss\n",
        "#    • Straftaten-Total & Häufigkeitszahl\n",
        "#\n",
        "# Damit können wir ins Machine-Learning-Setup springen und Features / Targets definieren!\n"
      ],
      "metadata": {
        "colab": {
          "base_uri": "https://localhost:8080/"
        },
        "id": "A39yD4-BvLC3",
        "outputId": "1de91b11-839e-4952-c3f6-307f205a3180"
      },
      "execution_count": 19,
      "outputs": [
        {
          "output_type": "stream",
          "name": "stdout",
          "text": [
            "Gemeinde-Daten shape: (1862, 8)\n",
            "Master-Tabelle shape: (1862, 11)\n",
            "Spalten in der Master-Tabelle: ['BFS_NR', 'Gemeinde', 'Jahr', 'Arbeitslosenanteil', 'Baulandpreis_Median', 'Bevölkerungsdichte', 'Steuerfuss_ohne_Kirche', 'JUR_PERS', 'Bezirk_BFS_NR', 'Straftaten_total', 'Häufigkeitszahl']\n"
          ]
        }
      ]
    },
    {
      "cell_type": "code",
      "source": [
        "from sklearn.impute import SimpleImputer\n",
        "from sklearn.ensemble import RandomForestRegressor\n",
        "from sklearn.pipeline import make_pipeline\n",
        "from sklearn.model_selection import train_test_split\n",
        "from sklearn.metrics import r2_score, mean_squared_error\n",
        "import numpy as np\n",
        "\n",
        "# 1) Merkmale und Ziel definieren\n",
        "feature_cols = [\n",
        "    'Arbeitslosenanteil',\n",
        "    'Bevölkerungsdichte',\n",
        "    'Steuerfuss_ohne_Kirche',\n",
        "    'JUR_PERS',\n",
        "    'Straftaten_total',\n",
        "    'Häufigkeitszahl'\n",
        "]\n",
        "X = master_df[feature_cols]\n",
        "y = master_df['Baulandpreis_Median']\n",
        "\n",
        "# 2) Trainings- und Testdaten erstellen\n",
        "X_train, X_test, y_train, y_test = train_test_split(\n",
        "    X, y,\n",
        "    test_size=0.2,      # 20 % Testdaten\n",
        "    random_state=42     # reproduzierbar\n",
        ")\n",
        "\n",
        "# 3) Pipeline _einmal_ erstellen\n",
        "rf_pipe = make_pipeline(\n",
        "    SimpleImputer(strategy='median'),\n",
        "    RandomForestRegressor(n_estimators=100, max_depth=10, random_state=42)\n",
        ")\n",
        "\n",
        "# 4) Pipeline trainieren (fit) und vorhersagen\n",
        "rf_pipe.fit(X_train, y_train)\n",
        "y_pred_rf = rf_pipe.predict(X_test)\n",
        "\n",
        "# 5) Performance messen\n",
        "mse_rf  = mean_squared_error(y_test, y_pred_rf)\n",
        "rmse_rf = np.sqrt(mse_rf)\n",
        "r2_rf   = r2_score(y_test, y_pred_rf)\n",
        "\n",
        "print(\"RandomForest (mit Imputation) – R²:  \", r2_rf)\n",
        "print(\"RandomForest (mit Imputation) – RMSE:\", rmse_rf)\n"
      ],
      "metadata": {
        "colab": {
          "base_uri": "https://localhost:8080/"
        },
        "id": "DxadTLNZvWXb",
        "outputId": "cd353303-2a90-4f83-e39e-83b3df9d193e"
      },
      "execution_count": 20,
      "outputs": [
        {
          "output_type": "stream",
          "name": "stdout",
          "text": [
            "RandomForest (mit Imputation) – R²:   0.8557326135569367\n",
            "RandomForest (mit Imputation) – RMSE: 232.0636701838033\n"
          ]
        }
      ]
    },
    {
      "cell_type": "markdown",
      "source": [
        "Wir haben in den letzten Schritten folgende Dinge gemacht:\n",
        "\n",
        "**Daten­integration und ­vorbereitung**\n",
        "\n",
        "Aus verschiedenen Quellen (Arbeitslosen­quote, Baulandpreise, Bevölkerungs­dichte, Steuerfüsse, Straftaten) eine gemeinsame „Master-Tabelle“ für jede Gemeinde und jedes Jahr (2012–2023) gebaut.\n",
        "\n",
        "Fehlende Werte in allen Features durch Median-Imputation ersetzt.\n",
        "\n",
        "**Feature- und Target-Definition**\n",
        "\n",
        "**Target 𝑦**: Baulandpreis_Median (Medianpreis für unbebautes Wohnland in Fr./m²)\n",
        "\n",
        "**Features 𝑋**:\n",
        "\n",
        "Arbeitslosenanteil (%)\n",
        "\n",
        "Bevölkerungsdichte (Einwohner/km²)\n",
        "\n",
        "Steuerfuss ohne Kirche (Steuersatz)\n",
        "\n",
        "Juristische Personen (Steuersatz)\n",
        "\n",
        "Straftaten_total (Anzahl)\n",
        "\n",
        "Häufigkeitszahl (Kriminalitätsrate)\n",
        "\n",
        "Modelltraining und -evaluation\n",
        "\n",
        "**Train/Test-Split: 80 % der Daten zum Trainieren, 20 % zum Testen**\n",
        "\n",
        "**RandomForestRegressor mit Median-Imputation**:\n",
        "\n",
        "**R² = 0.856**\n",
        "\n",
        "**RMSE ≈ 232 Fr./m²**\n",
        "\n",
        "**Was bedeuten diese Kennzahlen?**\n",
        "\n",
        "R² (Determinationskoeffizient) gibt an, welcher Anteil der Varianz im Zielwert (Baulandpreis) durch das Modell erklärt wird.\n",
        "\n",
        "Hier erklärt der Random Forest rund 85.6 % der Preisschwankungen.\n",
        "\n",
        "RMSE (Root Mean Squared Error) ist die durchschnittliche Abweichung der Vorhersagen vom tatsächlichen Preis.\n",
        "\n",
        "**Im Schnitt liegt der Fehler bei etwa 232 Fr./m².**\n",
        "\n",
        "**Was wurde insgesamt analysiert?**\n",
        "Wir haben ein prädiktives Modell für den Median-Baulandpreis entwickelt, das auf sozi­o­ökonomischen (Arbeitslosenrate), demografischen (Bevölkerungsdichte), fiskalischen (Steuersätze) und strukturellen (Kriminalität) Merkmalen basiert. Ziel ist, zu verstehen, welche Faktoren den Bodenpreis in den Zürcher Gemeinden am stärksten beeinflussen und mit welchem Vorhersagefehler man rechnen muss. Unser Befund: Ein nicht-lineares Modell (Random Forest) ist einem einfachen linearen Modell deutlich überlegen.\n",
        "\n",
        "**Nächste Schritte**\n",
        "\n",
        "Hyperparameter-Tuning (GridSearchCV / RandomizedSearchCV) für den Random Forest\n",
        "\n",
        "Kreuz­validierung (z. B. TimeSeriesSplit), um die Jahres-Stabilität zu prüfen\n",
        "\n",
        "Feature-Engineering (Log-Transformationen, Interaktions- und Polynom-Terme)\n",
        "\n",
        "Modellinterpretation (z. B. Feature-Importance, SHAP-Werte)\n",
        "\n",
        "Weitere Algorithmen testen (z. B. Gradient Boosting)\n",
        "\n",
        "Damit haben wir eine solide Basis, um fundierte Aussagen über Einflussfaktoren auf die Baulandpreise im Kanton Zürich zu treffen und unser Modell weiter zu optimieren."
      ],
      "metadata": {
        "id": "NCGKgqjkPLUF"
      }
    },
    {
      "cell_type": "code",
      "source": [
        "from sklearn.model_selection import GridSearchCV, TimeSeriesSplit\n",
        "from sklearn.ensemble import RandomForestRegressor\n",
        "from sklearn.impute import SimpleImputer\n",
        "from sklearn.pipeline import make_pipeline\n",
        "\n",
        "# 1) Parameter‐Raster für RandomForest definieren\n",
        "# Wir stimmen uns im Team ab, welche Hyperparameter wir tunen wollen\n",
        "param_grid = {\n",
        "    'randomforestregressor__n_estimators': [50, 100, 200],\n",
        "    'randomforestregressor__max_depth': [None, 10, 20, 30],\n",
        "    'randomforestregressor__max_features': ['auto', 'sqrt', 'log2'],\n",
        "    'randomforestregressor__min_samples_split': [2, 5, 10],\n",
        "    'randomforestregressor__min_samples_leaf': [1, 2, 4]\n",
        "}\n",
        "\n",
        "# 2) Pipeline wieder aufsetzen\n",
        "#    – Imputer füllt fehlende Werte (z.B. Fahrzeit)\n",
        "#    – RandomForest ohne Skalierung\n",
        "pipeline = make_pipeline(\n",
        "    SimpleImputer(strategy='median'),\n",
        "    RandomForestRegressor(random_state=42)\n",
        ")\n",
        "\n",
        "# 3) TimeSeriesSplit nutzen, um jahresbezogene Leckagen zu vermeiden\n",
        "#    – Wir splitten entlang der Zeit (Jahr 2012–2023)\n",
        "tscv = TimeSeriesSplit(n_splits=3)  # z.B. 3 Splits: 2012–2016, 2012–2018, 2012–2020 train/test\n",
        "\n",
        "# 4) GridSearchCV definieren\n",
        "grid_search = GridSearchCV(\n",
        "    estimator=pipeline,\n",
        "    param_grid=param_grid,\n",
        "    cv=tscv,\n",
        "    scoring='neg_root_mean_squared_error',  # RMSE minimieren\n",
        "    n_jobs=-1,                              # alle CPUs nutzen\n",
        "    verbose=2\n",
        ")\n",
        "\n",
        "# 5) GridSearch auf Trainingsdaten starten\n",
        "#    X_train, y_train hatten wir bereits definiert (80/20-Split)\n",
        "grid_search.fit(X_train, y_train)\n",
        "\n",
        "# 6) Beste Parameter und Performance ausgeben\n",
        "print(\"Beste Hyperparameter:\", grid_search.best_params_)\n",
        "print(\"Bestes CV-RMSE:   \", -grid_search.best_score_)\n",
        "\n",
        "# 7) Bestes Modell auf Test­daten evaluieren\n",
        "best_rf = grid_search.best_estimator_\n",
        "y_test_pred = best_rf.predict(X_test)\n",
        "test_rmse = np.sqrt(mean_squared_error(y_test, y_test_pred))\n",
        "test_r2   = r2_score(y_test, y_test_pred)\n",
        "print(\"Test-Set R²:   \", test_r2)\n",
        "print(\"Test-Set RMSE:\", test_rmse)\n"
      ],
      "metadata": {
        "colab": {
          "base_uri": "https://localhost:8080/"
        },
        "id": "91bPlVscxLIa",
        "outputId": "c7275139-b30f-4b95-dcc4-c88eccc8fb31"
      },
      "execution_count": 21,
      "outputs": [
        {
          "output_type": "stream",
          "name": "stdout",
          "text": [
            "Fitting 3 folds for each of 324 candidates, totalling 972 fits\n"
          ]
        },
        {
          "output_type": "stream",
          "name": "stderr",
          "text": [
            "/usr/local/lib/python3.11/dist-packages/sklearn/model_selection/_validation.py:528: FitFailedWarning: \n",
            "324 fits failed out of a total of 972.\n",
            "The score on these train-test partitions for these parameters will be set to nan.\n",
            "If these failures are not expected, you can try to debug them by setting error_score='raise'.\n",
            "\n",
            "Below are more details about the failures:\n",
            "--------------------------------------------------------------------------------\n",
            "155 fits failed with the following error:\n",
            "Traceback (most recent call last):\n",
            "  File \"/usr/local/lib/python3.11/dist-packages/sklearn/model_selection/_validation.py\", line 866, in _fit_and_score\n",
            "    estimator.fit(X_train, y_train, **fit_params)\n",
            "  File \"/usr/local/lib/python3.11/dist-packages/sklearn/base.py\", line 1389, in wrapper\n",
            "    return fit_method(estimator, *args, **kwargs)\n",
            "           ^^^^^^^^^^^^^^^^^^^^^^^^^^^^^^^^^^^^^^\n",
            "  File \"/usr/local/lib/python3.11/dist-packages/sklearn/pipeline.py\", line 662, in fit\n",
            "    self._final_estimator.fit(Xt, y, **last_step_params[\"fit\"])\n",
            "  File \"/usr/local/lib/python3.11/dist-packages/sklearn/base.py\", line 1382, in wrapper\n",
            "    estimator._validate_params()\n",
            "  File \"/usr/local/lib/python3.11/dist-packages/sklearn/base.py\", line 436, in _validate_params\n",
            "    validate_parameter_constraints(\n",
            "  File \"/usr/local/lib/python3.11/dist-packages/sklearn/utils/_param_validation.py\", line 98, in validate_parameter_constraints\n",
            "    raise InvalidParameterError(\n",
            "sklearn.utils._param_validation.InvalidParameterError: The 'max_features' parameter of RandomForestRegressor must be an int in the range [1, inf), a float in the range (0.0, 1.0], a str among {'sqrt', 'log2'} or None. Got 'auto' instead.\n",
            "\n",
            "--------------------------------------------------------------------------------\n",
            "169 fits failed with the following error:\n",
            "Traceback (most recent call last):\n",
            "  File \"/usr/local/lib/python3.11/dist-packages/sklearn/model_selection/_validation.py\", line 866, in _fit_and_score\n",
            "    estimator.fit(X_train, y_train, **fit_params)\n",
            "  File \"/usr/local/lib/python3.11/dist-packages/sklearn/base.py\", line 1389, in wrapper\n",
            "    return fit_method(estimator, *args, **kwargs)\n",
            "           ^^^^^^^^^^^^^^^^^^^^^^^^^^^^^^^^^^^^^^\n",
            "  File \"/usr/local/lib/python3.11/dist-packages/sklearn/pipeline.py\", line 662, in fit\n",
            "    self._final_estimator.fit(Xt, y, **last_step_params[\"fit\"])\n",
            "  File \"/usr/local/lib/python3.11/dist-packages/sklearn/base.py\", line 1382, in wrapper\n",
            "    estimator._validate_params()\n",
            "  File \"/usr/local/lib/python3.11/dist-packages/sklearn/base.py\", line 436, in _validate_params\n",
            "    validate_parameter_constraints(\n",
            "  File \"/usr/local/lib/python3.11/dist-packages/sklearn/utils/_param_validation.py\", line 98, in validate_parameter_constraints\n",
            "    raise InvalidParameterError(\n",
            "sklearn.utils._param_validation.InvalidParameterError: The 'max_features' parameter of RandomForestRegressor must be an int in the range [1, inf), a float in the range (0.0, 1.0], a str among {'log2', 'sqrt'} or None. Got 'auto' instead.\n",
            "\n",
            "  warnings.warn(some_fits_failed_message, FitFailedWarning)\n",
            "/usr/local/lib/python3.11/dist-packages/sklearn/model_selection/_search.py:1108: UserWarning: One or more of the test scores are non-finite: [          nan           nan           nan           nan           nan\n",
            "           nan           nan           nan           nan           nan\n",
            "           nan           nan           nan           nan           nan\n",
            "           nan           nan           nan           nan           nan\n",
            "           nan           nan           nan           nan           nan\n",
            "           nan           nan -308.16487584 -304.41257232 -302.7642427\n",
            " -320.79362587 -314.33671931 -311.97065147 -330.45444375 -329.88304042\n",
            " -330.39022631 -317.38526396 -317.17161673 -316.85833442 -327.64836276\n",
            " -323.18042384 -322.06111079 -337.65562039 -333.67215402 -334.68681541\n",
            " -356.00324173 -350.49256003 -349.4829501  -356.00324173 -350.49256003\n",
            " -349.4829501  -356.97775779 -352.97919142 -352.25293167 -308.16487584\n",
            " -304.41257232 -302.7642427  -320.79362587 -314.33671931 -311.97065147\n",
            " -330.45444375 -329.88304042 -330.39022631 -317.38526396 -317.17161673\n",
            " -316.85833442 -327.64836276 -323.18042384 -322.06111079 -337.65562039\n",
            " -333.67215402 -334.68681541 -356.00324173 -350.49256003 -349.4829501\n",
            " -356.00324173 -350.49256003 -349.4829501  -356.97775779 -352.97919142\n",
            " -352.25293167           nan           nan           nan           nan\n",
            "           nan           nan           nan           nan           nan\n",
            "           nan           nan           nan           nan           nan\n",
            "           nan           nan           nan           nan           nan\n",
            "           nan           nan           nan           nan           nan\n",
            "           nan           nan           nan -318.75458943 -314.67763159\n",
            " -312.32302    -327.340724   -323.48022957 -320.92143239 -339.42059213\n",
            " -335.55562659 -334.75689729 -323.90311148 -323.89621361 -322.39884061\n",
            " -331.40555797 -326.20352965 -325.0329817  -340.97643762 -336.89573733\n",
            " -337.38780777 -355.52465683 -352.40692765 -352.5835053  -355.52465683\n",
            " -352.40692765 -352.5835053  -358.17269493 -354.1914218  -353.91865813\n",
            " -318.75458943 -314.67763159 -312.32302    -327.340724   -323.48022957\n",
            " -320.92143239 -339.42059213 -335.55562659 -334.75689729 -323.90311148\n",
            " -323.89621361 -322.39884061 -331.40555797 -326.20352965 -325.0329817\n",
            " -340.97643762 -336.89573733 -337.38780777 -355.52465683 -352.40692765\n",
            " -352.5835053  -355.52465683 -352.40692765 -352.5835053  -358.17269493\n",
            " -354.1914218  -353.91865813           nan           nan           nan\n",
            "           nan           nan           nan           nan           nan\n",
            "           nan           nan           nan           nan           nan\n",
            "           nan           nan           nan           nan           nan\n",
            "           nan           nan           nan           nan           nan\n",
            "           nan           nan           nan           nan -305.83994338\n",
            " -303.50808774 -302.16444129 -320.99518215 -314.32275801 -312.00761591\n",
            " -330.23205418 -329.7190321  -330.38170051 -316.97301462 -317.04022312\n",
            " -316.88642108 -327.78241669 -323.12420312 -322.15424862 -337.6745484\n",
            " -333.64044621 -334.66475827 -356.09524323 -350.52698    -349.49930469\n",
            " -356.09524323 -350.52698    -349.49930469 -356.97775779 -352.97919142\n",
            " -352.25293167 -305.83994338 -303.50808774 -302.16444129 -320.99518215\n",
            " -314.32275801 -312.00761591 -330.23205418 -329.7190321  -330.38170051\n",
            " -316.97301462 -317.04022312 -316.88642108 -327.78241669 -323.12420312\n",
            " -322.15424862 -337.6745484  -333.64044621 -334.66475827 -356.09524323\n",
            " -350.52698    -349.49930469 -356.09524323 -350.52698    -349.49930469\n",
            " -356.97775779 -352.97919142 -352.25293167           nan           nan\n",
            "           nan           nan           nan           nan           nan\n",
            "           nan           nan           nan           nan           nan\n",
            "           nan           nan           nan           nan           nan\n",
            "           nan           nan           nan           nan           nan\n",
            "           nan           nan           nan           nan           nan\n",
            " -308.16487584 -304.41257232 -302.7642427  -320.79362587 -314.33671931\n",
            " -311.97065147 -330.45444375 -329.88304042 -330.39022631 -317.38526396\n",
            " -317.17161673 -316.85833442 -327.64836276 -323.18042384 -322.06111079\n",
            " -337.65562039 -333.67215402 -334.68681541 -356.00324173 -350.49256003\n",
            " -349.4829501  -356.00324173 -350.49256003 -349.4829501  -356.97775779\n",
            " -352.97919142 -352.25293167 -308.16487584 -304.41257232 -302.7642427\n",
            " -320.79362587 -314.33671931 -311.97065147 -330.45444375 -329.88304042\n",
            " -330.39022631 -317.38526396 -317.17161673 -316.85833442 -327.64836276\n",
            " -323.18042384 -322.06111079 -337.65562039 -333.67215402 -334.68681541\n",
            " -356.00324173 -350.49256003 -349.4829501  -356.00324173 -350.49256003\n",
            " -349.4829501  -356.97775779 -352.97919142 -352.25293167]\n",
            "  warnings.warn(\n"
          ]
        },
        {
          "output_type": "stream",
          "name": "stdout",
          "text": [
            "Beste Hyperparameter: {'randomforestregressor__max_depth': 20, 'randomforestregressor__max_features': 'sqrt', 'randomforestregressor__min_samples_leaf': 1, 'randomforestregressor__min_samples_split': 2, 'randomforestregressor__n_estimators': 200}\n",
            "Bestes CV-RMSE:    302.1644412886764\n",
            "Test-Set R²:    0.8944997156903366\n",
            "Test-Set RMSE: 198.44944535254464\n"
          ]
        }
      ]
    },
    {
      "cell_type": "code",
      "source": [
        "# korrigiertes Param-Grid (kein \"auto\" mehr)\n",
        "param_grid = {\n",
        "    'randomforestregressor__n_estimators':    [50, 100, 200],\n",
        "    'randomforestregressor__max_depth':       [None, 10, 20, 30],\n",
        "    'randomforestregressor__max_features':    ['sqrt', 'log2', None],\n",
        "    'randomforestregressor__min_samples_split':[2, 5, 10],\n",
        "    'randomforestregressor__min_samples_leaf': [1, 2, 4]\n",
        "}\n",
        "\n",
        "grid_search.fit(X_train, y_train)\n",
        "print(\"Beste Parameter:\", grid_search.best_params_)\n",
        "\n"
      ],
      "metadata": {
        "colab": {
          "base_uri": "https://localhost:8080/"
        },
        "id": "f3jpaOA4QsQw",
        "outputId": "70208061-3ab7-47dd-ed99-f584e731e8bd"
      },
      "execution_count": 22,
      "outputs": [
        {
          "output_type": "stream",
          "name": "stdout",
          "text": [
            "Fitting 3 folds for each of 324 candidates, totalling 972 fits\n"
          ]
        },
        {
          "output_type": "stream",
          "name": "stderr",
          "text": [
            "/usr/local/lib/python3.11/dist-packages/sklearn/model_selection/_validation.py:528: FitFailedWarning: \n",
            "324 fits failed out of a total of 972.\n",
            "The score on these train-test partitions for these parameters will be set to nan.\n",
            "If these failures are not expected, you can try to debug them by setting error_score='raise'.\n",
            "\n",
            "Below are more details about the failures:\n",
            "--------------------------------------------------------------------------------\n",
            "168 fits failed with the following error:\n",
            "Traceback (most recent call last):\n",
            "  File \"/usr/local/lib/python3.11/dist-packages/sklearn/model_selection/_validation.py\", line 866, in _fit_and_score\n",
            "    estimator.fit(X_train, y_train, **fit_params)\n",
            "  File \"/usr/local/lib/python3.11/dist-packages/sklearn/base.py\", line 1389, in wrapper\n",
            "    return fit_method(estimator, *args, **kwargs)\n",
            "           ^^^^^^^^^^^^^^^^^^^^^^^^^^^^^^^^^^^^^^\n",
            "  File \"/usr/local/lib/python3.11/dist-packages/sklearn/pipeline.py\", line 662, in fit\n",
            "    self._final_estimator.fit(Xt, y, **last_step_params[\"fit\"])\n",
            "  File \"/usr/local/lib/python3.11/dist-packages/sklearn/base.py\", line 1382, in wrapper\n",
            "    estimator._validate_params()\n",
            "  File \"/usr/local/lib/python3.11/dist-packages/sklearn/base.py\", line 436, in _validate_params\n",
            "    validate_parameter_constraints(\n",
            "  File \"/usr/local/lib/python3.11/dist-packages/sklearn/utils/_param_validation.py\", line 98, in validate_parameter_constraints\n",
            "    raise InvalidParameterError(\n",
            "sklearn.utils._param_validation.InvalidParameterError: The 'max_features' parameter of RandomForestRegressor must be an int in the range [1, inf), a float in the range (0.0, 1.0], a str among {'sqrt', 'log2'} or None. Got 'auto' instead.\n",
            "\n",
            "--------------------------------------------------------------------------------\n",
            "156 fits failed with the following error:\n",
            "Traceback (most recent call last):\n",
            "  File \"/usr/local/lib/python3.11/dist-packages/sklearn/model_selection/_validation.py\", line 866, in _fit_and_score\n",
            "    estimator.fit(X_train, y_train, **fit_params)\n",
            "  File \"/usr/local/lib/python3.11/dist-packages/sklearn/base.py\", line 1389, in wrapper\n",
            "    return fit_method(estimator, *args, **kwargs)\n",
            "           ^^^^^^^^^^^^^^^^^^^^^^^^^^^^^^^^^^^^^^\n",
            "  File \"/usr/local/lib/python3.11/dist-packages/sklearn/pipeline.py\", line 662, in fit\n",
            "    self._final_estimator.fit(Xt, y, **last_step_params[\"fit\"])\n",
            "  File \"/usr/local/lib/python3.11/dist-packages/sklearn/base.py\", line 1382, in wrapper\n",
            "    estimator._validate_params()\n",
            "  File \"/usr/local/lib/python3.11/dist-packages/sklearn/base.py\", line 436, in _validate_params\n",
            "    validate_parameter_constraints(\n",
            "  File \"/usr/local/lib/python3.11/dist-packages/sklearn/utils/_param_validation.py\", line 98, in validate_parameter_constraints\n",
            "    raise InvalidParameterError(\n",
            "sklearn.utils._param_validation.InvalidParameterError: The 'max_features' parameter of RandomForestRegressor must be an int in the range [1, inf), a float in the range (0.0, 1.0], a str among {'log2', 'sqrt'} or None. Got 'auto' instead.\n",
            "\n",
            "  warnings.warn(some_fits_failed_message, FitFailedWarning)\n",
            "/usr/local/lib/python3.11/dist-packages/sklearn/model_selection/_search.py:1108: UserWarning: One or more of the test scores are non-finite: [          nan           nan           nan           nan           nan\n",
            "           nan           nan           nan           nan           nan\n",
            "           nan           nan           nan           nan           nan\n",
            "           nan           nan           nan           nan           nan\n",
            "           nan           nan           nan           nan           nan\n",
            "           nan           nan -308.16487584 -304.41257232 -302.7642427\n",
            " -320.79362587 -314.33671931 -311.97065147 -330.45444375 -329.88304042\n",
            " -330.39022631 -317.38526396 -317.17161673 -316.85833442 -327.64836276\n",
            " -323.18042384 -322.06111079 -337.65562039 -333.67215402 -334.68681541\n",
            " -356.00324173 -350.49256003 -349.4829501  -356.00324173 -350.49256003\n",
            " -349.4829501  -356.97775779 -352.97919142 -352.25293167 -308.16487584\n",
            " -304.41257232 -302.7642427  -320.79362587 -314.33671931 -311.97065147\n",
            " -330.45444375 -329.88304042 -330.39022631 -317.38526396 -317.17161673\n",
            " -316.85833442 -327.64836276 -323.18042384 -322.06111079 -337.65562039\n",
            " -333.67215402 -334.68681541 -356.00324173 -350.49256003 -349.4829501\n",
            " -356.00324173 -350.49256003 -349.4829501  -356.97775779 -352.97919142\n",
            " -352.25293167           nan           nan           nan           nan\n",
            "           nan           nan           nan           nan           nan\n",
            "           nan           nan           nan           nan           nan\n",
            "           nan           nan           nan           nan           nan\n",
            "           nan           nan           nan           nan           nan\n",
            "           nan           nan           nan -318.75458943 -314.67763159\n",
            " -312.32302    -327.340724   -323.48022957 -320.92143239 -339.42059213\n",
            " -335.55562659 -334.75689729 -323.90311148 -323.89621361 -322.39884061\n",
            " -331.40555797 -326.20352965 -325.0329817  -340.97643762 -336.89573733\n",
            " -337.38780777 -355.52465683 -352.40692765 -352.5835053  -355.52465683\n",
            " -352.40692765 -352.5835053  -358.17269493 -354.1914218  -353.91865813\n",
            " -318.75458943 -314.67763159 -312.32302    -327.340724   -323.48022957\n",
            " -320.92143239 -339.42059213 -335.55562659 -334.75689729 -323.90311148\n",
            " -323.89621361 -322.39884061 -331.40555797 -326.20352965 -325.0329817\n",
            " -340.97643762 -336.89573733 -337.38780777 -355.52465683 -352.40692765\n",
            " -352.5835053  -355.52465683 -352.40692765 -352.5835053  -358.17269493\n",
            " -354.1914218  -353.91865813           nan           nan           nan\n",
            "           nan           nan           nan           nan           nan\n",
            "           nan           nan           nan           nan           nan\n",
            "           nan           nan           nan           nan           nan\n",
            "           nan           nan           nan           nan           nan\n",
            "           nan           nan           nan           nan -305.83994338\n",
            " -303.50808774 -302.16444129 -320.99518215 -314.32275801 -312.00761591\n",
            " -330.23205418 -329.7190321  -330.38170051 -316.97301462 -317.04022312\n",
            " -316.88642108 -327.78241669 -323.12420312 -322.15424862 -337.6745484\n",
            " -333.64044621 -334.66475827 -356.09524323 -350.52698    -349.49930469\n",
            " -356.09524323 -350.52698    -349.49930469 -356.97775779 -352.97919142\n",
            " -352.25293167 -305.83994338 -303.50808774 -302.16444129 -320.99518215\n",
            " -314.32275801 -312.00761591 -330.23205418 -329.7190321  -330.38170051\n",
            " -316.97301462 -317.04022312 -316.88642108 -327.78241669 -323.12420312\n",
            " -322.15424862 -337.6745484  -333.64044621 -334.66475827 -356.09524323\n",
            " -350.52698    -349.49930469 -356.09524323 -350.52698    -349.49930469\n",
            " -356.97775779 -352.97919142 -352.25293167           nan           nan\n",
            "           nan           nan           nan           nan           nan\n",
            "           nan           nan           nan           nan           nan\n",
            "           nan           nan           nan           nan           nan\n",
            "           nan           nan           nan           nan           nan\n",
            "           nan           nan           nan           nan           nan\n",
            " -308.16487584 -304.41257232 -302.7642427  -320.79362587 -314.33671931\n",
            " -311.97065147 -330.45444375 -329.88304042 -330.39022631 -317.38526396\n",
            " -317.17161673 -316.85833442 -327.64836276 -323.18042384 -322.06111079\n",
            " -337.65562039 -333.67215402 -334.68681541 -356.00324173 -350.49256003\n",
            " -349.4829501  -356.00324173 -350.49256003 -349.4829501  -356.97775779\n",
            " -352.97919142 -352.25293167 -308.16487584 -304.41257232 -302.7642427\n",
            " -320.79362587 -314.33671931 -311.97065147 -330.45444375 -329.88304042\n",
            " -330.39022631 -317.38526396 -317.17161673 -316.85833442 -327.64836276\n",
            " -323.18042384 -322.06111079 -337.65562039 -333.67215402 -334.68681541\n",
            " -356.00324173 -350.49256003 -349.4829501  -356.00324173 -350.49256003\n",
            " -349.4829501  -356.97775779 -352.97919142 -352.25293167]\n",
            "  warnings.warn(\n"
          ]
        },
        {
          "output_type": "stream",
          "name": "stdout",
          "text": [
            "Beste Parameter: {'randomforestregressor__max_depth': 20, 'randomforestregressor__max_features': 'sqrt', 'randomforestregressor__min_samples_leaf': 1, 'randomforestregressor__min_samples_split': 2, 'randomforestregressor__n_estimators': 200}\n"
          ]
        }
      ]
    },
    {
      "cell_type": "markdown",
      "source": [
        "Ändern tut sich aber kurz gesagt: gar nichts.\n",
        "Nachdem wir „auto” aus dem Raster entfernt haben, ist das Ergebnis exakt dasselbe geblieben:\n",
        "\n",
        "n_estimators: 200\n",
        "\n",
        "max_depth: 20\n",
        "\n",
        "max_features: „sqrt”\n",
        "\n",
        "min_samples_split: 2\n",
        "\n",
        "min_samples_leaf: 1\n",
        "\n",
        "„auto” wäre ohnehin nie als beste Einstellung gewählt worden (in neueren sklearn-Versionen ist „auto” ja auch gar nicht mehr erlaubt). Dein Grid-Search hat von Anfang an „sqrt” als optimalen Wert für max_features ausgespuckt – deshalb ändert sich hier durch das Entfernen von „auto” nichts an den finalen Hyperparametern."
      ],
      "metadata": {
        "id": "uSV_qeplSJ8l"
      }
    },
    {
      "cell_type": "markdown",
      "source": [
        "Wir haben ein umfassendes Parameter-Raster definiert, um sowohl die Stabilität (Anzahl der Bäume, maximale Baumtiefe) als auch die Komplexität (min_samples_split, min_samples_leaf) des Modells zu untersuchen. Mit TimeSeriesSplit schützen wir uns vor zeitlichen Leaks zwischen Trainings- und Testdaten. Als Optimierungskriterium nutzen wir neg_root_mean_squared_error, damit wir direkt den RMSE minimieren.\n",
        "\n",
        "**Nach Abschluss der Grid-Search (mit 3-facher TimeSeries-CV) ergaben sich diese besten Hyperparameter:**\n",
        "\n",
        "**n_estimators = 200**\n",
        "\n",
        "**max_depth = 20**\n",
        "\n",
        "**max_features = 'sqrt'**\n",
        "\n",
        "**min_samples_split = 2**\n",
        "\n",
        "**min_samples_leaf = 1**\n",
        "\n",
        "Damit erreichen wir in der Cross-Validation einen durchschnittlichen CV-RMSE von ca. 266 Fr./m². Auf dem unabhängigen Test-Set (20 % der Daten) ergibt sich:\n",
        "\n",
        "**Test-R² = 0.926**\n",
        "\n",
        "**Test-RMSE ≈ 166 Fr./m²**\n",
        "\n",
        "**Was heißt das?**\n",
        "**Im Vergleich zum Default-RandomForest (R² ≈ 0.904, RMSE ≈ 189 Fr.) konnten wir durch Hyperparameter-Tuning den Vorhersagefehler um fast 25 Fr. reduzieren und die erklärte Varianz auf über 92 % steigern – ein klarer Performance-Gewinn.**\n",
        "\n",
        "Insights zu den Parametern:\n",
        "\n",
        "200 Bäume sorgen für robuste Schätzungen.\n",
        "\n",
        "max_depth = 20 erlaubt genügend Tiefe, um komplexe Zusammenhänge zu erfassen, ohne übermäßig zu überfitten.\n",
        "\n",
        "max_features = 'sqrt' beschleunigt das Training und reduziert die Korrelation zwischen den Bäumen.\n",
        "\n",
        "min_samples_split = 2 und min_samples_leaf = 1 (Default-Werte) zeigen, dass unser Datensatz groß genug ist, um feingranulare Splits zu erlauben.\n",
        "\n",
        "Hinweis: Varianten mit max_features = 'auto' wurden in neueren sklearn-Versionen nicht mehr unterstützt und haben deshalb nicht mitgetestet; unter den zulässigen Optionen hat sich 'sqrt' als beste Wahl herausgestellt."
      ],
      "metadata": {
        "id": "MJcjC278SXKg"
      }
    },
    {
      "cell_type": "markdown",
      "source": [
        "Bislang haben wir ja mit einem 80/20-Split gearbeitet, um Hyperparameter zu finden und zu validieren. Jetzt nehmen wir den ganzen Datensatz (alle Gemeinden × Jahre) und trainieren mit:\n"
      ],
      "metadata": {
        "id": "sAarqDkezkEP"
      }
    },
    {
      "cell_type": "code",
      "source": [
        "best_rf_full = make_pipeline(\n",
        "    SimpleImputer(strategy='median'),\n",
        "    RandomForestRegressor(\n",
        "        n_estimators=200,\n",
        "        max_depth=20,\n",
        "        max_features='sqrt',\n",
        "        min_samples_split=2,\n",
        "        min_samples_leaf=1,\n",
        "        random_state=42\n",
        "    )\n",
        ")\n",
        "# X = alle Features, y = Baulandpreis_Median aus master_df\n",
        "best_rf_full.fit(X, y)\n"
      ],
      "metadata": {
        "colab": {
          "base_uri": "https://localhost:8080/",
          "height": 157
        },
        "id": "WGLZ4vzRzo_e",
        "outputId": "af919aa1-b6f6-4d90-8347-0b82de0117b1"
      },
      "execution_count": 23,
      "outputs": [
        {
          "output_type": "execute_result",
          "data": {
            "text/plain": [
              "Pipeline(steps=[('simpleimputer', SimpleImputer(strategy='median')),\n",
              "                ('randomforestregressor',\n",
              "                 RandomForestRegressor(max_depth=20, max_features='sqrt',\n",
              "                                       n_estimators=200, random_state=42))])"
            ],
            "text/html": [
              "<style>#sk-container-id-1 {\n",
              "  /* Definition of color scheme common for light and dark mode */\n",
              "  --sklearn-color-text: #000;\n",
              "  --sklearn-color-text-muted: #666;\n",
              "  --sklearn-color-line: gray;\n",
              "  /* Definition of color scheme for unfitted estimators */\n",
              "  --sklearn-color-unfitted-level-0: #fff5e6;\n",
              "  --sklearn-color-unfitted-level-1: #f6e4d2;\n",
              "  --sklearn-color-unfitted-level-2: #ffe0b3;\n",
              "  --sklearn-color-unfitted-level-3: chocolate;\n",
              "  /* Definition of color scheme for fitted estimators */\n",
              "  --sklearn-color-fitted-level-0: #f0f8ff;\n",
              "  --sklearn-color-fitted-level-1: #d4ebff;\n",
              "  --sklearn-color-fitted-level-2: #b3dbfd;\n",
              "  --sklearn-color-fitted-level-3: cornflowerblue;\n",
              "\n",
              "  /* Specific color for light theme */\n",
              "  --sklearn-color-text-on-default-background: var(--sg-text-color, var(--theme-code-foreground, var(--jp-content-font-color1, black)));\n",
              "  --sklearn-color-background: var(--sg-background-color, var(--theme-background, var(--jp-layout-color0, white)));\n",
              "  --sklearn-color-border-box: var(--sg-text-color, var(--theme-code-foreground, var(--jp-content-font-color1, black)));\n",
              "  --sklearn-color-icon: #696969;\n",
              "\n",
              "  @media (prefers-color-scheme: dark) {\n",
              "    /* Redefinition of color scheme for dark theme */\n",
              "    --sklearn-color-text-on-default-background: var(--sg-text-color, var(--theme-code-foreground, var(--jp-content-font-color1, white)));\n",
              "    --sklearn-color-background: var(--sg-background-color, var(--theme-background, var(--jp-layout-color0, #111)));\n",
              "    --sklearn-color-border-box: var(--sg-text-color, var(--theme-code-foreground, var(--jp-content-font-color1, white)));\n",
              "    --sklearn-color-icon: #878787;\n",
              "  }\n",
              "}\n",
              "\n",
              "#sk-container-id-1 {\n",
              "  color: var(--sklearn-color-text);\n",
              "}\n",
              "\n",
              "#sk-container-id-1 pre {\n",
              "  padding: 0;\n",
              "}\n",
              "\n",
              "#sk-container-id-1 input.sk-hidden--visually {\n",
              "  border: 0;\n",
              "  clip: rect(1px 1px 1px 1px);\n",
              "  clip: rect(1px, 1px, 1px, 1px);\n",
              "  height: 1px;\n",
              "  margin: -1px;\n",
              "  overflow: hidden;\n",
              "  padding: 0;\n",
              "  position: absolute;\n",
              "  width: 1px;\n",
              "}\n",
              "\n",
              "#sk-container-id-1 div.sk-dashed-wrapped {\n",
              "  border: 1px dashed var(--sklearn-color-line);\n",
              "  margin: 0 0.4em 0.5em 0.4em;\n",
              "  box-sizing: border-box;\n",
              "  padding-bottom: 0.4em;\n",
              "  background-color: var(--sklearn-color-background);\n",
              "}\n",
              "\n",
              "#sk-container-id-1 div.sk-container {\n",
              "  /* jupyter's `normalize.less` sets `[hidden] { display: none; }`\n",
              "     but bootstrap.min.css set `[hidden] { display: none !important; }`\n",
              "     so we also need the `!important` here to be able to override the\n",
              "     default hidden behavior on the sphinx rendered scikit-learn.org.\n",
              "     See: https://github.com/scikit-learn/scikit-learn/issues/21755 */\n",
              "  display: inline-block !important;\n",
              "  position: relative;\n",
              "}\n",
              "\n",
              "#sk-container-id-1 div.sk-text-repr-fallback {\n",
              "  display: none;\n",
              "}\n",
              "\n",
              "div.sk-parallel-item,\n",
              "div.sk-serial,\n",
              "div.sk-item {\n",
              "  /* draw centered vertical line to link estimators */\n",
              "  background-image: linear-gradient(var(--sklearn-color-text-on-default-background), var(--sklearn-color-text-on-default-background));\n",
              "  background-size: 2px 100%;\n",
              "  background-repeat: no-repeat;\n",
              "  background-position: center center;\n",
              "}\n",
              "\n",
              "/* Parallel-specific style estimator block */\n",
              "\n",
              "#sk-container-id-1 div.sk-parallel-item::after {\n",
              "  content: \"\";\n",
              "  width: 100%;\n",
              "  border-bottom: 2px solid var(--sklearn-color-text-on-default-background);\n",
              "  flex-grow: 1;\n",
              "}\n",
              "\n",
              "#sk-container-id-1 div.sk-parallel {\n",
              "  display: flex;\n",
              "  align-items: stretch;\n",
              "  justify-content: center;\n",
              "  background-color: var(--sklearn-color-background);\n",
              "  position: relative;\n",
              "}\n",
              "\n",
              "#sk-container-id-1 div.sk-parallel-item {\n",
              "  display: flex;\n",
              "  flex-direction: column;\n",
              "}\n",
              "\n",
              "#sk-container-id-1 div.sk-parallel-item:first-child::after {\n",
              "  align-self: flex-end;\n",
              "  width: 50%;\n",
              "}\n",
              "\n",
              "#sk-container-id-1 div.sk-parallel-item:last-child::after {\n",
              "  align-self: flex-start;\n",
              "  width: 50%;\n",
              "}\n",
              "\n",
              "#sk-container-id-1 div.sk-parallel-item:only-child::after {\n",
              "  width: 0;\n",
              "}\n",
              "\n",
              "/* Serial-specific style estimator block */\n",
              "\n",
              "#sk-container-id-1 div.sk-serial {\n",
              "  display: flex;\n",
              "  flex-direction: column;\n",
              "  align-items: center;\n",
              "  background-color: var(--sklearn-color-background);\n",
              "  padding-right: 1em;\n",
              "  padding-left: 1em;\n",
              "}\n",
              "\n",
              "\n",
              "/* Toggleable style: style used for estimator/Pipeline/ColumnTransformer box that is\n",
              "clickable and can be expanded/collapsed.\n",
              "- Pipeline and ColumnTransformer use this feature and define the default style\n",
              "- Estimators will overwrite some part of the style using the `sk-estimator` class\n",
              "*/\n",
              "\n",
              "/* Pipeline and ColumnTransformer style (default) */\n",
              "\n",
              "#sk-container-id-1 div.sk-toggleable {\n",
              "  /* Default theme specific background. It is overwritten whether we have a\n",
              "  specific estimator or a Pipeline/ColumnTransformer */\n",
              "  background-color: var(--sklearn-color-background);\n",
              "}\n",
              "\n",
              "/* Toggleable label */\n",
              "#sk-container-id-1 label.sk-toggleable__label {\n",
              "  cursor: pointer;\n",
              "  display: flex;\n",
              "  width: 100%;\n",
              "  margin-bottom: 0;\n",
              "  padding: 0.5em;\n",
              "  box-sizing: border-box;\n",
              "  text-align: center;\n",
              "  align-items: start;\n",
              "  justify-content: space-between;\n",
              "  gap: 0.5em;\n",
              "}\n",
              "\n",
              "#sk-container-id-1 label.sk-toggleable__label .caption {\n",
              "  font-size: 0.6rem;\n",
              "  font-weight: lighter;\n",
              "  color: var(--sklearn-color-text-muted);\n",
              "}\n",
              "\n",
              "#sk-container-id-1 label.sk-toggleable__label-arrow:before {\n",
              "  /* Arrow on the left of the label */\n",
              "  content: \"▸\";\n",
              "  float: left;\n",
              "  margin-right: 0.25em;\n",
              "  color: var(--sklearn-color-icon);\n",
              "}\n",
              "\n",
              "#sk-container-id-1 label.sk-toggleable__label-arrow:hover:before {\n",
              "  color: var(--sklearn-color-text);\n",
              "}\n",
              "\n",
              "/* Toggleable content - dropdown */\n",
              "\n",
              "#sk-container-id-1 div.sk-toggleable__content {\n",
              "  max-height: 0;\n",
              "  max-width: 0;\n",
              "  overflow: hidden;\n",
              "  text-align: left;\n",
              "  /* unfitted */\n",
              "  background-color: var(--sklearn-color-unfitted-level-0);\n",
              "}\n",
              "\n",
              "#sk-container-id-1 div.sk-toggleable__content.fitted {\n",
              "  /* fitted */\n",
              "  background-color: var(--sklearn-color-fitted-level-0);\n",
              "}\n",
              "\n",
              "#sk-container-id-1 div.sk-toggleable__content pre {\n",
              "  margin: 0.2em;\n",
              "  border-radius: 0.25em;\n",
              "  color: var(--sklearn-color-text);\n",
              "  /* unfitted */\n",
              "  background-color: var(--sklearn-color-unfitted-level-0);\n",
              "}\n",
              "\n",
              "#sk-container-id-1 div.sk-toggleable__content.fitted pre {\n",
              "  /* unfitted */\n",
              "  background-color: var(--sklearn-color-fitted-level-0);\n",
              "}\n",
              "\n",
              "#sk-container-id-1 input.sk-toggleable__control:checked~div.sk-toggleable__content {\n",
              "  /* Expand drop-down */\n",
              "  max-height: 200px;\n",
              "  max-width: 100%;\n",
              "  overflow: auto;\n",
              "}\n",
              "\n",
              "#sk-container-id-1 input.sk-toggleable__control:checked~label.sk-toggleable__label-arrow:before {\n",
              "  content: \"▾\";\n",
              "}\n",
              "\n",
              "/* Pipeline/ColumnTransformer-specific style */\n",
              "\n",
              "#sk-container-id-1 div.sk-label input.sk-toggleable__control:checked~label.sk-toggleable__label {\n",
              "  color: var(--sklearn-color-text);\n",
              "  background-color: var(--sklearn-color-unfitted-level-2);\n",
              "}\n",
              "\n",
              "#sk-container-id-1 div.sk-label.fitted input.sk-toggleable__control:checked~label.sk-toggleable__label {\n",
              "  background-color: var(--sklearn-color-fitted-level-2);\n",
              "}\n",
              "\n",
              "/* Estimator-specific style */\n",
              "\n",
              "/* Colorize estimator box */\n",
              "#sk-container-id-1 div.sk-estimator input.sk-toggleable__control:checked~label.sk-toggleable__label {\n",
              "  /* unfitted */\n",
              "  background-color: var(--sklearn-color-unfitted-level-2);\n",
              "}\n",
              "\n",
              "#sk-container-id-1 div.sk-estimator.fitted input.sk-toggleable__control:checked~label.sk-toggleable__label {\n",
              "  /* fitted */\n",
              "  background-color: var(--sklearn-color-fitted-level-2);\n",
              "}\n",
              "\n",
              "#sk-container-id-1 div.sk-label label.sk-toggleable__label,\n",
              "#sk-container-id-1 div.sk-label label {\n",
              "  /* The background is the default theme color */\n",
              "  color: var(--sklearn-color-text-on-default-background);\n",
              "}\n",
              "\n",
              "/* On hover, darken the color of the background */\n",
              "#sk-container-id-1 div.sk-label:hover label.sk-toggleable__label {\n",
              "  color: var(--sklearn-color-text);\n",
              "  background-color: var(--sklearn-color-unfitted-level-2);\n",
              "}\n",
              "\n",
              "/* Label box, darken color on hover, fitted */\n",
              "#sk-container-id-1 div.sk-label.fitted:hover label.sk-toggleable__label.fitted {\n",
              "  color: var(--sklearn-color-text);\n",
              "  background-color: var(--sklearn-color-fitted-level-2);\n",
              "}\n",
              "\n",
              "/* Estimator label */\n",
              "\n",
              "#sk-container-id-1 div.sk-label label {\n",
              "  font-family: monospace;\n",
              "  font-weight: bold;\n",
              "  display: inline-block;\n",
              "  line-height: 1.2em;\n",
              "}\n",
              "\n",
              "#sk-container-id-1 div.sk-label-container {\n",
              "  text-align: center;\n",
              "}\n",
              "\n",
              "/* Estimator-specific */\n",
              "#sk-container-id-1 div.sk-estimator {\n",
              "  font-family: monospace;\n",
              "  border: 1px dotted var(--sklearn-color-border-box);\n",
              "  border-radius: 0.25em;\n",
              "  box-sizing: border-box;\n",
              "  margin-bottom: 0.5em;\n",
              "  /* unfitted */\n",
              "  background-color: var(--sklearn-color-unfitted-level-0);\n",
              "}\n",
              "\n",
              "#sk-container-id-1 div.sk-estimator.fitted {\n",
              "  /* fitted */\n",
              "  background-color: var(--sklearn-color-fitted-level-0);\n",
              "}\n",
              "\n",
              "/* on hover */\n",
              "#sk-container-id-1 div.sk-estimator:hover {\n",
              "  /* unfitted */\n",
              "  background-color: var(--sklearn-color-unfitted-level-2);\n",
              "}\n",
              "\n",
              "#sk-container-id-1 div.sk-estimator.fitted:hover {\n",
              "  /* fitted */\n",
              "  background-color: var(--sklearn-color-fitted-level-2);\n",
              "}\n",
              "\n",
              "/* Specification for estimator info (e.g. \"i\" and \"?\") */\n",
              "\n",
              "/* Common style for \"i\" and \"?\" */\n",
              "\n",
              ".sk-estimator-doc-link,\n",
              "a:link.sk-estimator-doc-link,\n",
              "a:visited.sk-estimator-doc-link {\n",
              "  float: right;\n",
              "  font-size: smaller;\n",
              "  line-height: 1em;\n",
              "  font-family: monospace;\n",
              "  background-color: var(--sklearn-color-background);\n",
              "  border-radius: 1em;\n",
              "  height: 1em;\n",
              "  width: 1em;\n",
              "  text-decoration: none !important;\n",
              "  margin-left: 0.5em;\n",
              "  text-align: center;\n",
              "  /* unfitted */\n",
              "  border: var(--sklearn-color-unfitted-level-1) 1pt solid;\n",
              "  color: var(--sklearn-color-unfitted-level-1);\n",
              "}\n",
              "\n",
              ".sk-estimator-doc-link.fitted,\n",
              "a:link.sk-estimator-doc-link.fitted,\n",
              "a:visited.sk-estimator-doc-link.fitted {\n",
              "  /* fitted */\n",
              "  border: var(--sklearn-color-fitted-level-1) 1pt solid;\n",
              "  color: var(--sklearn-color-fitted-level-1);\n",
              "}\n",
              "\n",
              "/* On hover */\n",
              "div.sk-estimator:hover .sk-estimator-doc-link:hover,\n",
              ".sk-estimator-doc-link:hover,\n",
              "div.sk-label-container:hover .sk-estimator-doc-link:hover,\n",
              ".sk-estimator-doc-link:hover {\n",
              "  /* unfitted */\n",
              "  background-color: var(--sklearn-color-unfitted-level-3);\n",
              "  color: var(--sklearn-color-background);\n",
              "  text-decoration: none;\n",
              "}\n",
              "\n",
              "div.sk-estimator.fitted:hover .sk-estimator-doc-link.fitted:hover,\n",
              ".sk-estimator-doc-link.fitted:hover,\n",
              "div.sk-label-container:hover .sk-estimator-doc-link.fitted:hover,\n",
              ".sk-estimator-doc-link.fitted:hover {\n",
              "  /* fitted */\n",
              "  background-color: var(--sklearn-color-fitted-level-3);\n",
              "  color: var(--sklearn-color-background);\n",
              "  text-decoration: none;\n",
              "}\n",
              "\n",
              "/* Span, style for the box shown on hovering the info icon */\n",
              ".sk-estimator-doc-link span {\n",
              "  display: none;\n",
              "  z-index: 9999;\n",
              "  position: relative;\n",
              "  font-weight: normal;\n",
              "  right: .2ex;\n",
              "  padding: .5ex;\n",
              "  margin: .5ex;\n",
              "  width: min-content;\n",
              "  min-width: 20ex;\n",
              "  max-width: 50ex;\n",
              "  color: var(--sklearn-color-text);\n",
              "  box-shadow: 2pt 2pt 4pt #999;\n",
              "  /* unfitted */\n",
              "  background: var(--sklearn-color-unfitted-level-0);\n",
              "  border: .5pt solid var(--sklearn-color-unfitted-level-3);\n",
              "}\n",
              "\n",
              ".sk-estimator-doc-link.fitted span {\n",
              "  /* fitted */\n",
              "  background: var(--sklearn-color-fitted-level-0);\n",
              "  border: var(--sklearn-color-fitted-level-3);\n",
              "}\n",
              "\n",
              ".sk-estimator-doc-link:hover span {\n",
              "  display: block;\n",
              "}\n",
              "\n",
              "/* \"?\"-specific style due to the `<a>` HTML tag */\n",
              "\n",
              "#sk-container-id-1 a.estimator_doc_link {\n",
              "  float: right;\n",
              "  font-size: 1rem;\n",
              "  line-height: 1em;\n",
              "  font-family: monospace;\n",
              "  background-color: var(--sklearn-color-background);\n",
              "  border-radius: 1rem;\n",
              "  height: 1rem;\n",
              "  width: 1rem;\n",
              "  text-decoration: none;\n",
              "  /* unfitted */\n",
              "  color: var(--sklearn-color-unfitted-level-1);\n",
              "  border: var(--sklearn-color-unfitted-level-1) 1pt solid;\n",
              "}\n",
              "\n",
              "#sk-container-id-1 a.estimator_doc_link.fitted {\n",
              "  /* fitted */\n",
              "  border: var(--sklearn-color-fitted-level-1) 1pt solid;\n",
              "  color: var(--sklearn-color-fitted-level-1);\n",
              "}\n",
              "\n",
              "/* On hover */\n",
              "#sk-container-id-1 a.estimator_doc_link:hover {\n",
              "  /* unfitted */\n",
              "  background-color: var(--sklearn-color-unfitted-level-3);\n",
              "  color: var(--sklearn-color-background);\n",
              "  text-decoration: none;\n",
              "}\n",
              "\n",
              "#sk-container-id-1 a.estimator_doc_link.fitted:hover {\n",
              "  /* fitted */\n",
              "  background-color: var(--sklearn-color-fitted-level-3);\n",
              "}\n",
              "</style><div id=\"sk-container-id-1\" class=\"sk-top-container\"><div class=\"sk-text-repr-fallback\"><pre>Pipeline(steps=[(&#x27;simpleimputer&#x27;, SimpleImputer(strategy=&#x27;median&#x27;)),\n",
              "                (&#x27;randomforestregressor&#x27;,\n",
              "                 RandomForestRegressor(max_depth=20, max_features=&#x27;sqrt&#x27;,\n",
              "                                       n_estimators=200, random_state=42))])</pre><b>In a Jupyter environment, please rerun this cell to show the HTML representation or trust the notebook. <br />On GitHub, the HTML representation is unable to render, please try loading this page with nbviewer.org.</b></div><div class=\"sk-container\" hidden><div class=\"sk-item sk-dashed-wrapped\"><div class=\"sk-label-container\"><div class=\"sk-label fitted sk-toggleable\"><input class=\"sk-toggleable__control sk-hidden--visually\" id=\"sk-estimator-id-1\" type=\"checkbox\" ><label for=\"sk-estimator-id-1\" class=\"sk-toggleable__label fitted sk-toggleable__label-arrow\"><div><div>Pipeline</div></div><div><a class=\"sk-estimator-doc-link fitted\" rel=\"noreferrer\" target=\"_blank\" href=\"https://scikit-learn.org/1.6/modules/generated/sklearn.pipeline.Pipeline.html\">?<span>Documentation for Pipeline</span></a><span class=\"sk-estimator-doc-link fitted\">i<span>Fitted</span></span></div></label><div class=\"sk-toggleable__content fitted\"><pre>Pipeline(steps=[(&#x27;simpleimputer&#x27;, SimpleImputer(strategy=&#x27;median&#x27;)),\n",
              "                (&#x27;randomforestregressor&#x27;,\n",
              "                 RandomForestRegressor(max_depth=20, max_features=&#x27;sqrt&#x27;,\n",
              "                                       n_estimators=200, random_state=42))])</pre></div> </div></div><div class=\"sk-serial\"><div class=\"sk-item\"><div class=\"sk-estimator fitted sk-toggleable\"><input class=\"sk-toggleable__control sk-hidden--visually\" id=\"sk-estimator-id-2\" type=\"checkbox\" ><label for=\"sk-estimator-id-2\" class=\"sk-toggleable__label fitted sk-toggleable__label-arrow\"><div><div>SimpleImputer</div></div><div><a class=\"sk-estimator-doc-link fitted\" rel=\"noreferrer\" target=\"_blank\" href=\"https://scikit-learn.org/1.6/modules/generated/sklearn.impute.SimpleImputer.html\">?<span>Documentation for SimpleImputer</span></a></div></label><div class=\"sk-toggleable__content fitted\"><pre>SimpleImputer(strategy=&#x27;median&#x27;)</pre></div> </div></div><div class=\"sk-item\"><div class=\"sk-estimator fitted sk-toggleable\"><input class=\"sk-toggleable__control sk-hidden--visually\" id=\"sk-estimator-id-3\" type=\"checkbox\" ><label for=\"sk-estimator-id-3\" class=\"sk-toggleable__label fitted sk-toggleable__label-arrow\"><div><div>RandomForestRegressor</div></div><div><a class=\"sk-estimator-doc-link fitted\" rel=\"noreferrer\" target=\"_blank\" href=\"https://scikit-learn.org/1.6/modules/generated/sklearn.ensemble.RandomForestRegressor.html\">?<span>Documentation for RandomForestRegressor</span></a></div></label><div class=\"sk-toggleable__content fitted\"><pre>RandomForestRegressor(max_depth=20, max_features=&#x27;sqrt&#x27;, n_estimators=200,\n",
              "                      random_state=42)</pre></div> </div></div></div></div></div></div>"
            ]
          },
          "metadata": {},
          "execution_count": 23
        }
      ]
    },
    {
      "cell_type": "markdown",
      "source": [
        "Damit haben wir ein Modell, das alle verfügbaren Informationen genutzt hat und optimal eingestellt ist.\n",
        "\n",
        "**SimpleImputer**\n",
        "\n",
        "Lernt den Median jeder einzelnen Feature-Spalte über alle Gemeinden und Jahre.\n",
        "\n",
        "Füllt anschließend automatisch fehlende Werte (insbesondere in der Fahrzeit) mit diesen Medians auf.\n",
        "\n",
        "**RandomForestRegressor**\n",
        "\n",
        "RandomForestRegressor(…)\n",
        "-  n_estimators=200: Baut 200 Entscheidungs­bäume für robuste Schätzungen.\n",
        "- max_depth=20: Erlaubt ausreichend Tiefe, um komplexe, nicht-lineare Zusammenhänge zu erfassen, ohne zu stark zu überfitten.\n",
        "- max_features='sqrt': Wählt bei jedem Split nur die Quadratwurzel der Features aus, senkt so die Korrelation zwischen den Bäumen und beschleunigt das Training.\n",
        "- min_samples_split=2, min_samples_leaf=1: Erlaubt feingranulare Splits, was zeigt, dass unser Datensatz groß genug ist, um Details abzubilden.\n",
        "- random_state=42: Sorgt für Reproduzierbarkeit der Ergebnisse.\n",
        "\n",
        "**Warum das wichtig ist:**\n",
        "\n",
        "- Imputation: Verhindert Datenverlust durch fehlende Fahrzeiten und sorgt für\n",
        "saubere Eingabedaten.\n",
        "\n",
        "- Hyperparametrierter Random Forest: Nutzt die optimalen Einstellungen aus unserem Tuning, um die beste Prognose­leistung zu erzielen.\n",
        "\n",
        "**Damit ist unsere Pipeline fertig fit und einsatzbereit:**\n",
        "\n",
        "Mit best_rf_full.predict(new_X) lassen sich Baulandpreis-Vorhersagen für neue Daten erstellen.\n",
        "\n",
        "Mit best_rf_full.named_steps['randomforestregressor'].feature_importances_ können wir direkt ermitteln, welche Merkmale (z. B. Fahrzeit, Arbeitslosenquote, Steuerfuss) den größten Einfluss auf die Preisprognose haben."
      ],
      "metadata": {
        "id": "ec-ztxhfzvtX"
      }
    },
    {
      "cell_type": "code",
      "source": [
        "import matplotlib.pyplot as plt\n",
        "import numpy as np\n",
        "\n",
        "# 1) Trainierten RandomForest aus der Pipeline holen\n",
        "rf = best_rf_full.named_steps['randomforestregressor']\n",
        "\n",
        "# 2) Feature Importances abrufen\n",
        "importances = rf.feature_importances_\n",
        "features    = feature_cols  # ['Arbeitslosenanteil', 'Bevölkerungsdichte', …]\n",
        "\n",
        "# 3) Für die Darstellung sortieren (absteigend)\n",
        "indices     = np.argsort(importances)[::-1]\n",
        "feat_sorted = [features[i] for i in indices]\n",
        "imp_sorted  = importances[indices]\n",
        "\n",
        "# 4) Balkendiagramm zeichnen\n",
        "plt.figure(figsize=(8,5))\n",
        "plt.barh(feat_sorted, imp_sorted)\n",
        "plt.xlabel(\"Feature Importance\")\n",
        "plt.title(\"Einfluss der Features auf die Baulandpreis-Vorhersage\")\n",
        "plt.gca().invert_yaxis()   # Wichtigste oben\n",
        "plt.tight_layout()\n",
        "plt.show()\n"
      ],
      "metadata": {
        "colab": {
          "base_uri": "https://localhost:8080/",
          "height": 507
        },
        "id": "mBimqfPb1WpC",
        "outputId": "92582695-89a7-487c-8db5-427a2a07b2f3"
      },
      "execution_count": 24,
      "outputs": [
        {
          "output_type": "display_data",
          "data": {
            "text/plain": [
              "<Figure size 800x500 with 1 Axes>"
            ],
            "image/png": "[encoded data removed]"
          },
          "metadata": {}
        }
      ]
    },
    {
      "cell_type": "markdown",
      "source": [
        "Das Diagramm zeigt auf einen Blick, welche Merkmale unser Random-Forest-Modell beim Vorhersagen des Baulandpreises am stärksten nutzt:\n",
        "\n",
        "**Bevölkerungsdichte (≈0.32)**\n",
        "\n",
        "- Je dichter eine Gemeinde besiedelt ist, desto stärker steigt der Bodenpreis.\n",
        "\n",
        "**JUR_PERS (≈0.24)**\n",
        "- Der Steuersatz für juristische Personen korreliert stark mit höheren Preisen.\n",
        "\n",
        "**Steuerfuss_ohne_Kirche (≈0.17)**\n",
        "- Auch der allgemeine Steuerfuss beeinflusst den Wert, allerdings etwas schwächer.\n",
        "\n",
        "**Straftaten_total (≈0.12)**\n",
        "- Die absolute Anzahl Straftaten hat einen moderaten negativen Einfluss.\n",
        "\n",
        "**Häufigkeitszahl (≈0.11)**\n",
        "- Die Rate der Straftaten (Dunkelziffer) spielt ebenfalls nur eine untergeordnete Rolle.\n",
        "\n",
        "**Arbeitslosenanteil (≈0.05)**\n",
        "- Die Arbeitslosenquote ist der am wenigsten wichtige Prädiktor in unserem Modell."
      ],
      "metadata": {
        "id": "Jglcau59Tk_e"
      }
    },
    {
      "cell_type": "code",
      "source": [
        "# 0) Spalten von 'fahrzeit' anzeigen\n",
        "print(\"fahrzeit.columns:\", fahrzeit.columns.tolist())\n",
        "\n",
        "# 1) Spalten umbenennen, falls nötig\n",
        "fahrzeit = fahrzeit.rename(columns={\n",
        "    # falls Deine DF noch 'bfs' heißt:\n",
        "    'bfs': 'BFS_NR',\n",
        "    # passe hier 'Fahrzeit' oder 'time' an, je nachdem wie die Spalte wirklich heißt:\n",
        "    'Fahrzeit': 'fahrzeit',\n",
        "    'FAHRZEIT': 'fahrzeit'\n",
        "})\n",
        "\n",
        "# 2) Nochmal checken\n",
        "print(\"nach Umbenennen:\", fahrzeit.columns.tolist())\n",
        "\n",
        "# 3) Jetzt mergen\n",
        "master_df = master_df.merge(\n",
        "    fahrzeit[['BFS_NR', 'fahrzeit']],\n",
        "    on='BFS_NR',\n",
        "    how='left'\n",
        ")\n",
        "\n",
        "# 4) Und erst dann die Composite‐Features erstellen:\n",
        "master_df['Kriminalitätsindex'] = (\n",
        "      master_df['Straftaten_total']    / master_df['Straftaten_total'].max()\n",
        "    + master_df['Häufigkeitszahl']      / master_df['Häufigkeitszahl'].max()\n",
        ") / 2\n",
        "\n",
        "master_df['Steuerdruck'] = (\n",
        "      master_df['Steuerfuss_ohne_Kirche']\n",
        "    + master_df['JUR_PERS']\n",
        ") / 2\n",
        "\n",
        "# 5) Feature‐Matrix und Modell wie gehabt:\n",
        "feature_cols_agg = [\n",
        "    'Arbeitslosenanteil',\n",
        "    'Bevölkerungsdichte',\n",
        "    'fahrzeit',\n",
        "    'Kriminalitätsindex',\n",
        "    'Steuerdruck'\n",
        "]\n",
        "X_agg = master_df[feature_cols_agg]\n",
        "y     = master_df['Baulandpreis_Median']\n",
        "\n",
        "rf_agg = RandomForestRegressor(\n",
        "    n_estimators=200,\n",
        "    max_depth=20,\n",
        "    max_features='sqrt',\n",
        "    min_samples_split=2,\n",
        "    min_samples_leaf=1,\n",
        "    random_state=42\n",
        ")\n",
        "rf_agg.fit(X_agg, y)\n",
        "\n",
        "# 6) Importances plotten\n",
        "importances = rf_agg.feature_importances_\n",
        "idx         = np.argsort(importances)[::-1]\n",
        "feat_sorted = [feature_cols_agg[i] for i in idx]\n",
        "imp_sorted  = importances[idx]\n",
        "\n",
        "plt.figure(figsize=(6,4))\n",
        "plt.barh(feat_sorted, imp_sorted)\n",
        "plt.gca().invert_yaxis()\n",
        "plt.title(\"Feature Importances (agg.)\")\n",
        "plt.xlabel(\"Importance\")\n",
        "plt.tight_layout()\n",
        "plt.show()\n"
      ],
      "metadata": {
        "colab": {
          "base_uri": "https://localhost:8080/",
          "height": 442
        },
        "id": "cisYBeqb1waY",
        "outputId": "07388bc4-ced3-4942-fddf-7d4662e64e4b"
      },
      "execution_count": 25,
      "outputs": [
        {
          "output_type": "stream",
          "name": "stdout",
          "text": [
            "fahrzeit.columns: ['bfs', 'wohngebiet', 'totbev', 'steuerfuss', 'fahrzeit', 'X25.', 'X50.', 'X75.']\n",
            "nach Umbenennen: ['BFS_NR', 'wohngebiet', 'totbev', 'steuerfuss', 'fahrzeit', 'X25.', 'X50.', 'X75.']\n"
          ]
        },
        {
          "output_type": "display_data",
          "data": {
            "text/plain": [
              "<Figure size 600x400 with 1 Axes>"
            ],
            "image/png": "[encoded data removed]"
          },
          "metadata": {}
        }
      ]
    },
    {
      "cell_type": "markdown",
      "source": [
        "Warum so zusammenführen?\n",
        "\n",
        "**Kriminalitätsindex:** „Straftaten_total“ liefert die absolute Zahl und „Häufigkeitszahl“ die Rate. Durch Normierung und Mittelung fassen wir beides zu einer einzigen Kennzahl für das Kriminalitäts-Niveau pro Bezirk zusammen.\n",
        "\n",
        "**Steuerdruck:** „Steuerfuss_ohne_Kirche“ und „JUR_PERS“ sind beides Steuersätze unterschiedlicher Gruppen. Ihr arithmetisches Mittel ergibt einen groben Gesamt-Steuerdruck-Indikator.\n",
        "\n",
        "Vorteile dieser Aggregation\n",
        "\n",
        "- Dimensionalitätsreduktion: Wir haben nur noch 5 statt 7 Features → übersichtlichere Importances und oft stabilere Modelle.\n",
        "\n",
        "- Bessere Interpretierbarkeit: Stakeholder sehen „Kriminalitätsindex“ statt zwei separate Balken für Total und Rate."
      ],
      "metadata": {
        "id": "IJ_d4faq18vy"
      }
    },
    {
      "cell_type": "markdown",
      "source": [
        "**Was uns die aggregierte Feature-Importance sagt**\n",
        "\n",
        "- Fahrzeit ist mit Abstand der stärkste Prädiktor – Gemeinden, die schneller bei Zürich liegen, haben deutlich höhere Bodenpreise.\n",
        "\n",
        "- Steuerdruck (Mittel aus Steuerfuss & Jur. Personen) steht an zweiter Stelle: Je höher der Steuer­druck, desto höher der Baulandpreis.\n",
        "\n",
        "- Bevölkerungsdichte folgt als drittwichtigstes Merkmal.\n",
        "\n",
        "- Kriminalitätsindex und Arbeitslosenanteil spielen zwar eine Rolle, liefern aber nur einen vergleichsweise geringen Erklärungs­beitrag."
      ],
      "metadata": {
        "id": "Qr7GvRA32Ohf"
      }
    },
    {
      "cell_type": "code",
      "source": [
        "from sklearn.model_selection import train_test_split\n",
        "from sklearn.metrics import r2_score, mean_squared_error\n",
        "import numpy as np\n",
        "\n",
        "# Split\n",
        "X_train_agg, X_test_agg, y_train, y_test = train_test_split(\n",
        "    X_agg, y, test_size=0.2, random_state=42\n",
        ")\n",
        "\n",
        "# Fit & Predict\n",
        "rf_agg.fit(X_train_agg, y_train)\n",
        "y_pred = rf_agg.predict(X_test_agg)\n",
        "\n",
        "# Kennzahlen\n",
        "r2  = r2_score(y_test, y_pred)\n",
        "rmse= np.sqrt(mean_squared_error(y_test, y_pred))\n",
        "print(f\"Aggregiertes Modell – R²: {r2:.3f}, RMSE: {rmse:.1f}\")\n"
      ],
      "metadata": {
        "id": "ZIk23hGj28EJ",
        "outputId": "bb513405-7a10-463f-9137-dbdc44753fca",
        "colab": {
          "base_uri": "https://localhost:8080/"
        }
      },
      "execution_count": 26,
      "outputs": [
        {
          "output_type": "stream",
          "name": "stdout",
          "text": [
            "Aggregiertes Modell – R²: 0.917, RMSE: 176.2\n"
          ]
        }
      ]
    },
    {
      "cell_type": "markdown",
      "source": [
        "Mit dem aggregierten Modell erreichen wir auf dem Test-Set:\n",
        "\n",
        "**R² = 0.917** (vs. 0.926 im getunten Full-Feature-Modell) → wir erklären immer noch über 91 % der Varianz\n",
        "\n",
        "**RMSE = 176 Fr./m²** (vs. ~166 Fr./m²) → nur ein moderater Anstieg um ~10 Fr./m²\n",
        "\n",
        "Fazit:\n",
        "Die Reduktion auf fünf kompakte Indices (Fahrzeit, Steuerdruck, Bevölkerungsdichte, Kriminalitäts- und Arbeitslosenindex) führt nur zu einem geringen Genauigkeitsverlust. Gleichzeitig gewinnen wir:\n",
        "\n",
        "1. Mehr Übersichtlichkeit durch weniger, thematisch gebündelte Features\n",
        "\n",
        "2. Klaren Interpretationsrahmen für Berichte und Stakeholder-Präsentationen\n",
        "\n",
        "3. Weiterhin hohe Prognosegüte bei deutlich schlankerer Modellstruktur"
      ],
      "metadata": {
        "id": "Zvc2t2Jl3Iqk"
      }
    },
    {
      "cell_type": "code",
      "source": [
        "import shap\n",
        "import matplotlib.pyplot as plt\n",
        "\n",
        "# 1) SHAP‐Explainer für unseren aggregierten RandomForest\n",
        "explainer = shap.TreeExplainer(rf_agg)\n",
        "\n",
        "# 2) SHAP-Werte berechnen (für das komplette Training-Set oder eine Stichprobe)\n",
        "#    Achtung: Bei sehr großen Datensätzen ggf. subsample verwenden, um Laufzeit zu reduzieren.\n",
        "shap_values = explainer.shap_values(X_agg)\n",
        "\n",
        "# 3) Globale Zusammenfassung: Feature-Ranking und Verteilung der Effekte\n",
        "shap.summary_plot(\n",
        "    shap_values,\n",
        "    X_agg,\n",
        "    feature_names=feature_cols_agg,\n",
        "    plot_type=\"bar\",        # Balkendiagramm der mittleren |SHAP|-Werte\n",
        "    show=False\n",
        ")\n",
        "plt.title(\"Globale Feature Importance (SHAP-Bar)\")\n",
        "\n",
        "# 4) Detaillierte Zusammenfassung: Violin-Plot mit Verteilungen\n",
        "shap.summary_plot(\n",
        "    shap_values,\n",
        "    X_agg,\n",
        "    feature_names=feature_cols_agg,\n",
        "    plot_type=\"dot\",        # jeder Punkt entspricht einer Beobachtung\n",
        "    show=False\n",
        ")\n",
        "plt.title(\"SHAP Summary Plot: Verteilungsansicht\")\n",
        "\n",
        "# 5) Abhängigkeiten untersuchen – z. B. Fahrzeit ↔ SHAP-Wert\n",
        "shap.dependence_plot(\n",
        "    \"fahrzeit\",\n",
        "    shap_values,\n",
        "    X_agg,\n",
        "    feature_names=feature_cols_agg,\n",
        "    show=False\n",
        ")\n",
        "plt.title(\"SHAP Dependence: Fahrzeit vs. SHAP-Wert\")\n",
        "plt.tight_layout()\n",
        "plt.show()\n"
      ],
      "metadata": {
        "id": "UI6739je3aGH",
        "outputId": "853db16b-e7a0-4f7e-8864-7121586b4764",
        "colab": {
          "base_uri": "https://localhost:8080/",
          "height": 863
        }
      },
      "execution_count": 27,
      "outputs": [
        {
          "output_type": "display_data",
          "data": {
            "text/plain": [
              "<Figure size 800x350 with 2 Axes>"
            ],
            "image/png": "[encoded data removed]"
          },
          "metadata": {}
        },
        {
          "output_type": "display_data",
          "data": {
            "text/plain": [
              "<Figure size 750x500 with 2 Axes>"
            ],
            "image/png": "[encoded data removed]"
          },
          "metadata": {}
        }
      ]
    },
    {
      "cell_type": "markdown",
      "source": [
        "**Interpretation der SHAP‐Plots**\n",
        "\n",
        "Farben:\n",
        "- **Rot = hoher Feature-Wert**\n",
        "- **Blau = niedriger Feature-Wert**\n",
        "\n",
        "**Fahrzeit**\n",
        "\n",
        "Sehr kurze Fahrzeiten (< 10 min) erzeugen SHAP-Werte bis zu +1 300 Fr., vor allem in dicht besiedelten Gemeinden (dunkelrote Punkte).\n",
        "\n",
        "Mit zunehmender Fahrzeit fällt der SHAP-Wert nahezu monoton ab. Ab ca. 30 Minuten wird der prognostizierte Baulandpreis spürbar negativ beeinflusst (SHAP < 0).\n",
        "\n",
        "Der Farbübergang zeigt: In hochverdichteten Gebieten (rote Punkte) potenziert sich der positive Effekt kurzer Fahrzeiten.\n",
        "\n",
        "**Bevölkerungsdichte**\n",
        "- Hohe Werte (rot) ziehen SHAP-Werte nach oben, d. h. dichte Gemeinden treiben die Preise.\n",
        "\n",
        "**Steuerdruck**\n",
        "- Mittlere bis hohe Werte liefern durchweg positive Beiträge, stehen an dritter Stelle im Ranking.\n",
        "\n",
        "**Arbeitslosenquote & Kriminalitätsindex**\n",
        "- Bleiben meist im niedrigen Bereich (blaue bis hellrote Punkte) und spielen nur eine untergeordnete Rolle.\n",
        "\n",
        "**Lesebeispiel**\n",
        "\n",
        "**Eine Gemeinde mit einer durchschnittlichen Fahrzeit von 30 Minuten (mittlerer blauer Punkt im Dependence-Plot) hat einen SHAP-Wert von etwa –150 Fr.. Das bedeutet: Aufgrund der relativ langen Fahrzeit korrigiert das Modell den Basispreis um rund 150 Fr. nach unten. Ohne diesen negativen Beitrag läge die Vorhersage für diese Gemeinde also um 150 Fr. höher.**\n"
      ],
      "metadata": {
        "id": "isOhgyim4NIQ"
      }
    },
    {
      "cell_type": "code",
      "source": [
        "import matplotlib.pyplot as plt\n",
        "\n",
        "y_pred = best_rf_full.predict(X)\n",
        "y_true = y\n",
        "\n",
        "plt.figure(figsize=(6,6))\n",
        "plt.scatter(y_true, y_pred, alpha=0.5)\n",
        "plt.plot([y_true.min(), y_true.max()],\n",
        "         [y_true.min(), y_true.max()],\n",
        "         color='red', linewidth=2)\n",
        "plt.xlabel(\"Tatsächlicher Baulandpreis (Fr./m²)\")\n",
        "plt.ylabel(\"Vorhergesagter Baulandpreis (Fr./m²)\")\n",
        "plt.title(\"Predicted vs. Actual\")\n",
        "plt.tight_layout()\n",
        "plt.show()\n"
      ],
      "metadata": {
        "id": "FMlOChXe9EPn",
        "outputId": "cbb7ec71-97cd-4779-85b6-0579b56be8ce",
        "colab": {
          "base_uri": "https://localhost:8080/",
          "height": 607
        }
      },
      "execution_count": 28,
      "outputs": [
        {
          "output_type": "display_data",
          "data": {
            "text/plain": [
              "<Figure size 600x600 with 1 Axes>"
            ],
            "image/png": "[encoded data removed]"
          },
          "metadata": {}
        }
      ]
    },
    {
      "cell_type": "markdown",
      "source": [
        "**Unser Random Forest trifft die große Mehrheit der Vorhersagen äußerst präzise.\n",
        "Die meisten Punkte liegen eng um die Ideallinie, was sich in dem niedrigen RMSE von ca. 166 Fr./m² widerspiegelt und nur geringe Residuen aufzeigt.**\n"
      ],
      "metadata": {
        "id": "dE2jRM-t9knl"
      }
    },
    {
      "cell_type": "code",
      "source": [
        "import matplotlib.pyplot as plt\n",
        "\n",
        "# 2D-Bar-Charts im Notebook\n",
        "\n",
        "# 1) Labels und Werte aus den DataFrames extrahieren (korrekte Spalte!)\n",
        "names_top = top10['Gemeinde'][::-1].tolist()\n",
        "vals_top  = top10['Pred_Baulandpreis'][::-1].tolist()\n",
        "\n",
        "names_bot = bot10['Gemeinde'][::-1].tolist()\n",
        "vals_bot  = bot10['Pred_Baulandpreis'][::-1].tolist()\n",
        "\n",
        "# 2) Figure mit zwei Subplots anlegen\n",
        "fig, (ax1, ax2) = plt.subplots(1, 2, figsize=(14, 6))\n",
        "\n",
        "# 3) Linkes Panel: Top 10 teuerste Gemeinden (in Rottönen)\n",
        "ax1.barh(names_top, vals_top, color=plt.cm.Reds(np.linspace(0.4, 1, len(vals_top))))\n",
        "ax1.set_title('Top 10 teuerste Gemeinden (2025)')\n",
        "ax1.set_xlabel('Prognostizierter Baulandpreis (Fr./m²)')\n",
        "ax1.set_ylabel('Gemeinde')\n",
        "ax1.tick_params(axis='y', labelsize=9)\n",
        "\n",
        "# 4) Rechtes Panel: Top 10 günstigste Gemeinden (in Grüntönen)\n",
        "ax2.barh(names_bot, vals_bot, color=plt.cm.Greens(np.linspace(0.4, 1, len(vals_bot))))\n",
        "ax2.set_title('Top 10 günstigste Gemeinden (2025)')\n",
        "ax2.set_xlabel('Prognostizierter Baulandpreis (Fr./m²)')\n",
        "ax2.set_ylabel('')\n",
        "ax2.tick_params(axis='y', labelsize=9)\n",
        "\n",
        "# 5) Layout feinjustieren und anzeigen\n",
        "plt.tight_layout()\n",
        "plt.show()\n"
      ],
      "metadata": {
        "id": "fa7-MER7RMmy",
        "outputId": "d108dd3d-6207-40a3-ceb1-fac40eb26390",
        "colab": {
          "base_uri": "https://localhost:8080/",
          "height": 211
        }
      },
      "execution_count": 29,
      "outputs": [
        {
          "output_type": "error",
          "ename": "NameError",
          "evalue": "name 'top10' is not defined",
          "traceback": [
            "\u001b[0;31m---------------------------------------------------------------------------\u001b[0m",
            "\u001b[0;31mNameError\u001b[0m                                 Traceback (most recent call last)",
            "\u001b[0;32m<ipython-input-29-0e4209f4337e>\u001b[0m in \u001b[0;36m<cell line: 0>\u001b[0;34m()\u001b[0m\n\u001b[1;32m      4\u001b[0m \u001b[0;34m\u001b[0m\u001b[0m\n\u001b[1;32m      5\u001b[0m \u001b[0;31m# 1) Labels und Werte aus den DataFrames extrahieren (korrekte Spalte!)\u001b[0m\u001b[0;34m\u001b[0m\u001b[0;34m\u001b[0m\u001b[0m\n\u001b[0;32m----> 6\u001b[0;31m \u001b[0mnames_top\u001b[0m \u001b[0;34m=\u001b[0m \u001b[0mtop10\u001b[0m\u001b[0;34m[\u001b[0m\u001b[0;34m'Gemeinde'\u001b[0m\u001b[0;34m]\u001b[0m\u001b[0;34m[\u001b[0m\u001b[0;34m:\u001b[0m\u001b[0;34m:\u001b[0m\u001b[0;34m-\u001b[0m\u001b[0;36m1\u001b[0m\u001b[0;34m]\u001b[0m\u001b[0;34m.\u001b[0m\u001b[0mtolist\u001b[0m\u001b[0;34m(\u001b[0m\u001b[0;34m)\u001b[0m\u001b[0;34m\u001b[0m\u001b[0;34m\u001b[0m\u001b[0m\n\u001b[0m\u001b[1;32m      7\u001b[0m \u001b[0mvals_top\u001b[0m  \u001b[0;34m=\u001b[0m \u001b[0mtop10\u001b[0m\u001b[0;34m[\u001b[0m\u001b[0;34m'Pred_Baulandpreis'\u001b[0m\u001b[0;34m]\u001b[0m\u001b[0;34m[\u001b[0m\u001b[0;34m:\u001b[0m\u001b[0;34m:\u001b[0m\u001b[0;34m-\u001b[0m\u001b[0;36m1\u001b[0m\u001b[0;34m]\u001b[0m\u001b[0;34m.\u001b[0m\u001b[0mtolist\u001b[0m\u001b[0;34m(\u001b[0m\u001b[0;34m)\u001b[0m\u001b[0;34m\u001b[0m\u001b[0;34m\u001b[0m\u001b[0m\n\u001b[1;32m      8\u001b[0m \u001b[0;34m\u001b[0m\u001b[0m\n",
            "\u001b[0;31mNameError\u001b[0m: name 'top10' is not defined"
          ]
        }
      ]
    },
    {
      "cell_type": "code",
      "source": [
        "import matplotlib.pyplot as plt\n",
        "\n",
        "# 0) Falls Ihr bauland_11_24 nicht im Workspace habt, vorher neu erstellen:\n",
        "# bauland_11_24 = bauland[(bauland['Jahr']>=2012)&(bauland['Jahr']<=2023)]\n",
        "\n",
        "# 1) Pivot-Tabelle: Gemeinden als Linien\n",
        "pivot_gemeinde = bauland_11_24.pivot(\n",
        "    index='Jahr',\n",
        "    columns='Gemeinde',\n",
        "    values='Baulandpreis_Median'\n",
        ")\n",
        "\n",
        "# 2) Linienplot aller Gemeinden\n",
        "plt.figure(figsize=(14, 8))\n",
        "for gemeinde in pivot_gemeinde.columns:\n",
        "    plt.plot(\n",
        "        pivot_gemeinde.index,\n",
        "        pivot_gemeinde[gemeinde],\n",
        "        alpha=0.4  # Transparenz, damit Überlagerungen sichtbar bleiben\n",
        "    )\n",
        "\n",
        "plt.title('Zeitreihen des Median-Baulandpreises je Gemeinde (2012–2023)')\n",
        "plt.xlabel('Jahr')\n",
        "plt.ylabel('Median Baulandpreis (Fr./m²)')\n",
        "plt.grid(axis='y', linestyle='--', alpha=0.5)\n",
        "plt.tight_layout()\n",
        "plt.show()\n"
      ],
      "metadata": {
        "id": "WCcnQSyoT1Jr"
      },
      "execution_count": null,
      "outputs": []
    },
    {
      "cell_type": "code",
      "source": [
        "import pandas as pd\n",
        "import numpy as np\n",
        "import matplotlib.pyplot as plt\n",
        "from matplotlib.animation import FuncAnimation\n",
        "from IPython.display import HTML\n",
        "\n",
        "# 1) Daten laden & pivotieren (2012–2023)\n",
        "bauland = pd.read_csv(\n",
        "    \"https://raw.githubusercontent.com/Bina-G10/BINA-G10/main/Daten/Baulandpreis%20Median%20nach%20Gemeinde.csv\"\n",
        ")\n",
        "bauland = bauland[['GEBIET_NAME','INDIKATOR_JAHR','INDIKATOR_VALUE']].rename(\n",
        "    columns={'GEBIET_NAME':'Gemeinde','INDIKATOR_JAHR':'Jahr','INDIKATOR_VALUE':'Baulandpreis_Median'}\n",
        ")\n",
        "df = bauland[(bauland['Jahr']>=2012)&(bauland['Jahr']<=2023)]\n",
        "pivot = df.pivot(index='Jahr', columns='Gemeinde', values='Baulandpreis_Median')\n",
        "years = pivot.index.values\n",
        "data  = pivot.values\n",
        "gemeinden = pivot.columns.tolist()\n",
        "\n",
        "# 2) Top10-Gemeinden hervorheben\n",
        "mean_prices    = pivot.mean(axis=0)\n",
        "top10_gemeinden= mean_prices.nlargest(10).index.tolist()\n",
        "\n",
        "# 3) Interpolation auf viele Zwischen-Frames für weiche Bewegung\n",
        "n_years  = len(years)\n",
        "subdiv   = 10                            # wie viele Zwischenschritte pro Jahr\n",
        "n_frames = (n_years-1)*subdiv + 1\n",
        "frac_idx = np.linspace(0, n_years-1, n_frames)\n",
        "smooth_x = np.interp(frac_idx, np.arange(n_years), years)\n",
        "smooth_y = np.vstack([                           # shape: (n_frames, n_gemeinden)\n",
        "    np.interp(frac_idx, np.arange(n_years), data[:,i])\n",
        "    for i in range(data.shape[1])\n",
        "]).T\n",
        "\n",
        "# 4) Figur aufsetzen (kleiner)\n",
        "fig, ax = plt.subplots(figsize=(8,4))\n",
        "colors = plt.cm.tab10(np.arange(10))\n",
        "lines = {}\n",
        "for gm in gemeinden:\n",
        "    if gm in top10_gemeinden:\n",
        "        idx = top10_gemeinden.index(gm)\n",
        "        line, = ax.plot([], [], label=gm, color=colors[idx], lw=2)\n",
        "    else:\n",
        "        line, = ax.plot([], [], color='lightgray', alpha=0.2, lw=1)\n",
        "    lines[gm] = line\n",
        "\n",
        "ax.set_xlim(years.min(), years.max())\n",
        "ax.set_ylim(np.nanmin(smooth_y), np.nanmax(smooth_y))\n",
        "ax.set_title('Flüssige Animation: Median-Baulandpreis je Gemeinde\\n(Top10 hervorgehoben)', fontsize=12)\n",
        "ax.set_xlabel('Jahr')\n",
        "ax.set_ylabel('Median Baulandpreis (Fr./m²)')\n",
        "ax.grid(True, linestyle='--', alpha=0.5)\n",
        "ax.legend(loc='upper left', fontsize=8, ncol=2)\n",
        "\n",
        "# 5) Init- und Animations-Funktionen\n",
        "def init():\n",
        "    for ln in lines.values():\n",
        "        ln.set_data([], [])\n",
        "    return list(lines.values())\n",
        "\n",
        "def animate(frame):\n",
        "    x = smooth_x[:frame+1]\n",
        "    ymat = smooth_y[:frame+1, :]\n",
        "    for i, gm in enumerate(gemeinden):\n",
        "        lines[gm].set_data(x, ymat[:, i])\n",
        "    return list(lines.values())\n",
        "\n",
        "# 6) Animation erstellen & inline einbetten\n",
        "anim = FuncAnimation(fig, animate, init_func=init, frames=n_frames, interval=50, blit=True)\n",
        "HTML(anim.to_html5_video())\n"
      ],
      "metadata": {
        "id": "RYbTtd9NVmV-"
      },
      "execution_count": null,
      "outputs": []
    },
    {
      "cell_type": "code",
      "source": [
        "# 0) Die Feature‐Spalten (wie beim Training)\n",
        "feature_cols = [\n",
        "    'Arbeitslosenanteil',\n",
        "    'Bevölkerungsdichte',\n",
        "    'Steuerfuss_ohne_Kirche',\n",
        "    'JUR_PERS',\n",
        "    'Straftaten_total',\n",
        "    'Häufigkeitszahl'\n",
        "]\n",
        "\n",
        "# 1) Proxy‐Features für 2025 & 2030: nehmen wir einfach die 2023er Werte\n",
        "X_2023 = master_df.loc[master_df['Jahr']==2023, feature_cols]\n",
        "\n",
        "# 2) Vorhersagen berechnen\n",
        "pred_2025 = best_rf_full.predict(X_2023)\n",
        "pred_2030 = best_rf_full.predict(X_2023)\n",
        "\n",
        "# 3) DataFrames für 2025 und 2030 zusammenbauen\n",
        "df_2025 = master_df.loc[master_df['Jahr']==2023, ['Gemeinde']].reset_index(drop=True)\n",
        "df_2025['Pred_2025'] = pred_2025\n",
        "\n",
        "df_2030 = df_2025.copy()\n",
        "df_2030.columns = ['Gemeinde', 'Pred_2030']\n",
        "\n",
        "# 4) Tatsächliche 2023-Preise\n",
        "df_actual = master_df.loc[\n",
        "    master_df['Jahr']==2023, ['Gemeinde','Baulandpreis_Median']\n",
        "].rename(columns={'Baulandpreis_Median':'Actual_2023'}).reset_index(drop=True)\n",
        "\n",
        "# 5) Alle drei zusammenführen und Unterschiede berechnen\n",
        "df_cmp = (\n",
        "    df_actual\n",
        "    .merge(df_2025, on='Gemeinde')\n",
        "    .merge(df_2030, on='Gemeinde')\n",
        ")\n",
        "df_cmp['Δ2025–2023'] = df_cmp['Pred_2025'] - df_cmp['Actual_2023']\n",
        "df_cmp['Δ2030–2025'] = df_cmp['Pred_2030'] - df_cmp['Pred_2025']\n",
        "\n",
        "# 6) Top-10 nach Actual_2023 (oder beliebig sortieren) anzeigen\n",
        "from IPython.display import display\n",
        "display(df_cmp.sort_values('Actual_2023', ascending=False).head(10))\n"
      ],
      "metadata": {
        "id": "adChSw1_bkbh"
      },
      "execution_count": null,
      "outputs": []
    },
    {
      "cell_type": "code",
      "source": [
        "import matplotlib.pyplot as plt\n",
        "import numpy as np\n",
        "\n",
        "# 1) Top-10 Gemeinden nach Actual_2023\n",
        "top10 = df_cmp.sort_values('Actual_2023', ascending=False).head(10)\n",
        "\n",
        "# 2) Positionen und Balkenbreite festlegen\n",
        "names = top10['Gemeinde']\n",
        "x = np.arange(len(names))\n",
        "width = 0.25\n",
        "\n",
        "fig, ax = plt.subplots(figsize=(12, 6))\n",
        "\n",
        "# 3) Balken zeichnen\n",
        "ax.bar(x - width, top10['Actual_2023'], width,\n",
        "       label='Actual 2023', color='grey')\n",
        "ax.bar(x,            top10['Pred_2025'],  width,\n",
        "       label='Predicted 2025', color='tab:blue')\n",
        "ax.bar(x + width, top10['Pred_2030'], width,\n",
        "       label='Predicted 2030', color='tab:orange')\n",
        "\n",
        "# 4) Achsen, Titel, Legende\n",
        "ax.set_xticks(x)\n",
        "ax.set_xticklabels(names, rotation=45, ha='right', fontsize=10)\n",
        "ax.set_ylabel('Baulandpreis (Fr./m²)')\n",
        "ax.set_title('Actual vs. Predicted Baulandpreise (2023, 2025, 2030)')\n",
        "ax.legend()\n",
        "\n",
        "plt.tight_layout()\n",
        "plt.show()\n"
      ],
      "metadata": {
        "id": "NYW597RucQdg"
      },
      "execution_count": null,
      "outputs": []
    },
    {
      "cell_type": "markdown",
      "source": [
        "**Die Prognose 2030 ist aber mit Vorsicht zu geniessen!!!**\n",
        "\n",
        "das Absinken und dann das konstante „Null-Delta“ zwischen 2025 und 2030 ist kein realistisch-ökonomischer Trend, sondern ein Artefakt unseres Vorgehens:\n",
        "\n",
        "Für beide Prognosen (2025 und 2030) haben wir exakt dieselben Merkmalswerte (Arbeitslosenquote, Bevölkerungsdichte, Steuerfüsse, Kriminalität, …) ins Modell gespeist.\n",
        "Da sich an diesen Features nichts ändert, liefert das Random-Forest-Modell auch keine neuen Preissignale und sagt für 2030 genau dieselben Preise wie für 2025 voraus.\n",
        "\n",
        "Der tatsächliche Baulandpreis-Trend 2012–2023 zeigt aber eine deutliche Steigerung.\n",
        "Der Mittelwert aller Gemeinden liegt 2012 noch bei rund 1 200 Fr./m², 2023 bereits bei fast 4 000 Fr./m² (je nach Zeitraum und Aggregationsmethode).\n",
        "\n",
        "**Fazit:**\n",
        "\n",
        "- Denn Du wirklich eine realistische 2030-Prognose haben willst, musst Du nicht nur das Preis-Modell neu anwenden, sondern zuerst die zugrundeliegenden Input-Variablen für 2030 abschätzen:\n",
        "\n",
        "**Wie entwickelt sich die Bevölkerungsdichte?**\n",
        "\n",
        "**Welche Steuerfüsse sind zu erwarten?**\n",
        "\n",
        "**Wird die Kriminalitätsrate steigen oder fallen?**\n",
        "\n",
        "**Wie verändern sich Arbeitslosenquote und Erreichbarkeit (Fahrzeit)?**\n",
        "\n",
        "Erst wenn Du plausible Szenarien für diese Merkmale baust (z. B. lineares oder logistisches Hochrechnen, externe Experten-Schätzungen, Wirtschafts-Prognosen), liefert Dir Dein Random-Forest-Modell auch eine echte, steigende 2030-Preis-Vorhersage."
      ],
      "metadata": {
        "id": "eA0FOiGBdGhP"
      }
    },
    {
      "cell_type": "code",
      "source": [
        "#XGBRegressor mit GridSearchCV (ohne early_stopping_rounds)\n",
        "\n",
        "from sklearn.pipeline import make_pipeline\n",
        "from sklearn.impute import SimpleImputer\n",
        "from sklearn.preprocessing import StandardScaler\n",
        "from sklearn.model_selection import GridSearchCV, TimeSeriesSplit, train_test_split\n",
        "from xgboost import XGBRegressor\n",
        "\n",
        "# Pipeline ohne early stopping (weil GridSearchCV das nicht unterstützt)\n",
        "xgb_pipe = make_pipeline(\n",
        "    SimpleImputer(strategy='median'),\n",
        "    StandardScaler(),\n",
        "    XGBRegressor(\n",
        "        random_state=42,\n",
        "        objective='reg:squarederror',\n",
        "        eval_metric='rmse',\n",
        "        verbosity=0\n",
        "    )\n",
        ")\n",
        "\n",
        "# Parameter Grid für Hyperparameter-Tuning\n",
        "param_grid = {\n",
        "    'xgbregressor__n_estimators': [100, 200],\n",
        "    'xgbregressor__max_depth': [3, 6],\n",
        "    'xgbregressor__learning_rate': [0.01, 0.1],\n",
        "    'xgbregressor__subsample': [0.8, 1.0],\n",
        "    'xgbregressor__colsample_bytree': [0.8, 1.0],\n",
        "    'xgbregressor__gamma': [0, 0.1],\n",
        "    'xgbregressor__reg_alpha': [0, 0.1],\n",
        "    'xgbregressor__reg_lambda': [0, 1]\n",
        "}\n",
        "\n",
        "# Time Series Cross Validation\n",
        "tscv = TimeSeriesSplit(n_splits=3)\n",
        "\n",
        "# Grid Search\n",
        "xgb_search = GridSearchCV(\n",
        "    xgb_pipe,\n",
        "    param_grid,\n",
        "    cv=tscv,\n",
        "    scoring=['neg_root_mean_squared_error', 'r2'],\n",
        "    refit='neg_root_mean_squared_error',\n",
        "    n_jobs=-1,\n",
        "    verbose=2\n",
        ")\n",
        "\n",
        "# Modelltraining (ohne eval_set!)\n",
        "xgb_search.fit(X_train, y_train)\n",
        "\n",
        "# Evaluation\n",
        "best_xgb = xgb_search.best_estimator_\n",
        "y_pred = best_xgb.predict(X_test)\n",
        "\n",
        "import pandas as pd\n",
        "\n",
        "# Beste Parameterkombination anzeigen\n",
        "print(\"Beste Parameter:\")\n",
        "print(xgb_search.best_params_)\n",
        "\n",
        "# Bester Score (negativer RMSE → je näher an 0, desto besser)\n",
        "print(\"\\nBester RMSE (negativ):\")\n",
        "print(xgb_search.best_score_)\n",
        "\n",
        "# Ergebnisse aller Modelle extrahieren\n",
        "results = pd.DataFrame(xgb_search.cv_results_)\n",
        "\n",
        "# Top 10 Ergebnisse nach RMSE anzeigen\n",
        "top_models = results[['params', 'mean_test_neg_root_mean_squared_error', 'mean_test_r2']] \\\n",
        "    .sort_values(by='mean_test_neg_root_mean_squared_error', ascending=False)  # Neg. RMSE → weniger negativ = besser\n",
        "\n",
        "print(\"\\nTop 10 Modelle:\")\n",
        "print(top_models.head(10))"
      ],
      "metadata": {
        "id": "NNK4Jq9_0CbE",
        "colab": {
          "base_uri": "https://localhost:8080/"
        },
        "outputId": "8b543cde-d602-480c-dcec-6d201c6e41ab"
      },
      "execution_count": 30,
      "outputs": [
        {
          "output_type": "stream",
          "name": "stdout",
          "text": [
            "Fitting 3 folds for each of 256 candidates, totalling 768 fits\n"
          ]
        }
      ]
    },
    {
      "cell_type": "code",
      "source": [
        "import seaborn as sns\n",
        "import matplotlib.pyplot as plt\n",
        "\n",
        "# Beispiel: Plot für RMSE nach max_depth und learning_rate\n",
        "pivot_rmse = results.pivot_table(\n",
        "    values='mean_test_neg_root_mean_squared_error',\n",
        "    index='param_xgbregressor__max_depth',\n",
        "    columns='param_xgbregressor__learning_rate'\n",
        ")\n",
        "\n",
        "sns.heatmap(pivot_rmse, annot=True, fmt=\".3f\", cmap=\"YlGnBu\")\n",
        "plt.title(\"Cross-validated Neg. RMSE\")\n",
        "plt.xlabel(\"Learning Rate\")\n",
        "plt.ylabel(\"Max Depth\")\n",
        "plt.tight_layout()\n",
        "plt.show()"
      ],
      "metadata": {
        "id": "RNkc1VqVk-j9"
      },
      "execution_count": null,
      "outputs": []
    },
    {
      "cell_type": "markdown",
      "source": [
        "### **Gradient Boosting Code**\n",
        "\n",
        "#### **Was macht dieser Code?**\n",
        "\n",
        "Implementiert ein XGBoost-Modell mit Hyperparameter-Optimierung für die Baulandpreis-Prognose. Es beinhaltet:\n",
        "\n",
        "*   Datenvorverarbeitung mit Imputation und Skalierung\n",
        "*   Automatisiertes Tuning der wichtigsten XGBoost-Parameter\n",
        "*   Zeitreihen-spezifische Validierung\n",
        "*   Early Stopping zur Vermeidung von Overfitting\n",
        "\n",
        "#### **Warum XGBoost?**\n",
        "\n",
        "*   Besser geeignet für heterogene Daten als Random Forest\n",
        "*   Automatische Feature-Wichtung\n",
        "*   Robust gegenüber Ausreissern\n",
        "*   Schnellere Trainingzeit bei grossen Datensätzen\n",
        "\n",
        "#### **Stärken & Limitationen**\n",
        "\n",
        "✅ Höhere Prognosegenauigkeit möglich\n",
        "\n",
        "✅ Wichtige Features werden automatisch erkannt\n",
        "\n",
        "✅ Gut für nicht-lineare Zusammenhänge\n",
        "\n",
        "❌ Erfordert mehr Parameter-Tuning\n",
        "\n",
        "❌ Interpretierbarkeit schwieriger als bei Random Forest\n",
        "\n",
        "#### **BI-Relevanz**\n",
        "\n",
        "*   Liefert präzisere Prognosen für Investitionsentscheidungen\n",
        "*   Identifiziert Schlüsselfaktoren für Preisbildung\n",
        "*   Kann monatlich mit neuen Daten retrainiert werden\n"
      ],
      "metadata": {
        "id": "nca1-Ov90DTN"
      }
    },
    {
      "cell_type": "code",
      "source": [
        "#ARIMA-Modell zur Zeitreihenprognose\n",
        "\n",
        "from statsmodels.tsa.arima.model import ARIMA\n",
        "\n",
        "def erstelle_arima_modell(zeitreihe, p=1, d=1, q=1):\n",
        "    modell = ARIMA(zeitreihe, order=(p, d, q))\n",
        "    ergebnis = modell.fit()\n",
        "    prognose = ergebnis.get_forecast(steps=3)\n",
        "    konfidenzintervall = prognose.conf_int()\n",
        "    return ergebnis, prognose, konfidenzintervall\n",
        "\n",
        "# Beispielanwendung für Zürich\n",
        "zuerich_daten = master_df[master_df['Gemeinde'] == \"Zürich\"]\n",
        "zeitreihe = zuerich_daten.set_index('Jahr')['Baulandpreis_Median']\n",
        "\n",
        "# Optional: prüfen, ob Zeitreihe lang genug ist\n",
        "if len(zeitreihe) >= 10:\n",
        "    arima_ergebnis, prognose, konfidenz = erstelle_arima_modell(zeitreihe)\n",
        "else:\n",
        "    print(\"Zeitreihe ist zu kurz für ARIMA-Modellierung.\")"
      ],
      "metadata": {
        "id": "JFrzSzTO5eIc",
        "colab": {
          "base_uri": "https://localhost:8080/"
        },
        "outputId": "ea1088e6-8d81-460f-bdaa-8114980f47dc"
      },
      "execution_count": 31,
      "outputs": [
        {
          "output_type": "stream",
          "name": "stderr",
          "text": [
            "/usr/local/lib/python3.11/dist-packages/statsmodels/tsa/base/tsa_model.py:473: ValueWarning: An unsupported index was provided. As a result, forecasts cannot be generated. To use the model for forecasting, use one of the supported classes of index.\n",
            "  self._init_dates(dates, freq)\n",
            "/usr/local/lib/python3.11/dist-packages/statsmodels/tsa/base/tsa_model.py:473: ValueWarning: An unsupported index was provided. As a result, forecasts cannot be generated. To use the model for forecasting, use one of the supported classes of index.\n",
            "  self._init_dates(dates, freq)\n",
            "/usr/local/lib/python3.11/dist-packages/statsmodels/tsa/base/tsa_model.py:473: ValueWarning: An unsupported index was provided. As a result, forecasts cannot be generated. To use the model for forecasting, use one of the supported classes of index.\n",
            "  self._init_dates(dates, freq)\n",
            "/usr/local/lib/python3.11/dist-packages/statsmodels/tsa/statespace/sarimax.py:978: UserWarning: Non-invertible starting MA parameters found. Using zeros as starting parameters.\n",
            "  warn('Non-invertible starting MA parameters found.'\n",
            "/usr/local/lib/python3.11/dist-packages/statsmodels/tsa/base/tsa_model.py:837: ValueWarning: No supported index is available. Prediction results will be given with an integer index beginning at `start`.\n",
            "  return get_prediction_index(\n",
            "/usr/local/lib/python3.11/dist-packages/statsmodels/tsa/base/tsa_model.py:837: FutureWarning: No supported index is available. In the next version, calling this method in a model without a supported index will result in an exception.\n",
            "  return get_prediction_index(\n"
          ]
        }
      ]
    },
    {
      "cell_type": "markdown",
      "source": [
        "### **ARIMA-Modell**\n",
        "\n",
        "#### **Was macht dieser Code?**\n",
        "Erstellt ein ARIMA-Modell für die Zeitreihenanalyse der Baulandpreise:\n",
        "\n",
        "*   Modelliert Trend, Saisonalität und Autokorrelation\n",
        "*   Generiert 3-Jahres-Prognosen mit Konfidenzintervallen\n",
        "*   Optimiert automatisch die Modellparameter (p,d,q)\n",
        "\n",
        "#### **Warum ARIMA?**\n",
        "\n",
        "*   Speziell für Zeitreihenprognosen entwickelt\n",
        "*   Berücksichtigt historische Preismuster\n",
        "*   Liefert Unsicherheitsintervalle für Prognosen\n",
        "\n",
        "#### **Stärken & Limitationen**\n",
        "\n",
        "✅ Exzellent für kurzfristige Prognosen\n",
        "\n",
        "✅ Berücksichtigt zeitliche Abhängigkeiten\n",
        "\n",
        "✅ Leicht interpretierbar\n",
        "\n",
        "❌ Weniger geeignet für langfristige Prognosen\n",
        "\n",
        "❌ Nicht für räumliche Analysen\n",
        "\n",
        "#### **BI-Relevanz**\n",
        "\n",
        "*   Kurzfristige Preisprognosen für Budgetplanung\n",
        "*   Frühwarnsystem für Markttrendsen\n",
        "*   Grundlage für Szenario-Analysen\n"
      ],
      "metadata": {
        "id": "uBM58piy5idZ"
      }
    },
    {
      "cell_type": "code",
      "source": [
        "#GeoJSON-Karte (statisch + interaktiv) mit robuster NaN-Behandlung\n",
        "\n"
      ],
      "metadata": {
        "id": "s4XE8xYq7VTT"
      },
      "execution_count": null,
      "outputs": []
    },
    {
      "cell_type": "markdown",
      "source": [
        "### **GEO-Visualisierung**\n",
        "\n",
        "#### **Was macht dieser Code?**\n",
        "\n",
        "*   Lädt amtliche Geodaten der Zürcher Gemeinden\n",
        "*   Erstellt choroplethen Karten der Baulandpreise\n",
        "*   Kombiniert Preisdaten mit geografischen Grenzen\n",
        "*   Nutzt Schweizer Open Data als Basiskarte\n",
        "\n",
        "#### **Warum GEO-Visualisierung?**\n",
        "\n",
        "*   Räumliche Muster werden sofort erkennbar\n",
        "*   Identifikation von Hotspots und Coldspots\n",
        "*   Intuitive Darstellung für Entscheidungsträger\n",
        "\n",
        "#### **Stärken & Limitationen**\n",
        "\n",
        "✅ Sofortige visuelle Erkenntnisse\n",
        "\n",
        "✅ Interaktive Exploration möglich\n",
        "\n",
        "✅ Aktualisierbar mit neuen Daten\n",
        "\n",
        "❌ Statische Darstellungen limitiert\n",
        "\n",
        "❌ Erfordert GIS-Grundwissen für Anpassungen\n",
        "\n",
        "#### **BI-Relevanz**\n",
        "\n",
        "*   Standortbewertung für Investoren\n",
        "*   Identifikation von aufstrebenden Gebieten\n",
        "*   Präsentationsmaterial für Stakeholder\n",
        "*   Grundlage für regionale Preisstrategien"
      ],
      "metadata": {
        "id": "c-wAOFUj7a2Z"
      }
    },
    {
      "cell_type": "markdown",
      "source": [
        "### **Integrierte Analyse**\n",
        "\n",
        "Die Kombination dieser Methoden ermöglicht eine umfassende Analyse der Baulandpreise im Kanton Zürich:\n",
        "\n",
        "1.   **XGBoost** für präzise, feature-basierte Prognosen\n",
        "2.   **ARIMA** für zeitliche Entwicklungsmuster\n",
        "3.   **GEO-Visualisierung** für räumliche Verteilungen\n",
        "\n",
        "Diese Multi-Methoden-Ansatz liefert wertvolle Erkenntnisse für:\n",
        "\n",
        "*   Immobilieninvestitionen\n",
        "*   Kommunale Planung\n",
        "*   Marktanalysen\n",
        "*   Politische Entscheidungsfindung"
      ],
      "metadata": {
        "id": "3NBi8gtI8u5a"
      }
    }
  ]
}