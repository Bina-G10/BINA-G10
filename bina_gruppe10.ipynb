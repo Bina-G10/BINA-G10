{
  "nbformat": 4,
  "nbformat_minor": 0,
  "metadata": {
    "colab": {
      "provenance": [],
      "include_colab_link": true
    },
    "kernelspec": {
      "name": "python3",
      "display_name": "Python 3"
    },
    "language_info": {
      "name": "python"
    }
  },
  "cells": [
    {
      "cell_type": "markdown",
      "metadata": {
        "id": "view-in-github",
        "colab_type": "text"
      },
      "source": [
        "<a href=\"https://colab.research.google.com/github/Bina-G10/BINA-G10/blob/main/bina_gruppe10.ipynb\" target=\"_parent\"><img src=\"https://colab.research.google.com/assets/colab-badge.svg\" alt=\"Open In Colab\"/></a>"
      ]
    },
    {
      "cell_type": "markdown",
      "source": [
        "**Titel**"
      ],
      "metadata": {
        "id": "Oq37nsPy4qU1"
      }
    },
    {
      "cell_type": "markdown",
      "source": [
        "**Modularbeit BINA**\n",
        "\n",
        "Autoren:\n",
        "\n",
        "Benjamin Hasler, Katja Luzi, Mario Luzi, Christian Parricella, Thomas Ulrich, Raquel Kehl\n",
        "\n",
        "21.06.2025"
      ],
      "metadata": {
        "id": "Pcq9MHoAHpAp"
      }
    },
    {
      "cell_type": "markdown",
      "source": [
        "#1 Einleitung\n",
        "Im Zuge der zunehmenden Digitalisierung und Datenverfügbarkeit stehen Unternehmen vor der Herausforderung, aus einer Vielzahl von Datenquellen relevante Erkenntnisse für strategische Entscheidungen zu gewinnen. Im Immobiliensektor ist die Identifikation von attraktiven Investitionsstandorten besonders datengetrieben: Faktoren wie Grundstückpreise, Bevölkerungsentwicklung, Kriminalitätsrate, Arbeitslosenquote, Erreichbarkeit und Steuerbelastung beeinflussen massgeblich die Wertentwicklung von Immobilien. Ziel dieses Projekts ist es, mithilfe von Business Intelligence und Analytics datengestützte Empfehlungen für Immobilieninvestitionen im Kanton Zürich zu erarbeiten, indem Gemeinden mit hoher Lebensqualität und stabilen Verhältnissen identifiziert werden, in denen ein zukünftiger Wertzuwachs wahrscheinlich ist."
      ],
      "metadata": {
        "id": "Qnlc6VmSIW69"
      }
    },
    {
      "cell_type": "markdown",
      "source": [
        "# 1.1 Ziele"
      ],
      "metadata": {
        "id": "7UKpg7xD5PIN"
      }
    },
    {
      "cell_type": "markdown",
      "source": [
        "Diese Case Study hat zum Ziel herauszufinden, welche Gemeinden im Kanton Zürich - basierend auf objektiven Daten - das grösste Potenzial für Immobilieninvestitionen mit Wertsteigerungsperspektive bieten.\n",
        "\n",
        "Das Hauptziel lässt sich in die nachfolgenden drei Teilziele unterteilen:\n",
        "\n",
        "1. Identifikation von attraktiven Investitionsstandorten: Gemeinden im Kanton Zürich sollen hinsichtlich ihrer Eignung für Immobilieninvestitionen bewertet werden.\n",
        "\n",
        "2. Analyse relevanter Indikatoren: Es werden verschiedene Indikatoren wie Grundstückpreise und deren Entwicklung, Bevölkerungswachstum, Kriminalitätsrate, Arbeitslosenquote, Fahrtzeit nach Zürich und Steuerfüsse analysiert.\n",
        "\n",
        "3. Ableitung von Handlungsempfehlungen: Auf Basis der Datenanalyse sollen konkrete Empfehlungen für Investitionsentscheidungen abgeleitet werden, um Gemeinden mit hoher Lebensqualität und stabilem Umfeld zu identifizieren, in denen ein Wertzuwachs der Immobilien zu erwarten ist.\n",
        "\n"
      ],
      "metadata": {
        "id": "DSGIvCljVtYD"
      }
    },
    {
      "cell_type": "markdown",
      "source": [
        "# 1.2 Vorgehen"
      ],
      "metadata": {
        "id": "DbGhSqDu5dLE"
      }
    },
    {
      "cell_type": "markdown",
      "source": [
        "Das Vorgehen orientiert sich am „From Data to Decisions“-Framework, das einen strukturierten, fünfstufigen Ansatz für datengetriebene Entscheidungsfindung bietet:\n",
        "\n",
        "1. Definition der Ziele und Informationsbedarfe: Klärung, welche strategischen Fragen beantwortet werden sollen und welche Informationen dafür benötigt werden.\n",
        "\n",
        "2. Datensammlung: Identifikation und Beschaffung relevanter interner und externer Datenquellen.\n",
        "\n",
        "3. Datenanalyse: Anwendung geeigneter Analysemethoden, um Zusammenhänge und Muster zu erkennen.\n",
        "\n",
        "4. Informationsaufbereitung und Präsentation: Aufbereitung der Analyseergebnisse für die Zielgruppen.\n",
        "\n",
        "5. Ableitung datenbasierter Entscheidungen: Formulierung von Empfehlungen und Entscheidungsgrundlagen.\n"
      ],
      "metadata": {
        "id": "zQfBHwrKWu0-"
      }
    },
    {
      "cell_type": "markdown",
      "source": [
        "#2 Definition der Ziele und Festlegung der Daten"
      ],
      "metadata": {
        "id": "1hMGttlt5enO"
      }
    },
    {
      "cell_type": "markdown",
      "source": [
        "Das Hauptziel und die drei Teilziele dieser Arbeit wurde in Kapitel 1.1 definiert. Dieses Kapitel gibt Aufschluss darüber, welche Daten mögliche Indikatoren für die Preissetzung einer Immobilie oder eines Grundstücks sind. Diese möglichen Indikatoren werden im Laufe der Case Study analysiert.\n",
        "\n",
        "\n",
        "* Bevölkerungswachstum: Entwicklung der Einwohnerzahlen als Indikator für Nachfrage.\n",
        "\n",
        "* Kriminalitätsrate: Sicherheit als Faktor für Lebensqualität.\n",
        "\n",
        "* Arbeitslosenquote: Wirtschaftliche Stabilität der Gemeinde.\n",
        "\n",
        "* Fahrtzeit nach Zürich: Erreichbarkeit des Wirtschafts- und Arbeitszentrums Zürich.\n",
        "\n",
        "* Steuerfuss: Steuerliche Attraktivität für Privatpersonen und Unternehmen.\n",
        "\n"
      ],
      "metadata": {
        "id": "NpUdY3yCW4bF"
      }
    },
    {
      "cell_type": "markdown",
      "source": [
        "# 3 Daten sammeln"
      ],
      "metadata": {
        "id": "49eCg6zQ5qWU"
      }
    },
    {
      "cell_type": "markdown",
      "source": [
        "1. Datenquellen und Granularität\n",
        "**Gemeindeebene:**\n",
        "\n",
        "Grundstückpreise und deren Entwicklung\n",
        "\n",
        "Arbeitslosenquote\n",
        "\n",
        "Bevölkerungswachstum\n",
        "\n",
        "Fahrtzeit nach Zürich\n",
        "\n",
        "Steuerfüsse\n",
        "\n",
        "**Bezirksebene:**\n",
        "\n",
        "Kriminalitätsrate\n",
        "\n",
        "(ggf. weitere Indikatoren, falls verfügbar)\n",
        "\n",
        "Hinweis: Ein Bezirk umfasst ca.10-25 Gemeinden.\n",
        "\n",
        "2. Zentrale Entitäten und Beziehungen\n",
        "Das ideale Datenmodell basiert auf einem Sternschema (Star Schema) oder einem Snowflake Schema, wie sie in der Business Intelligence üblich sind. Dies ermöglicht flexible Analysen und eine klare Trennung zwischen Fakten (Messgrößen) und Dimensionen (Kontextinformationen).\n",
        "\n",
        "**Haupttabellen (Fakten):**\n",
        "Tabelle\tBeschreibung\tGranularität\n",
        "Gemeinde_Indikatoren\tMesswerte pro Gemeinde und Jahr\tGemeinde, Jahr\n",
        "Bezirk_Indikatoren\tMesswerte pro Bezirk und Jahr\tBezirk, Jahr\n",
        "\n",
        "**Dimensionstabellen:**\n",
        "Gemeinde: Name, BFS-Nummer, Zugehörigkeit zu Bezirk, Geokoordinaten etc.\n",
        "\n",
        "Bezirk: Name, Bezirksschlüssel, Liste der zugehörigen Gemeinden\n",
        "\n",
        "Zeit: Jahr, Quartal, Monat (je nach Datenverfügbarkeit)\n",
        "\n",
        "Regionstyp: Stadt, See, Regio, Land (z. B. nach ZWEX-Index)\n",
        "\n",
        "Weitere: Infrastruktur, Nahverkehrsanbindung, ggf. weitere demografische Merkmale\n",
        "\n",
        "3. Modellierung der unterschiedlichen Ebenen\n",
        "Verknüpfung Gemeinde- und Bezirksebene:\n",
        "Da einige Indikatoren nur auf Bezirksebene vorliegen (z. B. Kriminalitätsrate), wird in der Gemeinde-Faktentabelle ein Fremdschlüssel zum Bezirk hinterlegt. Bei Analysen auf Gemeindeebene wird der Bezirkswert als Konstante für alle Gemeinden des Bezirks übernommen (sog. Downscaling). Alternativ kann im Analyse-Frontend eine Aggregation auf Bezirksebene erfolgen.\n",
        "\n",
        "4. Datenmodell – Beispielstruktur\n",
        "text\n",
        "Gemeinde_Indikatoren\n",
        "---------------------\n",
        "- Gemeinde_ID (FK)\n",
        "- Jahr\n",
        "- Grundstückpreis\n",
        "- Grundstückpreis_Entwicklung\n",
        "- Arbeitslosenquote\n",
        "- Bevölkerungswachstum\n",
        "- Fahrtzeit_Zürich\n",
        "- Steuerfuss\n",
        "\n",
        "Bezirk_Indikatoren\n",
        "-------------------\n",
        "- Bezirk_ID (FK)\n",
        "- Jahr\n",
        "- Kriminalitätsrate\n",
        "\n",
        "Gemeinde\n",
        "----------\n",
        "- Gemeinde_ID (PK)\n",
        "- Name\n",
        "- Bezirk_ID (FK)\n",
        "- Regionstyp\n",
        "- Geokoordinaten\n",
        "\n",
        "Bezirk\n",
        "--------\n",
        "- Bezirk_ID (PK)\n",
        "- Name\n",
        "\n",
        "Zeit\n",
        "-----\n",
        "- Jahr\n",
        "- Quartal\n",
        "- Monat\n",
        "\n",
        "5. Analyse- und Bewertungsmöglichkeiten\n",
        "Score-Bildung: Entwicklung eines Scoring-Modells, das die wichtigsten Indikatoren gewichtet und pro Gemeinde einen Investitions-Score berechnet (z. B. hohe Grundstückpreissteigerung, niedriges Risiko, gute Erreichbarkeit, attraktive Steuerfüsse).\n",
        "\n",
        "Visualisierung: Nutzung von Tools wie Power BI, Tableau oder dem Zürcher Gemeindeporträt, um die Indikatoren als Karten oder Rankings darzustellen.\n",
        "\n",
        "Zeitliche Entwicklung: Analyse der Veränderungen über die Jahre, um Trends zu erkennen (z. B. starkes Bevölkerungswachstum als Frühindikator für Wertsteigerung).\n",
        "\n",
        "Vergleichbarkeit: Durch das einheitliche Datenmodell können Gemeinden und Bezirke direkt verglichen werden.\n",
        "\n",
        "6. Best Practices und Hinweise\n",
        "Datenqualität: Sicherstellen, dass alle Indikatoren auf den gleichen Zeitraum und möglichst aktuelle Datenstandards normiert sind.\n",
        "\n",
        "Hedonische Anpassung: Für Grundstückpreise empfiehlt sich die Nutzung hedonisch bereinigter Indizes (wie ZWEX), um Verzerrungen durch unterschiedliche Objektqualitäten zu vermeiden.\n",
        "\n",
        "Erweiterbarkeit: Das Modell ist offen für weitere Indikatoren, wie Leerstandsquote, Infrastruktur, geplante Bauprojekte oder Nachhaltigkeitsmetriken.\n",
        "\n",
        "Automatisierung: Für regelmäßige Aktualisierungen empfiehlt sich eine automatisierte Datenintegration, z. B. über APIs von Marktdatenanbietern"
      ],
      "metadata": {
        "id": "LdLSUdGlh2Lt"
      }
    },
    {
      "cell_type": "markdown",
      "source": [
        "# 3.1 Quellen"
      ],
      "metadata": {
        "id": "rDcs0nJX5znx"
      }
    },
    {
      "cell_type": "markdown",
      "source": [
        "opendata.swiss diverse\n",
        "Steuerfüsse\n",
        "https://opendata.swiss/de/dataset/steuerfusse-der-zurcher-gemeinden-fur-naturliche-und-juristische-personen/resource/19f66d9c-52a3-4568-8830-8d51e51a3937\n",
        "Preise unbebaute Grundstück (inkl. Abbruchliegenschaften)\n",
        "\n",
        "Median Preise Grundstücke allgemein\n",
        "\n",
        "Arbeitslosenquote\n",
        "\n",
        "Bevölkerungsdichte\n",
        "\n",
        "Fahrzeit\n",
        "\n",
        "Anzahl Straftaten"
      ],
      "metadata": {
        "id": "9B2FEC1MiG0D"
      }
    },
    {
      "cell_type": "markdown",
      "source": [
        "# 3.2 Import, Bereinigung und Transformation"
      ],
      "metadata": {
        "id": "rHXmWkzh53qn"
      }
    }
  ]
}