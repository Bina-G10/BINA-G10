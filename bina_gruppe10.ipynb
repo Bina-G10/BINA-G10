{
  "nbformat": 4,
  "nbformat_minor": 0,
  "metadata": {
    "colab": {
      "provenance": [],
      "include_colab_link": true
    },
    "kernelspec": {
      "name": "python3",
      "display_name": "Python 3"
    },
    "language_info": {
      "name": "python"
    }
  },
  "cells": [
    {
      "cell_type": "markdown",
      "metadata": {
        "id": "view-in-github",
        "colab_type": "text"
      },
      "source": [
        "<a href=\"https://colab.research.google.com/github/Bina-G10/BINA-G10/blob/main/bina_gruppe10.ipynb\" target=\"_parent\"><img src=\"https://colab.research.google.com/assets/colab-badge.svg\" alt=\"Open In Colab\"/></a>"
      ]
    },
    {
      "cell_type": "markdown",
      "source": [
        "**Titel**"
      ],
      "metadata": {
        "id": "Oq37nsPy4qU1"
      }
    },
    {
      "cell_type": "code",
      "source": [
        "test Thomas"
      ],
      "metadata": {
        "id": "WkWM9qGccOpB"
      },
      "execution_count": null,
      "outputs": []
    },
    {
      "cell_type": "markdown",
      "source": [
        "**Modularbeit BINA**\n",
        "\n",
        "Autoren:\n",
        "\n",
        "Benjamin Hasler, Katja Luzi, Mario Luzi, Christian Parricella, Thomas Ulrich, Raquel Kehl\n",
        "\n",
        "21.06.2025"
      ],
      "metadata": {
        "id": "Pcq9MHoAHpAp"
      }
    },
    {
      "cell_type": "markdown",
      "source": [
        "#1 Einleitung\n",
        "Im Zuge der zunehmenden Digitalisierung und Datenverfügbarkeit stehen Unternehmen vor der Herausforderung, aus einer Vielzahl von Datenquellen relevante Erkenntnisse für strategische Entscheidungen zu gewinnen. Im Immobiliensektor ist die Identifikation von attraktiven Investitionsstandorten besonders datengetrieben: Faktoren wie Grundstückpreise, Bevölkerungsentwicklung, Kriminalitätsrate, Arbeitslosenquote, Erreichbarkeit und Steuerbelastung beeinflussen massgeblich die Wertentwicklung von Immobilien. Ziel dieses Projekts ist es, mithilfe von Business Intelligence und Analytics datengestützte Empfehlungen für Immobilieninvestitionen im Kanton Zürich zu erarbeiten, indem Gemeinden mit hoher Lebensqualität und stabilen Verhältnissen identifiziert werden, in denen ein zukünftiger Wertzuwachs wahrscheinlich ist."
      ],
      "metadata": {
        "id": "Qnlc6VmSIW69"
      }
    },
    {
      "cell_type": "code",
      "source": [],
      "metadata": {
        "id": "5YsDE8CoFMFk"
      },
      "execution_count": null,
      "outputs": []
    },
    {
      "cell_type": "markdown",
      "source": [
        "# 1.1 Ziele"
      ],
      "metadata": {
        "id": "7UKpg7xD5PIN"
      }
    },
    {
      "cell_type": "markdown",
      "source": [
        "Diese Case Study hat zum Ziel herauszufinden, welche Gemeinden im Kanton Zürich - basierend auf objektiven Daten - das grösste Potenzial für Immobilieninvestitionen mit Wertsteigerungsperspektive bieten.\n",
        "\n",
        "Das Hauptziel lässt sich in die nachfolgenden drei Teilziele unterteilen:\n",
        "\n",
        "1. Identifikation von attraktiven Investitionsstandorten: Gemeinden im Kanton Zürich sollen hinsichtlich ihrer Eignung für Immobilieninvestitionen bewertet werden.\n",
        "\n",
        "2. Analyse relevanter Indikatoren: Es werden verschiedene Indikatoren wie Grundstückpreise und deren Entwicklung, Bevölkerungswachstum, Kriminalitätsrate, Arbeitslosenquote, Fahrtzeit nach Zürich und Steuerfüsse analysiert.\n",
        "\n",
        "3. Ableitung von Handlungsempfehlungen: Auf Basis der Datenanalyse sollen konkrete Empfehlungen für Investitionsentscheidungen abgeleitet werden, um Gemeinden mit hoher Lebensqualität und stabilem Umfeld zu identifizieren, in denen ein Wertzuwachs der Immobilien zu erwarten ist.\n",
        "\n"
      ],
      "metadata": {
        "id": "DSGIvCljVtYD"
      }
    },
    {
      "cell_type": "markdown",
      "source": [
        "# 1.2 Vorgehen"
      ],
      "metadata": {
        "id": "DbGhSqDu5dLE"
      }
    },
    {
      "cell_type": "markdown",
      "source": [
        "Das Vorgehen orientiert sich am „From Data to Decisions“-Framework, das einen strukturierten, fünfstufigen Ansatz für datengetriebene Entscheidungsfindung bietet:\n",
        "\n",
        "1. Definition der Ziele und Informationsbedarfe: Klärung, welche strategischen Fragen beantwortet werden sollen und welche Informationen dafür benötigt werden.\n",
        "\n",
        "2. Datensammlung: Identifikation und Beschaffung relevanter interner und externer Datenquellen.\n",
        "\n",
        "3. Datenanalyse: Anwendung geeigneter Analysemethoden, um Zusammenhänge und Muster zu erkennen.\n",
        "\n",
        "4. Informationsaufbereitung und Präsentation: Aufbereitung der Analyseergebnisse für die Zielgruppen.\n",
        "\n",
        "5. Ableitung datenbasierter Entscheidungen: Formulierung von Empfehlungen und Entscheidungsgrundlagen.\n"
      ],
      "metadata": {
        "id": "zQfBHwrKWu0-"
      }
    },
    {
      "cell_type": "markdown",
      "source": [
        "#2 Definition der Ziele und Festlegung der Daten"
      ],
      "metadata": {
        "id": "1hMGttlt5enO"
      }
    },
    {
      "cell_type": "markdown",
      "source": [
        "Das Hauptziel und die drei Teilziele dieser Arbeit wurde in Kapitel 1.1 definiert. Dieses Kapitel gibt Aufschluss darüber, welche Daten mögliche Indikatoren für die Preissetzung einer Immobilie oder eines Grundstücks sind. Diese möglichen Indikatoren werden im Laufe der Case Study analysiert.\n",
        "\n",
        "\n",
        "* Bevölkerungswachstum: Entwicklung der Einwohnerzahlen als Indikator für Nachfrage.\n",
        "\n",
        "* Kriminalitätsrate: Sicherheit als Faktor für Lebensqualität.\n",
        "\n",
        "* Arbeitslosenquote: Wirtschaftliche Stabilität der Gemeinde.\n",
        "\n",
        "* Fahrtzeit nach Zürich: Erreichbarkeit des Wirtschafts- und Arbeitszentrums Zürich.\n",
        "\n",
        "* Steuerfuss: Steuerliche Attraktivität für Privatpersonen und Unternehmen.\n",
        "\n"
      ],
      "metadata": {
        "id": "NpUdY3yCW4bF"
      }
    },
    {
      "cell_type": "markdown",
      "source": [
        "# 3 Daten sammeln"
      ],
      "metadata": {
        "id": "49eCg6zQ5qWU"
      }
    },
    {
      "cell_type": "markdown",
      "source": [
        "# 3.1 Quellen"
      ],
      "metadata": {
        "id": "rDcs0nJX5znx"
      }
    },
    {
      "cell_type": "markdown",
      "source": [
        "# 3.2 Import, Bereinigung und Transformation"
      ],
      "metadata": {
        "id": "rHXmWkzh53qn"
      }
    }
  ]
}